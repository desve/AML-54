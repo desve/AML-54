{
  "cells": [
    {
      "cell_type": "markdown",
      "source": [
        "#Домашнее задание № 12"
      ],
      "metadata": {
        "id": "-5LYfrJ44Ct2"
      }
    },
    {
      "cell_type": "markdown",
      "source": [
        "#Feature Selection"
      ],
      "metadata": {
        "id": "uROV21Jq4KiO"
      }
    },
    {
      "cell_type": "markdown",
      "source": [
        "1. Генерация данных"
      ],
      "metadata": {
        "id": "uexmpT8d4mtB"
      }
    },
    {
      "cell_type": "code",
      "execution_count": 12,
      "metadata": {
        "id": "KRgTeoSI4ABz"
      },
      "outputs": [],
      "source": [
        "from sklearn.datasets import make_classification\n",
        "\n",
        "# зафиксируем случайное значение\n",
        "x_data_generated, y_data_generated = make_classification(scale=1,\n",
        "                                                         random_state=42\n",
        "                                                        )"
      ]
    },
    {
      "cell_type": "code",
      "source": [
        "# посмотрим, что мы имеем\n",
        "x_data_generated"
      ],
      "metadata": {
        "id": "ChMbqxx-41sY",
        "outputId": "9810df84-9c94-4a34-f4e0-517f718e968a",
        "colab": {
          "base_uri": "https://localhost:8080/"
        }
      },
      "execution_count": 14,
      "outputs": [
        {
          "output_type": "execute_result",
          "data": {
            "text/plain": [
              "array([[-2.02514259,  0.0291022 , -0.47494531, ..., -0.33450124,\n",
              "         0.86575519, -1.20029641],\n",
              "       [ 1.61371127,  0.65992405, -0.15005559, ...,  1.37570681,\n",
              "         0.70117274, -0.2975635 ],\n",
              "       [ 0.16645221,  0.95057302,  1.42050425, ...,  1.18901653,\n",
              "        -0.55547712, -0.63738713],\n",
              "       ...,\n",
              "       [-0.03955515, -1.60499282,  0.22213377, ..., -0.30917212,\n",
              "        -0.46227529, -0.43449623],\n",
              "       [ 1.08589557,  1.2031659 , -0.6095122 , ..., -0.3052247 ,\n",
              "        -1.31183623, -1.06511366],\n",
              "       [-0.00607091,  1.30857636, -0.17495976, ...,  0.99204235,\n",
              "         0.32169781, -0.66809045]])"
            ]
          },
          "metadata": {},
          "execution_count": 14
        }
      ]
    },
    {
      "cell_type": "code",
      "source": [
        "x_data_generated.shape"
      ],
      "metadata": {
        "id": "KpEAt7dI6xRw",
        "outputId": "9141239a-b97b-4ec3-d560-2ee1f88534ef",
        "colab": {
          "base_uri": "https://localhost:8080/"
        }
      },
      "execution_count": 17,
      "outputs": [
        {
          "output_type": "execute_result",
          "data": {
            "text/plain": [
              "(100, 20)"
            ]
          },
          "metadata": {},
          "execution_count": 17
        }
      ]
    },
    {
      "cell_type": "code",
      "source": [
        "y_data_generated"
      ],
      "metadata": {
        "id": "UzhFvUI_6pkx",
        "outputId": "95eb8949-df82-4bb5-d3c9-a0d0b0d7dbc4",
        "colab": {
          "base_uri": "https://localhost:8080/"
        }
      },
      "execution_count": 15,
      "outputs": [
        {
          "output_type": "execute_result",
          "data": {
            "text/plain": [
              "array([0, 0, 1, 1, 0, 0, 0, 1, 0, 1, 1, 0, 0, 0, 1, 1, 1, 0, 0, 1, 1, 0,\n",
              "       0, 0, 0, 1, 1, 0, 1, 0, 0, 0, 0, 0, 0, 1, 0, 0, 1, 1, 1, 0, 1, 0,\n",
              "       0, 1, 1, 0, 0, 1, 1, 1, 0, 1, 0, 0, 1, 1, 0, 1, 1, 1, 1, 1, 0, 1,\n",
              "       0, 0, 1, 0, 1, 0, 1, 0, 1, 1, 1, 0, 0, 0, 1, 0, 1, 0, 1, 1, 1, 1,\n",
              "       1, 0, 0, 1, 0, 1, 1, 0, 1, 1, 0, 0])"
            ]
          },
          "metadata": {},
          "execution_count": 15
        }
      ]
    },
    {
      "cell_type": "code",
      "source": [
        "y_data_generated.shape"
      ],
      "metadata": {
        "id": "U91p7qXl7AV5",
        "outputId": "7cca72c7-7b9a-413f-8365-4d84187a0edc",
        "colab": {
          "base_uri": "https://localhost:8080/"
        }
      },
      "execution_count": 18,
      "outputs": [
        {
          "output_type": "execute_result",
          "data": {
            "text/plain": [
              "(100,)"
            ]
          },
          "metadata": {},
          "execution_count": 18
        }
      ]
    },
    {
      "cell_type": "markdown",
      "source": [
        "2. Построим модель логистической регрессии и оценим среднюю точность."
      ],
      "metadata": {
        "id": "P0gzhxTP8P27"
      }
    },
    {
      "cell_type": "code",
      "source": [
        "from sklearn.linear_model import LogisticRegression\n",
        "from sklearn.model_selection import cross_val_score"
      ],
      "metadata": {
        "id": "A6OkQlz48hiL"
      },
      "execution_count": 20,
      "outputs": []
    },
    {
      "cell_type": "code",
      "source": [
        "cross_val_score(LogisticRegression(),   # выбронная модель для оценки\n",
        "                x_data_generated,\n",
        "                y_data_generated,\n",
        "                scoring='accuracy'      # метод возвращает список оценок точности классификации\n",
        "                                        # для каждой итерации кросс-валидации\n",
        "               ).mean()"
      ],
      "metadata": {
        "id": "r3s96BQp8JOw",
        "outputId": "911cc445-7fd4-4768-8bcc-c2f852b70458",
        "colab": {
          "base_uri": "https://localhost:8080/"
        }
      },
      "execution_count": 23,
      "outputs": [
        {
          "output_type": "execute_result",
          "data": {
            "text/plain": [
              "0.9800000000000001"
            ]
          },
          "metadata": {},
          "execution_count": 23
        }
      ]
    }
  ],
  "metadata": {
    "kernelspec": {
      "display_name": "Python 3 (ipykernel)",
      "language": "python",
      "name": "python3"
    },
    "language_info": {
      "codemirror_mode": {
        "name": "ipython",
        "version": 3
      },
      "file_extension": ".py",
      "mimetype": "text/x-python",
      "name": "python",
      "nbconvert_exporter": "python",
      "pygments_lexer": "ipython3",
      "version": "3.8.1"
    },
    "colab": {
      "provenance": []
    }
  },
  "nbformat": 4,
  "nbformat_minor": 0
}