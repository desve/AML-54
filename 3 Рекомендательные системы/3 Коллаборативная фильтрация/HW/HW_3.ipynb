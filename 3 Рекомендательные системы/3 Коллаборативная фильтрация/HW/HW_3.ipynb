{
  "cells": [
    {
      "cell_type": "markdown",
      "metadata": {
        "id": "cayIw6SoHSIR"
      },
      "source": [
        "##Домашняя работа № 2 Коллаборативная фильтрация"
      ]
    },
    {
      "cell_type": "markdown",
      "metadata": {
        "id": "sS9cci9lHPPn"
      },
      "source": [
        "##Датасет MovieLens 1M"
      ]
    },
    {
      "cell_type": "code",
      "execution_count": 2,
      "metadata": {
        "id": "91BA1sm27XsQ"
      },
      "outputs": [],
      "source": [
        "import pandas as pd\n",
        "import numpy as np\n",
        "\n",
        "from tqdm import tqdm"
      ]
    },
    {
      "cell_type": "code",
      "execution_count": 3,
      "metadata": {
        "colab": {
          "base_uri": "https://localhost:8080/"
        },
        "id": "Sb9BtiP77oZj",
        "outputId": "0fe34f13-61bc-4fef-d738-1b11d9adb186"
      },
      "outputs": [
        {
          "output_type": "stream",
          "name": "stdout",
          "text": [
            "--2025-01-29 10:59:55--  https://files.grouplens.org/datasets/movielens/ml-latest-small.zip\n",
            "Resolving files.grouplens.org (files.grouplens.org)... 128.101.65.152\n",
            "Connecting to files.grouplens.org (files.grouplens.org)|128.101.65.152|:443... connected.\n",
            "HTTP request sent, awaiting response... 200 OK\n",
            "Length: 978202 (955K) [application/zip]\n",
            "Saving to: ‘ml-latest-small.zip’\n",
            "\n",
            "ml-latest-small.zip 100%[===================>] 955.28K  2.31MB/s    in 0.4s    \n",
            "\n",
            "2025-01-29 10:59:55 (2.31 MB/s) - ‘ml-latest-small.zip’ saved [978202/978202]\n",
            "\n"
          ]
        }
      ],
      "source": [
        "# загрузим данные\n",
        "!wget 'https://files.grouplens.org/datasets/movielens/ml-latest-small.zip'"
      ]
    },
    {
      "cell_type": "code",
      "source": [
        "# распакуем\n",
        "import zipfile\n",
        "\n",
        "with zipfile.ZipFile('/content/ml-latest-small.zip', 'r') as zip_ref:\n",
        "    zip_ref.extractall('unpacked_files')"
      ],
      "metadata": {
        "id": "Daw88kojoN1d"
      },
      "execution_count": 4,
      "outputs": []
    },
    {
      "cell_type": "code",
      "source": [
        "# прочитаем\n",
        "links = pd.read_csv('/content/unpacked_files/ml-latest-small/links.csv')\n",
        "movies = pd.read_csv('/content/unpacked_files/ml-latest-small/movies.csv')\n",
        "ratings = pd.read_csv('/content/unpacked_files/ml-latest-small/ratings.csv')\n",
        "tags = pd.read_csv('/content/unpacked_files/ml-latest-small/tags.csv')"
      ],
      "metadata": {
        "id": "hxJxSQnPobnP"
      },
      "execution_count": 5,
      "outputs": []
    },
    {
      "cell_type": "code",
      "source": [
        "# посмотрим\n",
        "links.head()"
      ],
      "metadata": {
        "colab": {
          "base_uri": "https://localhost:8080/",
          "height": 206
        },
        "id": "tPiBkIQbobhm",
        "outputId": "72976a98-82e0-4e0a-d3c7-2d43e0573852"
      },
      "execution_count": 6,
      "outputs": [
        {
          "output_type": "execute_result",
          "data": {
            "text/plain": [
              "   movieId  imdbId   tmdbId\n",
              "0        1  114709    862.0\n",
              "1        2  113497   8844.0\n",
              "2        3  113228  15602.0\n",
              "3        4  114885  31357.0\n",
              "4        5  113041  11862.0"
            ],
            "text/html": [
              "\n",
              "  <div id=\"df-9e14b547-7b42-4a2f-b4fd-5a9436432519\" class=\"colab-df-container\">\n",
              "    <div>\n",
              "<style scoped>\n",
              "    .dataframe tbody tr th:only-of-type {\n",
              "        vertical-align: middle;\n",
              "    }\n",
              "\n",
              "    .dataframe tbody tr th {\n",
              "        vertical-align: top;\n",
              "    }\n",
              "\n",
              "    .dataframe thead th {\n",
              "        text-align: right;\n",
              "    }\n",
              "</style>\n",
              "<table border=\"1\" class=\"dataframe\">\n",
              "  <thead>\n",
              "    <tr style=\"text-align: right;\">\n",
              "      <th></th>\n",
              "      <th>movieId</th>\n",
              "      <th>imdbId</th>\n",
              "      <th>tmdbId</th>\n",
              "    </tr>\n",
              "  </thead>\n",
              "  <tbody>\n",
              "    <tr>\n",
              "      <th>0</th>\n",
              "      <td>1</td>\n",
              "      <td>114709</td>\n",
              "      <td>862.0</td>\n",
              "    </tr>\n",
              "    <tr>\n",
              "      <th>1</th>\n",
              "      <td>2</td>\n",
              "      <td>113497</td>\n",
              "      <td>8844.0</td>\n",
              "    </tr>\n",
              "    <tr>\n",
              "      <th>2</th>\n",
              "      <td>3</td>\n",
              "      <td>113228</td>\n",
              "      <td>15602.0</td>\n",
              "    </tr>\n",
              "    <tr>\n",
              "      <th>3</th>\n",
              "      <td>4</td>\n",
              "      <td>114885</td>\n",
              "      <td>31357.0</td>\n",
              "    </tr>\n",
              "    <tr>\n",
              "      <th>4</th>\n",
              "      <td>5</td>\n",
              "      <td>113041</td>\n",
              "      <td>11862.0</td>\n",
              "    </tr>\n",
              "  </tbody>\n",
              "</table>\n",
              "</div>\n",
              "    <div class=\"colab-df-buttons\">\n",
              "\n",
              "  <div class=\"colab-df-container\">\n",
              "    <button class=\"colab-df-convert\" onclick=\"convertToInteractive('df-9e14b547-7b42-4a2f-b4fd-5a9436432519')\"\n",
              "            title=\"Convert this dataframe to an interactive table.\"\n",
              "            style=\"display:none;\">\n",
              "\n",
              "  <svg xmlns=\"http://www.w3.org/2000/svg\" height=\"24px\" viewBox=\"0 -960 960 960\">\n",
              "    <path d=\"M120-120v-720h720v720H120Zm60-500h600v-160H180v160Zm220 220h160v-160H400v160Zm0 220h160v-160H400v160ZM180-400h160v-160H180v160Zm440 0h160v-160H620v160ZM180-180h160v-160H180v160Zm440 0h160v-160H620v160Z\"/>\n",
              "  </svg>\n",
              "    </button>\n",
              "\n",
              "  <style>\n",
              "    .colab-df-container {\n",
              "      display:flex;\n",
              "      gap: 12px;\n",
              "    }\n",
              "\n",
              "    .colab-df-convert {\n",
              "      background-color: #E8F0FE;\n",
              "      border: none;\n",
              "      border-radius: 50%;\n",
              "      cursor: pointer;\n",
              "      display: none;\n",
              "      fill: #1967D2;\n",
              "      height: 32px;\n",
              "      padding: 0 0 0 0;\n",
              "      width: 32px;\n",
              "    }\n",
              "\n",
              "    .colab-df-convert:hover {\n",
              "      background-color: #E2EBFA;\n",
              "      box-shadow: 0px 1px 2px rgba(60, 64, 67, 0.3), 0px 1px 3px 1px rgba(60, 64, 67, 0.15);\n",
              "      fill: #174EA6;\n",
              "    }\n",
              "\n",
              "    .colab-df-buttons div {\n",
              "      margin-bottom: 4px;\n",
              "    }\n",
              "\n",
              "    [theme=dark] .colab-df-convert {\n",
              "      background-color: #3B4455;\n",
              "      fill: #D2E3FC;\n",
              "    }\n",
              "\n",
              "    [theme=dark] .colab-df-convert:hover {\n",
              "      background-color: #434B5C;\n",
              "      box-shadow: 0px 1px 3px 1px rgba(0, 0, 0, 0.15);\n",
              "      filter: drop-shadow(0px 1px 2px rgba(0, 0, 0, 0.3));\n",
              "      fill: #FFFFFF;\n",
              "    }\n",
              "  </style>\n",
              "\n",
              "    <script>\n",
              "      const buttonEl =\n",
              "        document.querySelector('#df-9e14b547-7b42-4a2f-b4fd-5a9436432519 button.colab-df-convert');\n",
              "      buttonEl.style.display =\n",
              "        google.colab.kernel.accessAllowed ? 'block' : 'none';\n",
              "\n",
              "      async function convertToInteractive(key) {\n",
              "        const element = document.querySelector('#df-9e14b547-7b42-4a2f-b4fd-5a9436432519');\n",
              "        const dataTable =\n",
              "          await google.colab.kernel.invokeFunction('convertToInteractive',\n",
              "                                                    [key], {});\n",
              "        if (!dataTable) return;\n",
              "\n",
              "        const docLinkHtml = 'Like what you see? Visit the ' +\n",
              "          '<a target=\"_blank\" href=https://colab.research.google.com/notebooks/data_table.ipynb>data table notebook</a>'\n",
              "          + ' to learn more about interactive tables.';\n",
              "        element.innerHTML = '';\n",
              "        dataTable['output_type'] = 'display_data';\n",
              "        await google.colab.output.renderOutput(dataTable, element);\n",
              "        const docLink = document.createElement('div');\n",
              "        docLink.innerHTML = docLinkHtml;\n",
              "        element.appendChild(docLink);\n",
              "      }\n",
              "    </script>\n",
              "  </div>\n",
              "\n",
              "\n",
              "<div id=\"df-19daddc3-b4fc-4b34-9454-81c7c3296a0f\">\n",
              "  <button class=\"colab-df-quickchart\" onclick=\"quickchart('df-19daddc3-b4fc-4b34-9454-81c7c3296a0f')\"\n",
              "            title=\"Suggest charts\"\n",
              "            style=\"display:none;\">\n",
              "\n",
              "<svg xmlns=\"http://www.w3.org/2000/svg\" height=\"24px\"viewBox=\"0 0 24 24\"\n",
              "     width=\"24px\">\n",
              "    <g>\n",
              "        <path d=\"M19 3H5c-1.1 0-2 .9-2 2v14c0 1.1.9 2 2 2h14c1.1 0 2-.9 2-2V5c0-1.1-.9-2-2-2zM9 17H7v-7h2v7zm4 0h-2V7h2v10zm4 0h-2v-4h2v4z\"/>\n",
              "    </g>\n",
              "</svg>\n",
              "  </button>\n",
              "\n",
              "<style>\n",
              "  .colab-df-quickchart {\n",
              "      --bg-color: #E8F0FE;\n",
              "      --fill-color: #1967D2;\n",
              "      --hover-bg-color: #E2EBFA;\n",
              "      --hover-fill-color: #174EA6;\n",
              "      --disabled-fill-color: #AAA;\n",
              "      --disabled-bg-color: #DDD;\n",
              "  }\n",
              "\n",
              "  [theme=dark] .colab-df-quickchart {\n",
              "      --bg-color: #3B4455;\n",
              "      --fill-color: #D2E3FC;\n",
              "      --hover-bg-color: #434B5C;\n",
              "      --hover-fill-color: #FFFFFF;\n",
              "      --disabled-bg-color: #3B4455;\n",
              "      --disabled-fill-color: #666;\n",
              "  }\n",
              "\n",
              "  .colab-df-quickchart {\n",
              "    background-color: var(--bg-color);\n",
              "    border: none;\n",
              "    border-radius: 50%;\n",
              "    cursor: pointer;\n",
              "    display: none;\n",
              "    fill: var(--fill-color);\n",
              "    height: 32px;\n",
              "    padding: 0;\n",
              "    width: 32px;\n",
              "  }\n",
              "\n",
              "  .colab-df-quickchart:hover {\n",
              "    background-color: var(--hover-bg-color);\n",
              "    box-shadow: 0 1px 2px rgba(60, 64, 67, 0.3), 0 1px 3px 1px rgba(60, 64, 67, 0.15);\n",
              "    fill: var(--button-hover-fill-color);\n",
              "  }\n",
              "\n",
              "  .colab-df-quickchart-complete:disabled,\n",
              "  .colab-df-quickchart-complete:disabled:hover {\n",
              "    background-color: var(--disabled-bg-color);\n",
              "    fill: var(--disabled-fill-color);\n",
              "    box-shadow: none;\n",
              "  }\n",
              "\n",
              "  .colab-df-spinner {\n",
              "    border: 2px solid var(--fill-color);\n",
              "    border-color: transparent;\n",
              "    border-bottom-color: var(--fill-color);\n",
              "    animation:\n",
              "      spin 1s steps(1) infinite;\n",
              "  }\n",
              "\n",
              "  @keyframes spin {\n",
              "    0% {\n",
              "      border-color: transparent;\n",
              "      border-bottom-color: var(--fill-color);\n",
              "      border-left-color: var(--fill-color);\n",
              "    }\n",
              "    20% {\n",
              "      border-color: transparent;\n",
              "      border-left-color: var(--fill-color);\n",
              "      border-top-color: var(--fill-color);\n",
              "    }\n",
              "    30% {\n",
              "      border-color: transparent;\n",
              "      border-left-color: var(--fill-color);\n",
              "      border-top-color: var(--fill-color);\n",
              "      border-right-color: var(--fill-color);\n",
              "    }\n",
              "    40% {\n",
              "      border-color: transparent;\n",
              "      border-right-color: var(--fill-color);\n",
              "      border-top-color: var(--fill-color);\n",
              "    }\n",
              "    60% {\n",
              "      border-color: transparent;\n",
              "      border-right-color: var(--fill-color);\n",
              "    }\n",
              "    80% {\n",
              "      border-color: transparent;\n",
              "      border-right-color: var(--fill-color);\n",
              "      border-bottom-color: var(--fill-color);\n",
              "    }\n",
              "    90% {\n",
              "      border-color: transparent;\n",
              "      border-bottom-color: var(--fill-color);\n",
              "    }\n",
              "  }\n",
              "</style>\n",
              "\n",
              "  <script>\n",
              "    async function quickchart(key) {\n",
              "      const quickchartButtonEl =\n",
              "        document.querySelector('#' + key + ' button');\n",
              "      quickchartButtonEl.disabled = true;  // To prevent multiple clicks.\n",
              "      quickchartButtonEl.classList.add('colab-df-spinner');\n",
              "      try {\n",
              "        const charts = await google.colab.kernel.invokeFunction(\n",
              "            'suggestCharts', [key], {});\n",
              "      } catch (error) {\n",
              "        console.error('Error during call to suggestCharts:', error);\n",
              "      }\n",
              "      quickchartButtonEl.classList.remove('colab-df-spinner');\n",
              "      quickchartButtonEl.classList.add('colab-df-quickchart-complete');\n",
              "    }\n",
              "    (() => {\n",
              "      let quickchartButtonEl =\n",
              "        document.querySelector('#df-19daddc3-b4fc-4b34-9454-81c7c3296a0f button');\n",
              "      quickchartButtonEl.style.display =\n",
              "        google.colab.kernel.accessAllowed ? 'block' : 'none';\n",
              "    })();\n",
              "  </script>\n",
              "</div>\n",
              "    </div>\n",
              "  </div>\n"
            ],
            "application/vnd.google.colaboratory.intrinsic+json": {
              "type": "dataframe",
              "variable_name": "links",
              "summary": "{\n  \"name\": \"links\",\n  \"rows\": 9742,\n  \"fields\": [\n    {\n      \"column\": \"movieId\",\n      \"properties\": {\n        \"dtype\": \"number\",\n        \"std\": 52160,\n        \"min\": 1,\n        \"max\": 193609,\n        \"num_unique_values\": 9742,\n        \"samples\": [\n          45635,\n          1373,\n          7325\n        ],\n        \"semantic_type\": \"\",\n        \"description\": \"\"\n      }\n    },\n    {\n      \"column\": \"imdbId\",\n      \"properties\": {\n        \"dtype\": \"number\",\n        \"std\": 1107227,\n        \"min\": 417,\n        \"max\": 8391976,\n        \"num_unique_values\": 9742,\n        \"samples\": [\n          404802,\n          98382,\n          335438\n        ],\n        \"semantic_type\": \"\",\n        \"description\": \"\"\n      }\n    },\n    {\n      \"column\": \"tmdbId\",\n      \"properties\": {\n        \"dtype\": \"number\",\n        \"std\": 93653.48148734073,\n        \"min\": 2.0,\n        \"max\": 525662.0,\n        \"num_unique_values\": 9733,\n        \"samples\": [\n          18168.0,\n          38357.0,\n          51620.0\n        ],\n        \"semantic_type\": \"\",\n        \"description\": \"\"\n      }\n    }\n  ]\n}"
            }
          },
          "metadata": {},
          "execution_count": 6
        }
      ]
    },
    {
      "cell_type": "code",
      "source": [
        "movies.head()"
      ],
      "metadata": {
        "colab": {
          "base_uri": "https://localhost:8080/",
          "height": 206
        },
        "id": "s5Orqe31obaV",
        "outputId": "19264a79-1052-43a0-90cf-563948a010b6"
      },
      "execution_count": 7,
      "outputs": [
        {
          "output_type": "execute_result",
          "data": {
            "text/plain": [
              "   movieId                               title  \\\n",
              "0        1                    Toy Story (1995)   \n",
              "1        2                      Jumanji (1995)   \n",
              "2        3             Grumpier Old Men (1995)   \n",
              "3        4            Waiting to Exhale (1995)   \n",
              "4        5  Father of the Bride Part II (1995)   \n",
              "\n",
              "                                        genres  \n",
              "0  Adventure|Animation|Children|Comedy|Fantasy  \n",
              "1                   Adventure|Children|Fantasy  \n",
              "2                               Comedy|Romance  \n",
              "3                         Comedy|Drama|Romance  \n",
              "4                                       Comedy  "
            ],
            "text/html": [
              "\n",
              "  <div id=\"df-f2e438a4-d2dc-410b-a313-5f3a5a435bc2\" class=\"colab-df-container\">\n",
              "    <div>\n",
              "<style scoped>\n",
              "    .dataframe tbody tr th:only-of-type {\n",
              "        vertical-align: middle;\n",
              "    }\n",
              "\n",
              "    .dataframe tbody tr th {\n",
              "        vertical-align: top;\n",
              "    }\n",
              "\n",
              "    .dataframe thead th {\n",
              "        text-align: right;\n",
              "    }\n",
              "</style>\n",
              "<table border=\"1\" class=\"dataframe\">\n",
              "  <thead>\n",
              "    <tr style=\"text-align: right;\">\n",
              "      <th></th>\n",
              "      <th>movieId</th>\n",
              "      <th>title</th>\n",
              "      <th>genres</th>\n",
              "    </tr>\n",
              "  </thead>\n",
              "  <tbody>\n",
              "    <tr>\n",
              "      <th>0</th>\n",
              "      <td>1</td>\n",
              "      <td>Toy Story (1995)</td>\n",
              "      <td>Adventure|Animation|Children|Comedy|Fantasy</td>\n",
              "    </tr>\n",
              "    <tr>\n",
              "      <th>1</th>\n",
              "      <td>2</td>\n",
              "      <td>Jumanji (1995)</td>\n",
              "      <td>Adventure|Children|Fantasy</td>\n",
              "    </tr>\n",
              "    <tr>\n",
              "      <th>2</th>\n",
              "      <td>3</td>\n",
              "      <td>Grumpier Old Men (1995)</td>\n",
              "      <td>Comedy|Romance</td>\n",
              "    </tr>\n",
              "    <tr>\n",
              "      <th>3</th>\n",
              "      <td>4</td>\n",
              "      <td>Waiting to Exhale (1995)</td>\n",
              "      <td>Comedy|Drama|Romance</td>\n",
              "    </tr>\n",
              "    <tr>\n",
              "      <th>4</th>\n",
              "      <td>5</td>\n",
              "      <td>Father of the Bride Part II (1995)</td>\n",
              "      <td>Comedy</td>\n",
              "    </tr>\n",
              "  </tbody>\n",
              "</table>\n",
              "</div>\n",
              "    <div class=\"colab-df-buttons\">\n",
              "\n",
              "  <div class=\"colab-df-container\">\n",
              "    <button class=\"colab-df-convert\" onclick=\"convertToInteractive('df-f2e438a4-d2dc-410b-a313-5f3a5a435bc2')\"\n",
              "            title=\"Convert this dataframe to an interactive table.\"\n",
              "            style=\"display:none;\">\n",
              "\n",
              "  <svg xmlns=\"http://www.w3.org/2000/svg\" height=\"24px\" viewBox=\"0 -960 960 960\">\n",
              "    <path d=\"M120-120v-720h720v720H120Zm60-500h600v-160H180v160Zm220 220h160v-160H400v160Zm0 220h160v-160H400v160ZM180-400h160v-160H180v160Zm440 0h160v-160H620v160ZM180-180h160v-160H180v160Zm440 0h160v-160H620v160Z\"/>\n",
              "  </svg>\n",
              "    </button>\n",
              "\n",
              "  <style>\n",
              "    .colab-df-container {\n",
              "      display:flex;\n",
              "      gap: 12px;\n",
              "    }\n",
              "\n",
              "    .colab-df-convert {\n",
              "      background-color: #E8F0FE;\n",
              "      border: none;\n",
              "      border-radius: 50%;\n",
              "      cursor: pointer;\n",
              "      display: none;\n",
              "      fill: #1967D2;\n",
              "      height: 32px;\n",
              "      padding: 0 0 0 0;\n",
              "      width: 32px;\n",
              "    }\n",
              "\n",
              "    .colab-df-convert:hover {\n",
              "      background-color: #E2EBFA;\n",
              "      box-shadow: 0px 1px 2px rgba(60, 64, 67, 0.3), 0px 1px 3px 1px rgba(60, 64, 67, 0.15);\n",
              "      fill: #174EA6;\n",
              "    }\n",
              "\n",
              "    .colab-df-buttons div {\n",
              "      margin-bottom: 4px;\n",
              "    }\n",
              "\n",
              "    [theme=dark] .colab-df-convert {\n",
              "      background-color: #3B4455;\n",
              "      fill: #D2E3FC;\n",
              "    }\n",
              "\n",
              "    [theme=dark] .colab-df-convert:hover {\n",
              "      background-color: #434B5C;\n",
              "      box-shadow: 0px 1px 3px 1px rgba(0, 0, 0, 0.15);\n",
              "      filter: drop-shadow(0px 1px 2px rgba(0, 0, 0, 0.3));\n",
              "      fill: #FFFFFF;\n",
              "    }\n",
              "  </style>\n",
              "\n",
              "    <script>\n",
              "      const buttonEl =\n",
              "        document.querySelector('#df-f2e438a4-d2dc-410b-a313-5f3a5a435bc2 button.colab-df-convert');\n",
              "      buttonEl.style.display =\n",
              "        google.colab.kernel.accessAllowed ? 'block' : 'none';\n",
              "\n",
              "      async function convertToInteractive(key) {\n",
              "        const element = document.querySelector('#df-f2e438a4-d2dc-410b-a313-5f3a5a435bc2');\n",
              "        const dataTable =\n",
              "          await google.colab.kernel.invokeFunction('convertToInteractive',\n",
              "                                                    [key], {});\n",
              "        if (!dataTable) return;\n",
              "\n",
              "        const docLinkHtml = 'Like what you see? Visit the ' +\n",
              "          '<a target=\"_blank\" href=https://colab.research.google.com/notebooks/data_table.ipynb>data table notebook</a>'\n",
              "          + ' to learn more about interactive tables.';\n",
              "        element.innerHTML = '';\n",
              "        dataTable['output_type'] = 'display_data';\n",
              "        await google.colab.output.renderOutput(dataTable, element);\n",
              "        const docLink = document.createElement('div');\n",
              "        docLink.innerHTML = docLinkHtml;\n",
              "        element.appendChild(docLink);\n",
              "      }\n",
              "    </script>\n",
              "  </div>\n",
              "\n",
              "\n",
              "<div id=\"df-7c8c3361-564b-480f-a155-9d322fea2297\">\n",
              "  <button class=\"colab-df-quickchart\" onclick=\"quickchart('df-7c8c3361-564b-480f-a155-9d322fea2297')\"\n",
              "            title=\"Suggest charts\"\n",
              "            style=\"display:none;\">\n",
              "\n",
              "<svg xmlns=\"http://www.w3.org/2000/svg\" height=\"24px\"viewBox=\"0 0 24 24\"\n",
              "     width=\"24px\">\n",
              "    <g>\n",
              "        <path d=\"M19 3H5c-1.1 0-2 .9-2 2v14c0 1.1.9 2 2 2h14c1.1 0 2-.9 2-2V5c0-1.1-.9-2-2-2zM9 17H7v-7h2v7zm4 0h-2V7h2v10zm4 0h-2v-4h2v4z\"/>\n",
              "    </g>\n",
              "</svg>\n",
              "  </button>\n",
              "\n",
              "<style>\n",
              "  .colab-df-quickchart {\n",
              "      --bg-color: #E8F0FE;\n",
              "      --fill-color: #1967D2;\n",
              "      --hover-bg-color: #E2EBFA;\n",
              "      --hover-fill-color: #174EA6;\n",
              "      --disabled-fill-color: #AAA;\n",
              "      --disabled-bg-color: #DDD;\n",
              "  }\n",
              "\n",
              "  [theme=dark] .colab-df-quickchart {\n",
              "      --bg-color: #3B4455;\n",
              "      --fill-color: #D2E3FC;\n",
              "      --hover-bg-color: #434B5C;\n",
              "      --hover-fill-color: #FFFFFF;\n",
              "      --disabled-bg-color: #3B4455;\n",
              "      --disabled-fill-color: #666;\n",
              "  }\n",
              "\n",
              "  .colab-df-quickchart {\n",
              "    background-color: var(--bg-color);\n",
              "    border: none;\n",
              "    border-radius: 50%;\n",
              "    cursor: pointer;\n",
              "    display: none;\n",
              "    fill: var(--fill-color);\n",
              "    height: 32px;\n",
              "    padding: 0;\n",
              "    width: 32px;\n",
              "  }\n",
              "\n",
              "  .colab-df-quickchart:hover {\n",
              "    background-color: var(--hover-bg-color);\n",
              "    box-shadow: 0 1px 2px rgba(60, 64, 67, 0.3), 0 1px 3px 1px rgba(60, 64, 67, 0.15);\n",
              "    fill: var(--button-hover-fill-color);\n",
              "  }\n",
              "\n",
              "  .colab-df-quickchart-complete:disabled,\n",
              "  .colab-df-quickchart-complete:disabled:hover {\n",
              "    background-color: var(--disabled-bg-color);\n",
              "    fill: var(--disabled-fill-color);\n",
              "    box-shadow: none;\n",
              "  }\n",
              "\n",
              "  .colab-df-spinner {\n",
              "    border: 2px solid var(--fill-color);\n",
              "    border-color: transparent;\n",
              "    border-bottom-color: var(--fill-color);\n",
              "    animation:\n",
              "      spin 1s steps(1) infinite;\n",
              "  }\n",
              "\n",
              "  @keyframes spin {\n",
              "    0% {\n",
              "      border-color: transparent;\n",
              "      border-bottom-color: var(--fill-color);\n",
              "      border-left-color: var(--fill-color);\n",
              "    }\n",
              "    20% {\n",
              "      border-color: transparent;\n",
              "      border-left-color: var(--fill-color);\n",
              "      border-top-color: var(--fill-color);\n",
              "    }\n",
              "    30% {\n",
              "      border-color: transparent;\n",
              "      border-left-color: var(--fill-color);\n",
              "      border-top-color: var(--fill-color);\n",
              "      border-right-color: var(--fill-color);\n",
              "    }\n",
              "    40% {\n",
              "      border-color: transparent;\n",
              "      border-right-color: var(--fill-color);\n",
              "      border-top-color: var(--fill-color);\n",
              "    }\n",
              "    60% {\n",
              "      border-color: transparent;\n",
              "      border-right-color: var(--fill-color);\n",
              "    }\n",
              "    80% {\n",
              "      border-color: transparent;\n",
              "      border-right-color: var(--fill-color);\n",
              "      border-bottom-color: var(--fill-color);\n",
              "    }\n",
              "    90% {\n",
              "      border-color: transparent;\n",
              "      border-bottom-color: var(--fill-color);\n",
              "    }\n",
              "  }\n",
              "</style>\n",
              "\n",
              "  <script>\n",
              "    async function quickchart(key) {\n",
              "      const quickchartButtonEl =\n",
              "        document.querySelector('#' + key + ' button');\n",
              "      quickchartButtonEl.disabled = true;  // To prevent multiple clicks.\n",
              "      quickchartButtonEl.classList.add('colab-df-spinner');\n",
              "      try {\n",
              "        const charts = await google.colab.kernel.invokeFunction(\n",
              "            'suggestCharts', [key], {});\n",
              "      } catch (error) {\n",
              "        console.error('Error during call to suggestCharts:', error);\n",
              "      }\n",
              "      quickchartButtonEl.classList.remove('colab-df-spinner');\n",
              "      quickchartButtonEl.classList.add('colab-df-quickchart-complete');\n",
              "    }\n",
              "    (() => {\n",
              "      let quickchartButtonEl =\n",
              "        document.querySelector('#df-7c8c3361-564b-480f-a155-9d322fea2297 button');\n",
              "      quickchartButtonEl.style.display =\n",
              "        google.colab.kernel.accessAllowed ? 'block' : 'none';\n",
              "    })();\n",
              "  </script>\n",
              "</div>\n",
              "    </div>\n",
              "  </div>\n"
            ],
            "application/vnd.google.colaboratory.intrinsic+json": {
              "type": "dataframe",
              "variable_name": "movies",
              "summary": "{\n  \"name\": \"movies\",\n  \"rows\": 9742,\n  \"fields\": [\n    {\n      \"column\": \"movieId\",\n      \"properties\": {\n        \"dtype\": \"number\",\n        \"std\": 52160,\n        \"min\": 1,\n        \"max\": 193609,\n        \"num_unique_values\": 9742,\n        \"samples\": [\n          45635,\n          1373,\n          7325\n        ],\n        \"semantic_type\": \"\",\n        \"description\": \"\"\n      }\n    },\n    {\n      \"column\": \"title\",\n      \"properties\": {\n        \"dtype\": \"string\",\n        \"num_unique_values\": 9737,\n        \"samples\": [\n          \"Teenage Mutant Ninja Turtles (2014)\",\n          \"America's Sweethearts (2001)\",\n          \"Cast Away (2000)\"\n        ],\n        \"semantic_type\": \"\",\n        \"description\": \"\"\n      }\n    },\n    {\n      \"column\": \"genres\",\n      \"properties\": {\n        \"dtype\": \"category\",\n        \"num_unique_values\": 951,\n        \"samples\": [\n          \"Crime|Mystery|Romance|Thriller\",\n          \"Action|Adventure|Comedy|Western\",\n          \"Crime|Drama|Musical\"\n        ],\n        \"semantic_type\": \"\",\n        \"description\": \"\"\n      }\n    }\n  ]\n}"
            }
          },
          "metadata": {},
          "execution_count": 7
        }
      ]
    },
    {
      "cell_type": "code",
      "source": [
        "ratings.head()"
      ],
      "metadata": {
        "colab": {
          "base_uri": "https://localhost:8080/",
          "height": 206
        },
        "id": "qjvBK3hPobUo",
        "outputId": "5d49d8db-d9ba-4f0c-c706-332f97b2846f"
      },
      "execution_count": 8,
      "outputs": [
        {
          "output_type": "execute_result",
          "data": {
            "text/plain": [
              "   userId  movieId  rating  timestamp\n",
              "0       1        1     4.0  964982703\n",
              "1       1        3     4.0  964981247\n",
              "2       1        6     4.0  964982224\n",
              "3       1       47     5.0  964983815\n",
              "4       1       50     5.0  964982931"
            ],
            "text/html": [
              "\n",
              "  <div id=\"df-4cfdf4d6-1288-40cb-ac09-b9c32de3c457\" class=\"colab-df-container\">\n",
              "    <div>\n",
              "<style scoped>\n",
              "    .dataframe tbody tr th:only-of-type {\n",
              "        vertical-align: middle;\n",
              "    }\n",
              "\n",
              "    .dataframe tbody tr th {\n",
              "        vertical-align: top;\n",
              "    }\n",
              "\n",
              "    .dataframe thead th {\n",
              "        text-align: right;\n",
              "    }\n",
              "</style>\n",
              "<table border=\"1\" class=\"dataframe\">\n",
              "  <thead>\n",
              "    <tr style=\"text-align: right;\">\n",
              "      <th></th>\n",
              "      <th>userId</th>\n",
              "      <th>movieId</th>\n",
              "      <th>rating</th>\n",
              "      <th>timestamp</th>\n",
              "    </tr>\n",
              "  </thead>\n",
              "  <tbody>\n",
              "    <tr>\n",
              "      <th>0</th>\n",
              "      <td>1</td>\n",
              "      <td>1</td>\n",
              "      <td>4.0</td>\n",
              "      <td>964982703</td>\n",
              "    </tr>\n",
              "    <tr>\n",
              "      <th>1</th>\n",
              "      <td>1</td>\n",
              "      <td>3</td>\n",
              "      <td>4.0</td>\n",
              "      <td>964981247</td>\n",
              "    </tr>\n",
              "    <tr>\n",
              "      <th>2</th>\n",
              "      <td>1</td>\n",
              "      <td>6</td>\n",
              "      <td>4.0</td>\n",
              "      <td>964982224</td>\n",
              "    </tr>\n",
              "    <tr>\n",
              "      <th>3</th>\n",
              "      <td>1</td>\n",
              "      <td>47</td>\n",
              "      <td>5.0</td>\n",
              "      <td>964983815</td>\n",
              "    </tr>\n",
              "    <tr>\n",
              "      <th>4</th>\n",
              "      <td>1</td>\n",
              "      <td>50</td>\n",
              "      <td>5.0</td>\n",
              "      <td>964982931</td>\n",
              "    </tr>\n",
              "  </tbody>\n",
              "</table>\n",
              "</div>\n",
              "    <div class=\"colab-df-buttons\">\n",
              "\n",
              "  <div class=\"colab-df-container\">\n",
              "    <button class=\"colab-df-convert\" onclick=\"convertToInteractive('df-4cfdf4d6-1288-40cb-ac09-b9c32de3c457')\"\n",
              "            title=\"Convert this dataframe to an interactive table.\"\n",
              "            style=\"display:none;\">\n",
              "\n",
              "  <svg xmlns=\"http://www.w3.org/2000/svg\" height=\"24px\" viewBox=\"0 -960 960 960\">\n",
              "    <path d=\"M120-120v-720h720v720H120Zm60-500h600v-160H180v160Zm220 220h160v-160H400v160Zm0 220h160v-160H400v160ZM180-400h160v-160H180v160Zm440 0h160v-160H620v160ZM180-180h160v-160H180v160Zm440 0h160v-160H620v160Z\"/>\n",
              "  </svg>\n",
              "    </button>\n",
              "\n",
              "  <style>\n",
              "    .colab-df-container {\n",
              "      display:flex;\n",
              "      gap: 12px;\n",
              "    }\n",
              "\n",
              "    .colab-df-convert {\n",
              "      background-color: #E8F0FE;\n",
              "      border: none;\n",
              "      border-radius: 50%;\n",
              "      cursor: pointer;\n",
              "      display: none;\n",
              "      fill: #1967D2;\n",
              "      height: 32px;\n",
              "      padding: 0 0 0 0;\n",
              "      width: 32px;\n",
              "    }\n",
              "\n",
              "    .colab-df-convert:hover {\n",
              "      background-color: #E2EBFA;\n",
              "      box-shadow: 0px 1px 2px rgba(60, 64, 67, 0.3), 0px 1px 3px 1px rgba(60, 64, 67, 0.15);\n",
              "      fill: #174EA6;\n",
              "    }\n",
              "\n",
              "    .colab-df-buttons div {\n",
              "      margin-bottom: 4px;\n",
              "    }\n",
              "\n",
              "    [theme=dark] .colab-df-convert {\n",
              "      background-color: #3B4455;\n",
              "      fill: #D2E3FC;\n",
              "    }\n",
              "\n",
              "    [theme=dark] .colab-df-convert:hover {\n",
              "      background-color: #434B5C;\n",
              "      box-shadow: 0px 1px 3px 1px rgba(0, 0, 0, 0.15);\n",
              "      filter: drop-shadow(0px 1px 2px rgba(0, 0, 0, 0.3));\n",
              "      fill: #FFFFFF;\n",
              "    }\n",
              "  </style>\n",
              "\n",
              "    <script>\n",
              "      const buttonEl =\n",
              "        document.querySelector('#df-4cfdf4d6-1288-40cb-ac09-b9c32de3c457 button.colab-df-convert');\n",
              "      buttonEl.style.display =\n",
              "        google.colab.kernel.accessAllowed ? 'block' : 'none';\n",
              "\n",
              "      async function convertToInteractive(key) {\n",
              "        const element = document.querySelector('#df-4cfdf4d6-1288-40cb-ac09-b9c32de3c457');\n",
              "        const dataTable =\n",
              "          await google.colab.kernel.invokeFunction('convertToInteractive',\n",
              "                                                    [key], {});\n",
              "        if (!dataTable) return;\n",
              "\n",
              "        const docLinkHtml = 'Like what you see? Visit the ' +\n",
              "          '<a target=\"_blank\" href=https://colab.research.google.com/notebooks/data_table.ipynb>data table notebook</a>'\n",
              "          + ' to learn more about interactive tables.';\n",
              "        element.innerHTML = '';\n",
              "        dataTable['output_type'] = 'display_data';\n",
              "        await google.colab.output.renderOutput(dataTable, element);\n",
              "        const docLink = document.createElement('div');\n",
              "        docLink.innerHTML = docLinkHtml;\n",
              "        element.appendChild(docLink);\n",
              "      }\n",
              "    </script>\n",
              "  </div>\n",
              "\n",
              "\n",
              "<div id=\"df-a4d6182b-8ecc-40ce-bb0b-3487f79afef4\">\n",
              "  <button class=\"colab-df-quickchart\" onclick=\"quickchart('df-a4d6182b-8ecc-40ce-bb0b-3487f79afef4')\"\n",
              "            title=\"Suggest charts\"\n",
              "            style=\"display:none;\">\n",
              "\n",
              "<svg xmlns=\"http://www.w3.org/2000/svg\" height=\"24px\"viewBox=\"0 0 24 24\"\n",
              "     width=\"24px\">\n",
              "    <g>\n",
              "        <path d=\"M19 3H5c-1.1 0-2 .9-2 2v14c0 1.1.9 2 2 2h14c1.1 0 2-.9 2-2V5c0-1.1-.9-2-2-2zM9 17H7v-7h2v7zm4 0h-2V7h2v10zm4 0h-2v-4h2v4z\"/>\n",
              "    </g>\n",
              "</svg>\n",
              "  </button>\n",
              "\n",
              "<style>\n",
              "  .colab-df-quickchart {\n",
              "      --bg-color: #E8F0FE;\n",
              "      --fill-color: #1967D2;\n",
              "      --hover-bg-color: #E2EBFA;\n",
              "      --hover-fill-color: #174EA6;\n",
              "      --disabled-fill-color: #AAA;\n",
              "      --disabled-bg-color: #DDD;\n",
              "  }\n",
              "\n",
              "  [theme=dark] .colab-df-quickchart {\n",
              "      --bg-color: #3B4455;\n",
              "      --fill-color: #D2E3FC;\n",
              "      --hover-bg-color: #434B5C;\n",
              "      --hover-fill-color: #FFFFFF;\n",
              "      --disabled-bg-color: #3B4455;\n",
              "      --disabled-fill-color: #666;\n",
              "  }\n",
              "\n",
              "  .colab-df-quickchart {\n",
              "    background-color: var(--bg-color);\n",
              "    border: none;\n",
              "    border-radius: 50%;\n",
              "    cursor: pointer;\n",
              "    display: none;\n",
              "    fill: var(--fill-color);\n",
              "    height: 32px;\n",
              "    padding: 0;\n",
              "    width: 32px;\n",
              "  }\n",
              "\n",
              "  .colab-df-quickchart:hover {\n",
              "    background-color: var(--hover-bg-color);\n",
              "    box-shadow: 0 1px 2px rgba(60, 64, 67, 0.3), 0 1px 3px 1px rgba(60, 64, 67, 0.15);\n",
              "    fill: var(--button-hover-fill-color);\n",
              "  }\n",
              "\n",
              "  .colab-df-quickchart-complete:disabled,\n",
              "  .colab-df-quickchart-complete:disabled:hover {\n",
              "    background-color: var(--disabled-bg-color);\n",
              "    fill: var(--disabled-fill-color);\n",
              "    box-shadow: none;\n",
              "  }\n",
              "\n",
              "  .colab-df-spinner {\n",
              "    border: 2px solid var(--fill-color);\n",
              "    border-color: transparent;\n",
              "    border-bottom-color: var(--fill-color);\n",
              "    animation:\n",
              "      spin 1s steps(1) infinite;\n",
              "  }\n",
              "\n",
              "  @keyframes spin {\n",
              "    0% {\n",
              "      border-color: transparent;\n",
              "      border-bottom-color: var(--fill-color);\n",
              "      border-left-color: var(--fill-color);\n",
              "    }\n",
              "    20% {\n",
              "      border-color: transparent;\n",
              "      border-left-color: var(--fill-color);\n",
              "      border-top-color: var(--fill-color);\n",
              "    }\n",
              "    30% {\n",
              "      border-color: transparent;\n",
              "      border-left-color: var(--fill-color);\n",
              "      border-top-color: var(--fill-color);\n",
              "      border-right-color: var(--fill-color);\n",
              "    }\n",
              "    40% {\n",
              "      border-color: transparent;\n",
              "      border-right-color: var(--fill-color);\n",
              "      border-top-color: var(--fill-color);\n",
              "    }\n",
              "    60% {\n",
              "      border-color: transparent;\n",
              "      border-right-color: var(--fill-color);\n",
              "    }\n",
              "    80% {\n",
              "      border-color: transparent;\n",
              "      border-right-color: var(--fill-color);\n",
              "      border-bottom-color: var(--fill-color);\n",
              "    }\n",
              "    90% {\n",
              "      border-color: transparent;\n",
              "      border-bottom-color: var(--fill-color);\n",
              "    }\n",
              "  }\n",
              "</style>\n",
              "\n",
              "  <script>\n",
              "    async function quickchart(key) {\n",
              "      const quickchartButtonEl =\n",
              "        document.querySelector('#' + key + ' button');\n",
              "      quickchartButtonEl.disabled = true;  // To prevent multiple clicks.\n",
              "      quickchartButtonEl.classList.add('colab-df-spinner');\n",
              "      try {\n",
              "        const charts = await google.colab.kernel.invokeFunction(\n",
              "            'suggestCharts', [key], {});\n",
              "      } catch (error) {\n",
              "        console.error('Error during call to suggestCharts:', error);\n",
              "      }\n",
              "      quickchartButtonEl.classList.remove('colab-df-spinner');\n",
              "      quickchartButtonEl.classList.add('colab-df-quickchart-complete');\n",
              "    }\n",
              "    (() => {\n",
              "      let quickchartButtonEl =\n",
              "        document.querySelector('#df-a4d6182b-8ecc-40ce-bb0b-3487f79afef4 button');\n",
              "      quickchartButtonEl.style.display =\n",
              "        google.colab.kernel.accessAllowed ? 'block' : 'none';\n",
              "    })();\n",
              "  </script>\n",
              "</div>\n",
              "    </div>\n",
              "  </div>\n"
            ],
            "application/vnd.google.colaboratory.intrinsic+json": {
              "type": "dataframe",
              "variable_name": "ratings"
            }
          },
          "metadata": {},
          "execution_count": 8
        }
      ]
    },
    {
      "cell_type": "code",
      "source": [
        "tags.head()"
      ],
      "metadata": {
        "colab": {
          "base_uri": "https://localhost:8080/",
          "height": 206
        },
        "id": "ll-DEftxobPL",
        "outputId": "ed13138e-1ae4-46ea-91be-e58bb0848bf6"
      },
      "execution_count": 9,
      "outputs": [
        {
          "output_type": "execute_result",
          "data": {
            "text/plain": [
              "   userId  movieId              tag   timestamp\n",
              "0       2    60756            funny  1445714994\n",
              "1       2    60756  Highly quotable  1445714996\n",
              "2       2    60756     will ferrell  1445714992\n",
              "3       2    89774     Boxing story  1445715207\n",
              "4       2    89774              MMA  1445715200"
            ],
            "text/html": [
              "\n",
              "  <div id=\"df-aed5a1d2-1449-46b8-ab56-f4b1f5ed989b\" class=\"colab-df-container\">\n",
              "    <div>\n",
              "<style scoped>\n",
              "    .dataframe tbody tr th:only-of-type {\n",
              "        vertical-align: middle;\n",
              "    }\n",
              "\n",
              "    .dataframe tbody tr th {\n",
              "        vertical-align: top;\n",
              "    }\n",
              "\n",
              "    .dataframe thead th {\n",
              "        text-align: right;\n",
              "    }\n",
              "</style>\n",
              "<table border=\"1\" class=\"dataframe\">\n",
              "  <thead>\n",
              "    <tr style=\"text-align: right;\">\n",
              "      <th></th>\n",
              "      <th>userId</th>\n",
              "      <th>movieId</th>\n",
              "      <th>tag</th>\n",
              "      <th>timestamp</th>\n",
              "    </tr>\n",
              "  </thead>\n",
              "  <tbody>\n",
              "    <tr>\n",
              "      <th>0</th>\n",
              "      <td>2</td>\n",
              "      <td>60756</td>\n",
              "      <td>funny</td>\n",
              "      <td>1445714994</td>\n",
              "    </tr>\n",
              "    <tr>\n",
              "      <th>1</th>\n",
              "      <td>2</td>\n",
              "      <td>60756</td>\n",
              "      <td>Highly quotable</td>\n",
              "      <td>1445714996</td>\n",
              "    </tr>\n",
              "    <tr>\n",
              "      <th>2</th>\n",
              "      <td>2</td>\n",
              "      <td>60756</td>\n",
              "      <td>will ferrell</td>\n",
              "      <td>1445714992</td>\n",
              "    </tr>\n",
              "    <tr>\n",
              "      <th>3</th>\n",
              "      <td>2</td>\n",
              "      <td>89774</td>\n",
              "      <td>Boxing story</td>\n",
              "      <td>1445715207</td>\n",
              "    </tr>\n",
              "    <tr>\n",
              "      <th>4</th>\n",
              "      <td>2</td>\n",
              "      <td>89774</td>\n",
              "      <td>MMA</td>\n",
              "      <td>1445715200</td>\n",
              "    </tr>\n",
              "  </tbody>\n",
              "</table>\n",
              "</div>\n",
              "    <div class=\"colab-df-buttons\">\n",
              "\n",
              "  <div class=\"colab-df-container\">\n",
              "    <button class=\"colab-df-convert\" onclick=\"convertToInteractive('df-aed5a1d2-1449-46b8-ab56-f4b1f5ed989b')\"\n",
              "            title=\"Convert this dataframe to an interactive table.\"\n",
              "            style=\"display:none;\">\n",
              "\n",
              "  <svg xmlns=\"http://www.w3.org/2000/svg\" height=\"24px\" viewBox=\"0 -960 960 960\">\n",
              "    <path d=\"M120-120v-720h720v720H120Zm60-500h600v-160H180v160Zm220 220h160v-160H400v160Zm0 220h160v-160H400v160ZM180-400h160v-160H180v160Zm440 0h160v-160H620v160ZM180-180h160v-160H180v160Zm440 0h160v-160H620v160Z\"/>\n",
              "  </svg>\n",
              "    </button>\n",
              "\n",
              "  <style>\n",
              "    .colab-df-container {\n",
              "      display:flex;\n",
              "      gap: 12px;\n",
              "    }\n",
              "\n",
              "    .colab-df-convert {\n",
              "      background-color: #E8F0FE;\n",
              "      border: none;\n",
              "      border-radius: 50%;\n",
              "      cursor: pointer;\n",
              "      display: none;\n",
              "      fill: #1967D2;\n",
              "      height: 32px;\n",
              "      padding: 0 0 0 0;\n",
              "      width: 32px;\n",
              "    }\n",
              "\n",
              "    .colab-df-convert:hover {\n",
              "      background-color: #E2EBFA;\n",
              "      box-shadow: 0px 1px 2px rgba(60, 64, 67, 0.3), 0px 1px 3px 1px rgba(60, 64, 67, 0.15);\n",
              "      fill: #174EA6;\n",
              "    }\n",
              "\n",
              "    .colab-df-buttons div {\n",
              "      margin-bottom: 4px;\n",
              "    }\n",
              "\n",
              "    [theme=dark] .colab-df-convert {\n",
              "      background-color: #3B4455;\n",
              "      fill: #D2E3FC;\n",
              "    }\n",
              "\n",
              "    [theme=dark] .colab-df-convert:hover {\n",
              "      background-color: #434B5C;\n",
              "      box-shadow: 0px 1px 3px 1px rgba(0, 0, 0, 0.15);\n",
              "      filter: drop-shadow(0px 1px 2px rgba(0, 0, 0, 0.3));\n",
              "      fill: #FFFFFF;\n",
              "    }\n",
              "  </style>\n",
              "\n",
              "    <script>\n",
              "      const buttonEl =\n",
              "        document.querySelector('#df-aed5a1d2-1449-46b8-ab56-f4b1f5ed989b button.colab-df-convert');\n",
              "      buttonEl.style.display =\n",
              "        google.colab.kernel.accessAllowed ? 'block' : 'none';\n",
              "\n",
              "      async function convertToInteractive(key) {\n",
              "        const element = document.querySelector('#df-aed5a1d2-1449-46b8-ab56-f4b1f5ed989b');\n",
              "        const dataTable =\n",
              "          await google.colab.kernel.invokeFunction('convertToInteractive',\n",
              "                                                    [key], {});\n",
              "        if (!dataTable) return;\n",
              "\n",
              "        const docLinkHtml = 'Like what you see? Visit the ' +\n",
              "          '<a target=\"_blank\" href=https://colab.research.google.com/notebooks/data_table.ipynb>data table notebook</a>'\n",
              "          + ' to learn more about interactive tables.';\n",
              "        element.innerHTML = '';\n",
              "        dataTable['output_type'] = 'display_data';\n",
              "        await google.colab.output.renderOutput(dataTable, element);\n",
              "        const docLink = document.createElement('div');\n",
              "        docLink.innerHTML = docLinkHtml;\n",
              "        element.appendChild(docLink);\n",
              "      }\n",
              "    </script>\n",
              "  </div>\n",
              "\n",
              "\n",
              "<div id=\"df-ff7e2b88-3bdb-4e63-979c-a6c88a41277d\">\n",
              "  <button class=\"colab-df-quickchart\" onclick=\"quickchart('df-ff7e2b88-3bdb-4e63-979c-a6c88a41277d')\"\n",
              "            title=\"Suggest charts\"\n",
              "            style=\"display:none;\">\n",
              "\n",
              "<svg xmlns=\"http://www.w3.org/2000/svg\" height=\"24px\"viewBox=\"0 0 24 24\"\n",
              "     width=\"24px\">\n",
              "    <g>\n",
              "        <path d=\"M19 3H5c-1.1 0-2 .9-2 2v14c0 1.1.9 2 2 2h14c1.1 0 2-.9 2-2V5c0-1.1-.9-2-2-2zM9 17H7v-7h2v7zm4 0h-2V7h2v10zm4 0h-2v-4h2v4z\"/>\n",
              "    </g>\n",
              "</svg>\n",
              "  </button>\n",
              "\n",
              "<style>\n",
              "  .colab-df-quickchart {\n",
              "      --bg-color: #E8F0FE;\n",
              "      --fill-color: #1967D2;\n",
              "      --hover-bg-color: #E2EBFA;\n",
              "      --hover-fill-color: #174EA6;\n",
              "      --disabled-fill-color: #AAA;\n",
              "      --disabled-bg-color: #DDD;\n",
              "  }\n",
              "\n",
              "  [theme=dark] .colab-df-quickchart {\n",
              "      --bg-color: #3B4455;\n",
              "      --fill-color: #D2E3FC;\n",
              "      --hover-bg-color: #434B5C;\n",
              "      --hover-fill-color: #FFFFFF;\n",
              "      --disabled-bg-color: #3B4455;\n",
              "      --disabled-fill-color: #666;\n",
              "  }\n",
              "\n",
              "  .colab-df-quickchart {\n",
              "    background-color: var(--bg-color);\n",
              "    border: none;\n",
              "    border-radius: 50%;\n",
              "    cursor: pointer;\n",
              "    display: none;\n",
              "    fill: var(--fill-color);\n",
              "    height: 32px;\n",
              "    padding: 0;\n",
              "    width: 32px;\n",
              "  }\n",
              "\n",
              "  .colab-df-quickchart:hover {\n",
              "    background-color: var(--hover-bg-color);\n",
              "    box-shadow: 0 1px 2px rgba(60, 64, 67, 0.3), 0 1px 3px 1px rgba(60, 64, 67, 0.15);\n",
              "    fill: var(--button-hover-fill-color);\n",
              "  }\n",
              "\n",
              "  .colab-df-quickchart-complete:disabled,\n",
              "  .colab-df-quickchart-complete:disabled:hover {\n",
              "    background-color: var(--disabled-bg-color);\n",
              "    fill: var(--disabled-fill-color);\n",
              "    box-shadow: none;\n",
              "  }\n",
              "\n",
              "  .colab-df-spinner {\n",
              "    border: 2px solid var(--fill-color);\n",
              "    border-color: transparent;\n",
              "    border-bottom-color: var(--fill-color);\n",
              "    animation:\n",
              "      spin 1s steps(1) infinite;\n",
              "  }\n",
              "\n",
              "  @keyframes spin {\n",
              "    0% {\n",
              "      border-color: transparent;\n",
              "      border-bottom-color: var(--fill-color);\n",
              "      border-left-color: var(--fill-color);\n",
              "    }\n",
              "    20% {\n",
              "      border-color: transparent;\n",
              "      border-left-color: var(--fill-color);\n",
              "      border-top-color: var(--fill-color);\n",
              "    }\n",
              "    30% {\n",
              "      border-color: transparent;\n",
              "      border-left-color: var(--fill-color);\n",
              "      border-top-color: var(--fill-color);\n",
              "      border-right-color: var(--fill-color);\n",
              "    }\n",
              "    40% {\n",
              "      border-color: transparent;\n",
              "      border-right-color: var(--fill-color);\n",
              "      border-top-color: var(--fill-color);\n",
              "    }\n",
              "    60% {\n",
              "      border-color: transparent;\n",
              "      border-right-color: var(--fill-color);\n",
              "    }\n",
              "    80% {\n",
              "      border-color: transparent;\n",
              "      border-right-color: var(--fill-color);\n",
              "      border-bottom-color: var(--fill-color);\n",
              "    }\n",
              "    90% {\n",
              "      border-color: transparent;\n",
              "      border-bottom-color: var(--fill-color);\n",
              "    }\n",
              "  }\n",
              "</style>\n",
              "\n",
              "  <script>\n",
              "    async function quickchart(key) {\n",
              "      const quickchartButtonEl =\n",
              "        document.querySelector('#' + key + ' button');\n",
              "      quickchartButtonEl.disabled = true;  // To prevent multiple clicks.\n",
              "      quickchartButtonEl.classList.add('colab-df-spinner');\n",
              "      try {\n",
              "        const charts = await google.colab.kernel.invokeFunction(\n",
              "            'suggestCharts', [key], {});\n",
              "      } catch (error) {\n",
              "        console.error('Error during call to suggestCharts:', error);\n",
              "      }\n",
              "      quickchartButtonEl.classList.remove('colab-df-spinner');\n",
              "      quickchartButtonEl.classList.add('colab-df-quickchart-complete');\n",
              "    }\n",
              "    (() => {\n",
              "      let quickchartButtonEl =\n",
              "        document.querySelector('#df-ff7e2b88-3bdb-4e63-979c-a6c88a41277d button');\n",
              "      quickchartButtonEl.style.display =\n",
              "        google.colab.kernel.accessAllowed ? 'block' : 'none';\n",
              "    })();\n",
              "  </script>\n",
              "</div>\n",
              "    </div>\n",
              "  </div>\n"
            ],
            "application/vnd.google.colaboratory.intrinsic+json": {
              "type": "dataframe",
              "variable_name": "tags",
              "summary": "{\n  \"name\": \"tags\",\n  \"rows\": 3683,\n  \"fields\": [\n    {\n      \"column\": \"userId\",\n      \"properties\": {\n        \"dtype\": \"number\",\n        \"std\": 158,\n        \"min\": 2,\n        \"max\": 610,\n        \"num_unique_values\": 58,\n        \"samples\": [\n          2,\n          62,\n          341\n        ],\n        \"semantic_type\": \"\",\n        \"description\": \"\"\n      }\n    },\n    {\n      \"column\": \"movieId\",\n      \"properties\": {\n        \"dtype\": \"number\",\n        \"std\": 43490,\n        \"min\": 1,\n        \"max\": 193565,\n        \"num_unique_values\": 1572,\n        \"samples\": [\n          6296,\n          2939,\n          6708\n        ],\n        \"semantic_type\": \"\",\n        \"description\": \"\"\n      }\n    },\n    {\n      \"column\": \"tag\",\n      \"properties\": {\n        \"dtype\": \"category\",\n        \"num_unique_values\": 1589,\n        \"samples\": [\n          \"Grace\",\n          \"documentary\",\n          \"homosexuality\"\n        ],\n        \"semantic_type\": \"\",\n        \"description\": \"\"\n      }\n    },\n    {\n      \"column\": \"timestamp\",\n      \"properties\": {\n        \"dtype\": \"number\",\n        \"std\": 172102450,\n        \"min\": 1137179352,\n        \"max\": 1537098603,\n        \"num_unique_values\": 3411,\n        \"samples\": [\n          1498456527,\n          1137192017,\n          1525554215\n        ],\n        \"semantic_type\": \"\",\n        \"description\": \"\"\n      }\n    }\n  ]\n}"
            }
          },
          "metadata": {},
          "execution_count": 9
        }
      ]
    },
    {
      "cell_type": "markdown",
      "source": [
        "##Surprise"
      ],
      "metadata": {
        "id": "CN_na8T3pW5h"
      }
    },
    {
      "cell_type": "markdown",
      "source": [
        "https://surpriselib.com/\n",
        "\n",
        "Алгоритмы https://surprise.readthedocs.io/en/stable/prediction_algorithms_package.html"
      ],
      "metadata": {
        "id": "G8dty0Bzpp2a"
      }
    },
    {
      "cell_type": "code",
      "source": [
        "# установим\n",
        "!pip install surprise"
      ],
      "metadata": {
        "colab": {
          "base_uri": "https://localhost:8080/"
        },
        "id": "TMWU6h1mpAMG",
        "outputId": "6e37ad0c-1886-459c-a213-e6bbc621cad0"
      },
      "execution_count": 46,
      "outputs": [
        {
          "output_type": "stream",
          "name": "stdout",
          "text": [
            "Requirement already satisfied: surprise in /usr/local/lib/python3.11/dist-packages (0.1)\n",
            "Requirement already satisfied: scikit-surprise in /usr/local/lib/python3.11/dist-packages (from surprise) (1.1.4)\n",
            "Requirement already satisfied: joblib>=1.2.0 in /usr/local/lib/python3.11/dist-packages (from scikit-surprise->surprise) (1.4.2)\n",
            "Requirement already satisfied: numpy>=1.19.5 in /usr/local/lib/python3.11/dist-packages (from scikit-surprise->surprise) (1.26.4)\n",
            "Requirement already satisfied: scipy>=1.6.0 in /usr/local/lib/python3.11/dist-packages (from scikit-surprise->surprise) (1.13.1)\n"
          ]
        }
      ]
    },
    {
      "cell_type": "code",
      "source": [
        "from surprise import KNNWithMeans, KNNBasic, KNNWithZScore, KNNBaseline\n",
        "from surprise import Dataset\n",
        "from surprise import accuracy\n",
        "from surprise import Reader\n",
        "from surprise.model_selection import train_test_split"
      ],
      "metadata": {
        "id": "vUUsZYg4pAGA"
      },
      "execution_count": 99,
      "outputs": []
    },
    {
      "cell_type": "markdown",
      "source": [
        "Соберем и исследуем наш датасет"
      ],
      "metadata": {
        "id": "br2Zw_1vr_8V"
      }
    },
    {
      "cell_type": "code",
      "source": [
        "# соберем наш датасет\n",
        "movies_with_ratings = movies.merge(ratings, on='movieId').reset_index(drop=True)\n",
        "movies_with_ratings.head()"
      ],
      "metadata": {
        "colab": {
          "base_uri": "https://localhost:8080/",
          "height": 206
        },
        "id": "gE-wUdyCo__y",
        "outputId": "a1c9564f-49f5-4f21-b009-000954b2b130"
      },
      "execution_count": 48,
      "outputs": [
        {
          "output_type": "execute_result",
          "data": {
            "text/plain": [
              "   movieId             title                                       genres  \\\n",
              "0        1  Toy Story (1995)  Adventure|Animation|Children|Comedy|Fantasy   \n",
              "1        1  Toy Story (1995)  Adventure|Animation|Children|Comedy|Fantasy   \n",
              "2        1  Toy Story (1995)  Adventure|Animation|Children|Comedy|Fantasy   \n",
              "3        1  Toy Story (1995)  Adventure|Animation|Children|Comedy|Fantasy   \n",
              "4        1  Toy Story (1995)  Adventure|Animation|Children|Comedy|Fantasy   \n",
              "\n",
              "   userId  rating   timestamp  \n",
              "0       1     4.0   964982703  \n",
              "1       5     4.0   847434962  \n",
              "2       7     4.5  1106635946  \n",
              "3      15     2.5  1510577970  \n",
              "4      17     4.5  1305696483  "
            ],
            "text/html": [
              "\n",
              "  <div id=\"df-1bc663f5-3c23-4583-8639-1e748a824d47\" class=\"colab-df-container\">\n",
              "    <div>\n",
              "<style scoped>\n",
              "    .dataframe tbody tr th:only-of-type {\n",
              "        vertical-align: middle;\n",
              "    }\n",
              "\n",
              "    .dataframe tbody tr th {\n",
              "        vertical-align: top;\n",
              "    }\n",
              "\n",
              "    .dataframe thead th {\n",
              "        text-align: right;\n",
              "    }\n",
              "</style>\n",
              "<table border=\"1\" class=\"dataframe\">\n",
              "  <thead>\n",
              "    <tr style=\"text-align: right;\">\n",
              "      <th></th>\n",
              "      <th>movieId</th>\n",
              "      <th>title</th>\n",
              "      <th>genres</th>\n",
              "      <th>userId</th>\n",
              "      <th>rating</th>\n",
              "      <th>timestamp</th>\n",
              "    </tr>\n",
              "  </thead>\n",
              "  <tbody>\n",
              "    <tr>\n",
              "      <th>0</th>\n",
              "      <td>1</td>\n",
              "      <td>Toy Story (1995)</td>\n",
              "      <td>Adventure|Animation|Children|Comedy|Fantasy</td>\n",
              "      <td>1</td>\n",
              "      <td>4.0</td>\n",
              "      <td>964982703</td>\n",
              "    </tr>\n",
              "    <tr>\n",
              "      <th>1</th>\n",
              "      <td>1</td>\n",
              "      <td>Toy Story (1995)</td>\n",
              "      <td>Adventure|Animation|Children|Comedy|Fantasy</td>\n",
              "      <td>5</td>\n",
              "      <td>4.0</td>\n",
              "      <td>847434962</td>\n",
              "    </tr>\n",
              "    <tr>\n",
              "      <th>2</th>\n",
              "      <td>1</td>\n",
              "      <td>Toy Story (1995)</td>\n",
              "      <td>Adventure|Animation|Children|Comedy|Fantasy</td>\n",
              "      <td>7</td>\n",
              "      <td>4.5</td>\n",
              "      <td>1106635946</td>\n",
              "    </tr>\n",
              "    <tr>\n",
              "      <th>3</th>\n",
              "      <td>1</td>\n",
              "      <td>Toy Story (1995)</td>\n",
              "      <td>Adventure|Animation|Children|Comedy|Fantasy</td>\n",
              "      <td>15</td>\n",
              "      <td>2.5</td>\n",
              "      <td>1510577970</td>\n",
              "    </tr>\n",
              "    <tr>\n",
              "      <th>4</th>\n",
              "      <td>1</td>\n",
              "      <td>Toy Story (1995)</td>\n",
              "      <td>Adventure|Animation|Children|Comedy|Fantasy</td>\n",
              "      <td>17</td>\n",
              "      <td>4.5</td>\n",
              "      <td>1305696483</td>\n",
              "    </tr>\n",
              "  </tbody>\n",
              "</table>\n",
              "</div>\n",
              "    <div class=\"colab-df-buttons\">\n",
              "\n",
              "  <div class=\"colab-df-container\">\n",
              "    <button class=\"colab-df-convert\" onclick=\"convertToInteractive('df-1bc663f5-3c23-4583-8639-1e748a824d47')\"\n",
              "            title=\"Convert this dataframe to an interactive table.\"\n",
              "            style=\"display:none;\">\n",
              "\n",
              "  <svg xmlns=\"http://www.w3.org/2000/svg\" height=\"24px\" viewBox=\"0 -960 960 960\">\n",
              "    <path d=\"M120-120v-720h720v720H120Zm60-500h600v-160H180v160Zm220 220h160v-160H400v160Zm0 220h160v-160H400v160ZM180-400h160v-160H180v160Zm440 0h160v-160H620v160ZM180-180h160v-160H180v160Zm440 0h160v-160H620v160Z\"/>\n",
              "  </svg>\n",
              "    </button>\n",
              "\n",
              "  <style>\n",
              "    .colab-df-container {\n",
              "      display:flex;\n",
              "      gap: 12px;\n",
              "    }\n",
              "\n",
              "    .colab-df-convert {\n",
              "      background-color: #E8F0FE;\n",
              "      border: none;\n",
              "      border-radius: 50%;\n",
              "      cursor: pointer;\n",
              "      display: none;\n",
              "      fill: #1967D2;\n",
              "      height: 32px;\n",
              "      padding: 0 0 0 0;\n",
              "      width: 32px;\n",
              "    }\n",
              "\n",
              "    .colab-df-convert:hover {\n",
              "      background-color: #E2EBFA;\n",
              "      box-shadow: 0px 1px 2px rgba(60, 64, 67, 0.3), 0px 1px 3px 1px rgba(60, 64, 67, 0.15);\n",
              "      fill: #174EA6;\n",
              "    }\n",
              "\n",
              "    .colab-df-buttons div {\n",
              "      margin-bottom: 4px;\n",
              "    }\n",
              "\n",
              "    [theme=dark] .colab-df-convert {\n",
              "      background-color: #3B4455;\n",
              "      fill: #D2E3FC;\n",
              "    }\n",
              "\n",
              "    [theme=dark] .colab-df-convert:hover {\n",
              "      background-color: #434B5C;\n",
              "      box-shadow: 0px 1px 3px 1px rgba(0, 0, 0, 0.15);\n",
              "      filter: drop-shadow(0px 1px 2px rgba(0, 0, 0, 0.3));\n",
              "      fill: #FFFFFF;\n",
              "    }\n",
              "  </style>\n",
              "\n",
              "    <script>\n",
              "      const buttonEl =\n",
              "        document.querySelector('#df-1bc663f5-3c23-4583-8639-1e748a824d47 button.colab-df-convert');\n",
              "      buttonEl.style.display =\n",
              "        google.colab.kernel.accessAllowed ? 'block' : 'none';\n",
              "\n",
              "      async function convertToInteractive(key) {\n",
              "        const element = document.querySelector('#df-1bc663f5-3c23-4583-8639-1e748a824d47');\n",
              "        const dataTable =\n",
              "          await google.colab.kernel.invokeFunction('convertToInteractive',\n",
              "                                                    [key], {});\n",
              "        if (!dataTable) return;\n",
              "\n",
              "        const docLinkHtml = 'Like what you see? Visit the ' +\n",
              "          '<a target=\"_blank\" href=https://colab.research.google.com/notebooks/data_table.ipynb>data table notebook</a>'\n",
              "          + ' to learn more about interactive tables.';\n",
              "        element.innerHTML = '';\n",
              "        dataTable['output_type'] = 'display_data';\n",
              "        await google.colab.output.renderOutput(dataTable, element);\n",
              "        const docLink = document.createElement('div');\n",
              "        docLink.innerHTML = docLinkHtml;\n",
              "        element.appendChild(docLink);\n",
              "      }\n",
              "    </script>\n",
              "  </div>\n",
              "\n",
              "\n",
              "<div id=\"df-331dc4f3-b007-46b4-b8a0-c1ad63b29fad\">\n",
              "  <button class=\"colab-df-quickchart\" onclick=\"quickchart('df-331dc4f3-b007-46b4-b8a0-c1ad63b29fad')\"\n",
              "            title=\"Suggest charts\"\n",
              "            style=\"display:none;\">\n",
              "\n",
              "<svg xmlns=\"http://www.w3.org/2000/svg\" height=\"24px\"viewBox=\"0 0 24 24\"\n",
              "     width=\"24px\">\n",
              "    <g>\n",
              "        <path d=\"M19 3H5c-1.1 0-2 .9-2 2v14c0 1.1.9 2 2 2h14c1.1 0 2-.9 2-2V5c0-1.1-.9-2-2-2zM9 17H7v-7h2v7zm4 0h-2V7h2v10zm4 0h-2v-4h2v4z\"/>\n",
              "    </g>\n",
              "</svg>\n",
              "  </button>\n",
              "\n",
              "<style>\n",
              "  .colab-df-quickchart {\n",
              "      --bg-color: #E8F0FE;\n",
              "      --fill-color: #1967D2;\n",
              "      --hover-bg-color: #E2EBFA;\n",
              "      --hover-fill-color: #174EA6;\n",
              "      --disabled-fill-color: #AAA;\n",
              "      --disabled-bg-color: #DDD;\n",
              "  }\n",
              "\n",
              "  [theme=dark] .colab-df-quickchart {\n",
              "      --bg-color: #3B4455;\n",
              "      --fill-color: #D2E3FC;\n",
              "      --hover-bg-color: #434B5C;\n",
              "      --hover-fill-color: #FFFFFF;\n",
              "      --disabled-bg-color: #3B4455;\n",
              "      --disabled-fill-color: #666;\n",
              "  }\n",
              "\n",
              "  .colab-df-quickchart {\n",
              "    background-color: var(--bg-color);\n",
              "    border: none;\n",
              "    border-radius: 50%;\n",
              "    cursor: pointer;\n",
              "    display: none;\n",
              "    fill: var(--fill-color);\n",
              "    height: 32px;\n",
              "    padding: 0;\n",
              "    width: 32px;\n",
              "  }\n",
              "\n",
              "  .colab-df-quickchart:hover {\n",
              "    background-color: var(--hover-bg-color);\n",
              "    box-shadow: 0 1px 2px rgba(60, 64, 67, 0.3), 0 1px 3px 1px rgba(60, 64, 67, 0.15);\n",
              "    fill: var(--button-hover-fill-color);\n",
              "  }\n",
              "\n",
              "  .colab-df-quickchart-complete:disabled,\n",
              "  .colab-df-quickchart-complete:disabled:hover {\n",
              "    background-color: var(--disabled-bg-color);\n",
              "    fill: var(--disabled-fill-color);\n",
              "    box-shadow: none;\n",
              "  }\n",
              "\n",
              "  .colab-df-spinner {\n",
              "    border: 2px solid var(--fill-color);\n",
              "    border-color: transparent;\n",
              "    border-bottom-color: var(--fill-color);\n",
              "    animation:\n",
              "      spin 1s steps(1) infinite;\n",
              "  }\n",
              "\n",
              "  @keyframes spin {\n",
              "    0% {\n",
              "      border-color: transparent;\n",
              "      border-bottom-color: var(--fill-color);\n",
              "      border-left-color: var(--fill-color);\n",
              "    }\n",
              "    20% {\n",
              "      border-color: transparent;\n",
              "      border-left-color: var(--fill-color);\n",
              "      border-top-color: var(--fill-color);\n",
              "    }\n",
              "    30% {\n",
              "      border-color: transparent;\n",
              "      border-left-color: var(--fill-color);\n",
              "      border-top-color: var(--fill-color);\n",
              "      border-right-color: var(--fill-color);\n",
              "    }\n",
              "    40% {\n",
              "      border-color: transparent;\n",
              "      border-right-color: var(--fill-color);\n",
              "      border-top-color: var(--fill-color);\n",
              "    }\n",
              "    60% {\n",
              "      border-color: transparent;\n",
              "      border-right-color: var(--fill-color);\n",
              "    }\n",
              "    80% {\n",
              "      border-color: transparent;\n",
              "      border-right-color: var(--fill-color);\n",
              "      border-bottom-color: var(--fill-color);\n",
              "    }\n",
              "    90% {\n",
              "      border-color: transparent;\n",
              "      border-bottom-color: var(--fill-color);\n",
              "    }\n",
              "  }\n",
              "</style>\n",
              "\n",
              "  <script>\n",
              "    async function quickchart(key) {\n",
              "      const quickchartButtonEl =\n",
              "        document.querySelector('#' + key + ' button');\n",
              "      quickchartButtonEl.disabled = true;  // To prevent multiple clicks.\n",
              "      quickchartButtonEl.classList.add('colab-df-spinner');\n",
              "      try {\n",
              "        const charts = await google.colab.kernel.invokeFunction(\n",
              "            'suggestCharts', [key], {});\n",
              "      } catch (error) {\n",
              "        console.error('Error during call to suggestCharts:', error);\n",
              "      }\n",
              "      quickchartButtonEl.classList.remove('colab-df-spinner');\n",
              "      quickchartButtonEl.classList.add('colab-df-quickchart-complete');\n",
              "    }\n",
              "    (() => {\n",
              "      let quickchartButtonEl =\n",
              "        document.querySelector('#df-331dc4f3-b007-46b4-b8a0-c1ad63b29fad button');\n",
              "      quickchartButtonEl.style.display =\n",
              "        google.colab.kernel.accessAllowed ? 'block' : 'none';\n",
              "    })();\n",
              "  </script>\n",
              "</div>\n",
              "    </div>\n",
              "  </div>\n"
            ],
            "application/vnd.google.colaboratory.intrinsic+json": {
              "type": "dataframe",
              "variable_name": "movies_with_ratings"
            }
          },
          "metadata": {},
          "execution_count": 48
        }
      ]
    },
    {
      "cell_type": "code",
      "source": [
        "# проверим на пропуски\n",
        "movies_with_ratings.isna().sum()"
      ],
      "metadata": {
        "colab": {
          "base_uri": "https://localhost:8080/",
          "height": 272
        },
        "id": "3znH5_Hao_51",
        "outputId": "3ea53e05-fd8e-432e-92ba-7797587aa0b0"
      },
      "execution_count": 49,
      "outputs": [
        {
          "output_type": "execute_result",
          "data": {
            "text/plain": [
              "movieId      0\n",
              "title        0\n",
              "genres       0\n",
              "userId       0\n",
              "rating       0\n",
              "timestamp    0\n",
              "dtype: int64"
            ],
            "text/html": [
              "<div>\n",
              "<style scoped>\n",
              "    .dataframe tbody tr th:only-of-type {\n",
              "        vertical-align: middle;\n",
              "    }\n",
              "\n",
              "    .dataframe tbody tr th {\n",
              "        vertical-align: top;\n",
              "    }\n",
              "\n",
              "    .dataframe thead th {\n",
              "        text-align: right;\n",
              "    }\n",
              "</style>\n",
              "<table border=\"1\" class=\"dataframe\">\n",
              "  <thead>\n",
              "    <tr style=\"text-align: right;\">\n",
              "      <th></th>\n",
              "      <th>0</th>\n",
              "    </tr>\n",
              "  </thead>\n",
              "  <tbody>\n",
              "    <tr>\n",
              "      <th>movieId</th>\n",
              "      <td>0</td>\n",
              "    </tr>\n",
              "    <tr>\n",
              "      <th>title</th>\n",
              "      <td>0</td>\n",
              "    </tr>\n",
              "    <tr>\n",
              "      <th>genres</th>\n",
              "      <td>0</td>\n",
              "    </tr>\n",
              "    <tr>\n",
              "      <th>userId</th>\n",
              "      <td>0</td>\n",
              "    </tr>\n",
              "    <tr>\n",
              "      <th>rating</th>\n",
              "      <td>0</td>\n",
              "    </tr>\n",
              "    <tr>\n",
              "      <th>timestamp</th>\n",
              "      <td>0</td>\n",
              "    </tr>\n",
              "  </tbody>\n",
              "</table>\n",
              "</div><br><label><b>dtype:</b> int64</label>"
            ]
          },
          "metadata": {},
          "execution_count": 49
        }
      ]
    },
    {
      "cell_type": "code",
      "source": [
        "# проверим на нулевые значения\n",
        "movies_with_ratings.isnull().sum()"
      ],
      "metadata": {
        "colab": {
          "base_uri": "https://localhost:8080/",
          "height": 272
        },
        "id": "UzNyHjwCo_zw",
        "outputId": "1fbc04b4-c7ca-4354-c1fc-365d21f67223"
      },
      "execution_count": 50,
      "outputs": [
        {
          "output_type": "execute_result",
          "data": {
            "text/plain": [
              "movieId      0\n",
              "title        0\n",
              "genres       0\n",
              "userId       0\n",
              "rating       0\n",
              "timestamp    0\n",
              "dtype: int64"
            ],
            "text/html": [
              "<div>\n",
              "<style scoped>\n",
              "    .dataframe tbody tr th:only-of-type {\n",
              "        vertical-align: middle;\n",
              "    }\n",
              "\n",
              "    .dataframe tbody tr th {\n",
              "        vertical-align: top;\n",
              "    }\n",
              "\n",
              "    .dataframe thead th {\n",
              "        text-align: right;\n",
              "    }\n",
              "</style>\n",
              "<table border=\"1\" class=\"dataframe\">\n",
              "  <thead>\n",
              "    <tr style=\"text-align: right;\">\n",
              "      <th></th>\n",
              "      <th>0</th>\n",
              "    </tr>\n",
              "  </thead>\n",
              "  <tbody>\n",
              "    <tr>\n",
              "      <th>movieId</th>\n",
              "      <td>0</td>\n",
              "    </tr>\n",
              "    <tr>\n",
              "      <th>title</th>\n",
              "      <td>0</td>\n",
              "    </tr>\n",
              "    <tr>\n",
              "      <th>genres</th>\n",
              "      <td>0</td>\n",
              "    </tr>\n",
              "    <tr>\n",
              "      <th>userId</th>\n",
              "      <td>0</td>\n",
              "    </tr>\n",
              "    <tr>\n",
              "      <th>rating</th>\n",
              "      <td>0</td>\n",
              "    </tr>\n",
              "    <tr>\n",
              "      <th>timestamp</th>\n",
              "      <td>0</td>\n",
              "    </tr>\n",
              "  </tbody>\n",
              "</table>\n",
              "</div><br><label><b>dtype:</b> int64</label>"
            ]
          },
          "metadata": {},
          "execution_count": 50
        }
      ]
    },
    {
      "cell_type": "code",
      "source": [
        "# посмотрим на наши рейтинги\n",
        "movies_with_ratings['rating'].value_counts().sort_values()"
      ],
      "metadata": {
        "colab": {
          "base_uri": "https://localhost:8080/",
          "height": 429
        },
        "id": "4Kkgd-S2o_ta",
        "outputId": "389028ac-2500-415f-dcbe-b6d4fbd2afa4"
      },
      "execution_count": 51,
      "outputs": [
        {
          "output_type": "execute_result",
          "data": {
            "text/plain": [
              "rating\n",
              "0.5     1370\n",
              "1.5     1791\n",
              "1.0     2811\n",
              "2.5     5550\n",
              "2.0     7551\n",
              "4.5     8551\n",
              "3.5    13136\n",
              "5.0    13211\n",
              "3.0    20047\n",
              "4.0    26818\n",
              "Name: count, dtype: int64"
            ],
            "text/html": [
              "<div>\n",
              "<style scoped>\n",
              "    .dataframe tbody tr th:only-of-type {\n",
              "        vertical-align: middle;\n",
              "    }\n",
              "\n",
              "    .dataframe tbody tr th {\n",
              "        vertical-align: top;\n",
              "    }\n",
              "\n",
              "    .dataframe thead th {\n",
              "        text-align: right;\n",
              "    }\n",
              "</style>\n",
              "<table border=\"1\" class=\"dataframe\">\n",
              "  <thead>\n",
              "    <tr style=\"text-align: right;\">\n",
              "      <th></th>\n",
              "      <th>count</th>\n",
              "    </tr>\n",
              "    <tr>\n",
              "      <th>rating</th>\n",
              "      <th></th>\n",
              "    </tr>\n",
              "  </thead>\n",
              "  <tbody>\n",
              "    <tr>\n",
              "      <th>0.5</th>\n",
              "      <td>1370</td>\n",
              "    </tr>\n",
              "    <tr>\n",
              "      <th>1.5</th>\n",
              "      <td>1791</td>\n",
              "    </tr>\n",
              "    <tr>\n",
              "      <th>1.0</th>\n",
              "      <td>2811</td>\n",
              "    </tr>\n",
              "    <tr>\n",
              "      <th>2.5</th>\n",
              "      <td>5550</td>\n",
              "    </tr>\n",
              "    <tr>\n",
              "      <th>2.0</th>\n",
              "      <td>7551</td>\n",
              "    </tr>\n",
              "    <tr>\n",
              "      <th>4.5</th>\n",
              "      <td>8551</td>\n",
              "    </tr>\n",
              "    <tr>\n",
              "      <th>3.5</th>\n",
              "      <td>13136</td>\n",
              "    </tr>\n",
              "    <tr>\n",
              "      <th>5.0</th>\n",
              "      <td>13211</td>\n",
              "    </tr>\n",
              "    <tr>\n",
              "      <th>3.0</th>\n",
              "      <td>20047</td>\n",
              "    </tr>\n",
              "    <tr>\n",
              "      <th>4.0</th>\n",
              "      <td>26818</td>\n",
              "    </tr>\n",
              "  </tbody>\n",
              "</table>\n",
              "</div><br><label><b>dtype:</b> int64</label>"
            ]
          },
          "metadata": {},
          "execution_count": 51
        }
      ]
    },
    {
      "cell_type": "code",
      "source": [
        "# соберем наш датасет\n",
        "dataset = pd.DataFrame({'uid': movies_with_ratings.userId,\n",
        "                        'iid': movies_with_ratings.title,\n",
        "                        'rating': movies_with_ratings.rating\n",
        "})\n",
        "dataset.head(1)"
      ],
      "metadata": {
        "colab": {
          "base_uri": "https://localhost:8080/",
          "height": 80
        },
        "id": "y5E0oAWgobFP",
        "outputId": "396a23ec-e271-41e8-85ab-48c1f7c22cb0"
      },
      "execution_count": 52,
      "outputs": [
        {
          "output_type": "execute_result",
          "data": {
            "text/plain": [
              "   uid               iid  rating\n",
              "0    1  Toy Story (1995)     4.0"
            ],
            "text/html": [
              "\n",
              "  <div id=\"df-06e28c50-3610-4686-aca7-50e74e80ce00\" class=\"colab-df-container\">\n",
              "    <div>\n",
              "<style scoped>\n",
              "    .dataframe tbody tr th:only-of-type {\n",
              "        vertical-align: middle;\n",
              "    }\n",
              "\n",
              "    .dataframe tbody tr th {\n",
              "        vertical-align: top;\n",
              "    }\n",
              "\n",
              "    .dataframe thead th {\n",
              "        text-align: right;\n",
              "    }\n",
              "</style>\n",
              "<table border=\"1\" class=\"dataframe\">\n",
              "  <thead>\n",
              "    <tr style=\"text-align: right;\">\n",
              "      <th></th>\n",
              "      <th>uid</th>\n",
              "      <th>iid</th>\n",
              "      <th>rating</th>\n",
              "    </tr>\n",
              "  </thead>\n",
              "  <tbody>\n",
              "    <tr>\n",
              "      <th>0</th>\n",
              "      <td>1</td>\n",
              "      <td>Toy Story (1995)</td>\n",
              "      <td>4.0</td>\n",
              "    </tr>\n",
              "  </tbody>\n",
              "</table>\n",
              "</div>\n",
              "    <div class=\"colab-df-buttons\">\n",
              "\n",
              "  <div class=\"colab-df-container\">\n",
              "    <button class=\"colab-df-convert\" onclick=\"convertToInteractive('df-06e28c50-3610-4686-aca7-50e74e80ce00')\"\n",
              "            title=\"Convert this dataframe to an interactive table.\"\n",
              "            style=\"display:none;\">\n",
              "\n",
              "  <svg xmlns=\"http://www.w3.org/2000/svg\" height=\"24px\" viewBox=\"0 -960 960 960\">\n",
              "    <path d=\"M120-120v-720h720v720H120Zm60-500h600v-160H180v160Zm220 220h160v-160H400v160Zm0 220h160v-160H400v160ZM180-400h160v-160H180v160Zm440 0h160v-160H620v160ZM180-180h160v-160H180v160Zm440 0h160v-160H620v160Z\"/>\n",
              "  </svg>\n",
              "    </button>\n",
              "\n",
              "  <style>\n",
              "    .colab-df-container {\n",
              "      display:flex;\n",
              "      gap: 12px;\n",
              "    }\n",
              "\n",
              "    .colab-df-convert {\n",
              "      background-color: #E8F0FE;\n",
              "      border: none;\n",
              "      border-radius: 50%;\n",
              "      cursor: pointer;\n",
              "      display: none;\n",
              "      fill: #1967D2;\n",
              "      height: 32px;\n",
              "      padding: 0 0 0 0;\n",
              "      width: 32px;\n",
              "    }\n",
              "\n",
              "    .colab-df-convert:hover {\n",
              "      background-color: #E2EBFA;\n",
              "      box-shadow: 0px 1px 2px rgba(60, 64, 67, 0.3), 0px 1px 3px 1px rgba(60, 64, 67, 0.15);\n",
              "      fill: #174EA6;\n",
              "    }\n",
              "\n",
              "    .colab-df-buttons div {\n",
              "      margin-bottom: 4px;\n",
              "    }\n",
              "\n",
              "    [theme=dark] .colab-df-convert {\n",
              "      background-color: #3B4455;\n",
              "      fill: #D2E3FC;\n",
              "    }\n",
              "\n",
              "    [theme=dark] .colab-df-convert:hover {\n",
              "      background-color: #434B5C;\n",
              "      box-shadow: 0px 1px 3px 1px rgba(0, 0, 0, 0.15);\n",
              "      filter: drop-shadow(0px 1px 2px rgba(0, 0, 0, 0.3));\n",
              "      fill: #FFFFFF;\n",
              "    }\n",
              "  </style>\n",
              "\n",
              "    <script>\n",
              "      const buttonEl =\n",
              "        document.querySelector('#df-06e28c50-3610-4686-aca7-50e74e80ce00 button.colab-df-convert');\n",
              "      buttonEl.style.display =\n",
              "        google.colab.kernel.accessAllowed ? 'block' : 'none';\n",
              "\n",
              "      async function convertToInteractive(key) {\n",
              "        const element = document.querySelector('#df-06e28c50-3610-4686-aca7-50e74e80ce00');\n",
              "        const dataTable =\n",
              "          await google.colab.kernel.invokeFunction('convertToInteractive',\n",
              "                                                    [key], {});\n",
              "        if (!dataTable) return;\n",
              "\n",
              "        const docLinkHtml = 'Like what you see? Visit the ' +\n",
              "          '<a target=\"_blank\" href=https://colab.research.google.com/notebooks/data_table.ipynb>data table notebook</a>'\n",
              "          + ' to learn more about interactive tables.';\n",
              "        element.innerHTML = '';\n",
              "        dataTable['output_type'] = 'display_data';\n",
              "        await google.colab.output.renderOutput(dataTable, element);\n",
              "        const docLink = document.createElement('div');\n",
              "        docLink.innerHTML = docLinkHtml;\n",
              "        element.appendChild(docLink);\n",
              "      }\n",
              "    </script>\n",
              "  </div>\n",
              "\n",
              "    </div>\n",
              "  </div>\n"
            ],
            "application/vnd.google.colaboratory.intrinsic+json": {
              "type": "dataframe",
              "variable_name": "dataset"
            }
          },
          "metadata": {},
          "execution_count": 52
        }
      ]
    },
    {
      "cell_type": "code",
      "source": [
        "# еще раз посмотрим на рейтинги\n",
        "ratings.rating.min(), ratings.rating.max()"
      ],
      "metadata": {
        "colab": {
          "base_uri": "https://localhost:8080/"
        },
        "id": "O3rW2sdLoa9I",
        "outputId": "1c72bee7-24a9-43ac-f391-57bfa22e0578"
      },
      "execution_count": 53,
      "outputs": [
        {
          "output_type": "execute_result",
          "data": {
            "text/plain": [
              "(0.5, 5.0)"
            ]
          },
          "metadata": {},
          "execution_count": 53
        }
      ]
    },
    {
      "cell_type": "code",
      "source": [
        "# сформируем объект surprise\n",
        "reader = Reader(rating_scale=(0.5, 5.0))\n",
        "data = Dataset.load_from_df(dataset, reader)"
      ],
      "metadata": {
        "id": "TZDjm0i2oa0U"
      },
      "execution_count": 54,
      "outputs": []
    },
    {
      "cell_type": "code",
      "source": [
        "data"
      ],
      "metadata": {
        "colab": {
          "base_uri": "https://localhost:8080/"
        },
        "id": "wPSRiJv1wBL8",
        "outputId": "ce66a69b-dbd1-430f-8d94-10dffb710a85"
      },
      "execution_count": 55,
      "outputs": [
        {
          "output_type": "execute_result",
          "data": {
            "text/plain": [
              "<surprise.dataset.DatasetAutoFolds at 0x78818d4f3850>"
            ]
          },
          "metadata": {},
          "execution_count": 55
        }
      ]
    },
    {
      "cell_type": "code",
      "source": [
        "# разобъем на выборки\n",
        "trainset, testset = train_test_split(data, test_size=0.2, random_state=42)"
      ],
      "metadata": {
        "id": "9V7PhNg4oapw"
      },
      "execution_count": 56,
      "outputs": []
    },
    {
      "cell_type": "code",
      "source": [
        "# посмотрим, что это\n",
        "trainset, testset, type(testset)"
      ],
      "metadata": {
        "colab": {
          "base_uri": "https://localhost:8080/"
        },
        "id": "3hLTkvcnoajZ",
        "outputId": "f6a80b7b-d8dc-47f4-cfa5-a06d430c4d6e"
      },
      "execution_count": 57,
      "outputs": [
        {
          "output_type": "execute_result",
          "data": {
            "text/plain": [
              "(<surprise.trainset.Trainset at 0x78818badc350>,\n",
              " [(217, 'Fly Away Home (1996)', 4.0),\n",
              "  (184, 'Escape Plan (2013)', 4.0),\n",
              "  (263, 'Secretary (2002)', 4.5),\n",
              "  (414, 'Dark Blue World (Tmavomodrý svet) (2001)', 4.0),\n",
              "  (380, '50 First Dates (2004)', 3.0),\n",
              "  (76, 'Star Wars: Episode I - The Phantom Menace (1999)', 2.0),\n",
              "  (608, 'Cruel Intentions (1999)', 3.0),\n",
              "  (79, 'Godfather, The (1972)', 5.0),\n",
              "  (290, 'Simple Plan, A (1998)', 4.0),\n",
              "  (599, 'Safety of Objects, The (2001)', 1.5),\n",
              "  (322, 'My Cousin Vinny (1992)', 3.5),\n",
              "  (226, 'Sleepy Hollow (1999)', 2.5),\n",
              "  (465, 'Who Framed Roger Rabbit? (1988)', 4.0),\n",
              "  (305, 'War of the Worlds (2005)', 3.5),\n",
              "  (390, 'Children of a Lesser God (1986)', 4.5),\n",
              "  (59, 'Witness (1985)', 5.0),\n",
              "  (420, 'Monty Python Live at the Hollywood Bowl (1982)', 4.0),\n",
              "  (464, 'Sudden Death (1995)', 2.5),\n",
              "  (167, 'Pulp Fiction (1994)', 3.0),\n",
              "  (332, 'Dune (1984)', 1.5),\n",
              "  (401, 'Goofy Movie, A (1995)', 4.5),\n",
              "  (263, 'Bend It Like Beckham (2002)', 4.0),\n",
              "  (177, 'Talladega Nights: The Ballad of Ricky Bobby (2006)', 2.5),\n",
              "  (520, 'Inglourious Basterds (2009)', 4.5),\n",
              "  (414, 'Excess Baggage (1997)', 3.0),\n",
              "  (522, 'True Grit (2010)', 4.5),\n",
              "  (602, 'City Hall (1996)', 3.0),\n",
              "  (62, 'Snatch (2000)', 4.5),\n",
              "  (318, 'Shrek (2001)', 3.5),\n",
              "  (221, 'Maltese Falcon, The (1941)', 4.5),\n",
              "  (95, 'Blade (1998)', 3.0),\n",
              "  (193,\n",
              "   'Raiders of the Lost Ark (Indiana Jones and the Raiders of the Lost Ark) (1981)',\n",
              "   2.0),\n",
              "  (95, 'Soylent Green (1973)', 4.0),\n",
              "  (517, \"Mr. Popper's Penguins (2011)\", 2.0),\n",
              "  (13, 'Ready to Wear (Pret-A-Porter) (1994)', 1.0),\n",
              "  (282, 'Last King of Scotland, The (2006)', 4.5),\n",
              "  (422, 'Star Wars: Episode I - The Phantom Menace (1999)', 4.0),\n",
              "  (249, 'Transporter, The (2002)', 3.5),\n",
              "  (68, 'Little Mermaid, The (1989)', 5.0),\n",
              "  (563, 'Mamma Mia! (2008)', 3.5),\n",
              "  (19, 'Legend (1985)', 3.0),\n",
              "  (80, 'Matrix Reloaded, The (2003)', 4.0),\n",
              "  (539, \"Pee-wee's Big Adventure (1985)\", 3.0),\n",
              "  (290, 'Unforgiven (1992)', 4.0),\n",
              "  (493, 'Princess Bride, The (1987)', 4.0),\n",
              "  (600, 'BASEketball (1998)', 4.0),\n",
              "  (280, '10 Things I Hate About You (1999)', 4.0),\n",
              "  (602, 'Lion King, The (1994)', 4.0),\n",
              "  (608, '2001: A Space Odyssey (1968)', 3.0),\n",
              "  (39, 'L.A. Confidential (1997)', 2.0),\n",
              "  (274, 'Teeth (2007)', 2.0),\n",
              "  (298, 'This Is Spinal Tap (1984)', 4.0),\n",
              "  (567, \"Man Bites Dog (C'est arrivé près de chez vous) (1992)\", 5.0),\n",
              "  (64, 'Heathers (1989)', 3.0),\n",
              "  (490, 'Ricky Gervais Live 3: Fame (2007)', 3.0),\n",
              "  (105, 'Shaun of the Dead (2004)', 3.5),\n",
              "  (298, 'Lord of the Rings: The Return of the King, The (2003)', 4.0),\n",
              "  (267, 'For Love of the Game (1999)', 2.0),\n",
              "  (2, 'Gladiator (2000)', 4.0),\n",
              "  (298, 'Hangover, The (2009)', 3.0),\n",
              "  (132, 'Pinocchio (1940)', 2.0),\n",
              "  (448, 'Lara Croft Tomb Raider: The Cradle of Life (2003)', 1.5),\n",
              "  (567, 'Stuart Little (1999)', 2.0),\n",
              "  (157, 'Inspector Gadget (1999)', 2.0),\n",
              "  (261, 'Seven (a.k.a. Se7en) (1995)', 4.0),\n",
              "  (288, 'Mimic (1997)', 2.0),\n",
              "  (489, \"On Her Majesty's Secret Service (1969)\", 1.5),\n",
              "  (470, 'Willy Wonka & the Chocolate Factory (1971)', 4.0),\n",
              "  (580, 'Star Wars: Episode IV - A New Hope (1977)', 4.0),\n",
              "  (45, 'Hook (1991)', 3.0),\n",
              "  (377, 'Brady Bunch Movie, The (1995)', 4.0),\n",
              "  (590, 'West Side Story (1961)', 4.0),\n",
              "  (434, 'Shaun of the Dead (2004)', 4.5),\n",
              "  (68, 'Chronicles of Riddick, The (2004)', 2.5),\n",
              "  (599, 'Fist of Legend (Jing wu ying xiong) (1994)', 3.0),\n",
              "  (200, 'American Beauty (1999)', 3.5),\n",
              "  (274, 'Beauty and the Beast (La belle et la bête) (1946)', 3.0),\n",
              "  (23,\n",
              "   'Dr. Strangelove or: How I Learned to Stop Worrying and Love the Bomb (1964)',\n",
              "   3.0),\n",
              "  (475, 'Despicable Me (2010)', 3.5),\n",
              "  (182, 'Name of the Rose, The (Name der Rose, Der) (1986)', 4.0),\n",
              "  (409, 'Hudsucker Proxy, The (1994)', 3.0),\n",
              "  (51, 'Kindergarten Cop (1990)', 3.0),\n",
              "  (288, 'High Fidelity (2000)', 3.0),\n",
              "  (200, 'Ace Ventura: When Nature Calls (1995)', 3.5),\n",
              "  (152, 'In Bruges (2008)', 4.0),\n",
              "  (555, 'Dirty Dancing (1987)', 4.0),\n",
              "  (489, 'GoldenEye (1995)', 2.5),\n",
              "  (610, 'American Outlaws (2001)', 1.0),\n",
              "  (313, 'Brazil (1985)', 5.0),\n",
              "  (125, 'Exam (2009)', 3.5),\n",
              "  (580, 'Sleepy Hollow (1999)', 4.0),\n",
              "  (57, 'Jurassic Park (1993)', 5.0),\n",
              "  (599, 'North (1994)', 1.0),\n",
              "  (306, 'Inside Out (2015)', 4.0),\n",
              "  (414, 'Hidalgo (2004)', 3.0),\n",
              "  (78, 'Hot Shots! Part Deux (1993)', 3.0),\n",
              "  (410, 'American Beauty (1999)', 3.0),\n",
              "  (590, 'Dirty Dozen, The (1967)', 4.0),\n",
              "  (325, 'Major League: Back to the Minors (1998)', 2.0),\n",
              "  (551, 'The Martian (2015)', 4.5),\n",
              "  (489, 'What Women Want (2000)', 3.0),\n",
              "  (100, 'Grosse Pointe Blank (1997)', 4.5),\n",
              "  (210, 'Green Mile, The (1999)', 4.0),\n",
              "  (246, 'Casino Royale (2006)', 5.0),\n",
              "  (469, \"Loaded Weapon 1 (National Lampoon's Loaded Weapon 1) (1993)\", 1.0),\n",
              "  (582, 'Dark Knight Rises, The (2012)', 4.5),\n",
              "  (70, 'Hustler, The (1961)', 5.0),\n",
              "  (31, 'Twister (1996)', 4.0),\n",
              "  (208, 'Rock, The (1996)', 3.0),\n",
              "  (286, 'Eternal Sunshine of the Spotless Mind (2004)', 5.0),\n",
              "  (305, 'Shutter Island (2010)', 3.5),\n",
              "  (111, 'Pumping Iron (1977)', 4.0),\n",
              "  (352, 'Elysium (2013)', 3.0),\n",
              "  (71, 'Die Hard (1988)', 4.0),\n",
              "  (489, 'Aladdin (1992)', 3.5),\n",
              "  (312, 'Solaris (2002)', 4.0),\n",
              "  (509, 'Dukes of Hazzard, The (2005)', 2.0),\n",
              "  (318, 'Kung Fu Panda (2008)', 3.5),\n",
              "  (474, \"Sophie's Choice (1982)\", 2.5),\n",
              "  (448, 'Bonfire of the Vanities (1990)', 2.0),\n",
              "  (477, 'Fido (2006)', 4.0),\n",
              "  (86, 'Shrek (2001)', 4.0),\n",
              "  (274, 'Truman Show, The (1998)', 4.5),\n",
              "  (80, \"Pan's Labyrinth (Laberinto del fauno, El) (2006)\", 4.5),\n",
              "  (96, 'Titanic (1997)', 2.0),\n",
              "  (387, 'Reservoir Dogs (1992)', 4.5),\n",
              "  (266, 'Big (1988)', 4.0),\n",
              "  (132, 'Grindhouse (2007)', 4.0),\n",
              "  (234, 'Iron Giant, The (1999)', 5.0),\n",
              "  (600, 'Sister Act (1992)', 2.0),\n",
              "  (221, 'Motorcycle Diaries, The (Diarios de motocicleta) (2004)', 4.5),\n",
              "  (474, 'Doors, The (1991)', 3.0),\n",
              "  (509, 'Thank You for Smoking (2006)', 3.0),\n",
              "  (58, 'Get Shorty (1995)', 4.0),\n",
              "  (599, 'I Heart Huckabees (2004)', 2.5),\n",
              "  (115, 'Aliens (1986)', 5.0),\n",
              "  (274, 'Bubba Ho-tep (2002)', 3.5),\n",
              "  (62, 'Solo: A Star Wars Story (2018)', 4.0),\n",
              "  (18, 'Independence Day (a.k.a. ID4) (1996)', 4.0),\n",
              "  (475, 'Shrek (2001)', 4.5),\n",
              "  (298, \"World's Greatest Dad (2009)\", 1.5),\n",
              "  (184, 'Avengers: Age of Ultron (2015)', 3.5),\n",
              "  (465, 'No Way Out (1987)', 4.0),\n",
              "  (68, 'Red Planet (2000)', 2.5),\n",
              "  (534, 'Man in the Iron Mask, The (1998)', 4.5),\n",
              "  (474, 'Finding Nemo (2003)', 4.0),\n",
              "  (274, 'Lost World: Jurassic Park, The (1997)', 1.5),\n",
              "  (474, 'Mrs. Henderson Presents (2005)', 3.5),\n",
              "  (602, 'Nixon (1995)', 5.0),\n",
              "  (54, 'Toy Story (1995)', 3.0),\n",
              "  (211, 'How the Grinch Stole Christmas (a.k.a. The Grinch) (2000)', 3.5),\n",
              "  (599, 'Stay Tuned (1992)', 2.5),\n",
              "  (411, 'Mighty Aphrodite (1995)', 2.0),\n",
              "  (483, 'Grease 2 (1982)', 0.5),\n",
              "  (45, 'Talented Mr. Ripley, The (1999)', 4.0),\n",
              "  (311, 'American Pie (1999)', 0.5),\n",
              "  (445, 'Beautiful Mind, A (2001)', 4.0),\n",
              "  (381, 'Princess and the Frog, The (2009)', 4.0),\n",
              "  (57, 'African Queen, The (1951)', 4.0),\n",
              "  (485, 'Outbreak (1995)', 5.0),\n",
              "  (599, 'Day & Night (2010)', 2.5),\n",
              "  (414, 'In the Bedroom (2001)', 4.0),\n",
              "  (593, 'Patriot, The (2000)', 2.0),\n",
              "  (464, 'I Now Pronounce You Chuck and Larry (2007)', 4.0),\n",
              "  (198, 'Airplane! (1980)', 3.0),\n",
              "  (332, 'Monsters (2010)', 3.5),\n",
              "  (610, 'Garden State (2004)', 3.5),\n",
              "  (125, 'The Lobster (2015)', 3.5),\n",
              "  (414, 'Once Upon a Time in Mexico (2003)', 4.0),\n",
              "  (462, 'Aliens (1986)', 2.0),\n",
              "  (221, 'Midnight Express (1978)', 4.0),\n",
              "  (258, 'Beautiful Mind, A (2001)', 5.0),\n",
              "  (509, 'Bean (1997)', 3.5),\n",
              "  (368, 'Chariots of Fire (1981)', 4.0),\n",
              "  (275, 'You Can Count on Me (2000)', 5.0),\n",
              "  (166, 'Sense and Sensibility (1995)', 4.0),\n",
              "  (378, 'Lion King, The (1994)', 4.5),\n",
              "  (182, 'Mystic River (2003)', 3.5),\n",
              "  (462, 'Westworld (1973)', 4.0),\n",
              "  (480, 'Knocked Up (2007)', 4.5),\n",
              "  (448, 'Perfect Storm, The (2000)', 3.0),\n",
              "  (113, 'Grease (1978)', 3.0),\n",
              "  (232, 'Last Holiday (2006)', 3.0),\n",
              "  (469, 'Bananas (1971)', 4.0),\n",
              "  (292, 'This Is the End (2013)', 1.5),\n",
              "  (520, 'Avatar (2009)', 4.5),\n",
              "  (414, 'Arlington Road (1999)', 3.0),\n",
              "  (608, 'Dark Crystal, The (1982)', 3.0),\n",
              "  (125, 'Funny Games U.S. (2007)', 5.0),\n",
              "  (297, 'Twister (1996)', 1.0),\n",
              "  (24, '300 (2007)', 4.0),\n",
              "  (40, 'Pocahontas (1995)', 2.0),\n",
              "  (298, 'Incredibles, The (2004)', 2.0),\n",
              "  (483, 'Me, Myself & Irene (2000)', 3.5),\n",
              "  (275, 'Honey, I Shrunk the Kids (1989)', 2.0),\n",
              "  (292, 'Blade (1998)', 3.0),\n",
              "  (509, 'Women on the 6th Floor, The (Les Femmes du 6ème Étage) (2010)', 3.5),\n",
              "  (153, 'Wolf of Wall Street, The (2013)', 1.0),\n",
              "  (45, \"My Best Friend's Wedding (1997)\", 4.0),\n",
              "  (480, 'Scary Movie (2000)', 0.5),\n",
              "  (287, 'Hours, The (2002)', 5.0),\n",
              "  (599, 'Deep Impact (1998)', 2.0),\n",
              "  (400, 'Blade Runner (1982)', 4.5),\n",
              "  (122, 'Christmas Story, A (1983)', 5.0),\n",
              "  (286, 'Philadelphia (1993)', 4.5),\n",
              "  (177, 'Adjustment Bureau, The (2011)', 3.0),\n",
              "  (354, 'Gladiator (2000)', 3.5),\n",
              "  (305, 'Homefront (2013)', 3.0),\n",
              "  (64, 'Kill Bill: Vol. 1 (2003)', 4.0),\n",
              "  (27, 'Mission: Impossible (1996)', 4.0),\n",
              "  (266, 'Goldfinger (1964)', 5.0),\n",
              "  (382, 'Rush Hour (1998)', 3.5),\n",
              "  (474, 'Comedian (2002)', 3.0),\n",
              "  (607, 'Fargo (1996)', 2.0),\n",
              "  (135, 'Fight Club (1999)', 5.0),\n",
              "  (414, 'Indiana Jones and the Last Crusade (1989)', 4.0),\n",
              "  (565, 'Shawshank Redemption, The (1994)', 4.0),\n",
              "  (223, 'Candyman (1992)', 1.0),\n",
              "  (232, 'Joe Somebody (2001)', 3.0),\n",
              "  (28, 'Dirty Dozen, The (1967)', 3.5),\n",
              "  (281, '40-Year-Old Virgin, The (2005)', 4.0),\n",
              "  (95, 'Smokey and the Bandit II (1980)', 4.0),\n",
              "  (547, 'This Is Spinal Tap (1984)', 5.0),\n",
              "  (141, 'Lethal Weapon 4 (1998)', 3.0),\n",
              "  (68, 'Stakeout (1987)', 3.0),\n",
              "  (607, 'Poltergeist (1982)', 4.0),\n",
              "  (234, 'Last Action Hero (1993)', 4.0),\n",
              "  (72, 'Pulp Fiction (1994)', 4.5),\n",
              "  (562, 'Catch Me If You Can (2002)', 4.0),\n",
              "  (534, 'Zombieland (2009)', 4.0),\n",
              "  (387, 'Mrs. Doubtfire (1993)', 2.5),\n",
              "  (232, 'Sarah Silverman: Jesus Is Magic (2005)', 1.5),\n",
              "  (421, 'Casablanca (1942)', 4.0),\n",
              "  (309, 'Master and Commander: The Far Side of the World (2003)', 4.0),\n",
              "  (141, 'Toy Story 2 (1999)', 4.5),\n",
              "  (182, \"St. Elmo's Fire (1985)\", 3.5),\n",
              "  (129, 'Minority Report (2002)', 4.0),\n",
              "  (603, '200 Cigarettes (1999)', 3.0),\n",
              "  (234, 'Snow White and the Seven Dwarfs (1937)', 5.0),\n",
              "  (597, 'Jewel of the Nile, The (1985)', 4.0),\n",
              "  (438, 'Manchurian Candidate, The (1962)', 5.0),\n",
              "  (249, 'Very Harold & Kumar 3D Christmas, A (2011)', 3.5),\n",
              "  (100, 'Mexican, The (2001)', 4.5),\n",
              "  (249, 'Cabin in the Woods, The (2012)', 5.0),\n",
              "  (309, 'Monsters, Inc. (2001)', 4.0),\n",
              "  (39, 'Mulan (1998)', 2.0),\n",
              "  (181, 'Clear and Present Danger (1994)', 4.0),\n",
              "  (67, 'Shawshank Redemption, The (1994)', 4.5),\n",
              "  (387, 'Re-Animator (1985)', 2.5),\n",
              "  (325, 'Russia House, The (1990)', 3.0),\n",
              "  (365, 'Green Hornet, The (2011)', 4.0),\n",
              "  (66, 'Hot Fuzz (2007)', 4.0),\n",
              "  (40, 'Beauty and the Beast (1991)', 3.0),\n",
              "  (177, 'Two Weeks Notice (2002)', 4.0),\n",
              "  (63, '28 Days Later (2002)', 4.0),\n",
              "  (292, 'Sum of All Fears, The (2002)', 4.0),\n",
              "  (560, 'Corpse Bride (2005)', 3.5),\n",
              "  (10, 'Harry Potter and the Half-Blood Prince (2009)', 3.0),\n",
              "  (560, 'Coraline (2009)', 3.5),\n",
              "  (523, 'Good Will Hunting (1997)', 5.0),\n",
              "  (122, 'Batman (1989)', 4.5),\n",
              "  (474, 'Unforgiven (1992)', 4.0),\n",
              "  (331, 'Daredevil (2003)', 1.0),\n",
              "  (567, 'X-Men: Days of Future Past (2014)', 3.0),\n",
              "  (151, 'Toy Story (1995)', 5.0),\n",
              "  (411, 'Nightmare Before Christmas, The (1993)', 4.0),\n",
              "  (18, 'Lord of the Rings: The Two Towers, The (2002)', 3.5),\n",
              "  (239, 'Love Actually (2003)', 3.5),\n",
              "  (414, '25th Hour (2002)', 4.0),\n",
              "  (15, 'Star Wars: Episode III - Revenge of the Sith (2005)', 5.0),\n",
              "  (291, 'Harry Potter and the Prisoner of Azkaban (2004)', 5.0),\n",
              "  (225, 'Fletch (1985)', 4.0),\n",
              "  (525, 'Austin Powers in Goldmember (2002)', 2.5),\n",
              "  (428, 'Waterboy, The (1998)', 2.0),\n",
              "  (45, 'Glory (1989)', 5.0),\n",
              "  (274, 'Incredibles, The (2004)', 3.5),\n",
              "  (339, 'Jurassic Park (1993)', 4.0),\n",
              "  (520, 'Star Trek: Generations (1994)', 3.5),\n",
              "  (371, 'Shining, The (1980)', 5.0),\n",
              "  (436, 'Dave (1993)', 4.0),\n",
              "  (319, 'Batman v Superman: Dawn of Justice (2016)', 4.5),\n",
              "  (525, 'Chasing Amy (1997)', 3.5),\n",
              "  (320, \"You Don't Mess with the Zohan (2008)\", 3.0),\n",
              "  (217, 'Corrina, Corrina (1994)', 2.0),\n",
              "  (483, 'Da Vinci Code, The (2006)', 3.0),\n",
              "  (357, \"Brother's Keeper (1992)\", 4.0),\n",
              "  (489, 'Hot Shots! (1991)', 2.5),\n",
              "  (362, 'Thing, The (1982)', 5.0),\n",
              "  (474, '18 Again! (1988)', 2.0),\n",
              "  (100, 'Affair to Remember, An (1957)', 4.0),\n",
              "  (274, 'Caddyshack (1980)', 4.0),\n",
              "  (560, 'Terminator 2: Judgment Day (1991)', 3.0),\n",
              "  (45, 'Fight Club (1999)', 5.0),\n",
              "  (28, 'American Psycho (2000)', 4.0),\n",
              "  (534, 'Lord of the Rings: The Fellowship of the Ring, The (2001)', 4.0),\n",
              "  (448, 'In the Heart of the Sea (2015)', 2.5),\n",
              "  (200, \"Something's Gotta Give (2003)\", 3.0),\n",
              "  (483, 'Sgt. Bilko (1996)', 3.5),\n",
              "  (308, 'Outbreak (1995)', 1.0),\n",
              "  (219, 'Talladega Nights: The Ballad of Ricky Bobby (2006)', 1.5),\n",
              "  (85, 'Thousand Acres, A (1997)', 1.0),\n",
              "  (132, 'Star Wars: Episode V - The Empire Strikes Back (1980)', 2.0),\n",
              "  (602, 'Congo (1995)', 3.0),\n",
              "  (398, 'My Neighbor Totoro (Tonari no Totoro) (1988)', 5.0),\n",
              "  (517, 'Grease Live (2016)', 1.0),\n",
              "  (466, 'Bolt (2008)', 4.0),\n",
              "  (217, 'Dirty Dozen, The (1967)', 4.0),\n",
              "  (42, \"St. Elmo's Fire (1985)\", 4.0),\n",
              "  (448, 'Sneakers (1992)', 4.0),\n",
              "  (307, 'Talladega Nights: The Ballad of Ricky Bobby (2006)', 2.5),\n",
              "  (100, 'Top Gun (1986)', 5.0),\n",
              "  (288, 'Swarm, The (1978)', 2.0),\n",
              "  (125, 'Army of Darkness (1993)', 4.0),\n",
              "  (365, 'If I Stay (2014)', 2.0),\n",
              "  (380, 'Jimmy Neutron: Boy Genius (2001)', 3.0),\n",
              "  (580, 'X-Men: The Last Stand (2006)', 4.5),\n",
              "  (202, 'Jaws (1975)', 4.0),\n",
              "  (597, 'Being There (1979)', 5.0),\n",
              "  (75, 'Alien³ (a.k.a. Alien 3) (1992)', 3.0),\n",
              "  (20, 'Guys and Dolls (1955)', 5.0),\n",
              "  (91, 'Body Snatcher, The (1945)', 4.5),\n",
              "  (216, 'Fast Times at Ridgemont High (1982)', 4.0),\n",
              "  (525, 'Avengers: Age of Ultron (2015)', 2.0),\n",
              "  (292, 'The Hunger Games (2012)', 4.5),\n",
              "  (380, 'Host, The (Gwoemul) (2006)', 4.0),\n",
              "  (139, 'Blade: Trinity (2004)', 0.5),\n",
              "  (561, 'Reservoir Dogs (1992)', 3.5),\n",
              "  (414, \"Your Sister's Sister (2011)\", 4.0),\n",
              "  (132, 'Boondock Saints, The (2000)', 3.5),\n",
              "  (63, 'Young Frankenstein (1974)', 3.0),\n",
              "  (462, 'Team America: World Police (2004)', 4.5),\n",
              "  (305, \"Ender's Game (2013)\", 4.0),\n",
              "  (370, 'Star Wars: Episode II - Attack of the Clones (2002)', 1.0),\n",
              "  (313, 'Game, The (1997)', 5.0),\n",
              "  (135, 'Star Wars: Episode V - The Empire Strikes Back (1980)', 4.0),\n",
              "  (477, 'Incredible Hulk, The (2008)', 4.0),\n",
              "  (448, 'Baby... Secret of the Lost Legend (1985)', 2.0),\n",
              "  (567, 'Usual Suspects, The (1995)', 1.0),\n",
              "  (177, 'Alice in Wonderland (1951)', 3.5),\n",
              "  (171, 'Hudsucker Proxy, The (1994)', 3.0),\n",
              "  (489, 'Talladega Nights: The Ballad of Ricky Bobby (2006)', 3.0),\n",
              "  (610, 'League of Extraordinary Gentlemen, The (a.k.a. LXG) (2003)', 1.5),\n",
              "  (600, 'Village of the Damned (1995)', 3.5),\n",
              "  (233, 'Girl with the Dragon Tattoo, The (2011)', 3.0),\n",
              "  (183, 'Fifth Element, The (1997)', 2.0),\n",
              "  (47, \"Mr. Holland's Opus (1995)\", 3.0),\n",
              "  (18, 'Michael Clayton (2007)', 4.0),\n",
              "  (91, 'Star Wars: Episode II - Attack of the Clones (2002)', 4.0),\n",
              "  (347, 'Toy Story (1995)', 5.0),\n",
              "  (405, 'American History X (1998)', 3.5),\n",
              "  (220, 'Austin Powers: International Man of Mystery (1997)', 3.5),\n",
              "  (125, 'Her (2013)', 4.0),\n",
              "  (448, 'Minority Report (2002)', 4.0),\n",
              "  (288, 'Desperately Seeking Susan (1985)', 3.0),\n",
              "  (34, 'Truman Show, The (1998)', 2.5),\n",
              "  (520, 'Ghostbusters (a.k.a. Ghost Busters) (1984)', 4.0),\n",
              "  (610, 'Elf (2003)', 3.5),\n",
              "  (222, 'Argo (2012)', 4.5),\n",
              "  (140, 'Finding Forrester (2000)', 3.0),\n",
              "  (599, 'Bring It On (2000)', 2.0),\n",
              "  (168, 'Seven Samurai (Shichinin no samurai) (1954)', 4.5),\n",
              "  (608, 'Batman Forever (1995)', 2.5),\n",
              "  (237,\n",
              "   'Girl with the Dragon Tattoo, The (Män som hatar kvinnor) (2009)',\n",
              "   3.0),\n",
              "  (306, 'The Intern (2015)', 3.0),\n",
              "  (410, 'Thirty-Two Short Films About Glenn Gould (1993)', 5.0),\n",
              "  (254, 'Back to the Future (1985)', 3.5),\n",
              "  (80, 'Watchmen (2009)', 4.0),\n",
              "  (534, 'Rise of the Planet of the Apes (2011)', 4.0),\n",
              "  (217, 'Dr. No (1962)', 3.0),\n",
              "  (469, 'Grosse Pointe Blank (1997)', 4.0),\n",
              "  (318, 'Hurt Locker, The (2008)', 3.5),\n",
              "  (546, 'Léon: The Professional (a.k.a. The Professional) (Léon) (1994)', 3.0),\n",
              "  (483, 'Braveheart (1995)', 4.0),\n",
              "  (140, 'Tender Mercies (1983)', 4.0),\n",
              "  (6, 'Tank Girl (1995)', 1.0),\n",
              "  (448, 'Easy Rider (1969)', 4.0),\n",
              "  (68, 'Teaching Mrs. Tingle (1999)', 3.5),\n",
              "  (306, 'Horrible Bosses (2011)', 4.0),\n",
              "  (325, 'White Balloon, The (Badkonake sefid) (1995)', 4.0),\n",
              "  (290, 'Five Easy Pieces (1970)', 5.0),\n",
              "  (420, 'Bowling for Columbine (2002)', 4.0),\n",
              "  (68, '28 Up (1985)', 4.0),\n",
              "  (177, 'Changeling (2008)', 4.0),\n",
              "  (365, 'Fun with Dick and Jane (2005)', 1.0),\n",
              "  (312, 'Face/Off (1997)', 3.0),\n",
              "  (298, 'Ice Age: Dawn of the Dinosaurs (2009)', 0.5),\n",
              "  (174, 'Ace Ventura: Pet Detective (1994)', 5.0),\n",
              "  (357, 'Ghost (1990)', 3.5),\n",
              "  (140, 'Backdraft (1991)', 3.0),\n",
              "  (561, 'E.T. the Extra-Terrestrial (1982)', 4.5),\n",
              "  (132, \"William Shakespeare's Romeo + Juliet (1996)\", 3.0),\n",
              "  (156, 'Unbearable Lightness of Being, The (1988)', 3.0),\n",
              "  (20,\n",
              "   \"Endurance: Shackleton's Legendary Antarctic Expedition, The (2000)\",\n",
              "   3.5),\n",
              "  (608, 'Made (2001)', 3.0),\n",
              "  (560, 'Snowpiercer (2013)', 2.0),\n",
              "  (45, 'High Fidelity (2000)', 4.0),\n",
              "  (474, 'Everest (1998)', 4.0),\n",
              "  (560, 'Joyeux Noël (Merry Christmas) (2005)', 3.5),\n",
              "  (19, 'Idle Hands (1999)', 4.0),\n",
              "  (17, 'American History X (1998)', 4.5),\n",
              "  (580, 'Wedding Crashers (2005)', 1.5),\n",
              "  (233, 'Monty Python and the Holy Grail (1975)', 3.0),\n",
              "  (307, 'Brothers Grimm, The (2005)', 0.5),\n",
              "  (448, 'Brave (2012)', 3.0),\n",
              "  (68, 'Coraline (2009)', 3.0),\n",
              "  (432, 'Blind Side, The  (2009)', 3.5),\n",
              "  (150, 'Sabrina (1995)', 3.0),\n",
              "  (57, 'Honey, I Shrunk the Kids (1989)', 3.0),\n",
              "  (64, 'Lock, Stock & Two Smoking Barrels (1998)', 3.5),\n",
              "  (280, 'Goonies, The (1985)', 4.0),\n",
              "  (32, 'Truth About Cats & Dogs, The (1996)', 4.0),\n",
              "  (21, 'National Treasure (2004)', 4.0),\n",
              "  (125, 'The Hunger Games (2012)', 2.0),\n",
              "  (177, 'Grindhouse (2007)', 2.5),\n",
              "  (414, 'Maria Full of Grace (Maria, Llena eres de gracia) (2004)', 4.0),\n",
              "  (274, 'Brothers Grimm, The (2005)', 1.0),\n",
              "  (319, 'Love Actually (2003)', 4.0),\n",
              "  (181, 'Dances with Wolves (1990)', 3.0),\n",
              "  (606, 'Brokeback Mountain (2005)', 4.5),\n",
              "  (422, 'Men of Honor (2000)', 4.0),\n",
              "  (153, '10 Things I Hate About You (1999)', 1.0),\n",
              "  (4, 'Corrina, Corrina (1994)', 3.0),\n",
              "  (361, 'Pirates of the Caribbean: The Curse of the Black Pearl (2003)', 3.5),\n",
              "  (448, 'Bruce Almighty (2003)', 3.0),\n",
              "  (610, 'Abraham Lincoln: Vampire Hunter (2012)', 2.5),\n",
              "  (437, 'Father of the Bride Part II (1995)', 2.0),\n",
              "  (380, 'About a Boy (2002)', 4.0),\n",
              "  (231, 'American Beauty (1999)', 4.0),\n",
              "  (599, 'Family Business (1989)', 2.0),\n",
              "  (260, 'Lost in Translation (2003)', 4.0),\n",
              "  (593, 'Midnight in the Garden of Good and Evil (1997)', 3.0),\n",
              "  (244, 'Year of Living Dangerously, The (1982)', 5.0),\n",
              "  (530, 'Piano, The (1993)', 3.0),\n",
              "  (294, 'Santa Clause, The (1994)', 2.0),\n",
              "  (426, 'Simpsons Movie, The (2007)', 3.0),\n",
              "  (199, 'Three Colors: Blue (Trois couleurs: Bleu) (1993)', 2.0),\n",
              "  (381, 'Lord of the Rings: The Return of the King, The (2003)', 4.0),\n",
              "  (105, 'K-PAX (2001)', 5.0),\n",
              "  (509, 'Night at the Museum: Battle of the Smithsonian (2009)', 3.0),\n",
              "  (211, 'Bourne Identity, The (2002)', 4.0),\n",
              "  (51, 'Super Size Me (2004)', 5.0),\n",
              "  (275, 'Magnolia (1999)', 1.0),\n",
              "  (177, 'Ice Age 2: The Meltdown (2006)', 2.5),\n",
              "  (534, 'Despicable Me (2010)', 4.5),\n",
              "  (599, 'Killing Fields, The (1984)', 3.0),\n",
              "  (292, 'Lady and the Tramp (1955)', 3.0),\n",
              "  (111, 'Why Him? (2016)', 4.5),\n",
              "  (165, 'Speed (1994)', 4.0),\n",
              "  (559, 'Jury Duty (1995)', 1.0),\n",
              "  (23, 'Seventh Seal, The (Sjunde inseglet, Det) (1957)', 4.0),\n",
              "  (488, 'Harry Potter and the Prisoner of Azkaban (2004)', 5.0),\n",
              "  (555, 'Clueless (1995)', 4.0),\n",
              "  (603, 'My Fair Lady (1964)', 5.0),\n",
              "  (260, 'Prophecy, The (1995)', 4.0),\n",
              "  (274, 'Mission: Impossible (1996)', 3.5),\n",
              "  (8, 'Interview with the Vampire: The Vampire Chronicles (1994)', 5.0),\n",
              "  (116, 'Dirty Dancing (1987)', 4.5),\n",
              "  (104, \"She's All That (1999)\", 3.0),\n",
              "  (182, 'Salvador (1986)', 4.5),\n",
              "  (525, 'Star Trek (2009)', 3.0),\n",
              "  (469, 'Killing Fields, The (1984)', 4.0),\n",
              "  (563, 'Dirty Dancing: Havana Nights (2004)', 2.5),\n",
              "  (493, 'Terminator, The (1984)', 4.0),\n",
              "  (244, 'Rob Roy (1995)', 5.0),\n",
              "  (201, 'Sound of Music, The (1965)', 4.0),\n",
              "  (279, 'Fargo (1996)', 2.0),\n",
              "  (307, 'Harlem Nights (1989)', 3.0),\n",
              "  (534, 'Minority Report (2002)', 4.5),\n",
              "  (91, \"St. Elmo's Fire (1985)\", 2.5),\n",
              "  (561,\n",
              "   \"European Vacation (aka National Lampoon's European Vacation) (1985)\",\n",
              "   3.0),\n",
              "  (298, 'Observe and Report (2009)', 0.5),\n",
              "  (227, 'Slumdog Millionaire (2008)', 4.5),\n",
              "  (280, 'Ace Ventura: Pet Detective (1994)', 3.0),\n",
              "  (62, 'Looper (2012)', 4.0),\n",
              "  (288, 'Kill Bill: Vol. 2 (2004)', 4.0),\n",
              "  (414, 'Iron Man (2008)', 4.0),\n",
              "  (462, 'Pulp Fiction (1994)', 2.5),\n",
              "  (357, 'Jesus Camp (2006)', 5.0),\n",
              "  (274, 'Rambo: First Blood Part II (1985)', 3.5),\n",
              "  (484, 'Lost Boys, The (1987)', 4.0),\n",
              "  (380, 'X-Men: Apocalypse (2016)', 3.0),\n",
              "  (111, 'Confessions of a Dangerous Mind (2002)', 4.0),\n",
              "  (448, 'King Kong (1933)', 5.0),\n",
              "  (292, 'Rocky Horror Picture Show, The (1975)', 1.0),\n",
              "  (132, 'Cinema Paradiso (Nuovo cinema Paradiso) (1989)', 4.0),\n",
              "  (414, 'Bambi (1942)', 4.0),\n",
              "  (610, 'Silence of the Lambs, The (1991)', 4.5),\n",
              "  (288, 'Clan of the Cave Bear, The (1986)', 2.0),\n",
              "  (474, 'Silence of the Lambs, The (1991)', 4.5),\n",
              "  (133, 'Clerks (1994)', 3.0),\n",
              "  (385, 'M*A*S*H (a.k.a. MASH) (1970)', 3.0),\n",
              "  (222, 'Usual Suspects, The (1995)', 3.0),\n",
              "  (177, 'Dungeons & Dragons (2000)', 0.5),\n",
              "  (448, 'Blackhat (2015)', 2.0),\n",
              "  (390, 'Alfie (1966)', 2.5),\n",
              "  (408, 'Prometheus (2012)', 2.0),\n",
              "  (221, 'Eternal Sunshine of the Spotless Mind (2004)', 4.0),\n",
              "  (414, 'Waterdance, The (1992)', 4.0),\n",
              "  (198, 'Jurassic Park (1993)', 3.0),\n",
              "  (387, 'Halloween (2007)', 3.0),\n",
              "  (313, 'Star Wars: Episode I - The Phantom Menace (1999)', 2.0),\n",
              "  (144, 'Magdalene Sisters, The (2002)', 3.5),\n",
              "  (37, 'Forrest Gump (1994)', 4.0),\n",
              "  (140, 'Odessa File, The (1974)', 4.0),\n",
              "  (64, 'Muppet Movie, The (1979)', 4.0),\n",
              "  (232, 'Welcome to Mooseport (2004)', 2.5),\n",
              "  (474, 'Run Lola Run (Lola rennt) (1998)', 4.0),\n",
              "  (131, 'This Is Spinal Tap (1984)', 3.5),\n",
              "  (561, 'Snowpiercer (2013)', 4.0),\n",
              "  (23, 'Cercle Rouge, Le (Red Circle, The) (1970)', 3.0),\n",
              "  (474, 'American in Paris, An (1951)', 3.5),\n",
              "  (534, 'Django Unchained (2012)', 2.0),\n",
              "  (503, 'Tommy (1975)', 4.0),\n",
              "  (484, 'Breakfast Club, The (1985)', 4.0),\n",
              "  (307, 'Bad News Bears, The (1976)', 4.0),\n",
              "  (45, 'D3: The Mighty Ducks (1996)', 2.0),\n",
              "  (381, 'Austin Powers: International Man of Mystery (1997)', 3.0),\n",
              "  (105, 'Manhattan (1979)', 5.0),\n",
              "  (68, 'Star Wars: Episode VI - Return of the Jedi (1983)', 5.0),\n",
              "  (443, 'Inception (2010)', 1.0),\n",
              "  (354, 'Being John Malkovich (1999)', 3.5),\n",
              "  (64, 'Boyz N the Hood (1991)', 4.0),\n",
              "  (64, 'Team America: World Police (2004)', 5.0),\n",
              "  (89, 'Shop Around the Corner, The (1940)', 2.0),\n",
              "  (274, 'Bug (2007)', 4.0),\n",
              "  (381, 'Serenity (2005)', 3.5),\n",
              "  (605, \"All the President's Men (1976)\", 4.0),\n",
              "  (68, 'Dumbo (1941)', 2.5),\n",
              "  (509, 'Coraline (2009)', 4.0),\n",
              "  (610, '127 Hours (2010)', 4.0),\n",
              "  (246, \"Pirates of the Caribbean: At World's End (2007)\", 4.5),\n",
              "  (136, 'Vampire in Brooklyn (1995)', 4.0),\n",
              "  (288, 'Fistful of Dollars, A (Per un pugno di dollari) (1964)', 3.5),\n",
              "  (232, 'Mulan (1998)', 3.5),\n",
              "  (132, 'Talk to Her (Hable con Ella) (2002)', 3.5),\n",
              "  (27, 'James and the Giant Peach (1996)', 3.0),\n",
              "  (58, 'Nell (1994)', 4.0),\n",
              "  (45, 'Toy Story 2 (1999)', 5.0),\n",
              "  (356, 'Choke (2008)', 3.0),\n",
              "  (219, 'Legend of Drunken Master, The (Jui kuen II) (1994)', 4.0),\n",
              "  (68, 'Keeping the Faith (2000)', 4.0),\n",
              "  (590, 'Shrek 2 (2004)', 3.5),\n",
              "  (22, 'Monsters, Inc. (2001)', 3.5),\n",
              "  (221, 'In Cold Blood (1967)', 4.0),\n",
              "  (111, \"Family Guy Presents: It's a Trap (2010)\", 4.0),\n",
              "  (280, 'Jerry Maguire (1996)', 4.5),\n",
              "  (608, 'Coneheads (1993)', 0.5),\n",
              "  (599, 'Interview with the Vampire: The Vampire Chronicles (1994)', 3.0),\n",
              "  (523, 'Forrest Gump (1994)', 4.5),\n",
              "  (474, 'The Count of Monte Cristo (2002)', 4.0),\n",
              "  (64,\n",
              "   'Tae Guk Gi: The Brotherhood of War (Taegukgi hwinalrimyeo) (2004)',\n",
              "   4.5),\n",
              "  (582, 'Despicable Me (2010)', 5.0),\n",
              "  (559, 'Nine Months (1995)', 3.0),\n",
              "  (216, 'Mission: Impossible (1996)', 2.0),\n",
              "  (498, 'Batman (1989)', 3.0),\n",
              "  (467, 'Shine (1996)', 4.0),\n",
              "  (262, 'Madness of King George, The (1994)', 5.0),\n",
              "  (28, 'Duck Soup (1933)', 4.0),\n",
              "  (387, 'May (2002)', 3.5),\n",
              "  (170, 'Ghost (1990)', 4.0),\n",
              "  (555, 'My Favorite Martian (1999)', 2.0),\n",
              "  (249, \"We're the Millers (2013)\", 3.5),\n",
              "  (161, 'Lady and the Tramp (1955)', 3.5),\n",
              "  (305, 'Next (2007)', 4.0),\n",
              "  (182, 'Ice Storm, The (1997)', 4.5),\n",
              "  (311, 'Cry, the Beloved Country (1995)', 3.5),\n",
              "  (51, 'Mummy, The (1959)', 3.0),\n",
              "  (564, 'Miss March (2009)', 4.5),\n",
              "  (517, 'P.S. I Love You (2007)', 2.0),\n",
              "  (172, 'Scrooged (1988)', 5.0),\n",
              "  (380, 'Bullitt (1968)', 3.0),\n",
              "  (425, 'Finding Neverland (2004)', 4.0),\n",
              "  (68, 'Motorcycle Diaries, The (Diarios de motocicleta) (2004)', 4.0),\n",
              "  (332, 'All the Right Moves (1983)', 2.5),\n",
              "  (117, 'Junior (1994)', 3.0),\n",
              "  (249, 'Eternal Sunshine of the Spotless Mind (2004)', 4.0),\n",
              "  (573, 'Mummy, The (1999)', 5.0),\n",
              "  (483, 'Mask, The (1994)', 3.0),\n",
              "  (201, 'So I Married an Axe Murderer (1993)', 5.0),\n",
              "  (231, 'Back to the Future (1985)', 4.0),\n",
              "  (62, \"Pirates of the Caribbean: Dead Man's Chest (2006)\", 4.5),\n",
              "  (601, 'Memento (2000)', 5.0),\n",
              "  (7, 'Die Hard: With a Vengeance (1995)', 4.0),\n",
              "  (354, 'I Am Legend (2007)', 3.0),\n",
              "  (448, 'Everything or Nothing: The Untold Story of 007 (2012)', 3.0),\n",
              "  (499, 'Dracula (1931)', 2.5),\n",
              "  (169, 'Dirty Dancing (1987)', 4.5),\n",
              "  (533, 'Conjuring, The (2013)', 5.0),\n",
              "  (584, 'Pulp Fiction (1994)', 3.0),\n",
              "  (469,\n",
              "   'Good, the Bad and the Ugly, The (Buono, il brutto, il cattivo, Il) (1966)',\n",
              "   5.0),\n",
              "  (69, 'Blazing Saddles (1974)', 5.0),\n",
              "  (414, 'Runaway Bride (1999)', 1.0),\n",
              "  (452, 'Lost Boys, The (1987)', 5.0),\n",
              "  (1, 'Planet of the Apes (1968)', 5.0),\n",
              "  (182, 'Stalingrad (1993)', 4.0),\n",
              "  (597, 'That Thing You Do! (1996)', 4.0),\n",
              "  (105, 'Evolution (2001)', 4.0),\n",
              "  (334, 'Casino Royale (2006)', 2.5),\n",
              "  (239, 'Forrest Gump (1994)', 5.0),\n",
              "  (177, \"Who's Afraid of Virginia Woolf? (1966)\", 4.0),\n",
              "  (425, 'Rounders (1998)', 4.0),\n",
              "  (411, 'Boomerang (1992)', 2.0),\n",
              "  (610, 'Dr. Dolittle 2 (2001)', 2.0),\n",
              "  (249, 'Alpha Dog (2007)', 3.5),\n",
              "  (256, 'Sweet November (2001)', 4.0),\n",
              "  (15, '28 Days Later (2002)', 3.5),\n",
              "  (29, 'Frost/Nixon (2008)', 4.5),\n",
              "  (274, 'Pokémon 3: The Movie (2001)', 3.0),\n",
              "  (233, 'Hangover, The (2009)', 3.0),\n",
              "  (555, 'Mr. Mom (1983)', 3.0),\n",
              "  (288, \"Ocean's Eleven (2001)\", 3.5),\n",
              "  (217, 'View to a Kill, A (1985)', 3.0),\n",
              "  (57, 'Mummy, The (1999)', 3.0),\n",
              "  (443, 'Fight Club (1999)', 4.0),\n",
              "  (125, 'Mad Max: Fury Road (2015)', 4.5),\n",
              "  (105, 'Conformist, The (Conformista, Il) (1970)', 3.5),\n",
              "  (387, 'Who Framed Roger Rabbit? (1988)', 3.5),\n",
              "  (279, 'Oblivion (2013)', 3.0),\n",
              "  (438, 'Romeo Must Die (2000)', 2.5),\n",
              "  (610, 'Blue Velvet (1986)', 5.0),\n",
              "  (563, 'Hercules (1997)', 3.5),\n",
              "  (474, 'American Tail, An (1986)', 2.0),\n",
              "  (462, 'Hobbit: An Unexpected Journey, The (2012)', 3.5),\n",
              "  (160, 'Armageddon (1998)', 1.0),\n",
              "  (57, 'Moonraker (1979)', 2.0),\n",
              "  (599, 'Place Beyond the Pines, The (2012)', 3.0),\n",
              "  (221, 'Tootsie (1982)', 4.0),\n",
              "  (286, 'Pulp Fiction (1994)', 5.0),\n",
              "  (568, 'Messenger: The Story of Joan of Arc, The (1999)', 4.0),\n",
              "  (249, 'Blues Brothers, The (1980)', 4.0),\n",
              "  (561, 'The Hunger Games: Mockingjay - Part 1 (2014)', 2.5),\n",
              "  (135, 'Deep Impact (1998)', 2.0),\n",
              "  (282, 'Austin Powers: International Man of Mystery (1997)', 4.5),\n",
              "  (599, 'Casino Royale (2006)', 3.0),\n",
              "  (247, 'Saving Private Ryan (1998)', 4.0),\n",
              "  (414, 'Men of Honor (2000)', 3.0),\n",
              "  (73, 'Avengers, The (2012)', 4.0),\n",
              "  (77, 'Inception (2010)', 2.5),\n",
              "  (469, 'Star Trek: Generations (1994)', 2.0),\n",
              "  (105, 'Patton (1970)', 3.5),\n",
              "  (33, 'Rainmaker, The (1997)', 3.0),\n",
              "  (365, 'Ghostbusters (a.k.a. Ghost Busters) (1984)', 3.0),\n",
              "  (112, 'Nightmare Before Christmas, The (1993)', 3.5),\n",
              "  (220, 'I, Robot (2004)', 4.0),\n",
              "  (293, 'Thinner (1996)', 2.0),\n",
              "  (606, 'Inferno (1980)', 3.5),\n",
              "  (263, 'Monsters, Inc. (2001)', 4.5),\n",
              "  (318, 'Chicken Run (2000)', 3.5),\n",
              "  (241, 'Old Boy (2003)', 3.5),\n",
              "  (514, 'Untouchables, The (1987)', 4.0),\n",
              "  (226, 'Grease (1978)', 2.5),\n",
              "  (594, 'Mummy, The (1999)', 3.5),\n",
              "  (28, 'Fargo (1996)', 3.0),\n",
              "  (310, 'Shrek (2001)', 3.5),\n",
              "  (41, 'Requiem for a Dream (2000)', 4.0),\n",
              "  (249, 'Killing Them Softly (2012)', 3.5),\n",
              "  (391, 'Psycho (1960)', 5.0),\n",
              "  (495, 'Austin Powers: The Spy Who Shagged Me (1999)', 5.0),\n",
              "  (282, 'Casino Royale (2006)', 4.0),\n",
              "  (603, 'Carnal Knowledge (1971)', 4.0),\n",
              "  (249, 'Minority Report (2002)', 4.0),\n",
              "  (226, 'Talladega Nights: The Ballad of Ricky Bobby (2006)', 2.5),\n",
              "  (448, 'Adventures of Pluto Nash, The (2002)', 2.0),\n",
              "  (560, 'Finding Neverland (2004)', 3.5),\n",
              "  (108, 'Mrs. Dalloway (1997)', 5.0),\n",
              "  (567, 'Here Comes the Boom (2012)', 1.5),\n",
              "  (45, 'Dogma (1999)', 4.0),\n",
              "  (220, 'Patriot, The (2000)', 4.5),\n",
              "  (599, 'Hamlet (2000)', 2.5),\n",
              "  (414, 'Nacho Libre (2006)', 2.5),\n",
              "  (520, \"Dr. Horrible's Sing-Along Blog (2008)\", 5.0),\n",
              "  (105, 'Fargo (1996)', 4.0),\n",
              "  (387, 'Duplex (2003)', 2.0),\n",
              "  (597, 'Melvin and Howard (1980)', 4.0),\n",
              "  (249, '21 (2008)', 3.5),\n",
              "  (187, 'Usual Suspects, The (1995)', 4.5),\n",
              "  (68, 'Zombie Strippers! (2008)', 0.5),\n",
              "  (489, 'Freddy vs. Jason (2003)', 1.0),\n",
              "  (163, 'In & Out (1997)', 3.0),\n",
              "  (483, 'Being John Malkovich (1999)', 5.0),\n",
              "  (587, 'Bonfire of the Vanities (1990)', 4.0),\n",
              "  (603, 'Mission: Impossible II (2000)', 3.0),\n",
              "  (188, 'Dial M for Murder (1954)', 4.0),\n",
              "  (234, 'Richie Rich (1994)', 1.0),\n",
              "  (140, 'Shaggy Dog, The (2006)', 1.0),\n",
              "  (222, 'Shall We Dance? (Shall We Dansu?) (1996)', 3.0),\n",
              "  (91, 'Black Mask (Hak hap) (1996)', 3.5),\n",
              "  (599, 'Ghostbusters (a.k.a. Ghost Busters) (1984)', 4.5),\n",
              "  (560, 'Shanghai Knights (2003)', 2.0),\n",
              "  (318, \"Hitchhiker's Guide to the Galaxy, The (2005)\", 4.0),\n",
              "  (610, 'Godzilla (2014)', 3.5),\n",
              "  (64, \"My Best Friend's Wedding (1997)\", 2.5),\n",
              "  (179, 'Waterworld (1995)', 3.0),\n",
              "  (230, 'Austin Powers: The Spy Who Shagged Me (1999)', 0.5),\n",
              "  (57, 'Willow (1988)', 3.0),\n",
              "  (486, 'Braveheart (1995)', 5.0),\n",
              "  (249, 'Star Trek (2009)', 4.0),\n",
              "  (448, 'Backdraft (1991)', 4.0),\n",
              "  (217, 'Bull Durham (1988)', 2.0),\n",
              "  (67, 'Monsters, Inc. (2001)', 4.5),\n",
              "  (318, 'Partly Cloudy (2009)', 4.5),\n",
              "  (89, 'Charlie and the Chocolate Factory (2005)', 2.0),\n",
              "  (599, 'Outbreak (1995)', 3.0),\n",
              "  (422, 'Sunset Blvd. (a.k.a. Sunset Boulevard) (1950)', 5.0),\n",
              "  (380, 'Muppets, The (2011)', 5.0),\n",
              "  (489, 'Meet Joe Black (1998)', 1.0),\n",
              "  (325, 'Shanghai Triad (Yao a yao yao dao waipo qiao) (1995)', 4.0),\n",
              "  (529, 'Spy Hard (1996)', 3.0),\n",
              "  (483, 'Frighteners, The (1996)', 4.0),\n",
              "  (313, 'Spaceballs (1987)', 2.0),\n",
              "  (381, 'Life Aquatic with Steve Zissou, The (2004)', 2.0),\n",
              "  (305, 'Day After Tomorrow, The (2004)', 4.0),\n",
              "  (285, 'Twin Peaks: Fire Walk with Me (1992)', 3.0),\n",
              "  (182, 'Garden State (2004)', 4.5),\n",
              "  (448, 'Insomnia (2002)', 3.5),\n",
              "  (101, 'Bowfinger (1999)', 2.0),\n",
              "  (562, 'Angst  (1983)', 3.5),\n",
              "  (217, 'No Mercy (1986)', 2.0),\n",
              "  (608,\n",
              "   'Dr. Strangelove or: How I Learned to Stop Worrying and Love the Bomb (1964)',\n",
              "   4.0),\n",
              "  (534, 'Night at the Museum (2006)', 4.0),\n",
              "  (378, 'Prestige, The (2006)', 5.0),\n",
              "  (140, 'Jurassic Park (1993)', 4.0),\n",
              "  (414, 'Michael (1996)', 1.0),\n",
              "  (89, \"Family Guy Presents: It's a Trap (2010)\", 5.0),\n",
              "  (567, 'World War Z (2013)', 1.5),\n",
              "  (560, 'Antichrist (2009)', 4.0),\n",
              "  (240, 'Disclosure (1994)', 4.0),\n",
              "  (57, 'Thunderbolt and Lightfoot (1974)', 4.0),\n",
              "  (112, 'Jerry Maguire (1996)', 4.0),\n",
              "  (606, 'Barbarian Invasions, The (Les invasions barbares) (2003)', 4.5),\n",
              "  (610, 'Family Man, The (2000)', 3.0),\n",
              "  (432, 'Toy Story 2 (1999)', 2.0),\n",
              "  (62, 'Cars (2006)', 3.0),\n",
              "  (117, 'Silence of the Lambs, The (1991)', 5.0),\n",
              "  (448, 'Terminator 3: Rise of the Machines (2003)', 1.5),\n",
              "  (104, 'Four Weddings and a Funeral (1994)', 5.0),\n",
              "  (21, 'Predator 2 (1990)', 2.5),\n",
              "  (356, 'SLC Punk! (1998)', 4.0),\n",
              "  (478, 'Who Framed Roger Rabbit? (1988)', 2.5),\n",
              "  (103, 'Dead Man Walking (1995)', 4.0),\n",
              "  (103, 'Citizen Kane (1941)', 4.0),\n",
              "  (168, 'Touching the Void (2003)', 5.0),\n",
              "  (436, 'Client, The (1994)', 4.0),\n",
              "  (523, 'The Imitation Game (2014)', 5.0),\n",
              "  (292, 'Braveheart (1995)', 2.5),\n",
              "  (167, 'Cable Guy, The (1996)', 0.5),\n",
              "  (594, 'Dirty Dancing: Havana Nights (2004)', 4.5),\n",
              "  (362, 'Deer Hunter, The (1978)', 4.5),\n",
              "  (202, 'Long Kiss Goodnight, The (1996)', 3.0),\n",
              "  (168, \"Divorce - Italian Style (Divorzio all'italiana) (1961)\", 5.0),\n",
              "  (232, 'Road to El Dorado, The (2000)', 3.0),\n",
              "  (117, 'Dumb & Dumber (Dumb and Dumber) (1994)', 2.0),\n",
              "  (309, 'Mr. Smith Goes to Washington (1939)', 2.5),\n",
              "  (89, 'American President, The (1995)', 2.5),\n",
              "  (372, 'Léon: The Professional (a.k.a. The Professional) (Léon) (1994)', 4.0),\n",
              "  (51, 'Little Shop of Horrors (1986)', 3.0),\n",
              "  (82, 'Police Academy 3: Back in Training (1986)', 3.0),\n",
              "  (535, 'Mickey Blue Eyes (1999)', 1.0),\n",
              "  (541, 'Ace Ventura: Pet Detective (1994)', 3.0),\n",
              "  (336, 'Toy Story 2 (1999)', 4.0),\n",
              "  (606, 'Eat Drink Man Woman (Yin shi nan nu) (1994)', 5.0),\n",
              "  (483, 'Monuments Men, The (2014)', 3.5),\n",
              "  (313, 'Splash (1984)', 1.0),\n",
              "  (342, 'Civil Action, A (1998)', 3.0),\n",
              "  (610, 'Mechanic, The (2011)', 3.0),\n",
              "  (437, 'Forrest Gump (1994)', 3.0),\n",
              "  (393, 'Memento (2000)', 5.0),\n",
              "  (73, '2012 (2009)', 2.0),\n",
              "  (610, 'Seven Psychopaths (2012)', 3.5),\n",
              "  (209, 'American Beauty (1999)', 4.5),\n",
              "  (381, 'Wedding Planner, The (2001)', 2.0),\n",
              "  (600, 'Cry-Baby (1990)', 4.0),\n",
              "  (330, 'Lord of the Rings: The Two Towers, The (2002)', 4.0),\n",
              "  (610, 'The Lobster (2015)', 4.5),\n",
              "  (232, 'Lara Croft Tomb Raider: The Cradle of Life (2003)', 3.0),\n",
              "  (414, 'In Bruges (2008)', 4.5),\n",
              "  (448, 'Footloose (1984)', 3.0),\n",
              "  (18, 'Mrs. Doubtfire (1993)', 3.5),\n",
              "  (265, 'Terminator, The (1984)', 5.0),\n",
              "  (160, 'Casper (1995)', 3.0),\n",
              "  (132, \"What's Eating Gilbert Grape (1993)\", 3.0),\n",
              "  (489, 'Last Action Hero (1993)', 2.5),\n",
              "  (51, 'Manchurian Candidate, The (1962)', 4.0),\n",
              "  (377, 'Army of Darkness (1993)', 5.0),\n",
              "  (412, 'Gods Must Be Crazy, The (1980)', 4.0),\n",
              "  (7, 'Hunt for Red October, The (1990)', 4.0),\n",
              "  (141, 'Fight Club (1999)', 5.0),\n",
              "  (28, 'Alpha Dog (2007)', 2.0),\n",
              "  (521, 'Dead Man Walking (1995)', 4.0),\n",
              "  (153, 'The Wait (2015)', 3.5),\n",
              "  (199, 'Star Trek: First Contact (1996)', 3.5),\n",
              "  (219, 'Old School (2003)', 2.5),\n",
              "  (610, 'Winners and Sinners (Qi mou miao ji: Wu fu xing) (1983)', 3.0),\n",
              "  (489, 'The Scorpion King (2002)', 3.0),\n",
              "  (453, 'Being John Malkovich (1999)', 5.0),\n",
              "  (290, 'Chariots of Fire (1981)', 4.0),\n",
              "  (313, 'Invasion of the Body Snatchers (1956)', 3.0),\n",
              "  (607, 'Lethal Weapon (1987)', 5.0),\n",
              "  (540, 'Star Wars: Episode IV - A New Hope (1977)', 5.0),\n",
              "  (139, 'Star Trek Into Darkness (2013)', 2.0),\n",
              "  (482, 'Rain Man (1988)', 3.0),\n",
              "  (603, 'Fury, The (1978)', 4.0),\n",
              "  (19, 'Coyote Ugly (2000)', 3.0),\n",
              "  (283, 'Grosse Pointe Blank (1997)', 2.0),\n",
              "  (493, 'King Kong (1933)', 2.0),\n",
              "  (380, 'Moon (2009)', 5.0),\n",
              "  (290, 'Babe: Pig in the City (1998)', 3.0),\n",
              "  (325, 'Mary Poppins (1964)', 4.0),\n",
              "  (199, 'Million Dollar Baby (2004)', 4.0),\n",
              "  (577, 'Breakfast Club, The (1985)', 3.0),\n",
              "  (29, 'Days of Thunder (1990)', 3.5),\n",
              "  (489, 'Back to the Future (1985)', 3.5),\n",
              "  (249, 'Grosse Pointe Blank (1997)', 4.0),\n",
              "  (244, \"Smilla's Sense of Snow (1997)\", 4.0),\n",
              "  (143, '27 Dresses (2008)', 3.0),\n",
              "  (168, 'Key Largo (1948)', 4.5),\n",
              "  (405, 'Into the Wild (2007)', 4.5),\n",
              "  (117, 'GoldenEye (1995)', 3.0),\n",
              "  (318, 'Beautiful Mind, A (2001)', 3.5),\n",
              "  (368, 'Indiana Jones and the Last Crusade (1989)', 2.0),\n",
              "  (305, 'Pitch Black (2000)', 3.0),\n",
              "  (307, 'Thing, The (1982)', 4.0),\n",
              "  (307, 'League of Their Own, A (1992)', 2.5),\n",
              "  (586, 'Rise of the Guardians (2012)', 5.0),\n",
              "  (534, 'Pan (2015)', 3.0),\n",
              "  (479, 'Star Wars: Episode II - Attack of the Clones (2002)', 1.0),\n",
              "  (599, 'Armour of God (Long xiong hu di) (1987)', 2.5),\n",
              "  (380, 'Laputa: Castle in the Sky (Tenkû no shiro Rapyuta) (1986)', 5.0),\n",
              "  (42, 'Bring It On (2000)', 2.0),\n",
              "  (29, 'Black Hawk Down (2001)', 4.0),\n",
              "  (160, 'Panic (2000)', 5.0),\n",
              "  (6, 'Tom and Huck (1995)', 3.0),\n",
              "  (184, 'Limitless (2011)', 4.5),\n",
              "  (600, 'Billy Madison (1995)', 3.0),\n",
              "  (91, 'Night Shift (1982)', 2.5),\n",
              "  (111, 'Gothika (2003)', 0.5),\n",
              "  (432, 'Da Vinci Code, The (2006)', 4.0),\n",
              "  (82, \"My Boss's Daughter (2003)\", 4.0),\n",
              "  (352, 'Big Hero 6 (2014)', 4.5),\n",
              "  (561, 'Top Secret! (1984)', 4.0),\n",
              "  (572, 'Spanish Prisoner, The (1997)', 4.0),\n",
              "  (495, 'Straight Outta Compton (2015)', 5.0),\n",
              "  (217,\n",
              "   'Good, the Bad and the Ugly, The (Buono, il brutto, il cattivo, Il) (1966)',\n",
              "   1.0),\n",
              "  (16,\n",
              "   'Good, the Bad and the Ugly, The (Buono, il brutto, il cattivo, Il) (1966)',\n",
              "   3.0),\n",
              "  (298, 'Incredible Hulk, The (2008)', 2.5),\n",
              "  (590, 'Psycho (1960)', 5.0),\n",
              "  (489, 'Kalifornia (1993)', 1.5),\n",
              "  (390, 'Boy A (2007)', 4.0),\n",
              "  (411, 'Maverick (1994)', 4.0),\n",
              "  (42, 'Client, The (1994)', 4.0),\n",
              "  (19, 'Young Doctors in Love (1982)', 2.0),\n",
              "  (29, 'Iron Giant, The (1999)', 3.5),\n",
              "  (606,\n",
              "   'City of Lost Children, The (Cité des enfants perdus, La) (1995)',\n",
              "   4.5),\n",
              "  (368, 'Lethal Weapon 2 (1989)', 3.0),\n",
              "  (596, 'Lilting (2014)', 4.5),\n",
              "  (607, 'Saving Private Ryan (1998)', 5.0),\n",
              "  (122, 'Hancock (2008)', 3.5),\n",
              "  (84, 'Babe (1995)', 4.0),\n",
              "  (318, 'Pelé: Birth of a Legend (2016)', 4.5),\n",
              "  (477, 'Full Metal Jacket (1987)', 5.0),\n",
              "  (337, 'Sgt. Bilko (1996)', 4.0),\n",
              "  (474, 'Nurse Betty (2000)', 3.0),\n",
              "  (177, 'Hoop Dreams (1994)', 3.0),\n",
              "  (169, \"America's Sweethearts (2001)\", 4.5),\n",
              "  (599, 'Chicago (2002)', 2.0),\n",
              "  (509, '(500) Days of Summer (2009)', 2.5),\n",
              "  (352, 'Maze Runner, The (2014)', 4.5),\n",
              "  (563, 'Holiday, The (2006)', 3.5),\n",
              "  (282, 'Bowling for Columbine (2002)', 4.0),\n",
              "  (105, 'Aguirre: The Wrath of God (Aguirre, der Zorn Gottes) (1972)', 3.5),\n",
              "  (249, 'Brothers Grimm, The (2005)', 3.0),\n",
              "  (517, 'Mr. Peabody & Sherman (2014)', 1.0),\n",
              "  (464, 'Last Boy Scout, The (1991)', 4.0),\n",
              "  (253, 'All About My Mother (Todo sobre mi madre) (1999)', 5.0),\n",
              "  (95, 'X-Men (2000)', 4.0),\n",
              "  (560, 'Erin Brockovich (2000)', 3.5),\n",
              "  (51, 'Flashdance (1983)', 2.0),\n",
              "  (486, 'Léon: The Professional (a.k.a. The Professional) (Léon) (1994)', 5.0),\n",
              "  (197, 'Batman Forever (1995)', 2.0),\n",
              "  (559, 'Die Hard: With a Vengeance (1995)', 3.0),\n",
              "  (221, 'Say Anything... (1989)', 4.0),\n",
              "  (95, 'Hulk (2003)', 3.5),\n",
              "  (63, 'Avengers: Age of Ultron (2015)', 4.0),\n",
              "  (517, 'Tootsie (1982)', 1.0),\n",
              "  (393, 'Cast Away (2000)', 5.0),\n",
              "  (346, 'Cinema Paradiso (Nuovo cinema Paradiso) (1989)', 3.0),\n",
              "  (414, 'Match Point (2005)', 3.0),\n",
              "  (210, 'Sapphire Blue (2014)', 4.0),\n",
              "  (307, 'Eyes Wide Shut (1999)', 3.0),\n",
              "  (74, 'Drugstore Cowboy (1989)', 4.0),\n",
              "  (288, 'Earthquake (1974)', 2.0),\n",
              "  (405, 'Eraserhead (1977)', 5.0),\n",
              "  (474, 'Children of the Damned (1963)', 3.5),\n",
              "  (601, 'Princess Bride, The (1987)', 5.0),\n",
              "  (275, 'Before Sunrise (1995)', 5.0),\n",
              "  (306, 'Carrie (2013)', 2.0),\n",
              "  (121, 'Forget Paris (1995)', 4.0),\n",
              "  (169, 'Airplane! (1980)', 4.5),\n",
              "  (318, 'Secretary (2002)', 4.5),\n",
              "  (217, 'Copycat (1995)', 3.0),\n",
              "  (514, 'Aliens (1986)', 5.0),\n",
              "  (51, 'Femme Nikita, La (Nikita) (1990)', 5.0),\n",
              "  (474, 'Full Metal Jacket (1987)', 4.0),\n",
              "  (39, 'Robin Hood: Prince of Thieves (1991)', 4.0),\n",
              "  (603, 'Kagemusha (1980)', 4.0),\n",
              "  (298, 'Tears of the Sun (2003)', 0.5),\n",
              "  (9, 'Ghost Dog: The Way of the Samurai (1999)', 3.0),\n",
              "  (509, 'Campaign, The (2012)', 3.0),\n",
              "  (105, 'Boondock Saints, The (2000)', 4.5),\n",
              "  (599, 'Me, Myself & Irene (2000)', 1.5),\n",
              "  (554, 'Pecker (1998)', 5.0),\n",
              "  (118, 'Dances with Wolves (1990)', 4.0),\n",
              "  (372, 'True Romance (1993)', 4.0),\n",
              "  (318, 'Do the Right Thing (1989)', 3.5),\n",
              "  (316, 'Bedazzled (2000)', 2.5),\n",
              "  (458, 'Pulp Fiction (1994)', 4.0),\n",
              "  (89, 'Rush Hour 2 (2001)', 4.0),\n",
              "  (145, 'Ace Ventura: Pet Detective (1994)', 2.0),\n",
              "  (1, 'Crocodile Dundee (1986)', 5.0),\n",
              "  (561, 'Edge of Tomorrow (2014)', 1.5),\n",
              "  (89, 'The Nice Guys (2016)', 3.5),\n",
              "  (488, 'Crouching Tiger, Hidden Dragon (Wo hu cang long) (2000)', 4.5),\n",
              "  (73, 'Silver Linings Playbook (2012)', 3.5),\n",
              "  (380, 'Braveheart (1995)', 4.0),\n",
              "  (249, 'Pulp Fiction (1994)', 4.0),\n",
              "  (254, 'Mission: Impossible (1996)', 3.5),\n",
              "  (593, 'Erin Brockovich (2000)', 4.0),\n",
              "  (428, 'O (2001)', 4.0),\n",
              "  (522, 'American History X (1998)', 4.5),\n",
              "  (475, 'Bourne Ultimatum, The (2007)', 4.5),\n",
              "  (301, 'When Harry Met Sally... (1989)', 4.0),\n",
              "  (62, \"Pirates of the Caribbean: At World's End (2007)\", 4.5),\n",
              "  (232, 'Matrix Reloaded, The (2003)', 4.0),\n",
              "  (339, 'Gran Torino (2008)', 4.0),\n",
              "  (249, 'Wedding Crashers (2005)', 4.0),\n",
              "  (298, 'Tenacious D in The Pick of Destiny (2006)', 3.0),\n",
              "  (536, 'Little Women (1994)', 5.0),\n",
              "  (6, 'Black Sheep (1996)', 2.0),\n",
              "  (167, 'Batman Begins (2005)', 5.0),\n",
              "  (18, 'Inside Out (2015)', 3.5),\n",
              "  (298, 'Where the Wild Things Are (2009)', 0.5),\n",
              "  (125, 'Green Hornet, The (2011)', 3.0),\n",
              "  (363, 'Lord of the Rings: The Fellowship of the Ring, The (2001)', 3.0),\n",
              "  (294, \"White Men Can't Jump (1992)\", 1.0),\n",
              "  (290, 'Leaving Las Vegas (1995)', 4.0),\n",
              "  (318, 'Argo (2012)', 4.0),\n",
              "  (63, 'Cast Away (2000)', 3.0),\n",
              "  (570, 'Die Hard: With a Vengeance (1995)', 4.0),\n",
              "  (352, 'Pulp Fiction (1994)', 5.0),\n",
              "  (391, 'Billy Elliot (2000)', 1.0),\n",
              "  (462, 'Umberto D. (1952)', 5.0),\n",
              "  (603, 'Backbeat (1993)', 4.0),\n",
              "  (603, 'You Can Count on Me (2000)', 3.0),\n",
              "  (475, 'Doctor Strange (2016)', 4.5),\n",
              "  (480, 'Meet the Fockers (2004)', 2.5),\n",
              "  (64, 'Speed (1994)', 3.0),\n",
              "  (376, 'Ace Ventura: When Nature Calls (1995)', 2.0),\n",
              "  (369, 'Stop Making Sense (1984)', 3.0),\n",
              "  (219, 'Thomas Crown Affair, The (1999)', 3.5),\n",
              "  (242, 'Twelve Monkeys (a.k.a. 12 Monkeys) (1995)', 5.0),\n",
              "  (68, 'American Gangster (2007)', 3.5),\n",
              "  (182, 'Moulin Rouge (2001)', 4.0),\n",
              "  (480, 'Good Night, and Good Luck. (2005)', 3.5),\n",
              "  (6, 'Love Affair (1994)', 3.0),\n",
              "  (216, 'Duck Soup (1933)', 3.0),\n",
              "  (160, \"Astronaut's Wife, The (1999)\", 1.0),\n",
              "  (305, 'Thor: Ragnarok (2017)', 4.5),\n",
              "  (534, 'Shaun of the Dead (2004)', 4.5),\n",
              "  (232, 'Runaway Jury (2003)', 4.0),\n",
              "  (334, \"Ocean's Eleven (2001)\", 3.5),\n",
              "  (438, '15 Minutes (2001)', 3.5),\n",
              "  (294, 'Big Chill, The (1983)', 4.0),\n",
              "  (562, 'Almost Famous (2000)', 4.0),\n",
              "  (603, 'Godfather: Part III, The (1990)', 2.0),\n",
              "  (438, 'Guarding Tess (1994)', 3.5),\n",
              "  (355, 'Titanic (1997)', 4.0),\n",
              "  (398, 'Alice (Neco z Alenky) (1988)', 4.5),\n",
              "  (474, 'My Demon Lover (1987)', 1.0),\n",
              "  (555, 'Running Man, The (1987)', 5.0),\n",
              "  (290, 'Double Happiness (1994)', 4.0),\n",
              "  (318, '40-Year-Old Virgin, The (2005)', 3.5),\n",
              "  (600, \"Sullivan's Travels (1941)\", 5.0),\n",
              "  (583, 'Frozen (2013)', 3.0),\n",
              "  (555, 'Breakdown (1997)', 1.0),\n",
              "  (503, 'Cabaret (1972)', 3.0),\n",
              "  (474, 'Wizard of Oz, The (1939)', 4.5),\n",
              "  (288, 'Elephant Man, The (1980)', 3.0),\n",
              "  (483, 'G.I. Joe: Retaliation (2013)', 2.5),\n",
              "  (307, 'Say Anything... (1989)', 2.5),\n",
              "  (249, '40-Year-Old Virgin, The (2005)', 4.0),\n",
              "  (469, 'Haunting, The (1963)', 5.0),\n",
              "  (368, 'River Wild, The (1994)', 3.0),\n",
              "  (440, 'Doors, The (1991)', 3.0),\n",
              "  (63, 'Hurt Locker, The (2008)', 4.0),\n",
              "  (135, 'Big Lebowski, The (1998)', 4.0),\n",
              "  (66, 'Two Weeks Notice (2002)', 4.0),\n",
              "  (292, 'Clear and Present Danger (1994)', 4.0),\n",
              "  (232, 'Little Nicky (2000)', 2.5),\n",
              "  (189, 'Bourne Ultimatum, The (2007)', 4.5),\n",
              "  (17, 'Matrix, The (1999)', 5.0),\n",
              "  ...],\n",
              " list)"
            ]
          },
          "metadata": {},
          "execution_count": 57
        }
      ]
    },
    {
      "cell_type": "code",
      "source": [
        "# посмотрим на количество\n",
        "dataset['uid'].nunique(), dataset['iid'].nunique()"
      ],
      "metadata": {
        "colab": {
          "base_uri": "https://localhost:8080/"
        },
        "id": "cbDUd1Q6oaWj",
        "outputId": "d1a70af8-895f-4e7a-d755-942dd18ff0e9"
      },
      "execution_count": 58,
      "outputs": [
        {
          "output_type": "execute_result",
          "data": {
            "text/plain": [
              "(610, 9719)"
            ]
          },
          "metadata": {},
          "execution_count": 58
        }
      ]
    },
    {
      "cell_type": "markdown",
      "source": [
        "##Модель KNNWithMeans"
      ],
      "metadata": {
        "id": "vRN672G5x2Ko"
      }
    },
    {
      "cell_type": "code",
      "source": [
        "# построим модель\n",
        "algo = KNNWithMeans(k=50,\n",
        "                    sim_options={'name': 'cosine',\n",
        "                                'user_based': True  # вычисление сходства между пользователями\n",
        "})\n",
        "algo.fit(trainset)"
      ],
      "metadata": {
        "colab": {
          "base_uri": "https://localhost:8080/"
        },
        "id": "TNu3wcL5xXth",
        "outputId": "36e1a7bf-6e66-405b-906c-1d21616ba4f5"
      },
      "execution_count": 31,
      "outputs": [
        {
          "output_type": "stream",
          "name": "stdout",
          "text": [
            "Computing the cosine similarity matrix...\n",
            "Done computing similarity matrix.\n"
          ]
        },
        {
          "output_type": "execute_result",
          "data": {
            "text/plain": [
              "<surprise.prediction_algorithms.knns.KNNWithMeans at 0x78818f596950>"
            ]
          },
          "metadata": {},
          "execution_count": 31
        }
      ]
    },
    {
      "cell_type": "code",
      "source": [
        "# проверим точность\n",
        "test_pred = algo.test(testset)\n",
        "accuracy.rmse(test_pred, verbose=True)"
      ],
      "metadata": {
        "colab": {
          "base_uri": "https://localhost:8080/"
        },
        "id": "DU16QNixxXmW",
        "outputId": "32e8e78f-e70e-453b-f898-d59a666d615d"
      },
      "execution_count": 32,
      "outputs": [
        {
          "output_type": "stream",
          "name": "stdout",
          "text": [
            "RMSE: 0.8959\n"
          ]
        },
        {
          "output_type": "execute_result",
          "data": {
            "text/plain": [
              "0.8959492188641812"
            ]
          },
          "metadata": {},
          "execution_count": 32
        }
      ]
    },
    {
      "cell_type": "code",
      "source": [
        "# сделаем кросс-валидацию\n",
        "cross_validate(algo, data, measures=['RMSE', 'MAE'], cv=5, verbose=True)"
      ],
      "metadata": {
        "colab": {
          "base_uri": "https://localhost:8080/"
        },
        "id": "CIypp-Waxcu-",
        "outputId": "aff1f575-d4b7-4860-abfb-ea4dc8fb40f6"
      },
      "execution_count": 33,
      "outputs": [
        {
          "output_type": "stream",
          "name": "stdout",
          "text": [
            "Computing the cosine similarity matrix...\n",
            "Done computing similarity matrix.\n",
            "Computing the cosine similarity matrix...\n",
            "Done computing similarity matrix.\n",
            "Computing the cosine similarity matrix...\n",
            "Done computing similarity matrix.\n",
            "Computing the cosine similarity matrix...\n",
            "Done computing similarity matrix.\n",
            "Computing the cosine similarity matrix...\n",
            "Done computing similarity matrix.\n",
            "Evaluating RMSE, MAE of algorithm KNNWithMeans on 5 split(s).\n",
            "\n",
            "                  Fold 1  Fold 2  Fold 3  Fold 4  Fold 5  Mean    Std     \n",
            "RMSE (testset)    0.9016  0.8950  0.9139  0.8948  0.9001  0.9011  0.0070  \n",
            "MAE (testset)     0.6903  0.6849  0.6970  0.6865  0.6877  0.6893  0.0043  \n",
            "Fit time          0.17    0.20    0.30    0.20    0.20    0.22    0.05    \n",
            "Test time         1.69    1.93    2.41    1.63    1.77    1.89    0.28    \n"
          ]
        },
        {
          "output_type": "execute_result",
          "data": {
            "text/plain": [
              "{'test_rmse': array([0.90156213, 0.89495464, 0.91390576, 0.89480602, 0.90012097]),\n",
              " 'test_mae': array([0.69028161, 0.68485976, 0.69699517, 0.68646358, 0.68767575]),\n",
              " 'fit_time': (0.170823335647583,\n",
              "  0.20039629936218262,\n",
              "  0.3020963668823242,\n",
              "  0.2044064998626709,\n",
              "  0.19779062271118164),\n",
              " 'test_time': (1.6947476863861084,\n",
              "  1.932077169418335,\n",
              "  2.407285690307617,\n",
              "  1.6273205280303955,\n",
              "  1.7670130729675293)}"
            ]
          },
          "metadata": {},
          "execution_count": 33
        }
      ]
    },
    {
      "cell_type": "markdown",
      "source": [
        "Подберем более оптимальные параметры"
      ],
      "metadata": {
        "id": "ytBsh6rQ1WQQ"
      }
    },
    {
      "cell_type": "code",
      "source": [
        "from surprise import KNNWithMeans\n",
        "from surprise.model_selection import GridSearchCV\n",
        "from surprise.model_selection import cross_validate"
      ],
      "metadata": {
        "id": "hq1lvtjUiQDZ"
      },
      "execution_count": 34,
      "outputs": []
    },
    {
      "cell_type": "code",
      "source": [
        "# зададим сетку параметров\n",
        "param_grid = {#'bsl_options': {'method': ['als', 'sgd']},\n",
        "              'bsl_options': {'method': ['als']},\n",
        "                              #'reg': [1, 2],\n",
        "                              'reg': [1],\n",
        "              'k': [25, 30, 35],   # 40 по умолчанию\n",
        "              #'k': [20, 26, 30],\n",
        "              #'sim_options': {'name': ['msd', 'cosine', 'pearson', 'pearson_baseline'],\n",
        "              'sim_options': {'name': ['pearson_baseline'],\n",
        "                              #'min_support': [1, 3, 5],\n",
        "                              'min_support': [1],\n",
        "                              'user_based': [True]}\n",
        "}\n",
        "\n",
        "# Инициализация GridSearchCV\n",
        "gs = GridSearchCV(KNNWithMeans, param_grid, measures=['rmse'], cv=5)\n",
        "# обучим модель на всем датасете\n",
        "gs.fit(data)"
      ],
      "metadata": {
        "colab": {
          "base_uri": "https://localhost:8080/"
        },
        "id": "Z6Kw-6Ox1VsQ",
        "outputId": "68a9abc1-bf83-4bd7-b503-904b53862f77"
      },
      "execution_count": 91,
      "outputs": [
        {
          "output_type": "stream",
          "name": "stdout",
          "text": [
            "Estimating biases using als...\n",
            "Computing the pearson_baseline similarity matrix...\n",
            "Done computing similarity matrix.\n",
            "Estimating biases using als...\n",
            "Computing the pearson_baseline similarity matrix...\n",
            "Done computing similarity matrix.\n",
            "Estimating biases using als...\n",
            "Computing the pearson_baseline similarity matrix...\n",
            "Done computing similarity matrix.\n",
            "Estimating biases using als...\n",
            "Computing the pearson_baseline similarity matrix...\n",
            "Done computing similarity matrix.\n",
            "Estimating biases using als...\n",
            "Computing the pearson_baseline similarity matrix...\n",
            "Done computing similarity matrix.\n",
            "Estimating biases using als...\n",
            "Computing the pearson_baseline similarity matrix...\n",
            "Done computing similarity matrix.\n",
            "Estimating biases using als...\n",
            "Computing the pearson_baseline similarity matrix...\n",
            "Done computing similarity matrix.\n",
            "Estimating biases using als...\n",
            "Computing the pearson_baseline similarity matrix...\n",
            "Done computing similarity matrix.\n",
            "Estimating biases using als...\n",
            "Computing the pearson_baseline similarity matrix...\n",
            "Done computing similarity matrix.\n",
            "Estimating biases using als...\n",
            "Computing the pearson_baseline similarity matrix...\n",
            "Done computing similarity matrix.\n",
            "Estimating biases using als...\n",
            "Computing the pearson_baseline similarity matrix...\n",
            "Done computing similarity matrix.\n",
            "Estimating biases using als...\n",
            "Computing the pearson_baseline similarity matrix...\n",
            "Done computing similarity matrix.\n",
            "Estimating biases using als...\n",
            "Computing the pearson_baseline similarity matrix...\n",
            "Done computing similarity matrix.\n",
            "Estimating biases using als...\n",
            "Computing the pearson_baseline similarity matrix...\n",
            "Done computing similarity matrix.\n",
            "Estimating biases using als...\n",
            "Computing the pearson_baseline similarity matrix...\n",
            "Done computing similarity matrix.\n"
          ]
        }
      ]
    },
    {
      "cell_type": "code",
      "source": [
        "# выведем лучшие параметры\n",
        "print(gs.best_score['rmse'])\n",
        "print(gs.best_params['rmse'])"
      ],
      "metadata": {
        "colab": {
          "base_uri": "https://localhost:8080/"
        },
        "id": "6bCIU5Cwn0HW",
        "outputId": "cf8922ae-0028-4f3a-db3b-fbbddb50b718"
      },
      "execution_count": 92,
      "outputs": [
        {
          "output_type": "stream",
          "name": "stdout",
          "text": [
            "0.8976522320803847\n",
            "{'bsl_options': {'method': 'als'}, 'reg': 1, 'k': 25, 'sim_options': {'name': 'pearson_baseline', 'min_support': 1, 'user_based': True}}\n"
          ]
        }
      ]
    },
    {
      "cell_type": "code",
      "source": [
        "# построим и обучим нащу лучшую модель\n",
        "best_param = gs.best_params['rmse']\n",
        "algo = KNNWithMeans(params=best_param)\n",
        "algo.fit(trainset)"
      ],
      "metadata": {
        "colab": {
          "base_uri": "https://localhost:8080/"
        },
        "id": "-ZJCp_T-ypP3",
        "outputId": "5b0ebcc8-9c2d-4b5a-a2d3-8cb8a67454db"
      },
      "execution_count": 93,
      "outputs": [
        {
          "output_type": "stream",
          "name": "stdout",
          "text": [
            "Computing the msd similarity matrix...\n",
            "Done computing similarity matrix.\n"
          ]
        },
        {
          "output_type": "execute_result",
          "data": {
            "text/plain": [
              "<surprise.prediction_algorithms.knns.KNNWithMeans at 0x78817fe18850>"
            ]
          },
          "metadata": {},
          "execution_count": 93
        }
      ]
    },
    {
      "cell_type": "code",
      "source": [
        "# проверим точность\n",
        "test_pred = algo.test(testset)\n",
        "accuracy.rmse(test_pred, verbose=True)"
      ],
      "metadata": {
        "colab": {
          "base_uri": "https://localhost:8080/"
        },
        "id": "I7tA8bIezIC5",
        "outputId": "b2a75dee-6896-49b2-90b5-d4304f3edcf6"
      },
      "execution_count": 94,
      "outputs": [
        {
          "output_type": "stream",
          "name": "stdout",
          "text": [
            "RMSE: 0.8922\n"
          ]
        },
        {
          "output_type": "execute_result",
          "data": {
            "text/plain": [
              "0.8922136195806034"
            ]
          },
          "metadata": {},
          "execution_count": 94
        }
      ]
    },
    {
      "cell_type": "code",
      "source": [
        "# сделаем кросс-валидацию на всем датасете\n",
        "cross_validate(algo, data, measures=['RMSE', 'MAE'], cv=5, verbose=True)"
      ],
      "metadata": {
        "colab": {
          "base_uri": "https://localhost:8080/"
        },
        "id": "oA-Qjqx6yjnL",
        "outputId": "0b15b2a8-b43a-47f1-8e74-b8120ecc86a8"
      },
      "execution_count": 90,
      "outputs": [
        {
          "output_type": "stream",
          "name": "stdout",
          "text": [
            "Computing the msd similarity matrix...\n",
            "Done computing similarity matrix.\n",
            "Computing the msd similarity matrix...\n",
            "Done computing similarity matrix.\n",
            "Computing the msd similarity matrix...\n",
            "Done computing similarity matrix.\n",
            "Computing the msd similarity matrix...\n",
            "Done computing similarity matrix.\n",
            "Computing the msd similarity matrix...\n",
            "Done computing similarity matrix.\n",
            "Evaluating RMSE, MAE of algorithm KNNWithMeans on 5 split(s).\n",
            "\n",
            "                  Fold 1  Fold 2  Fold 3  Fold 4  Fold 5  Mean    Std     \n",
            "RMSE (testset)    0.8986  0.8972  0.8976  0.8953  0.8947  0.8967  0.0015  \n",
            "MAE (testset)     0.6879  0.6829  0.6856  0.6853  0.6841  0.6851  0.0017  \n",
            "Fit time          0.16    0.13    0.13    0.13    0.13    0.14    0.01    \n",
            "Test time         1.41    1.44    1.10    1.10    1.12    1.23    0.16    \n"
          ]
        },
        {
          "output_type": "execute_result",
          "data": {
            "text/plain": [
              "{'test_rmse': array([0.89856966, 0.89718108, 0.89759631, 0.89526829, 0.89468683]),\n",
              " 'test_mae': array([0.68787921, 0.68289187, 0.68556439, 0.68527457, 0.68408031]),\n",
              " 'fit_time': (0.1617429256439209,\n",
              "  0.13325190544128418,\n",
              "  0.13450932502746582,\n",
              "  0.12987446784973145,\n",
              "  0.13135385513305664),\n",
              " 'test_time': (1.4138121604919434,\n",
              "  1.436715841293335,\n",
              "  1.0950992107391357,\n",
              "  1.103379249572754,\n",
              "  1.1221716403961182)}"
            ]
          },
          "metadata": {},
          "execution_count": 90
        }
      ]
    },
    {
      "cell_type": "code",
      "source": [],
      "metadata": {
        "id": "aKxVavDbyjfK"
      },
      "execution_count": null,
      "outputs": []
    },
    {
      "cell_type": "markdown",
      "source": [
        "Проверим 'user_based': [True]"
      ],
      "metadata": {
        "id": "Uj3CmvxGS8zi"
      }
    },
    {
      "cell_type": "code",
      "source": [
        "# зададим сетку параметров\n",
        "param_grid = {#'bsl_options': {'method': ['als', 'sgd']},\n",
        "              'bsl_options': {'method': ['als']},\n",
        "                              #'reg': [1, 2],\n",
        "                              'reg': [1],\n",
        "              #'k': [30, 40, 50],   # 40 по умолчанию\n",
        "              'k': [40, 41, 42, 43],\n",
        "              #'sim_options': {'name': ['msd', 'cosine', 'pearson', 'pearson_baseline'],\n",
        "              'sim_options': {'name': ['pearson_baseline'],\n",
        "                              #'min_support': [1, 3, 5],\n",
        "                              'min_support': [1],\n",
        "                              'user_based': [False]}\n",
        "}\n",
        "\n",
        "# Инициализация GridSearchCV\n",
        "gs = GridSearchCV(KNNWithMeans, param_grid, measures=['rmse'], cv=5)\n",
        "gs.fit(data)"
      ],
      "metadata": {
        "colab": {
          "base_uri": "https://localhost:8080/"
        },
        "id": "aIMPkNrF1VZw",
        "outputId": "92bb44fc-9b02-4c6e-ecde-87fb10fcb3bd"
      },
      "execution_count": 73,
      "outputs": [
        {
          "output_type": "stream",
          "name": "stdout",
          "text": [
            "Estimating biases using als...\n",
            "Computing the pearson_baseline similarity matrix...\n",
            "Done computing similarity matrix.\n",
            "Estimating biases using als...\n",
            "Computing the pearson_baseline similarity matrix...\n",
            "Done computing similarity matrix.\n",
            "Estimating biases using als...\n",
            "Computing the pearson_baseline similarity matrix...\n",
            "Done computing similarity matrix.\n",
            "Estimating biases using als...\n",
            "Computing the pearson_baseline similarity matrix...\n",
            "Done computing similarity matrix.\n",
            "Estimating biases using als...\n",
            "Computing the pearson_baseline similarity matrix...\n",
            "Done computing similarity matrix.\n",
            "Estimating biases using als...\n",
            "Computing the pearson_baseline similarity matrix...\n",
            "Done computing similarity matrix.\n",
            "Estimating biases using als...\n",
            "Computing the pearson_baseline similarity matrix...\n",
            "Done computing similarity matrix.\n",
            "Estimating biases using als...\n",
            "Computing the pearson_baseline similarity matrix...\n",
            "Done computing similarity matrix.\n",
            "Estimating biases using als...\n",
            "Computing the pearson_baseline similarity matrix...\n",
            "Done computing similarity matrix.\n",
            "Estimating biases using als...\n",
            "Computing the pearson_baseline similarity matrix...\n",
            "Done computing similarity matrix.\n",
            "Estimating biases using als...\n",
            "Computing the pearson_baseline similarity matrix...\n",
            "Done computing similarity matrix.\n",
            "Estimating biases using als...\n",
            "Computing the pearson_baseline similarity matrix...\n",
            "Done computing similarity matrix.\n",
            "Estimating biases using als...\n",
            "Computing the pearson_baseline similarity matrix...\n",
            "Done computing similarity matrix.\n",
            "Estimating biases using als...\n",
            "Computing the pearson_baseline similarity matrix...\n",
            "Done computing similarity matrix.\n",
            "Estimating biases using als...\n",
            "Computing the pearson_baseline similarity matrix...\n",
            "Done computing similarity matrix.\n",
            "Estimating biases using als...\n",
            "Computing the pearson_baseline similarity matrix...\n",
            "Done computing similarity matrix.\n",
            "Estimating biases using als...\n",
            "Computing the pearson_baseline similarity matrix...\n",
            "Done computing similarity matrix.\n",
            "Estimating biases using als...\n",
            "Computing the pearson_baseline similarity matrix...\n",
            "Done computing similarity matrix.\n",
            "Estimating biases using als...\n",
            "Computing the pearson_baseline similarity matrix...\n",
            "Done computing similarity matrix.\n",
            "Estimating biases using als...\n",
            "Computing the pearson_baseline similarity matrix...\n",
            "Done computing similarity matrix.\n"
          ]
        }
      ]
    },
    {
      "cell_type": "code",
      "source": [
        "# выведем лучшие параметры\n",
        "print(gs.best_score['rmse'])\n",
        "print(gs.best_params['rmse'])"
      ],
      "metadata": {
        "colab": {
          "base_uri": "https://localhost:8080/"
        },
        "id": "6oGl24HDxXdr",
        "outputId": "6f5fffb3-e177-4c21-b638-bb96985e969b"
      },
      "execution_count": 74,
      "outputs": [
        {
          "output_type": "stream",
          "name": "stdout",
          "text": [
            "0.8840593325566444\n",
            "{'bsl_options': {'method': 'als'}, 'reg': 1, 'k': 43, 'sim_options': {'name': 'pearson_baseline', 'min_support': 1, 'user_based': False}}\n"
          ]
        }
      ]
    },
    {
      "cell_type": "code",
      "source": [
        "# построим и обучим нащу лучшую модель на тестовой выборке\n",
        "best_param = gs.best_params['rmse']\n",
        "algo = KNNWithMeans(params=best_param)\n",
        "algo.fit(trainset)"
      ],
      "metadata": {
        "colab": {
          "base_uri": "https://localhost:8080/"
        },
        "id": "EkcAXsvvxXXw",
        "outputId": "7df94399-f28d-4fc0-c455-57c307ea9efd"
      },
      "execution_count": 75,
      "outputs": [
        {
          "output_type": "stream",
          "name": "stdout",
          "text": [
            "Computing the msd similarity matrix...\n",
            "Done computing similarity matrix.\n"
          ]
        },
        {
          "output_type": "execute_result",
          "data": {
            "text/plain": [
              "<surprise.prediction_algorithms.knns.KNNWithMeans at 0x7881821051d0>"
            ]
          },
          "metadata": {},
          "execution_count": 75
        }
      ]
    },
    {
      "cell_type": "code",
      "source": [
        "# проверим точность\n",
        "test_pred = algo.test(testset)\n",
        "accuracy.rmse(test_pred, verbose=True)"
      ],
      "metadata": {
        "colab": {
          "base_uri": "https://localhost:8080/"
        },
        "id": "V_5Efgjo2UW1",
        "outputId": "2ebd1a71-0e69-4745-98e1-2dc7530cb444"
      },
      "execution_count": 76,
      "outputs": [
        {
          "output_type": "stream",
          "name": "stdout",
          "text": [
            "RMSE: 0.8922\n"
          ]
        },
        {
          "output_type": "execute_result",
          "data": {
            "text/plain": [
              "0.8922136195806034"
            ]
          },
          "metadata": {},
          "execution_count": 76
        }
      ]
    },
    {
      "cell_type": "code",
      "source": [
        "# сделаем кросс-валидацию на всем датасете\n",
        "cross_validate(algo, data, measures=['RMSE', 'MAE'], cv=5, verbose=True)\n"
      ],
      "metadata": {
        "colab": {
          "base_uri": "https://localhost:8080/"
        },
        "id": "_hYSh-u42UAk",
        "outputId": "d6727559-8317-40c8-90ec-aab82c8ed474"
      },
      "execution_count": 78,
      "outputs": [
        {
          "output_type": "stream",
          "name": "stdout",
          "text": [
            "Computing the msd similarity matrix...\n",
            "Done computing similarity matrix.\n",
            "Computing the msd similarity matrix...\n",
            "Done computing similarity matrix.\n",
            "Computing the msd similarity matrix...\n",
            "Done computing similarity matrix.\n",
            "Computing the msd similarity matrix...\n",
            "Done computing similarity matrix.\n",
            "Computing the msd similarity matrix...\n",
            "Done computing similarity matrix.\n",
            "Evaluating RMSE, MAE of algorithm KNNWithMeans on 5 split(s).\n",
            "\n",
            "                  Fold 1  Fold 2  Fold 3  Fold 4  Fold 5  Mean    Std     \n",
            "RMSE (testset)    0.8945  0.8938  0.9026  0.8972  0.9002  0.8977  0.0033  \n",
            "MAE (testset)     0.6833  0.6818  0.6849  0.6880  0.6896  0.6855  0.0029  \n",
            "Fit time          0.14    0.14    0.17    0.15    0.12    0.14    0.02    \n",
            "Test time         1.14    1.11    2.33    1.11    1.10    1.36    0.48    \n"
          ]
        },
        {
          "output_type": "execute_result",
          "data": {
            "text/plain": [
              "{'test_rmse': array([0.8945211 , 0.89384487, 0.90259048, 0.89717717, 0.90022917]),\n",
              " 'test_mae': array([0.68327244, 0.6818498 , 0.68491055, 0.68797446, 0.6896312 ]),\n",
              " 'fit_time': (0.13833022117614746,\n",
              "  0.13779211044311523,\n",
              "  0.16954517364501953,\n",
              "  0.15007472038269043,\n",
              "  0.12440013885498047),\n",
              " 'test_time': (1.1371214389801025,\n",
              "  1.1093456745147705,\n",
              "  2.326305866241455,\n",
              "  1.114478349685669,\n",
              "  1.1042399406433105)}"
            ]
          },
          "metadata": {},
          "execution_count": 78
        }
      ]
    },
    {
      "cell_type": "markdown",
      "source": [
        "##knns.KNNBasic"
      ],
      "metadata": {
        "id": "t4kP8I-G58Bm"
      }
    },
    {
      "cell_type": "code",
      "source": [
        "from surprise import KNNBasic\n",
        "from surprise.model_selection import GridSearchCV\n",
        "from surprise.model_selection import cross_validate"
      ],
      "metadata": {
        "id": "Y0P14rp12TrN"
      },
      "execution_count": 96,
      "outputs": []
    },
    {
      "cell_type": "code",
      "source": [
        "# построим модель по умолчанию\n",
        "algo = KNNWithMeans()\n",
        "algo.fit(trainset)\n",
        "\n",
        "# проверим точность\n",
        "test_pred = algo.test(testset)\n",
        "accuracy.rmse(test_pred, verbose=True)"
      ],
      "metadata": {
        "colab": {
          "base_uri": "https://localhost:8080/"
        },
        "id": "E8PKSwCH6YMo",
        "outputId": "16230f31-9b4a-4fbc-c6a7-d62438bfe536"
      },
      "execution_count": 97,
      "outputs": [
        {
          "output_type": "stream",
          "name": "stdout",
          "text": [
            "Computing the msd similarity matrix...\n",
            "Done computing similarity matrix.\n",
            "RMSE: 0.8922\n"
          ]
        },
        {
          "output_type": "execute_result",
          "data": {
            "text/plain": [
              "0.8922136195806034"
            ]
          },
          "metadata": {},
          "execution_count": 97
        }
      ]
    },
    {
      "cell_type": "markdown",
      "source": [
        "##KNNWithZScore"
      ],
      "metadata": {
        "id": "Ket7kpIB7D93"
      }
    },
    {
      "cell_type": "code",
      "source": [
        "# построим модель по умолчанию\n",
        "algo = KNNWithZScore()\n",
        "algo.fit(trainset)\n",
        "\n",
        "# проверим точность\n",
        "test_pred = algo.test(testset)\n",
        "accuracy.rmse(test_pred, verbose=True)"
      ],
      "metadata": {
        "colab": {
          "base_uri": "https://localhost:8080/"
        },
        "id": "PMclnCDc6uJh",
        "outputId": "ad7aa5e9-81d2-4d00-ca26-65d42a29556a"
      },
      "execution_count": 101,
      "outputs": [
        {
          "output_type": "stream",
          "name": "stdout",
          "text": [
            "Computing the msd similarity matrix...\n",
            "Done computing similarity matrix.\n",
            "RMSE: 0.8924\n"
          ]
        },
        {
          "output_type": "execute_result",
          "data": {
            "text/plain": [
              "0.8924197320059594"
            ]
          },
          "metadata": {},
          "execution_count": 101
        }
      ]
    },
    {
      "cell_type": "markdown",
      "source": [
        "##KNNBaseline"
      ],
      "metadata": {
        "id": "8sqB1LWG7Su8"
      }
    },
    {
      "cell_type": "code",
      "source": [
        "# построим модель по умолчанию\n",
        "algo = KNNBaseline()\n",
        "algo.fit(trainset)\n",
        "\n",
        "# проверим точность\n",
        "test_pred = algo.test(testset)\n",
        "accuracy.rmse(test_pred, verbose=True)"
      ],
      "metadata": {
        "colab": {
          "base_uri": "https://localhost:8080/"
        },
        "id": "KsoWu60t7X0O",
        "outputId": "5526b370-4197-42c8-bf0d-4a92f2eb25bc"
      },
      "execution_count": 102,
      "outputs": [
        {
          "output_type": "stream",
          "name": "stdout",
          "text": [
            "Estimating biases using als...\n",
            "Computing the msd similarity matrix...\n",
            "Done computing similarity matrix.\n",
            "RMSE: 0.8706\n"
          ]
        },
        {
          "output_type": "execute_result",
          "data": {
            "text/plain": [
              "0.870583574696182"
            ]
          },
          "metadata": {},
          "execution_count": 102
        }
      ]
    },
    {
      "cell_type": "code",
      "source": [
        "# построим модель по умолчанию\n",
        "algo = KNNBaseline(user_based=True)\n",
        "algo.fit(trainset)\n",
        "\n",
        "# проверим точность\n",
        "test_pred = algo.test(testset)\n",
        "accuracy.rmse(test_pred, verbose=True)"
      ],
      "metadata": {
        "colab": {
          "base_uri": "https://localhost:8080/"
        },
        "id": "506Pl91B-EaD",
        "outputId": "6fb84489-091b-4ff2-ccf1-62f713a29db1"
      },
      "execution_count": 108,
      "outputs": [
        {
          "output_type": "stream",
          "name": "stdout",
          "text": [
            "Estimating biases using als...\n",
            "Computing the msd similarity matrix...\n",
            "Done computing similarity matrix.\n",
            "RMSE: 0.8706\n"
          ]
        },
        {
          "output_type": "execute_result",
          "data": {
            "text/plain": [
              "0.870583574696182"
            ]
          },
          "metadata": {},
          "execution_count": 108
        }
      ]
    },
    {
      "cell_type": "code",
      "source": [
        "# построим модель по умолчанию\n",
        "algo = KNNBaseline(user_based=False)\n",
        "algo.fit(trainset)\n",
        "\n",
        "# проверим точность\n",
        "test_pred = algo.test(testset)\n",
        "accuracy.rmse(test_pred, verbose=True)"
      ],
      "metadata": {
        "colab": {
          "base_uri": "https://localhost:8080/"
        },
        "id": "6Y520gHX-QpT",
        "outputId": "5df9e725-4467-4191-fac1-91c78c3afbec"
      },
      "execution_count": 109,
      "outputs": [
        {
          "output_type": "stream",
          "name": "stdout",
          "text": [
            "Estimating biases using als...\n",
            "Computing the msd similarity matrix...\n",
            "Done computing similarity matrix.\n",
            "RMSE: 0.8706\n"
          ]
        },
        {
          "output_type": "execute_result",
          "data": {
            "text/plain": [
              "0.870583574696182"
            ]
          },
          "metadata": {},
          "execution_count": 109
        }
      ]
    },
    {
      "cell_type": "markdown",
      "source": [
        "Уже интереснее! Исследуем подробнее"
      ],
      "metadata": {
        "id": "mvcr7dix7frG"
      }
    },
    {
      "cell_type": "code",
      "source": [
        "# зададим сетку параметров\n",
        "param_grid = {#'bsl_options': {'method': ['als', 'sgd']},\n",
        "              'bsl_options': {'method': ['als']},\n",
        "                              #'reg': [1, 2],\n",
        "                              'reg': [1],\n",
        "              #'k': [30, 40, 50],   # 40 по умолчанию\n",
        "              'k': [45, 50, 55],\n",
        "              #'sim_options': {'name': ['msd', 'cosine', 'pearson', 'pearson_baseline'],\n",
        "              'sim_options': {'name': ['pearson_baseline'],\n",
        "                              #'min_support': [1, 3, 5],\n",
        "                              'min_support': [1],\n",
        "                              #'user_based': [True, False]}\n",
        "                              'user_based': [False]}\n",
        "}\n",
        "\n",
        "# Инициализация GridSearchCV\n",
        "gs = GridSearchCV(KNNBaseline, param_grid, measures=['rmse'], cv=5)\n",
        "gs.fit(data)\n",
        "\n",
        "# выведем лучшие параметры\n",
        "print(gs.best_score['rmse'])\n",
        "print(gs.best_params['rmse'])"
      ],
      "metadata": {
        "colab": {
          "base_uri": "https://localhost:8080/"
        },
        "id": "ev8XOwCP8vpq",
        "outputId": "b54c7a7d-daf9-406b-e490-e1b88af2278d"
      },
      "execution_count": null,
      "outputs": [
        {
          "output_type": "stream",
          "name": "stdout",
          "text": [
            "Estimating biases using als...\n",
            "Computing the pearson_baseline similarity matrix...\n",
            "Done computing similarity matrix.\n",
            "Estimating biases using als...\n",
            "Computing the pearson_baseline similarity matrix...\n",
            "Done computing similarity matrix.\n",
            "Estimating biases using als...\n",
            "Computing the pearson_baseline similarity matrix...\n",
            "Done computing similarity matrix.\n",
            "Estimating biases using als...\n"
          ]
        }
      ]
    },
    {
      "cell_type": "code",
      "source": [
        "# построим модель по умолчанию\n",
        "algo = KNNBaseline(user_based=True)\n",
        "algo.fit(trainset)\n",
        "\n",
        "# проверим точность\n",
        "test_pred = algo.test(testset)\n",
        "accuracy.rmse(test_pred, verbose=True)"
      ],
      "metadata": {
        "colab": {
          "base_uri": "https://localhost:8080/"
        },
        "id": "MxVX8XQO8vdp",
        "outputId": "41063582-9008-4c99-9e7a-ce41db45bf8c"
      },
      "execution_count": 115,
      "outputs": [
        {
          "output_type": "stream",
          "name": "stdout",
          "text": [
            "Estimating biases using als...\n",
            "Computing the msd similarity matrix...\n",
            "Done computing similarity matrix.\n",
            "RMSE: 0.8706\n"
          ]
        },
        {
          "output_type": "execute_result",
          "data": {
            "text/plain": [
              "0.870583574696182"
            ]
          },
          "metadata": {},
          "execution_count": 115
        }
      ]
    },
    {
      "cell_type": "code",
      "source": [
        "# сделаем кросс-валидацию на всем датасете\n",
        "cross_validate(algo, data, measures=['RMSE', 'MAE'], cv=5, verbose=True)"
      ],
      "metadata": {
        "colab": {
          "base_uri": "https://localhost:8080/"
        },
        "id": "5M_zmcc9gIhv",
        "outputId": "c5b72b8a-ecb4-4b77-84ce-4e3568a75228"
      },
      "execution_count": 116,
      "outputs": [
        {
          "output_type": "stream",
          "name": "stdout",
          "text": [
            "Estimating biases using als...\n",
            "Computing the msd similarity matrix...\n",
            "Done computing similarity matrix.\n",
            "Estimating biases using als...\n",
            "Computing the msd similarity matrix...\n",
            "Done computing similarity matrix.\n",
            "Estimating biases using als...\n",
            "Computing the msd similarity matrix...\n",
            "Done computing similarity matrix.\n",
            "Estimating biases using als...\n",
            "Computing the msd similarity matrix...\n",
            "Done computing similarity matrix.\n",
            "Estimating biases using als...\n",
            "Computing the msd similarity matrix...\n",
            "Done computing similarity matrix.\n",
            "Evaluating RMSE, MAE of algorithm KNNBaseline on 5 split(s).\n",
            "\n",
            "                  Fold 1  Fold 2  Fold 3  Fold 4  Fold 5  Mean    Std     \n",
            "RMSE (testset)    0.8787  0.8745  0.8690  0.8751  0.8780  0.8751  0.0034  \n",
            "MAE (testset)     0.6706  0.6680  0.6653  0.6675  0.6705  0.6684  0.0020  \n",
            "Fit time          0.44    0.53    0.46    0.46    0.46    0.47    0.03    \n",
            "Test time         1.86    1.81    1.35    1.66    1.38    1.61    0.21    \n"
          ]
        },
        {
          "output_type": "execute_result",
          "data": {
            "text/plain": [
              "{'test_rmse': array([0.87867   , 0.87454367, 0.86902356, 0.8751353 , 0.87795791]),\n",
              " 'test_mae': array([0.67062156, 0.6680284 , 0.66527124, 0.66753958, 0.67048029]),\n",
              " 'fit_time': (0.4360628128051758,\n",
              "  0.5250716209411621,\n",
              "  0.45635437965393066,\n",
              "  0.46407103538513184,\n",
              "  0.4609048366546631),\n",
              " 'test_time': (1.8625147342681885,\n",
              "  1.8145265579223633,\n",
              "  1.3477542400360107,\n",
              "  1.6561625003814697,\n",
              "  1.3817346096038818)}"
            ]
          },
          "metadata": {},
          "execution_count": 116
        }
      ]
    },
    {
      "cell_type": "markdown",
      "source": [
        "##tmp"
      ],
      "metadata": {
        "id": "HJMCbYGJpco6"
      }
    },
    {
      "cell_type": "code",
      "execution_count": null,
      "metadata": {
        "id": "praiEicK7XsT"
      },
      "outputs": [],
      "source": [
        "movies = pd.read_csv('movies.csv')\n",
        "ratings = pd.read_csv('ratings.csv')"
      ]
    },
    {
      "cell_type": "code",
      "execution_count": null,
      "metadata": {
        "id": "yKFb3LDH7XsV"
      },
      "outputs": [],
      "source": [
        "movies_with_ratings = movies.merge(ratings, on='movieId').reset_index(drop=True)\n",
        "movies_with_ratings.dropna(inplace=True)"
      ]
    },
    {
      "cell_type": "code",
      "execution_count": null,
      "metadata": {
        "colab": {
          "base_uri": "https://localhost:8080/",
          "height": 206
        },
        "id": "ueEC-6A37XsW",
        "outputId": "6dbf98df-53fb-45c2-d3e9-a7cec733ebad"
      },
      "outputs": [
        {
          "data": {
            "text/html": [
              "\n",
              "  <div id=\"df-37c7836a-aaac-45b8-9884-cd26f883e259\">\n",
              "    <div class=\"colab-df-container\">\n",
              "      <div>\n",
              "<style scoped>\n",
              "    .dataframe tbody tr th:only-of-type {\n",
              "        vertical-align: middle;\n",
              "    }\n",
              "\n",
              "    .dataframe tbody tr th {\n",
              "        vertical-align: top;\n",
              "    }\n",
              "\n",
              "    .dataframe thead th {\n",
              "        text-align: right;\n",
              "    }\n",
              "</style>\n",
              "<table border=\"1\" class=\"dataframe\">\n",
              "  <thead>\n",
              "    <tr style=\"text-align: right;\">\n",
              "      <th></th>\n",
              "      <th>movieId</th>\n",
              "      <th>title</th>\n",
              "      <th>genres</th>\n",
              "      <th>userId</th>\n",
              "      <th>rating</th>\n",
              "      <th>timestamp</th>\n",
              "    </tr>\n",
              "  </thead>\n",
              "  <tbody>\n",
              "    <tr>\n",
              "      <th>0</th>\n",
              "      <td>1</td>\n",
              "      <td>Toy Story (1995)</td>\n",
              "      <td>Adventure|Animation|Children|Comedy|Fantasy</td>\n",
              "      <td>1</td>\n",
              "      <td>4.0</td>\n",
              "      <td>964982703</td>\n",
              "    </tr>\n",
              "    <tr>\n",
              "      <th>1</th>\n",
              "      <td>1</td>\n",
              "      <td>Toy Story (1995)</td>\n",
              "      <td>Adventure|Animation|Children|Comedy|Fantasy</td>\n",
              "      <td>5</td>\n",
              "      <td>4.0</td>\n",
              "      <td>847434962</td>\n",
              "    </tr>\n",
              "    <tr>\n",
              "      <th>2</th>\n",
              "      <td>1</td>\n",
              "      <td>Toy Story (1995)</td>\n",
              "      <td>Adventure|Animation|Children|Comedy|Fantasy</td>\n",
              "      <td>7</td>\n",
              "      <td>4.5</td>\n",
              "      <td>1106635946</td>\n",
              "    </tr>\n",
              "    <tr>\n",
              "      <th>3</th>\n",
              "      <td>1</td>\n",
              "      <td>Toy Story (1995)</td>\n",
              "      <td>Adventure|Animation|Children|Comedy|Fantasy</td>\n",
              "      <td>15</td>\n",
              "      <td>2.5</td>\n",
              "      <td>1510577970</td>\n",
              "    </tr>\n",
              "    <tr>\n",
              "      <th>4</th>\n",
              "      <td>1</td>\n",
              "      <td>Toy Story (1995)</td>\n",
              "      <td>Adventure|Animation|Children|Comedy|Fantasy</td>\n",
              "      <td>17</td>\n",
              "      <td>4.5</td>\n",
              "      <td>1305696483</td>\n",
              "    </tr>\n",
              "  </tbody>\n",
              "</table>\n",
              "</div>\n",
              "      <button class=\"colab-df-convert\" onclick=\"convertToInteractive('df-37c7836a-aaac-45b8-9884-cd26f883e259')\"\n",
              "              title=\"Convert this dataframe to an interactive table.\"\n",
              "              style=\"display:none;\">\n",
              "        \n",
              "  <svg xmlns=\"http://www.w3.org/2000/svg\" height=\"24px\"viewBox=\"0 0 24 24\"\n",
              "       width=\"24px\">\n",
              "    <path d=\"M0 0h24v24H0V0z\" fill=\"none\"/>\n",
              "    <path d=\"M18.56 5.44l.94 2.06.94-2.06 2.06-.94-2.06-.94-.94-2.06-.94 2.06-2.06.94zm-11 1L8.5 8.5l.94-2.06 2.06-.94-2.06-.94L8.5 2.5l-.94 2.06-2.06.94zm10 10l.94 2.06.94-2.06 2.06-.94-2.06-.94-.94-2.06-.94 2.06-2.06.94z\"/><path d=\"M17.41 7.96l-1.37-1.37c-.4-.4-.92-.59-1.43-.59-.52 0-1.04.2-1.43.59L10.3 9.45l-7.72 7.72c-.78.78-.78 2.05 0 2.83L4 21.41c.39.39.9.59 1.41.59.51 0 1.02-.2 1.41-.59l7.78-7.78 2.81-2.81c.8-.78.8-2.07 0-2.86zM5.41 20L4 18.59l7.72-7.72 1.47 1.35L5.41 20z\"/>\n",
              "  </svg>\n",
              "      </button>\n",
              "      \n",
              "  <style>\n",
              "    .colab-df-container {\n",
              "      display:flex;\n",
              "      flex-wrap:wrap;\n",
              "      gap: 12px;\n",
              "    }\n",
              "\n",
              "    .colab-df-convert {\n",
              "      background-color: #E8F0FE;\n",
              "      border: none;\n",
              "      border-radius: 50%;\n",
              "      cursor: pointer;\n",
              "      display: none;\n",
              "      fill: #1967D2;\n",
              "      height: 32px;\n",
              "      padding: 0 0 0 0;\n",
              "      width: 32px;\n",
              "    }\n",
              "\n",
              "    .colab-df-convert:hover {\n",
              "      background-color: #E2EBFA;\n",
              "      box-shadow: 0px 1px 2px rgba(60, 64, 67, 0.3), 0px 1px 3px 1px rgba(60, 64, 67, 0.15);\n",
              "      fill: #174EA6;\n",
              "    }\n",
              "\n",
              "    [theme=dark] .colab-df-convert {\n",
              "      background-color: #3B4455;\n",
              "      fill: #D2E3FC;\n",
              "    }\n",
              "\n",
              "    [theme=dark] .colab-df-convert:hover {\n",
              "      background-color: #434B5C;\n",
              "      box-shadow: 0px 1px 3px 1px rgba(0, 0, 0, 0.15);\n",
              "      filter: drop-shadow(0px 1px 2px rgba(0, 0, 0, 0.3));\n",
              "      fill: #FFFFFF;\n",
              "    }\n",
              "  </style>\n",
              "\n",
              "      <script>\n",
              "        const buttonEl =\n",
              "          document.querySelector('#df-37c7836a-aaac-45b8-9884-cd26f883e259 button.colab-df-convert');\n",
              "        buttonEl.style.display =\n",
              "          google.colab.kernel.accessAllowed ? 'block' : 'none';\n",
              "\n",
              "        async function convertToInteractive(key) {\n",
              "          const element = document.querySelector('#df-37c7836a-aaac-45b8-9884-cd26f883e259');\n",
              "          const dataTable =\n",
              "            await google.colab.kernel.invokeFunction('convertToInteractive',\n",
              "                                                     [key], {});\n",
              "          if (!dataTable) return;\n",
              "\n",
              "          const docLinkHtml = 'Like what you see? Visit the ' +\n",
              "            '<a target=\"_blank\" href=https://colab.research.google.com/notebooks/data_table.ipynb>data table notebook</a>'\n",
              "            + ' to learn more about interactive tables.';\n",
              "          element.innerHTML = '';\n",
              "          dataTable['output_type'] = 'display_data';\n",
              "          await google.colab.output.renderOutput(dataTable, element);\n",
              "          const docLink = document.createElement('div');\n",
              "          docLink.innerHTML = docLinkHtml;\n",
              "          element.appendChild(docLink);\n",
              "        }\n",
              "      </script>\n",
              "    </div>\n",
              "  </div>\n",
              "  "
            ],
            "text/plain": [
              "   movieId             title                                       genres  \\\n",
              "0        1  Toy Story (1995)  Adventure|Animation|Children|Comedy|Fantasy   \n",
              "1        1  Toy Story (1995)  Adventure|Animation|Children|Comedy|Fantasy   \n",
              "2        1  Toy Story (1995)  Adventure|Animation|Children|Comedy|Fantasy   \n",
              "3        1  Toy Story (1995)  Adventure|Animation|Children|Comedy|Fantasy   \n",
              "4        1  Toy Story (1995)  Adventure|Animation|Children|Comedy|Fantasy   \n",
              "\n",
              "   userId  rating   timestamp  \n",
              "0       1     4.0   964982703  \n",
              "1       5     4.0   847434962  \n",
              "2       7     4.5  1106635946  \n",
              "3      15     2.5  1510577970  \n",
              "4      17     4.5  1305696483  "
            ]
          },
          "execution_count": 6,
          "metadata": {},
          "output_type": "execute_result"
        }
      ],
      "source": [
        "movies_with_ratings.head()"
      ]
    },
    {
      "cell_type": "code",
      "execution_count": null,
      "metadata": {
        "colab": {
          "base_uri": "https://localhost:8080/"
        },
        "id": "9RFuDzK2D4y-",
        "outputId": "c40982ab-afa0-4110-a71e-91d3db0b8862"
      },
      "outputs": [
        {
          "data": {
            "text/plain": [
              "Forrest Gump (1994)                      329\n",
              "Shawshank Redemption, The (1994)         317\n",
              "Pulp Fiction (1994)                      307\n",
              "Silence of the Lambs, The (1991)         279\n",
              "Matrix, The (1999)                       278\n",
              "                                        ... \n",
              "We're Back! A Dinosaur's Story (1993)      1\n",
              "American Hardcore (2006)                   1\n",
              "Shanghai Surprise (1986)                   1\n",
              "Let's Get Harry (1986)                     1\n",
              "Andrew Dice Clay: Dice Rules (1991)        1\n",
              "Name: title, Length: 9719, dtype: int64"
            ]
          },
          "execution_count": 7,
          "metadata": {},
          "output_type": "execute_result"
        }
      ],
      "source": [
        "movies_with_ratings.title.value_counts()"
      ]
    },
    {
      "cell_type": "code",
      "execution_count": null,
      "metadata": {
        "colab": {
          "base_uri": "https://localhost:8080/"
        },
        "id": "Eoz6pFgF84mR",
        "outputId": "28e4eec7-ddce-4587-f7d9-f52d3b40cf02"
      },
      "outputs": [
        {
          "data": {
            "text/plain": [
              "414    2698\n",
              "599    2478\n",
              "474    2108\n",
              "448    1864\n",
              "274    1346\n",
              "       ... \n",
              "53       20\n",
              "207      20\n",
              "431      20\n",
              "442      20\n",
              "189      20\n",
              "Name: userId, Length: 610, dtype: int64"
            ]
          },
          "execution_count": 8,
          "metadata": {},
          "output_type": "execute_result"
        }
      ],
      "source": [
        "movies_with_ratings.userId.value_counts()"
      ]
    },
    {
      "cell_type": "code",
      "execution_count": null,
      "metadata": {
        "colab": {
          "base_uri": "https://localhost:8080/"
        },
        "id": "P6L4M1rF7XsY",
        "outputId": "1c1e5875-a343-4ccd-ce88-285fcead1aa1"
      },
      "outputs": [
        {
          "data": {
            "text/plain": [
              "610"
            ]
          },
          "execution_count": 6,
          "metadata": {},
          "output_type": "execute_result"
        }
      ],
      "source": [
        "num_users = movies_with_ratings.userId.unique().shape[0]\n",
        "num_users"
      ]
    },
    {
      "cell_type": "code",
      "execution_count": null,
      "metadata": {
        "colab": {
          "base_uri": "https://localhost:8080/",
          "height": 206
        },
        "id": "xSJrtSrJfeBD",
        "outputId": "323f676c-0b11-4910-b684-f58c7f46ad71"
      },
      "outputs": [
        {
          "data": {
            "text/html": [
              "\n",
              "  <div id=\"df-78ad7559-1cc5-48da-8a9c-a664249db8e3\">\n",
              "    <div class=\"colab-df-container\">\n",
              "      <div>\n",
              "<style scoped>\n",
              "    .dataframe tbody tr th:only-of-type {\n",
              "        vertical-align: middle;\n",
              "    }\n",
              "\n",
              "    .dataframe tbody tr th {\n",
              "        vertical-align: top;\n",
              "    }\n",
              "\n",
              "    .dataframe thead th {\n",
              "        text-align: right;\n",
              "    }\n",
              "</style>\n",
              "<table border=\"1\" class=\"dataframe\">\n",
              "  <thead>\n",
              "    <tr style=\"text-align: right;\">\n",
              "      <th></th>\n",
              "      <th>movieId</th>\n",
              "      <th>title</th>\n",
              "      <th>genres</th>\n",
              "      <th>userId</th>\n",
              "      <th>rating</th>\n",
              "      <th>timestamp</th>\n",
              "    </tr>\n",
              "  </thead>\n",
              "  <tbody>\n",
              "    <tr>\n",
              "      <th>0</th>\n",
              "      <td>1</td>\n",
              "      <td>Toy Story (1995)</td>\n",
              "      <td>Adventure|Animation|Children|Comedy|Fantasy</td>\n",
              "      <td>1</td>\n",
              "      <td>4.0</td>\n",
              "      <td>964982703</td>\n",
              "    </tr>\n",
              "    <tr>\n",
              "      <th>1</th>\n",
              "      <td>1</td>\n",
              "      <td>Toy Story (1995)</td>\n",
              "      <td>Adventure|Animation|Children|Comedy|Fantasy</td>\n",
              "      <td>5</td>\n",
              "      <td>4.0</td>\n",
              "      <td>847434962</td>\n",
              "    </tr>\n",
              "    <tr>\n",
              "      <th>2</th>\n",
              "      <td>1</td>\n",
              "      <td>Toy Story (1995)</td>\n",
              "      <td>Adventure|Animation|Children|Comedy|Fantasy</td>\n",
              "      <td>7</td>\n",
              "      <td>4.5</td>\n",
              "      <td>1106635946</td>\n",
              "    </tr>\n",
              "    <tr>\n",
              "      <th>3</th>\n",
              "      <td>1</td>\n",
              "      <td>Toy Story (1995)</td>\n",
              "      <td>Adventure|Animation|Children|Comedy|Fantasy</td>\n",
              "      <td>15</td>\n",
              "      <td>2.5</td>\n",
              "      <td>1510577970</td>\n",
              "    </tr>\n",
              "    <tr>\n",
              "      <th>4</th>\n",
              "      <td>1</td>\n",
              "      <td>Toy Story (1995)</td>\n",
              "      <td>Adventure|Animation|Children|Comedy|Fantasy</td>\n",
              "      <td>17</td>\n",
              "      <td>4.5</td>\n",
              "      <td>1305696483</td>\n",
              "    </tr>\n",
              "  </tbody>\n",
              "</table>\n",
              "</div>\n",
              "      <button class=\"colab-df-convert\" onclick=\"convertToInteractive('df-78ad7559-1cc5-48da-8a9c-a664249db8e3')\"\n",
              "              title=\"Convert this dataframe to an interactive table.\"\n",
              "              style=\"display:none;\">\n",
              "        \n",
              "  <svg xmlns=\"http://www.w3.org/2000/svg\" height=\"24px\"viewBox=\"0 0 24 24\"\n",
              "       width=\"24px\">\n",
              "    <path d=\"M0 0h24v24H0V0z\" fill=\"none\"/>\n",
              "    <path d=\"M18.56 5.44l.94 2.06.94-2.06 2.06-.94-2.06-.94-.94-2.06-.94 2.06-2.06.94zm-11 1L8.5 8.5l.94-2.06 2.06-.94-2.06-.94L8.5 2.5l-.94 2.06-2.06.94zm10 10l.94 2.06.94-2.06 2.06-.94-2.06-.94-.94-2.06-.94 2.06-2.06.94z\"/><path d=\"M17.41 7.96l-1.37-1.37c-.4-.4-.92-.59-1.43-.59-.52 0-1.04.2-1.43.59L10.3 9.45l-7.72 7.72c-.78.78-.78 2.05 0 2.83L4 21.41c.39.39.9.59 1.41.59.51 0 1.02-.2 1.41-.59l7.78-7.78 2.81-2.81c.8-.78.8-2.07 0-2.86zM5.41 20L4 18.59l7.72-7.72 1.47 1.35L5.41 20z\"/>\n",
              "  </svg>\n",
              "      </button>\n",
              "      \n",
              "  <style>\n",
              "    .colab-df-container {\n",
              "      display:flex;\n",
              "      flex-wrap:wrap;\n",
              "      gap: 12px;\n",
              "    }\n",
              "\n",
              "    .colab-df-convert {\n",
              "      background-color: #E8F0FE;\n",
              "      border: none;\n",
              "      border-radius: 50%;\n",
              "      cursor: pointer;\n",
              "      display: none;\n",
              "      fill: #1967D2;\n",
              "      height: 32px;\n",
              "      padding: 0 0 0 0;\n",
              "      width: 32px;\n",
              "    }\n",
              "\n",
              "    .colab-df-convert:hover {\n",
              "      background-color: #E2EBFA;\n",
              "      box-shadow: 0px 1px 2px rgba(60, 64, 67, 0.3), 0px 1px 3px 1px rgba(60, 64, 67, 0.15);\n",
              "      fill: #174EA6;\n",
              "    }\n",
              "\n",
              "    [theme=dark] .colab-df-convert {\n",
              "      background-color: #3B4455;\n",
              "      fill: #D2E3FC;\n",
              "    }\n",
              "\n",
              "    [theme=dark] .colab-df-convert:hover {\n",
              "      background-color: #434B5C;\n",
              "      box-shadow: 0px 1px 3px 1px rgba(0, 0, 0, 0.15);\n",
              "      filter: drop-shadow(0px 1px 2px rgba(0, 0, 0, 0.3));\n",
              "      fill: #FFFFFF;\n",
              "    }\n",
              "  </style>\n",
              "\n",
              "      <script>\n",
              "        const buttonEl =\n",
              "          document.querySelector('#df-78ad7559-1cc5-48da-8a9c-a664249db8e3 button.colab-df-convert');\n",
              "        buttonEl.style.display =\n",
              "          google.colab.kernel.accessAllowed ? 'block' : 'none';\n",
              "\n",
              "        async function convertToInteractive(key) {\n",
              "          const element = document.querySelector('#df-78ad7559-1cc5-48da-8a9c-a664249db8e3');\n",
              "          const dataTable =\n",
              "            await google.colab.kernel.invokeFunction('convertToInteractive',\n",
              "                                                     [key], {});\n",
              "          if (!dataTable) return;\n",
              "\n",
              "          const docLinkHtml = 'Like what you see? Visit the ' +\n",
              "            '<a target=\"_blank\" href=https://colab.research.google.com/notebooks/data_table.ipynb>data table notebook</a>'\n",
              "            + ' to learn more about interactive tables.';\n",
              "          element.innerHTML = '';\n",
              "          dataTable['output_type'] = 'display_data';\n",
              "          await google.colab.output.renderOutput(dataTable, element);\n",
              "          const docLink = document.createElement('div');\n",
              "          docLink.innerHTML = docLinkHtml;\n",
              "          element.appendChild(docLink);\n",
              "        }\n",
              "      </script>\n",
              "    </div>\n",
              "  </div>\n",
              "  "
            ],
            "text/plain": [
              "   movieId             title                                       genres  \\\n",
              "0        1  Toy Story (1995)  Adventure|Animation|Children|Comedy|Fantasy   \n",
              "1        1  Toy Story (1995)  Adventure|Animation|Children|Comedy|Fantasy   \n",
              "2        1  Toy Story (1995)  Adventure|Animation|Children|Comedy|Fantasy   \n",
              "3        1  Toy Story (1995)  Adventure|Animation|Children|Comedy|Fantasy   \n",
              "4        1  Toy Story (1995)  Adventure|Animation|Children|Comedy|Fantasy   \n",
              "\n",
              "   userId  rating   timestamp  \n",
              "0       1     4.0   964982703  \n",
              "1       5     4.0   847434962  \n",
              "2       7     4.5  1106635946  \n",
              "3      15     2.5  1510577970  \n",
              "4      17     4.5  1305696483  "
            ]
          },
          "execution_count": 7,
          "metadata": {},
          "output_type": "execute_result"
        }
      ],
      "source": [
        "movies_with_ratings.head()"
      ]
    },
    {
      "cell_type": "code",
      "execution_count": null,
      "metadata": {
        "colab": {
          "base_uri": "https://localhost:8080/"
        },
        "id": "Jt0smJGw7Xsb",
        "outputId": "b1a04e90-5ce0-4a10-f8a2-2582d50fceac",
        "scrolled": true
      },
      "outputs": [
        {
          "name": "stderr",
          "output_type": "stream",
          "text": [
            "100%|██████████| 9719/9719 [00:02<00:00, 3800.48it/s]\n"
          ]
        }
      ],
      "source": [
        "movie_vector = {}\n",
        "\n",
        "for movie, group in tqdm(movies_with_ratings.groupby('title')):\n",
        "    movie_vector[movie] = np.zeros(num_users)\n",
        "\n",
        "    for i in range(len(group.userId.values)):\n",
        "        u = group.userId.values[i]\n",
        "        r = group.rating.values[i]\n",
        "        movie_vector[movie][int(u - 1)] = r"
      ]
    },
    {
      "cell_type": "code",
      "execution_count": null,
      "metadata": {
        "colab": {
          "base_uri": "https://localhost:8080/"
        },
        "id": "mdtpDr1y7Xsc",
        "outputId": "479edb97-f172-44d5-898b-dba4af52c3c4"
      },
      "outputs": [
        {
          "data": {
            "text/plain": [
              "array([4. , 0. , 0. , 0. , 4. , 0. , 4.5, 0. , 0. , 0. , 0. , 0. , 0. ,\n",
              "       0. , 2.5, 0. , 4.5, 3.5, 4. , 0. , 3.5, 0. , 0. , 0. , 0. , 0. ,\n",
              "       3. , 0. , 0. , 0. , 5. , 3. , 3. , 0. , 0. , 0. , 0. , 0. , 0. ,\n",
              "       5. , 0. , 0. , 5. , 3. , 4. , 5. , 0. , 0. , 0. , 3. , 0. , 0. ,\n",
              "       0. , 3. , 0. , 0. , 5. , 0. , 0. , 0. , 0. , 0. , 5. , 4. , 0. ,\n",
              "       4. , 0. , 2.5, 0. , 0. , 5. , 0. , 4.5, 0. , 0. , 0.5, 0. , 4. ,\n",
              "       0. , 0. , 0. , 2.5, 0. , 0. , 0. , 4. , 0. , 0. , 3. , 3. , 4. ,\n",
              "       0. , 3. , 0. , 0. , 5. , 0. , 4.5, 0. , 0. , 0. , 0. , 4. , 0. ,\n",
              "       0. , 0. , 4. , 0. , 0. , 0. , 0. , 3. , 0. , 0. , 0. , 0. , 0. ,\n",
              "       0. , 3.5, 0. , 4. , 0. , 0. , 4. , 0. , 0. , 0. , 0. , 0. , 3. ,\n",
              "       0. , 2. , 0. , 3. , 4. , 0. , 4. , 0. , 0. , 3. , 4. , 0. , 0. ,\n",
              "       3.5, 5. , 0. , 0. , 0. , 0. , 0. , 5. , 0. , 2. , 0. , 3. , 4. ,\n",
              "       0. , 0. , 4.5, 4. , 4. , 0. , 0. , 0. , 0. , 5. , 3.5, 0. , 4.5,\n",
              "       0. , 5. , 0. , 0. , 0. , 0. , 0. , 5. , 4. , 4. , 0. , 0. , 4. ,\n",
              "       0. , 0. , 4. , 4. , 0. , 0. , 0. , 0. , 4. , 0. , 2. , 0. , 0. ,\n",
              "       0. , 0. , 0. , 0. , 3.5, 5. , 4. , 0. , 0. , 0. , 5. , 0. , 0. ,\n",
              "       0. , 0. , 0. , 0. , 3.5, 3. , 0. , 3. , 4. , 0. , 3.5, 5. , 0. ,\n",
              "       0. , 3.5, 0. , 0. , 3.5, 0. , 0. , 5. , 0. , 0. , 3.5, 3. , 5. ,\n",
              "       0. , 0. , 0. , 0. , 4. , 5. , 0. , 0. , 0. , 0. , 0. , 0. , 5. ,\n",
              "       0. , 4. , 0. , 0. , 4.5, 0. , 4.5, 0. , 0. , 0. , 0. , 0. , 0. ,\n",
              "       0. , 0. , 4. , 4. , 0. , 2. , 0. , 0. , 5. , 5. , 0. , 0. , 5. ,\n",
              "       4. , 5. , 4. , 4. , 0. , 3. , 4.5, 0. , 4.5, 3. , 0. , 0. , 0. ,\n",
              "       0. , 4.5, 0. , 4. , 4. , 4. , 3. , 0. , 0. , 0. , 0. , 2. , 0. ,\n",
              "       0. , 0. , 0. , 0. , 5. , 0. , 0. , 4. , 0. , 0. , 0. , 0. , 0. ,\n",
              "       0. , 3. , 0. , 0. , 0. , 0. , 0. , 0. , 0. , 3.5, 3.5, 0. , 0. ,\n",
              "       0. , 0. , 5. , 0. , 4. , 0. , 4. , 0. , 3.5, 0. , 4. , 4. , 0. ,\n",
              "       4. , 0. , 5. , 0. , 0. , 0. , 0. , 0. , 5. , 0. , 0. , 4. , 0. ,\n",
              "       0. , 5. , 0. , 0. , 0. , 5. , 0. , 4. , 0. , 0. , 0. , 0. , 5. ,\n",
              "       0. , 0. , 5. , 0. , 0. , 0. , 0. , 3. , 3. , 0. , 0. , 0. , 0. ,\n",
              "       4.5, 0. , 5. , 3.5, 4.5, 0. , 0. , 4. , 0. , 0. , 0. , 5. , 0. ,\n",
              "       3. , 0. , 0. , 0. , 0. , 5. , 0. , 0. , 4. , 0. , 3.5, 0. , 0. ,\n",
              "       0. , 0. , 0. , 0. , 0. , 0. , 0. , 5. , 2. , 0. , 4. , 0. , 0. ,\n",
              "       0. , 0. , 0. , 4. , 0. , 4. , 0. , 0. , 0. , 0. , 0. , 0. , 0. ,\n",
              "       0. , 0. , 2.5, 0. , 4. , 0. , 4. , 0. , 4.5, 0. , 0. , 0. , 0. ,\n",
              "       4. , 0. , 0. , 0. , 0. , 5. , 0. , 0. , 5. , 0. , 5. , 0. , 0. ,\n",
              "       5. , 0. , 0. , 0. , 4.5, 0. , 1.5, 0. , 0. , 0. , 0. , 0. , 4. ,\n",
              "       4. , 4. , 5. , 0. , 0. , 4. , 0. , 4. , 4. , 0. , 0. , 3. , 0. ,\n",
              "       0. , 4. , 4.5, 0. , 0. , 0. , 4.5, 0. , 3.5, 0. , 4. , 0. , 0. ,\n",
              "       0. , 0. , 0. , 0. , 0. , 4. , 0. , 0. , 0. , 4. , 0. , 0. , 0. ,\n",
              "       0. , 4. , 0. , 0. , 0. , 0. , 4. , 0. , 0. , 4. , 0. , 0. , 0. ,\n",
              "       0. , 3. , 0. , 4. , 4. , 0. , 0. , 2.5, 3. , 0. , 0. , 0. , 5. ,\n",
              "       4. , 0. , 0. , 0. , 0. , 0. , 0. , 3. , 0. , 0. , 3. , 0. , 0. ,\n",
              "       0. , 0. , 0. , 4. , 0. , 0. , 0. , 0. , 4. , 0. , 0. , 0. , 5. ,\n",
              "       3. , 4. , 4.5, 0. , 0. , 0. , 0. , 3.5, 0. , 0. , 4. , 0. , 4. ,\n",
              "       5. , 0. , 0. , 0. , 0. , 0. , 4. , 3. , 0. , 0. , 0. , 5. , 0. ,\n",
              "       0. , 5. , 0. , 0. , 4. , 0. , 0. , 0. , 0. , 0. , 4. , 4. , 0. ,\n",
              "       3. , 2.5, 4. , 0. , 4. , 3. , 4. , 2.5, 4. , 2.5, 3. , 5. ])"
            ]
          },
          "execution_count": 12,
          "metadata": {},
          "output_type": "execute_result"
        }
      ],
      "source": [
        "movie_vector['Toy Story (1995)']"
      ]
    },
    {
      "cell_type": "code",
      "execution_count": null,
      "metadata": {
        "id": "NGimMpNS7Xse"
      },
      "outputs": [],
      "source": [
        "from scipy.spatial.distance import cityblock, cosine, euclidean, hamming, jaccard"
      ]
    },
    {
      "cell_type": "code",
      "execution_count": null,
      "metadata": {
        "colab": {
          "base_uri": "https://localhost:8080/"
        },
        "id": "nk8jw5o77Xsg",
        "outputId": "bab3140e-7157-43d8-d290-1a8183ba6fec"
      },
      "outputs": [
        {
          "name": "stderr",
          "output_type": "stream",
          "text": [
            "100%|██████████| 9719/9719 [00:02<00:00, 4553.26it/s]\n"
          ]
        },
        {
          "data": {
            "text/plain": [
              "9718"
            ]
          },
          "execution_count": 14,
          "metadata": {},
          "output_type": "execute_result"
        }
      ],
      "source": [
        "my_fav_film = 'Fight Club (1999)'\n",
        "\n",
        "titles = []\n",
        "distances = []\n",
        "\n",
        "for key in tqdm(movie_vector.keys()):\n",
        "    if key == my_fav_film:\n",
        "        continue\n",
        "\n",
        "    titles.append(key)\n",
        "    distances.append(cosine(movie_vector[my_fav_film], movie_vector[key]))\n",
        "\n",
        "len(distances)"
      ]
    },
    {
      "cell_type": "code",
      "execution_count": null,
      "metadata": {
        "colab": {
          "base_uri": "https://localhost:8080/"
        },
        "id": "E7U3a1y_D23B",
        "outputId": "5e9c69c3-bfaf-44f9-fc15-3f1fb754ebe5"
      },
      "outputs": [
        {
          "data": {
            "text/plain": [
              "[0.9223029947150825,\n",
              " 0.9300726952435743,\n",
              " 0.950553928616633,\n",
              " 1.0,\n",
              " 1.0,\n",
              " 0.968921197886033,\n",
              " 0.877349727371666,\n",
              " 0.9378423957720661,\n",
              " 0.7578680102442159,\n",
              " 0.9065861273541315]"
            ]
          },
          "execution_count": 15,
          "metadata": {},
          "output_type": "execute_result"
        }
      ],
      "source": [
        "distances[:10]"
      ]
    },
    {
      "cell_type": "code",
      "execution_count": null,
      "metadata": {
        "colab": {
          "base_uri": "https://localhost:8080/"
        },
        "id": "MmmaNbPcgAYm",
        "outputId": "b3d4c895-4e5b-40bc-f48a-ab6b9d74c702"
      },
      "outputs": [
        {
          "data": {
            "text/plain": [
              "array([5511, 5571,  420, 4736, 5203,  405, 6864, 5204, 4322, 4737])"
            ]
          },
          "execution_count": 16,
          "metadata": {},
          "output_type": "execute_result"
        }
      ],
      "source": [
        "best_indexes = np.argsort(distances)[:10]\n",
        "best_indexes"
      ]
    },
    {
      "cell_type": "code",
      "execution_count": null,
      "metadata": {
        "colab": {
          "base_uri": "https://localhost:8080/"
        },
        "id": "YzEgAeO97Xsh",
        "outputId": "f560184e-0b70-4e6f-b7cc-82ec3bcc56f8"
      },
      "outputs": [
        {
          "name": "stdout",
          "output_type": "stream",
          "text": [
            "('Matrix, The (1999)', 0.28606257328028306)\n",
            "('Memento (2000)', 0.33040704494686757)\n",
            "('American History X (1998)', 0.3509458374819995)\n",
            "('Kill Bill: Vol. 1 (2003)', 0.360262413456623)\n",
            "('Lord of the Rings: The Fellowship of the Ring, The (2001)', 0.36425580638414523)\n",
            "('American Beauty (1999)', 0.3744505150386159)\n",
            "('Pulp Fiction (1994)', 0.37678014788325576)\n",
            "('Lord of the Rings: The Return of the King, The (2003)', 0.37798413607448667)\n",
            "('Inception (2010)', 0.3845825728533704)\n",
            "('Kill Bill: Vol. 2 (2004)', 0.38565615909903594)\n"
          ]
        }
      ],
      "source": [
        "best_movies = [(titles[i], distances[i]) for i in best_indexes]\n",
        "\n",
        "for m in best_movies:\n",
        "    print(m)"
      ]
    },
    {
      "cell_type": "markdown",
      "metadata": {
        "id": "kIlGYkHtHBlI"
      },
      "source": [
        "## Surprise"
      ]
    },
    {
      "cell_type": "markdown",
      "metadata": {
        "id": "qzrL-bKKZB_v"
      },
      "source": [
        "https://surpriselib.com/\n",
        "\n",
        "- Алгоритмы https://surprise.readthedocs.io/en/stable/prediction_algorithms_package.html"
      ]
    },
    {
      "cell_type": "code",
      "execution_count": null,
      "metadata": {
        "colab": {
          "base_uri": "https://localhost:8080/"
        },
        "id": "Di0xlzqJHGF3",
        "outputId": "b085baee-a0b7-48cd-c5b1-7c89e195dd2e"
      },
      "outputs": [
        {
          "name": "stdout",
          "output_type": "stream",
          "text": [
            "Looking in indexes: https://pypi.org/simple, https://us-python.pkg.dev/colab-wheels/public/simple/\n",
            "Collecting surprise\n",
            "  Downloading surprise-0.1-py2.py3-none-any.whl (1.8 kB)\n",
            "Collecting scikit-surprise (from surprise)\n",
            "  Downloading scikit-surprise-1.1.3.tar.gz (771 kB)\n",
            "\u001b[2K     \u001b[90m━━━━━━━━━━━━━━━━━━━━━━━━━━━━━━━━━━━━━━\u001b[0m \u001b[32m772.0/772.0 kB\u001b[0m \u001b[31m11.5 MB/s\u001b[0m eta \u001b[36m0:00:00\u001b[0m\n",
            "\u001b[?25h  Preparing metadata (setup.py) ... \u001b[?25l\u001b[?25hdone\n",
            "Requirement already satisfied: joblib>=1.0.0 in /usr/local/lib/python3.10/dist-packages (from scikit-surprise->surprise) (1.2.0)\n",
            "Requirement already satisfied: numpy>=1.17.3 in /usr/local/lib/python3.10/dist-packages (from scikit-surprise->surprise) (1.22.4)\n",
            "Requirement already satisfied: scipy>=1.3.2 in /usr/local/lib/python3.10/dist-packages (from scikit-surprise->surprise) (1.10.1)\n",
            "Building wheels for collected packages: scikit-surprise\n",
            "  Building wheel for scikit-surprise (setup.py) ... \u001b[?25l\u001b[?25hdone\n",
            "  Created wheel for scikit-surprise: filename=scikit_surprise-1.1.3-cp310-cp310-linux_x86_64.whl size=3095482 sha256=1fb9739ea54c91e04b26383cb9edf5e5c63cf96aafa635936693d90cdc77126c\n",
            "  Stored in directory: /root/.cache/pip/wheels/a5/ca/a8/4e28def53797fdc4363ca4af740db15a9c2f1595ebc51fb445\n",
            "Successfully built scikit-surprise\n",
            "Installing collected packages: scikit-surprise, surprise\n",
            "Successfully installed scikit-surprise-1.1.3 surprise-0.1\n"
          ]
        }
      ],
      "source": [
        "!pip install surprise"
      ]
    },
    {
      "cell_type": "code",
      "execution_count": null,
      "metadata": {
        "id": "ZhnHAp_LG62J"
      },
      "outputs": [],
      "source": [
        "from surprise import KNNWithMeans, KNNBasic\n",
        "from surprise import Dataset\n",
        "from surprise import accuracy\n",
        "from surprise import Reader\n",
        "from surprise.model_selection import train_test_split\n",
        "\n",
        "import pandas as pd"
      ]
    },
    {
      "cell_type": "code",
      "execution_count": null,
      "metadata": {
        "id": "naWJ3QA0G62M"
      },
      "outputs": [],
      "source": [
        "movies = pd.read_csv('movies.csv')\n",
        "ratings = pd.read_csv('ratings.csv')"
      ]
    },
    {
      "cell_type": "code",
      "execution_count": null,
      "metadata": {
        "colab": {
          "base_uri": "https://localhost:8080/",
          "height": 206
        },
        "id": "L3kEsYe2G62O",
        "outputId": "33097f52-fcec-4444-861b-7de072bb1c34"
      },
      "outputs": [
        {
          "data": {
            "text/html": [
              "\n",
              "  <div id=\"df-d4bc1435-6a5d-4f4e-921c-7d8690fc1bdd\">\n",
              "    <div class=\"colab-df-container\">\n",
              "      <div>\n",
              "<style scoped>\n",
              "    .dataframe tbody tr th:only-of-type {\n",
              "        vertical-align: middle;\n",
              "    }\n",
              "\n",
              "    .dataframe tbody tr th {\n",
              "        vertical-align: top;\n",
              "    }\n",
              "\n",
              "    .dataframe thead th {\n",
              "        text-align: right;\n",
              "    }\n",
              "</style>\n",
              "<table border=\"1\" class=\"dataframe\">\n",
              "  <thead>\n",
              "    <tr style=\"text-align: right;\">\n",
              "      <th></th>\n",
              "      <th>userId</th>\n",
              "      <th>movieId</th>\n",
              "      <th>rating</th>\n",
              "      <th>timestamp</th>\n",
              "    </tr>\n",
              "  </thead>\n",
              "  <tbody>\n",
              "    <tr>\n",
              "      <th>0</th>\n",
              "      <td>1</td>\n",
              "      <td>1</td>\n",
              "      <td>4.0</td>\n",
              "      <td>964982703</td>\n",
              "    </tr>\n",
              "    <tr>\n",
              "      <th>1</th>\n",
              "      <td>1</td>\n",
              "      <td>3</td>\n",
              "      <td>4.0</td>\n",
              "      <td>964981247</td>\n",
              "    </tr>\n",
              "    <tr>\n",
              "      <th>2</th>\n",
              "      <td>1</td>\n",
              "      <td>6</td>\n",
              "      <td>4.0</td>\n",
              "      <td>964982224</td>\n",
              "    </tr>\n",
              "    <tr>\n",
              "      <th>3</th>\n",
              "      <td>1</td>\n",
              "      <td>47</td>\n",
              "      <td>5.0</td>\n",
              "      <td>964983815</td>\n",
              "    </tr>\n",
              "    <tr>\n",
              "      <th>4</th>\n",
              "      <td>1</td>\n",
              "      <td>50</td>\n",
              "      <td>5.0</td>\n",
              "      <td>964982931</td>\n",
              "    </tr>\n",
              "  </tbody>\n",
              "</table>\n",
              "</div>\n",
              "      <button class=\"colab-df-convert\" onclick=\"convertToInteractive('df-d4bc1435-6a5d-4f4e-921c-7d8690fc1bdd')\"\n",
              "              title=\"Convert this dataframe to an interactive table.\"\n",
              "              style=\"display:none;\">\n",
              "        \n",
              "  <svg xmlns=\"http://www.w3.org/2000/svg\" height=\"24px\"viewBox=\"0 0 24 24\"\n",
              "       width=\"24px\">\n",
              "    <path d=\"M0 0h24v24H0V0z\" fill=\"none\"/>\n",
              "    <path d=\"M18.56 5.44l.94 2.06.94-2.06 2.06-.94-2.06-.94-.94-2.06-.94 2.06-2.06.94zm-11 1L8.5 8.5l.94-2.06 2.06-.94-2.06-.94L8.5 2.5l-.94 2.06-2.06.94zm10 10l.94 2.06.94-2.06 2.06-.94-2.06-.94-.94-2.06-.94 2.06-2.06.94z\"/><path d=\"M17.41 7.96l-1.37-1.37c-.4-.4-.92-.59-1.43-.59-.52 0-1.04.2-1.43.59L10.3 9.45l-7.72 7.72c-.78.78-.78 2.05 0 2.83L4 21.41c.39.39.9.59 1.41.59.51 0 1.02-.2 1.41-.59l7.78-7.78 2.81-2.81c.8-.78.8-2.07 0-2.86zM5.41 20L4 18.59l7.72-7.72 1.47 1.35L5.41 20z\"/>\n",
              "  </svg>\n",
              "      </button>\n",
              "      \n",
              "  <style>\n",
              "    .colab-df-container {\n",
              "      display:flex;\n",
              "      flex-wrap:wrap;\n",
              "      gap: 12px;\n",
              "    }\n",
              "\n",
              "    .colab-df-convert {\n",
              "      background-color: #E8F0FE;\n",
              "      border: none;\n",
              "      border-radius: 50%;\n",
              "      cursor: pointer;\n",
              "      display: none;\n",
              "      fill: #1967D2;\n",
              "      height: 32px;\n",
              "      padding: 0 0 0 0;\n",
              "      width: 32px;\n",
              "    }\n",
              "\n",
              "    .colab-df-convert:hover {\n",
              "      background-color: #E2EBFA;\n",
              "      box-shadow: 0px 1px 2px rgba(60, 64, 67, 0.3), 0px 1px 3px 1px rgba(60, 64, 67, 0.15);\n",
              "      fill: #174EA6;\n",
              "    }\n",
              "\n",
              "    [theme=dark] .colab-df-convert {\n",
              "      background-color: #3B4455;\n",
              "      fill: #D2E3FC;\n",
              "    }\n",
              "\n",
              "    [theme=dark] .colab-df-convert:hover {\n",
              "      background-color: #434B5C;\n",
              "      box-shadow: 0px 1px 3px 1px rgba(0, 0, 0, 0.15);\n",
              "      filter: drop-shadow(0px 1px 2px rgba(0, 0, 0, 0.3));\n",
              "      fill: #FFFFFF;\n",
              "    }\n",
              "  </style>\n",
              "\n",
              "      <script>\n",
              "        const buttonEl =\n",
              "          document.querySelector('#df-d4bc1435-6a5d-4f4e-921c-7d8690fc1bdd button.colab-df-convert');\n",
              "        buttonEl.style.display =\n",
              "          google.colab.kernel.accessAllowed ? 'block' : 'none';\n",
              "\n",
              "        async function convertToInteractive(key) {\n",
              "          const element = document.querySelector('#df-d4bc1435-6a5d-4f4e-921c-7d8690fc1bdd');\n",
              "          const dataTable =\n",
              "            await google.colab.kernel.invokeFunction('convertToInteractive',\n",
              "                                                     [key], {});\n",
              "          if (!dataTable) return;\n",
              "\n",
              "          const docLinkHtml = 'Like what you see? Visit the ' +\n",
              "            '<a target=\"_blank\" href=https://colab.research.google.com/notebooks/data_table.ipynb>data table notebook</a>'\n",
              "            + ' to learn more about interactive tables.';\n",
              "          element.innerHTML = '';\n",
              "          dataTable['output_type'] = 'display_data';\n",
              "          await google.colab.output.renderOutput(dataTable, element);\n",
              "          const docLink = document.createElement('div');\n",
              "          docLink.innerHTML = docLinkHtml;\n",
              "          element.appendChild(docLink);\n",
              "        }\n",
              "      </script>\n",
              "    </div>\n",
              "  </div>\n",
              "  "
            ],
            "text/plain": [
              "   userId  movieId  rating  timestamp\n",
              "0       1        1     4.0  964982703\n",
              "1       1        3     4.0  964981247\n",
              "2       1        6     4.0  964982224\n",
              "3       1       47     5.0  964983815\n",
              "4       1       50     5.0  964982931"
            ]
          },
          "execution_count": 7,
          "metadata": {},
          "output_type": "execute_result"
        }
      ],
      "source": [
        "ratings.head()"
      ]
    },
    {
      "cell_type": "code",
      "execution_count": null,
      "metadata": {
        "colab": {
          "base_uri": "https://localhost:8080/",
          "height": 206
        },
        "id": "WvoP9dy0G62P",
        "outputId": "a304d8df-881d-4550-8ea5-70f9bf10dbe1"
      },
      "outputs": [
        {
          "data": {
            "text/html": [
              "\n",
              "  <div id=\"df-286a03da-63f0-4e59-9e1b-bd8c70b4c776\">\n",
              "    <div class=\"colab-df-container\">\n",
              "      <div>\n",
              "<style scoped>\n",
              "    .dataframe tbody tr th:only-of-type {\n",
              "        vertical-align: middle;\n",
              "    }\n",
              "\n",
              "    .dataframe tbody tr th {\n",
              "        vertical-align: top;\n",
              "    }\n",
              "\n",
              "    .dataframe thead th {\n",
              "        text-align: right;\n",
              "    }\n",
              "</style>\n",
              "<table border=\"1\" class=\"dataframe\">\n",
              "  <thead>\n",
              "    <tr style=\"text-align: right;\">\n",
              "      <th></th>\n",
              "      <th>movieId</th>\n",
              "      <th>title</th>\n",
              "      <th>genres</th>\n",
              "      <th>userId</th>\n",
              "      <th>rating</th>\n",
              "      <th>timestamp</th>\n",
              "    </tr>\n",
              "  </thead>\n",
              "  <tbody>\n",
              "    <tr>\n",
              "      <th>0</th>\n",
              "      <td>1</td>\n",
              "      <td>Toy Story (1995)</td>\n",
              "      <td>Adventure|Animation|Children|Comedy|Fantasy</td>\n",
              "      <td>1</td>\n",
              "      <td>4.0</td>\n",
              "      <td>964982703</td>\n",
              "    </tr>\n",
              "    <tr>\n",
              "      <th>1</th>\n",
              "      <td>1</td>\n",
              "      <td>Toy Story (1995)</td>\n",
              "      <td>Adventure|Animation|Children|Comedy|Fantasy</td>\n",
              "      <td>5</td>\n",
              "      <td>4.0</td>\n",
              "      <td>847434962</td>\n",
              "    </tr>\n",
              "    <tr>\n",
              "      <th>2</th>\n",
              "      <td>1</td>\n",
              "      <td>Toy Story (1995)</td>\n",
              "      <td>Adventure|Animation|Children|Comedy|Fantasy</td>\n",
              "      <td>7</td>\n",
              "      <td>4.5</td>\n",
              "      <td>1106635946</td>\n",
              "    </tr>\n",
              "    <tr>\n",
              "      <th>3</th>\n",
              "      <td>1</td>\n",
              "      <td>Toy Story (1995)</td>\n",
              "      <td>Adventure|Animation|Children|Comedy|Fantasy</td>\n",
              "      <td>15</td>\n",
              "      <td>2.5</td>\n",
              "      <td>1510577970</td>\n",
              "    </tr>\n",
              "    <tr>\n",
              "      <th>4</th>\n",
              "      <td>1</td>\n",
              "      <td>Toy Story (1995)</td>\n",
              "      <td>Adventure|Animation|Children|Comedy|Fantasy</td>\n",
              "      <td>17</td>\n",
              "      <td>4.5</td>\n",
              "      <td>1305696483</td>\n",
              "    </tr>\n",
              "  </tbody>\n",
              "</table>\n",
              "</div>\n",
              "      <button class=\"colab-df-convert\" onclick=\"convertToInteractive('df-286a03da-63f0-4e59-9e1b-bd8c70b4c776')\"\n",
              "              title=\"Convert this dataframe to an interactive table.\"\n",
              "              style=\"display:none;\">\n",
              "        \n",
              "  <svg xmlns=\"http://www.w3.org/2000/svg\" height=\"24px\"viewBox=\"0 0 24 24\"\n",
              "       width=\"24px\">\n",
              "    <path d=\"M0 0h24v24H0V0z\" fill=\"none\"/>\n",
              "    <path d=\"M18.56 5.44l.94 2.06.94-2.06 2.06-.94-2.06-.94-.94-2.06-.94 2.06-2.06.94zm-11 1L8.5 8.5l.94-2.06 2.06-.94-2.06-.94L8.5 2.5l-.94 2.06-2.06.94zm10 10l.94 2.06.94-2.06 2.06-.94-2.06-.94-.94-2.06-.94 2.06-2.06.94z\"/><path d=\"M17.41 7.96l-1.37-1.37c-.4-.4-.92-.59-1.43-.59-.52 0-1.04.2-1.43.59L10.3 9.45l-7.72 7.72c-.78.78-.78 2.05 0 2.83L4 21.41c.39.39.9.59 1.41.59.51 0 1.02-.2 1.41-.59l7.78-7.78 2.81-2.81c.8-.78.8-2.07 0-2.86zM5.41 20L4 18.59l7.72-7.72 1.47 1.35L5.41 20z\"/>\n",
              "  </svg>\n",
              "      </button>\n",
              "      \n",
              "  <style>\n",
              "    .colab-df-container {\n",
              "      display:flex;\n",
              "      flex-wrap:wrap;\n",
              "      gap: 12px;\n",
              "    }\n",
              "\n",
              "    .colab-df-convert {\n",
              "      background-color: #E8F0FE;\n",
              "      border: none;\n",
              "      border-radius: 50%;\n",
              "      cursor: pointer;\n",
              "      display: none;\n",
              "      fill: #1967D2;\n",
              "      height: 32px;\n",
              "      padding: 0 0 0 0;\n",
              "      width: 32px;\n",
              "    }\n",
              "\n",
              "    .colab-df-convert:hover {\n",
              "      background-color: #E2EBFA;\n",
              "      box-shadow: 0px 1px 2px rgba(60, 64, 67, 0.3), 0px 1px 3px 1px rgba(60, 64, 67, 0.15);\n",
              "      fill: #174EA6;\n",
              "    }\n",
              "\n",
              "    [theme=dark] .colab-df-convert {\n",
              "      background-color: #3B4455;\n",
              "      fill: #D2E3FC;\n",
              "    }\n",
              "\n",
              "    [theme=dark] .colab-df-convert:hover {\n",
              "      background-color: #434B5C;\n",
              "      box-shadow: 0px 1px 3px 1px rgba(0, 0, 0, 0.15);\n",
              "      filter: drop-shadow(0px 1px 2px rgba(0, 0, 0, 0.3));\n",
              "      fill: #FFFFFF;\n",
              "    }\n",
              "  </style>\n",
              "\n",
              "      <script>\n",
              "        const buttonEl =\n",
              "          document.querySelector('#df-286a03da-63f0-4e59-9e1b-bd8c70b4c776 button.colab-df-convert');\n",
              "        buttonEl.style.display =\n",
              "          google.colab.kernel.accessAllowed ? 'block' : 'none';\n",
              "\n",
              "        async function convertToInteractive(key) {\n",
              "          const element = document.querySelector('#df-286a03da-63f0-4e59-9e1b-bd8c70b4c776');\n",
              "          const dataTable =\n",
              "            await google.colab.kernel.invokeFunction('convertToInteractive',\n",
              "                                                     [key], {});\n",
              "          if (!dataTable) return;\n",
              "\n",
              "          const docLinkHtml = 'Like what you see? Visit the ' +\n",
              "            '<a target=\"_blank\" href=https://colab.research.google.com/notebooks/data_table.ipynb>data table notebook</a>'\n",
              "            + ' to learn more about interactive tables.';\n",
              "          element.innerHTML = '';\n",
              "          dataTable['output_type'] = 'display_data';\n",
              "          await google.colab.output.renderOutput(dataTable, element);\n",
              "          const docLink = document.createElement('div');\n",
              "          docLink.innerHTML = docLinkHtml;\n",
              "          element.appendChild(docLink);\n",
              "        }\n",
              "      </script>\n",
              "    </div>\n",
              "  </div>\n",
              "  "
            ],
            "text/plain": [
              "   movieId             title                                       genres  \\\n",
              "0        1  Toy Story (1995)  Adventure|Animation|Children|Comedy|Fantasy   \n",
              "1        1  Toy Story (1995)  Adventure|Animation|Children|Comedy|Fantasy   \n",
              "2        1  Toy Story (1995)  Adventure|Animation|Children|Comedy|Fantasy   \n",
              "3        1  Toy Story (1995)  Adventure|Animation|Children|Comedy|Fantasy   \n",
              "4        1  Toy Story (1995)  Adventure|Animation|Children|Comedy|Fantasy   \n",
              "\n",
              "   userId  rating   timestamp  \n",
              "0       1     4.0   964982703  \n",
              "1       5     4.0   847434962  \n",
              "2       7     4.5  1106635946  \n",
              "3      15     2.5  1510577970  \n",
              "4      17     4.5  1305696483  "
            ]
          },
          "execution_count": 12,
          "metadata": {},
          "output_type": "execute_result"
        }
      ],
      "source": [
        "movies_with_ratings = movies.merge(ratings, on='movieId').reset_index(drop=True)\n",
        "movies_with_ratings.dropna(inplace=True)\n",
        "movies_with_ratings.head()"
      ]
    },
    {
      "cell_type": "code",
      "execution_count": null,
      "metadata": {
        "id": "TT7bIb3LG62S"
      },
      "outputs": [],
      "source": [
        "dataset = pd.DataFrame({\n",
        "    'uid': movies_with_ratings.userId,\n",
        "    'iid': movies_with_ratings.title,\n",
        "    'rating': movies_with_ratings.rating\n",
        "})"
      ]
    },
    {
      "cell_type": "code",
      "execution_count": null,
      "metadata": {
        "colab": {
          "base_uri": "https://localhost:8080/",
          "height": 206
        },
        "id": "AlchVp-FG62T",
        "outputId": "4879020d-7544-4130-e972-068bac33ac9b"
      },
      "outputs": [
        {
          "data": {
            "text/html": [
              "\n",
              "  <div id=\"df-073fa333-2522-4e54-b0bf-a4011aeaa5e1\">\n",
              "    <div class=\"colab-df-container\">\n",
              "      <div>\n",
              "<style scoped>\n",
              "    .dataframe tbody tr th:only-of-type {\n",
              "        vertical-align: middle;\n",
              "    }\n",
              "\n",
              "    .dataframe tbody tr th {\n",
              "        vertical-align: top;\n",
              "    }\n",
              "\n",
              "    .dataframe thead th {\n",
              "        text-align: right;\n",
              "    }\n",
              "</style>\n",
              "<table border=\"1\" class=\"dataframe\">\n",
              "  <thead>\n",
              "    <tr style=\"text-align: right;\">\n",
              "      <th></th>\n",
              "      <th>uid</th>\n",
              "      <th>iid</th>\n",
              "      <th>rating</th>\n",
              "    </tr>\n",
              "  </thead>\n",
              "  <tbody>\n",
              "    <tr>\n",
              "      <th>0</th>\n",
              "      <td>1</td>\n",
              "      <td>Toy Story (1995)</td>\n",
              "      <td>4.0</td>\n",
              "    </tr>\n",
              "    <tr>\n",
              "      <th>1</th>\n",
              "      <td>5</td>\n",
              "      <td>Toy Story (1995)</td>\n",
              "      <td>4.0</td>\n",
              "    </tr>\n",
              "    <tr>\n",
              "      <th>2</th>\n",
              "      <td>7</td>\n",
              "      <td>Toy Story (1995)</td>\n",
              "      <td>4.5</td>\n",
              "    </tr>\n",
              "    <tr>\n",
              "      <th>3</th>\n",
              "      <td>15</td>\n",
              "      <td>Toy Story (1995)</td>\n",
              "      <td>2.5</td>\n",
              "    </tr>\n",
              "    <tr>\n",
              "      <th>4</th>\n",
              "      <td>17</td>\n",
              "      <td>Toy Story (1995)</td>\n",
              "      <td>4.5</td>\n",
              "    </tr>\n",
              "  </tbody>\n",
              "</table>\n",
              "</div>\n",
              "      <button class=\"colab-df-convert\" onclick=\"convertToInteractive('df-073fa333-2522-4e54-b0bf-a4011aeaa5e1')\"\n",
              "              title=\"Convert this dataframe to an interactive table.\"\n",
              "              style=\"display:none;\">\n",
              "        \n",
              "  <svg xmlns=\"http://www.w3.org/2000/svg\" height=\"24px\"viewBox=\"0 0 24 24\"\n",
              "       width=\"24px\">\n",
              "    <path d=\"M0 0h24v24H0V0z\" fill=\"none\"/>\n",
              "    <path d=\"M18.56 5.44l.94 2.06.94-2.06 2.06-.94-2.06-.94-.94-2.06-.94 2.06-2.06.94zm-11 1L8.5 8.5l.94-2.06 2.06-.94-2.06-.94L8.5 2.5l-.94 2.06-2.06.94zm10 10l.94 2.06.94-2.06 2.06-.94-2.06-.94-.94-2.06-.94 2.06-2.06.94z\"/><path d=\"M17.41 7.96l-1.37-1.37c-.4-.4-.92-.59-1.43-.59-.52 0-1.04.2-1.43.59L10.3 9.45l-7.72 7.72c-.78.78-.78 2.05 0 2.83L4 21.41c.39.39.9.59 1.41.59.51 0 1.02-.2 1.41-.59l7.78-7.78 2.81-2.81c.8-.78.8-2.07 0-2.86zM5.41 20L4 18.59l7.72-7.72 1.47 1.35L5.41 20z\"/>\n",
              "  </svg>\n",
              "      </button>\n",
              "      \n",
              "  <style>\n",
              "    .colab-df-container {\n",
              "      display:flex;\n",
              "      flex-wrap:wrap;\n",
              "      gap: 12px;\n",
              "    }\n",
              "\n",
              "    .colab-df-convert {\n",
              "      background-color: #E8F0FE;\n",
              "      border: none;\n",
              "      border-radius: 50%;\n",
              "      cursor: pointer;\n",
              "      display: none;\n",
              "      fill: #1967D2;\n",
              "      height: 32px;\n",
              "      padding: 0 0 0 0;\n",
              "      width: 32px;\n",
              "    }\n",
              "\n",
              "    .colab-df-convert:hover {\n",
              "      background-color: #E2EBFA;\n",
              "      box-shadow: 0px 1px 2px rgba(60, 64, 67, 0.3), 0px 1px 3px 1px rgba(60, 64, 67, 0.15);\n",
              "      fill: #174EA6;\n",
              "    }\n",
              "\n",
              "    [theme=dark] .colab-df-convert {\n",
              "      background-color: #3B4455;\n",
              "      fill: #D2E3FC;\n",
              "    }\n",
              "\n",
              "    [theme=dark] .colab-df-convert:hover {\n",
              "      background-color: #434B5C;\n",
              "      box-shadow: 0px 1px 3px 1px rgba(0, 0, 0, 0.15);\n",
              "      filter: drop-shadow(0px 1px 2px rgba(0, 0, 0, 0.3));\n",
              "      fill: #FFFFFF;\n",
              "    }\n",
              "  </style>\n",
              "\n",
              "      <script>\n",
              "        const buttonEl =\n",
              "          document.querySelector('#df-073fa333-2522-4e54-b0bf-a4011aeaa5e1 button.colab-df-convert');\n",
              "        buttonEl.style.display =\n",
              "          google.colab.kernel.accessAllowed ? 'block' : 'none';\n",
              "\n",
              "        async function convertToInteractive(key) {\n",
              "          const element = document.querySelector('#df-073fa333-2522-4e54-b0bf-a4011aeaa5e1');\n",
              "          const dataTable =\n",
              "            await google.colab.kernel.invokeFunction('convertToInteractive',\n",
              "                                                     [key], {});\n",
              "          if (!dataTable) return;\n",
              "\n",
              "          const docLinkHtml = 'Like what you see? Visit the ' +\n",
              "            '<a target=\"_blank\" href=https://colab.research.google.com/notebooks/data_table.ipynb>data table notebook</a>'\n",
              "            + ' to learn more about interactive tables.';\n",
              "          element.innerHTML = '';\n",
              "          dataTable['output_type'] = 'display_data';\n",
              "          await google.colab.output.renderOutput(dataTable, element);\n",
              "          const docLink = document.createElement('div');\n",
              "          docLink.innerHTML = docLinkHtml;\n",
              "          element.appendChild(docLink);\n",
              "        }\n",
              "      </script>\n",
              "    </div>\n",
              "  </div>\n",
              "  "
            ],
            "text/plain": [
              "   uid               iid  rating\n",
              "0    1  Toy Story (1995)     4.0\n",
              "1    5  Toy Story (1995)     4.0\n",
              "2    7  Toy Story (1995)     4.5\n",
              "3   15  Toy Story (1995)     2.5\n",
              "4   17  Toy Story (1995)     4.5"
            ]
          },
          "execution_count": 14,
          "metadata": {},
          "output_type": "execute_result"
        }
      ],
      "source": [
        "dataset.head()"
      ]
    },
    {
      "cell_type": "code",
      "execution_count": null,
      "metadata": {
        "colab": {
          "base_uri": "https://localhost:8080/"
        },
        "id": "ZcNtRmlsG62U",
        "outputId": "f03bf8de-5bba-48c2-ba4f-f621fa183200"
      },
      "outputs": [
        {
          "data": {
            "text/plain": [
              "0.5"
            ]
          },
          "execution_count": 11,
          "metadata": {},
          "output_type": "execute_result"
        }
      ],
      "source": [
        "ratings.rating.min()"
      ]
    },
    {
      "cell_type": "code",
      "execution_count": null,
      "metadata": {
        "colab": {
          "base_uri": "https://localhost:8080/"
        },
        "id": "kLvhQR4cG62V",
        "outputId": "c957d83a-f9c8-4d7b-ab5c-d759be35cc3c"
      },
      "outputs": [
        {
          "data": {
            "text/plain": [
              "5.0"
            ]
          },
          "execution_count": 12,
          "metadata": {},
          "output_type": "execute_result"
        }
      ],
      "source": [
        "ratings.rating.max()"
      ]
    },
    {
      "cell_type": "code",
      "execution_count": null,
      "metadata": {
        "id": "F0jkp6B4G62X"
      },
      "outputs": [],
      "source": [
        "reader = Reader(rating_scale=(0.5, 5.0))\n",
        "data = Dataset.load_from_df(dataset, reader)\n",
        "# data_1 = Dataset.load_from_df(movies_with_ratings, reader)"
      ]
    },
    {
      "cell_type": "code",
      "execution_count": null,
      "metadata": {
        "id": "8AABlTL4G62Z"
      },
      "outputs": [],
      "source": [
        "trainset, testset = train_test_split(data, test_size=0.2, random_state=1)"
      ]
    },
    {
      "cell_type": "code",
      "execution_count": null,
      "metadata": {
        "colab": {
          "base_uri": "https://localhost:8080/"
        },
        "id": "57j7somXkwCd",
        "outputId": "e1bf7ab0-87fd-47df-806f-b5b8d5be6582"
      },
      "outputs": [
        {
          "data": {
            "text/plain": [
              "(610, 9719)"
            ]
          },
          "execution_count": 29,
          "metadata": {},
          "output_type": "execute_result"
        }
      ],
      "source": [
        "dataset['uid'].nunique(), dataset['iid'].nunique()"
      ]
    },
    {
      "cell_type": "markdown",
      "metadata": {
        "id": "SR9m2u-EUqwZ"
      },
      "source": [
        "#### user_based"
      ]
    },
    {
      "cell_type": "code",
      "execution_count": null,
      "metadata": {
        "colab": {
          "base_uri": "https://localhost:8080/"
        },
        "id": "CovkaHKnG62Z",
        "outputId": "e1dc5713-08ad-42df-82ec-ae44cb14fbeb"
      },
      "outputs": [
        {
          "name": "stdout",
          "output_type": "stream",
          "text": [
            "Computing the cosine similarity matrix...\n",
            "Done computing similarity matrix.\n"
          ]
        },
        {
          "data": {
            "text/plain": [
              "<surprise.prediction_algorithms.knns.KNNWithMeans at 0x7f9d125b9c60>"
            ]
          },
          "execution_count": 18,
          "metadata": {},
          "output_type": "execute_result"
        }
      ],
      "source": [
        "algo = KNNWithMeans(k=50, sim_options={\n",
        "    'name': 'cosine',\n",
        "    'user_based': True  # compute  similarities between users\n",
        "})\n",
        "algo.fit(trainset)"
      ]
    },
    {
      "cell_type": "code",
      "execution_count": null,
      "metadata": {
        "colab": {
          "base_uri": "https://localhost:8080/"
        },
        "id": "29osYXvzG62a",
        "outputId": "fae306d2-de3b-4360-fc17-f5e80c53e51c"
      },
      "outputs": [
        {
          "name": "stdout",
          "output_type": "stream",
          "text": [
            "RMSE: 0.8985\n"
          ]
        },
        {
          "data": {
            "text/plain": [
              "0.898482528669153"
            ]
          },
          "execution_count": 21,
          "metadata": {},
          "output_type": "execute_result"
        }
      ],
      "source": [
        "test_pred = algo.test(testset)\n",
        "accuracy.rmse(test_pred, verbose=True)"
      ]
    },
    {
      "cell_type": "code",
      "execution_count": null,
      "metadata": {
        "colab": {
          "base_uri": "https://localhost:8080/"
        },
        "id": "S72BUdrFG62c",
        "outputId": "9c3b088d-e702-43ef-d3a3-ae14a31a77bb"
      },
      "outputs": [
        {
          "data": {
            "text/plain": [
              "[Prediction(uid=542, iid='Kill Bill: Vol. 1 (2003)', r_ui=2.5, est=3.7592260572900007, details={'actual_k': 50, 'was_impossible': False}),\n",
              " Prediction(uid=469, iid='Bridge on the River Kwai, The (1957)', r_ui=4.0, est=4.168241951992395, details={'actual_k': 34, 'was_impossible': False}),\n",
              " Prediction(uid=317, iid='Scarface (1983)', r_ui=5.0, est=4.062599058241541, details={'actual_k': 49, 'was_impossible': False})]"
            ]
          },
          "execution_count": 32,
          "metadata": {},
          "output_type": "execute_result"
        }
      ],
      "source": [
        "test_pred[:3]"
      ]
    },
    {
      "cell_type": "code",
      "execution_count": null,
      "metadata": {
        "colab": {
          "base_uri": "https://localhost:8080/"
        },
        "id": "mUIUFia8G62c",
        "outputId": "24ba9666-a72f-4ad7-e1d5-fda52b58b7f7"
      },
      "outputs": [
        {
          "data": {
            "text/plain": [
              "Prediction(uid=2, iid='Fight Club (1999)', r_ui=None, est=4.474085079084162, details={'actual_k': 50, 'was_impossible': False})"
            ]
          },
          "execution_count": 33,
          "metadata": {},
          "output_type": "execute_result"
        }
      ],
      "source": [
        "algo.predict(uid=2, iid='Fight Club (1999)')"
      ]
    },
    {
      "cell_type": "markdown",
      "metadata": {
        "id": "kTu11LVKG62c"
      },
      "source": [
        "#### item_based"
      ]
    },
    {
      "cell_type": "code",
      "execution_count": null,
      "metadata": {
        "colab": {
          "base_uri": "https://localhost:8080/"
        },
        "id": "7u0QOo0GG62d",
        "outputId": "bad47398-7439-41d9-a38d-af57d8074e8d"
      },
      "outputs": [
        {
          "name": "stdout",
          "output_type": "stream",
          "text": [
            "Computing the cosine similarity matrix...\n",
            "Done computing similarity matrix.\n"
          ]
        },
        {
          "data": {
            "text/plain": [
              "<surprise.prediction_algorithms.knns.KNNWithMeans at 0x7f9d125bb880>"
            ]
          },
          "execution_count": 23,
          "metadata": {},
          "output_type": "execute_result"
        }
      ],
      "source": [
        "algo = KNNWithMeans(k=50, sim_options={\n",
        "    'name': 'cosine',\n",
        "    'user_based': False  # compute similarities between items\n",
        "})\n",
        "algo.fit(trainset)"
      ]
    },
    {
      "cell_type": "code",
      "execution_count": null,
      "metadata": {
        "id": "15x4H5_cG62e"
      },
      "outputs": [],
      "source": [
        "test_pred = algo.test(testset)"
      ]
    },
    {
      "cell_type": "code",
      "execution_count": null,
      "metadata": {
        "colab": {
          "base_uri": "https://localhost:8080/"
        },
        "id": "QCG9rE2NG62e",
        "outputId": "8d458478-b3bd-4ac9-b2e6-5dce65e7343e"
      },
      "outputs": [
        {
          "name": "stdout",
          "output_type": "stream",
          "text": [
            "RMSE: 0.8982\n"
          ]
        },
        {
          "data": {
            "text/plain": [
              "0.898181158065249"
            ]
          },
          "execution_count": 25,
          "metadata": {},
          "output_type": "execute_result"
        }
      ],
      "source": [
        "accuracy.rmse(test_pred, verbose=True)"
      ]
    },
    {
      "cell_type": "code",
      "execution_count": null,
      "metadata": {
        "colab": {
          "base_uri": "https://localhost:8080/"
        },
        "id": "XRTVBhr0G62f",
        "outputId": "2e47d737-a66c-4ae3-d070-79e94f1632a6"
      },
      "outputs": [
        {
          "data": {
            "text/plain": [
              "Prediction(uid=2, iid='Fight Club (1999)', r_ui=None, est=4.2619917274785735, details={'actual_k': 24, 'was_impossible': False})"
            ]
          },
          "execution_count": 26,
          "metadata": {},
          "output_type": "execute_result"
        }
      ],
      "source": [
        "new_pred = algo.predict(uid=2, iid='Fight Club (1999)')\n",
        "new_pred"
      ]
    },
    {
      "cell_type": "code",
      "execution_count": null,
      "metadata": {
        "colab": {
          "base_uri": "https://localhost:8080/",
          "height": 314
        },
        "id": "eahNKetNG62g",
        "outputId": "a0f0a306-b3c6-4892-f3fd-71bdde9e3178"
      },
      "outputs": [
        {
          "ename": "TypeError",
          "evalue": "ignored",
          "output_type": "error",
          "traceback": [
            "\u001b[0;31m---------------------------------------------------------------------------\u001b[0m",
            "\u001b[0;31mTypeError\u001b[0m                                 Traceback (most recent call last)",
            "\u001b[0;32m<ipython-input-38-746b9842bdf5>\u001b[0m in \u001b[0;36m<module>\u001b[0;34m\u001b[0m\n\u001b[0;32m----> 1\u001b[0;31m \u001b[0maccuracy\u001b[0m\u001b[0;34m.\u001b[0m\u001b[0mrmse\u001b[0m\u001b[0;34m(\u001b[0m\u001b[0mnew_pred\u001b[0m\u001b[0;34m,\u001b[0m \u001b[0mverbose\u001b[0m\u001b[0;34m=\u001b[0m\u001b[0;32mTrue\u001b[0m\u001b[0;34m)\u001b[0m\u001b[0;34m\u001b[0m\u001b[0;34m\u001b[0m\u001b[0m\n\u001b[0m",
            "\u001b[0;32m/usr/local/lib/python3.8/dist-packages/surprise/accuracy.py\u001b[0m in \u001b[0;36mrmse\u001b[0;34m(predictions, verbose)\u001b[0m\n\u001b[1;32m     45\u001b[0m \u001b[0;34m\u001b[0m\u001b[0m\n\u001b[1;32m     46\u001b[0m     mse = np.mean(\n\u001b[0;32m---> 47\u001b[0;31m         \u001b[0;34m[\u001b[0m\u001b[0mfloat\u001b[0m\u001b[0;34m(\u001b[0m\u001b[0;34m(\u001b[0m\u001b[0mtrue_r\u001b[0m \u001b[0;34m-\u001b[0m \u001b[0mest\u001b[0m\u001b[0;34m)\u001b[0m \u001b[0;34m**\u001b[0m \u001b[0;36m2\u001b[0m\u001b[0;34m)\u001b[0m \u001b[0;32mfor\u001b[0m \u001b[0;34m(\u001b[0m\u001b[0m_\u001b[0m\u001b[0;34m,\u001b[0m \u001b[0m_\u001b[0m\u001b[0;34m,\u001b[0m \u001b[0mtrue_r\u001b[0m\u001b[0;34m,\u001b[0m \u001b[0mest\u001b[0m\u001b[0;34m,\u001b[0m \u001b[0m_\u001b[0m\u001b[0;34m)\u001b[0m \u001b[0;32min\u001b[0m \u001b[0mpredictions\u001b[0m\u001b[0;34m]\u001b[0m\u001b[0;34m\u001b[0m\u001b[0;34m\u001b[0m\u001b[0m\n\u001b[0m\u001b[1;32m     48\u001b[0m     )\n\u001b[1;32m     49\u001b[0m     \u001b[0mrmse_\u001b[0m \u001b[0;34m=\u001b[0m \u001b[0mnp\u001b[0m\u001b[0;34m.\u001b[0m\u001b[0msqrt\u001b[0m\u001b[0;34m(\u001b[0m\u001b[0mmse\u001b[0m\u001b[0;34m)\u001b[0m\u001b[0;34m\u001b[0m\u001b[0;34m\u001b[0m\u001b[0m\n",
            "\u001b[0;32m/usr/local/lib/python3.8/dist-packages/surprise/accuracy.py\u001b[0m in \u001b[0;36m<listcomp>\u001b[0;34m(.0)\u001b[0m\n\u001b[1;32m     45\u001b[0m \u001b[0;34m\u001b[0m\u001b[0m\n\u001b[1;32m     46\u001b[0m     mse = np.mean(\n\u001b[0;32m---> 47\u001b[0;31m         \u001b[0;34m[\u001b[0m\u001b[0mfloat\u001b[0m\u001b[0;34m(\u001b[0m\u001b[0;34m(\u001b[0m\u001b[0mtrue_r\u001b[0m \u001b[0;34m-\u001b[0m \u001b[0mest\u001b[0m\u001b[0;34m)\u001b[0m \u001b[0;34m**\u001b[0m \u001b[0;36m2\u001b[0m\u001b[0;34m)\u001b[0m \u001b[0;32mfor\u001b[0m \u001b[0;34m(\u001b[0m\u001b[0m_\u001b[0m\u001b[0;34m,\u001b[0m \u001b[0m_\u001b[0m\u001b[0;34m,\u001b[0m \u001b[0mtrue_r\u001b[0m\u001b[0;34m,\u001b[0m \u001b[0mest\u001b[0m\u001b[0;34m,\u001b[0m \u001b[0m_\u001b[0m\u001b[0;34m)\u001b[0m \u001b[0;32min\u001b[0m \u001b[0mpredictions\u001b[0m\u001b[0;34m]\u001b[0m\u001b[0;34m\u001b[0m\u001b[0;34m\u001b[0m\u001b[0m\n\u001b[0m\u001b[1;32m     48\u001b[0m     )\n\u001b[1;32m     49\u001b[0m     \u001b[0mrmse_\u001b[0m \u001b[0;34m=\u001b[0m \u001b[0mnp\u001b[0m\u001b[0;34m.\u001b[0m\u001b[0msqrt\u001b[0m\u001b[0;34m(\u001b[0m\u001b[0mmse\u001b[0m\u001b[0;34m)\u001b[0m\u001b[0;34m\u001b[0m\u001b[0;34m\u001b[0m\u001b[0m\n",
            "\u001b[0;31mTypeError\u001b[0m: cannot unpack non-iterable int object"
          ]
        }
      ],
      "source": [
        "accuracy.rmse(new_pred, verbose=True)"
      ]
    },
    {
      "cell_type": "code",
      "execution_count": null,
      "metadata": {
        "colab": {
          "base_uri": "https://localhost:8080/"
        },
        "id": "LS23nM5RlPo3",
        "outputId": "89d2a1e7-fc38-4110-9417-a9cfe1ce57d8"
      },
      "outputs": [
        {
          "data": {
            "text/plain": [
              "Prediction(uid=20000, iid='Fight Club (1999)', r_ui=None, est=3.498958694897605, details={'was_impossible': True, 'reason': 'User and/or item is unknown.'})"
            ]
          },
          "execution_count": 39,
          "metadata": {},
          "output_type": "execute_result"
        }
      ],
      "source": [
        "new_pred = algo.predict(uid=20000, iid='Fight Club (1999)')\n",
        "new_pred"
      ]
    },
    {
      "cell_type": "code",
      "execution_count": null,
      "metadata": {
        "colab": {
          "base_uri": "https://localhost:8080/"
        },
        "id": "fsce-xFalV16",
        "outputId": "ee8b480e-9a7a-4911-a825-2e6eca1ad9ff"
      },
      "outputs": [
        {
          "data": {
            "text/plain": [
              "Prediction(uid=2, iid='unkown', r_ui=None, est=3.498958694897605, details={'was_impossible': True, 'reason': 'User and/or item is unknown.'})"
            ]
          },
          "execution_count": 40,
          "metadata": {},
          "output_type": "execute_result"
        }
      ],
      "source": [
        "new_pred = algo.predict(uid=2, iid='unkown')\n",
        "new_pred"
      ]
    },
    {
      "cell_type": "code",
      "execution_count": null,
      "metadata": {
        "colab": {
          "base_uri": "https://localhost:8080/"
        },
        "id": "CD0dVkXptDQC",
        "outputId": "d96a74a6-d1a6-4279-af50-d05be19d36ec"
      },
      "outputs": [
        {
          "data": {
            "text/plain": [
              "3.498958694897605"
            ]
          },
          "execution_count": 41,
          "metadata": {},
          "output_type": "execute_result"
        }
      ],
      "source": [
        "trainset.global_mean"
      ]
    },
    {
      "cell_type": "markdown",
      "metadata": {
        "id": "cITus-eYZ1Kn"
      },
      "source": [
        "#### Рекомендации"
      ]
    },
    {
      "cell_type": "code",
      "execution_count": null,
      "metadata": {
        "id": "QF_U6LKiZ2uL"
      },
      "outputs": [],
      "source": [
        "def generate_recommendation(uid, model, dataset, thresh=4.5, amount=5):\n",
        "    all_titles = list(dataset['iid'].values)\n",
        "    users_seen_titles = dataset[dataset['uid'] == uid]['iid']\n",
        "    titles = np.array(list(set(all_titles) - set(users_seen_titles)))\n",
        "\n",
        "    np.random.shuffle(titles)\n",
        "\n",
        "    rec_list = []\n",
        "    for title in titles:\n",
        "        review_prediction = model.predict(uid=uid, iid=title)\n",
        "        rating = review_prediction.est\n",
        "\n",
        "        if rating >= thresh:\n",
        "            rec_list.append((title, round(rating, 2)))\n",
        "\n",
        "            if len(rec_list) >= amount:\n",
        "                return rec_list"
      ]
    },
    {
      "cell_type": "code",
      "execution_count": null,
      "metadata": {
        "colab": {
          "base_uri": "https://localhost:8080/"
        },
        "id": "5J5mSOHkaQ6_",
        "outputId": "cbbb4e19-f17e-40b4-b408-e9711f3dcb2b"
      },
      "outputs": [
        {
          "data": {
            "text/plain": [
              "[('Duel in the Sun (1946)', 5.0),\n",
              " ('Hype! (1996)', 5.0),\n",
              " ('Man with the Golden Arm, The (1955)', 5.0),\n",
              " ('Four Seasons, The (1981)', 5.0),\n",
              " ('Front of the Class (2008)', 5.0)]"
            ]
          },
          "execution_count": 29,
          "metadata": {},
          "output_type": "execute_result"
        }
      ],
      "source": [
        "generate_recommendation(2, algo, dataset, thresh=4.8)"
      ]
    },
    {
      "cell_type": "markdown",
      "metadata": {
        "id": "W8I_Y_Au145c"
      },
      "source": [
        "Дополнительные ссылки:\n",
        "1. https://sales-generator.ru/blog/rekomendatelnye-sistemy/\n",
        "2. https://habr.com/ru/companies/prequel/articles/567648/\n",
        "3. https://www.kaggle.com/code/gspmoreira/recommender-systems-in-python-101\n",
        "4. https://habr.com/ru/companies/prequel/articles/573880/"
      ]
    }
  ],
  "metadata": {
    "colab": {
      "provenance": []
    },
    "kernelspec": {
      "display_name": "Python 3 (ipykernel)",
      "language": "python",
      "name": "python3"
    },
    "language_info": {
      "codemirror_mode": {
        "name": "ipython",
        "version": 3
      },
      "file_extension": ".py",
      "mimetype": "text/x-python",
      "name": "python",
      "nbconvert_exporter": "python",
      "pygments_lexer": "ipython3",
      "version": "3.8.1"
    }
  },
  "nbformat": 4,
  "nbformat_minor": 0
}