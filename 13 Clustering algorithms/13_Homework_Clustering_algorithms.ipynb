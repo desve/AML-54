{
  "cells": [
    {
      "cell_type": "markdown",
      "source": [
        "#Домашнее задание № 13"
      ],
      "metadata": {
        "id": "-5LYfrJ44Ct2"
      }
    },
    {
      "cell_type": "markdown",
      "source": [
        "#Алгоритмы кластеризации\n",
        "\n"
      ],
      "metadata": {
        "id": "uROV21Jq4KiO"
      }
    },
    {
      "cell_type": "code",
      "execution_count": 1,
      "metadata": {
        "id": "KRgTeoSI4ABz",
        "outputId": "e64f51b7-7418-45cb-94e7-2d65ba472ef5",
        "colab": {
          "base_uri": "https://localhost:8080/"
        }
      },
      "outputs": [
        {
          "output_type": "stream",
          "name": "stdout",
          "text": [
            "Requirement already satisfied: opencv-python in /usr/local/lib/python3.10/dist-packages (4.10.0.84)\n",
            "Requirement already satisfied: numpy>=1.21.2 in /usr/local/lib/python3.10/dist-packages (from opencv-python) (1.26.4)\n"
          ]
        }
      ],
      "source": [
        "# установим библиотеку\n",
        "!pip install opencv-python"
      ]
    },
    {
      "cell_type": "code",
      "source": [
        "# вспомогательная функция для отображения картинок\n",
        "import matplotlib.pyplot as plt\n",
        "import cv2\n",
        "import skimage\n",
        "from sklearn.cluster import KMeans, DBSCAN, AgglomerativeClustering\n",
        "\n",
        "def draw_picture(image, title, bgr=True):\n",
        "    if bgr:\n",
        "        b, g, r = cv2.split(image)\n",
        "        image = cv2.merge([r, g, b])\n",
        "\n",
        "    plt.figure(figsize=(7, 5))\n",
        "    plt.axis('off')\n",
        "    plt.imshow(image)\n",
        "    plt.title(title)\n",
        "    plt.show()"
      ],
      "metadata": {
        "id": "juXr2YXnziAj"
      },
      "execution_count": 2,
      "outputs": []
    },
    {
      "cell_type": "code",
      "source": [
        "# скачиваем картинку\n",
        "!wget 'https://drive.google.com/file/d/1R2sqbuywtCRHsNcPtG_fcBVCmIjGcQwi/view?usp=sharing'"
      ],
      "metadata": {
        "id": "DuOMFFcY0j0B",
        "outputId": "3fe47eff-a451-4199-ffc1-6e8c06eeb004",
        "colab": {
          "base_uri": "https://localhost:8080/"
        }
      },
      "execution_count": 10,
      "outputs": [
        {
          "output_type": "stream",
          "name": "stdout",
          "text": [
            "--2024-11-07 13:36:54--  https://drive.google.com/file/d/1R2sqbuywtCRHsNcPtG_fcBVCmIjGcQwi/view?usp=sharing\n",
            "Resolving drive.google.com (drive.google.com)... 173.194.216.113, 173.194.216.138, 173.194.216.102, ...\n",
            "Connecting to drive.google.com (drive.google.com)|173.194.216.113|:443... connected.\n",
            "HTTP request sent, awaiting response... 200 OK\n",
            "Length: unspecified [text/html]\n",
            "Saving to: ‘view?usp=sharing’\n",
            "\n",
            "view?usp=sharing        [ <=>                ]  91.00K  --.-KB/s    in 0.005s  \n",
            "\n",
            "2024-11-07 13:36:55 (19.5 MB/s) - ‘view?usp=sharing’ saved [93188]\n",
            "\n"
          ]
        }
      ]
    }
  ],
  "metadata": {
    "kernelspec": {
      "display_name": "Python 3 (ipykernel)",
      "language": "python",
      "name": "python3"
    },
    "language_info": {
      "codemirror_mode": {
        "name": "ipython",
        "version": 3
      },
      "file_extension": ".py",
      "mimetype": "text/x-python",
      "name": "python",
      "nbconvert_exporter": "python",
      "pygments_lexer": "ipython3",
      "version": "3.8.1"
    },
    "colab": {
      "provenance": []
    }
  },
  "nbformat": 4,
  "nbformat_minor": 0
}