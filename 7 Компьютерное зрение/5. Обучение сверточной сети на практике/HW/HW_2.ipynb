{
  "cells": [
    {
      "cell_type": "markdown",
      "metadata": {
        "id": "tGPd2rvqT4J7"
      },
      "source": [
        "# Dogs vs Cats"
      ]
    },
    {
      "cell_type": "markdown",
      "metadata": {
        "id": "S3U0eQagT4KJ"
      },
      "source": [
        "https://www.kaggle.com/c/dogs-vs-cats-redux-kernels-edition"
      ]
    },
    {
      "cell_type": "code",
      "execution_count": 1,
      "metadata": {
        "id": "LnPhuwe5T4KJ",
        "outputId": "9cf46c71-53c0-4b92-8f38-7a10299ac106",
        "colab": {
          "base_uri": "https://localhost:8080/"
        }
      },
      "outputs": [
        {
          "output_type": "stream",
          "name": "stdout",
          "text": [
            "2.18.0\n",
            "True\n"
          ]
        }
      ],
      "source": [
        "import cv2\n",
        "import numpy as np\n",
        "import tensorflow as tf\n",
        "\n",
        "print(tf.__version__)\n",
        "print(tf.executing_eagerly())"
      ]
    },
    {
      "cell_type": "markdown",
      "metadata": {
        "id": "IgTq1zbjT4KL"
      },
      "source": [
        "## Функции загрузки данных"
      ]
    },
    {
      "cell_type": "code",
      "source": [
        "!pip3 install kaggle"
      ],
      "metadata": {
        "id": "w3iJUCtklm0p",
        "outputId": "f658f41b-b6da-4e0f-cc45-23f90c86153b",
        "colab": {
          "base_uri": "https://localhost:8080/"
        }
      },
      "execution_count": 2,
      "outputs": [
        {
          "output_type": "stream",
          "name": "stdout",
          "text": [
            "Requirement already satisfied: kaggle in /usr/local/lib/python3.11/dist-packages (1.7.4.2)\n",
            "Requirement already satisfied: bleach in /usr/local/lib/python3.11/dist-packages (from kaggle) (6.2.0)\n",
            "Requirement already satisfied: certifi>=14.05.14 in /usr/local/lib/python3.11/dist-packages (from kaggle) (2025.1.31)\n",
            "Requirement already satisfied: charset-normalizer in /usr/local/lib/python3.11/dist-packages (from kaggle) (3.4.1)\n",
            "Requirement already satisfied: idna in /usr/local/lib/python3.11/dist-packages (from kaggle) (3.10)\n",
            "Requirement already satisfied: protobuf in /usr/local/lib/python3.11/dist-packages (from kaggle) (5.29.4)\n",
            "Requirement already satisfied: python-dateutil>=2.5.3 in /usr/local/lib/python3.11/dist-packages (from kaggle) (2.8.2)\n",
            "Requirement already satisfied: python-slugify in /usr/local/lib/python3.11/dist-packages (from kaggle) (8.0.4)\n",
            "Requirement already satisfied: requests in /usr/local/lib/python3.11/dist-packages (from kaggle) (2.32.3)\n",
            "Requirement already satisfied: setuptools>=21.0.0 in /usr/local/lib/python3.11/dist-packages (from kaggle) (75.2.0)\n",
            "Requirement already satisfied: six>=1.10 in /usr/local/lib/python3.11/dist-packages (from kaggle) (1.17.0)\n",
            "Requirement already satisfied: text-unidecode in /usr/local/lib/python3.11/dist-packages (from kaggle) (1.3)\n",
            "Requirement already satisfied: tqdm in /usr/local/lib/python3.11/dist-packages (from kaggle) (4.67.1)\n",
            "Requirement already satisfied: urllib3>=1.15.1 in /usr/local/lib/python3.11/dist-packages (from kaggle) (2.3.0)\n",
            "Requirement already satisfied: webencodings in /usr/local/lib/python3.11/dist-packages (from kaggle) (0.5.1)\n"
          ]
        }
      ]
    },
    {
      "cell_type": "code",
      "source": [
        "! mkdir ~/.kaggle"
      ],
      "metadata": {
        "id": "WXtLPbHB7ETE",
        "outputId": "02eec233-5987-40f9-b032-d8ec9d62c7d5",
        "colab": {
          "base_uri": "https://localhost:8080/"
        }
      },
      "execution_count": 3,
      "outputs": [
        {
          "output_type": "stream",
          "name": "stdout",
          "text": [
            "mkdir: cannot create directory ‘/root/.kaggle’: File exists\n"
          ]
        }
      ]
    },
    {
      "cell_type": "code",
      "source": [
        "!cp /content/drive/MyDrive/Colab Notebooks/kaggle.json ~/.kaggle/kaggle.json"
      ],
      "metadata": {
        "id": "s23yX6p37KDG",
        "outputId": "ff7a175b-21be-4a42-cb00-9eca1c1dd1ae",
        "colab": {
          "base_uri": "https://localhost:8080/"
        }
      },
      "execution_count": 4,
      "outputs": [
        {
          "output_type": "stream",
          "name": "stdout",
          "text": [
            "cp: target '/root/.kaggle/kaggle.json' is not a directory\n"
          ]
        }
      ]
    },
    {
      "cell_type": "code",
      "source": [
        "from google.colab import drive\n",
        "drive.mount(\"/content/drive\")"
      ],
      "metadata": {
        "id": "-FTEQzD10Uo7",
        "outputId": "63786ad7-9212-4811-bd7b-731489569c83",
        "colab": {
          "base_uri": "https://localhost:8080/"
        }
      },
      "execution_count": 3,
      "outputs": [
        {
          "output_type": "stream",
          "name": "stdout",
          "text": [
            "Drive already mounted at /content/drive; to attempt to forcibly remount, call drive.mount(\"/content/drive\", force_remount=True).\n"
          ]
        }
      ]
    },
    {
      "cell_type": "code",
      "source": [
        "!mkdir -p ~/.kaggle\n",
        "!cp /content/kaggle.json ~/.kaggle/\n",
        "!chmod 600 ~/.kaggle/kaggle.json"
      ],
      "metadata": {
        "id": "FarCKQS72mNw"
      },
      "execution_count": 12,
      "outputs": []
    },
    {
      "cell_type": "code",
      "source": [
        "os.mkdir('kaggle')"
      ],
      "metadata": {
        "id": "f8l-B7TK3x7d"
      },
      "execution_count": 14,
      "outputs": []
    },
    {
      "cell_type": "code",
      "source": [
        "!cp '/content/kaggle.json' kaggle"
      ],
      "metadata": {
        "id": "me9M5SEm5ye8"
      },
      "execution_count": 15,
      "outputs": []
    },
    {
      "cell_type": "code",
      "source": [
        "!chmod 600 ~/.kaggle/kaggle.json"
      ],
      "metadata": {
        "id": "oLWH3-BY6MiF"
      },
      "execution_count": 17,
      "outputs": []
    },
    {
      "cell_type": "code",
      "source": [
        "import os\n",
        "\n",
        "# Указываем путь к директории\n",
        "directory = '~/.kaggle'\n",
        "\n",
        "# Получаем список файлов\n",
        "files = os.listdir(directory)\n",
        "# Выводим список файлов\n",
        "print(files)"
      ],
      "metadata": {
        "id": "ArdxTKKQ5KSY",
        "outputId": "36de2484-9b7f-4c7a-e7fd-33fe25eb1e1c",
        "colab": {
          "base_uri": "https://localhost:8080/",
          "height": 222
        }
      },
      "execution_count": 13,
      "outputs": [
        {
          "output_type": "error",
          "ename": "FileNotFoundError",
          "evalue": "[Errno 2] No such file or directory: '~/.kaggle'",
          "traceback": [
            "\u001b[0;31m---------------------------------------------------------------------------\u001b[0m",
            "\u001b[0;31mFileNotFoundError\u001b[0m                         Traceback (most recent call last)",
            "\u001b[0;32m<ipython-input-13-3cfdbf9adb21>\u001b[0m in \u001b[0;36m<cell line: 0>\u001b[0;34m()\u001b[0m\n\u001b[1;32m      5\u001b[0m \u001b[0;34m\u001b[0m\u001b[0m\n\u001b[1;32m      6\u001b[0m \u001b[0;31m# Получаем список файлов\u001b[0m\u001b[0;34m\u001b[0m\u001b[0;34m\u001b[0m\u001b[0m\n\u001b[0;32m----> 7\u001b[0;31m \u001b[0mfiles\u001b[0m \u001b[0;34m=\u001b[0m \u001b[0mos\u001b[0m\u001b[0;34m.\u001b[0m\u001b[0mlistdir\u001b[0m\u001b[0;34m(\u001b[0m\u001b[0mdirectory\u001b[0m\u001b[0;34m)\u001b[0m\u001b[0;34m\u001b[0m\u001b[0;34m\u001b[0m\u001b[0m\n\u001b[0m\u001b[1;32m      8\u001b[0m \u001b[0;31m# Выводим список файлов\u001b[0m\u001b[0;34m\u001b[0m\u001b[0;34m\u001b[0m\u001b[0m\n\u001b[1;32m      9\u001b[0m \u001b[0mprint\u001b[0m\u001b[0;34m(\u001b[0m\u001b[0mfiles\u001b[0m\u001b[0;34m)\u001b[0m\u001b[0;34m\u001b[0m\u001b[0;34m\u001b[0m\u001b[0m\n",
            "\u001b[0;31mFileNotFoundError\u001b[0m: [Errno 2] No such file or directory: '~/.kaggle'"
          ]
        }
      ]
    },
    {
      "cell_type": "code",
      "source": [
        "from google.colab import files\n",
        "files.upload()"
      ],
      "metadata": {
        "id": "x0xFhR0szMlT",
        "outputId": "16e61ed6-e3a5-433a-bf62-adc131ef89b3",
        "colab": {
          "base_uri": "https://localhost:8080/",
          "height": 92
        }
      },
      "execution_count": 3,
      "outputs": [
        {
          "output_type": "display_data",
          "data": {
            "text/plain": [
              "<IPython.core.display.HTML object>"
            ],
            "text/html": [
              "\n",
              "     <input type=\"file\" id=\"files-47926f08-0dba-456f-acc4-c8e658d67252\" name=\"files[]\" multiple disabled\n",
              "        style=\"border:none\" />\n",
              "     <output id=\"result-47926f08-0dba-456f-acc4-c8e658d67252\">\n",
              "      Upload widget is only available when the cell has been executed in the\n",
              "      current browser session. Please rerun this cell to enable.\n",
              "      </output>\n",
              "      <script>// Copyright 2017 Google LLC\n",
              "//\n",
              "// Licensed under the Apache License, Version 2.0 (the \"License\");\n",
              "// you may not use this file except in compliance with the License.\n",
              "// You may obtain a copy of the License at\n",
              "//\n",
              "//      http://www.apache.org/licenses/LICENSE-2.0\n",
              "//\n",
              "// Unless required by applicable law or agreed to in writing, software\n",
              "// distributed under the License is distributed on an \"AS IS\" BASIS,\n",
              "// WITHOUT WARRANTIES OR CONDITIONS OF ANY KIND, either express or implied.\n",
              "// See the License for the specific language governing permissions and\n",
              "// limitations under the License.\n",
              "\n",
              "/**\n",
              " * @fileoverview Helpers for google.colab Python module.\n",
              " */\n",
              "(function(scope) {\n",
              "function span(text, styleAttributes = {}) {\n",
              "  const element = document.createElement('span');\n",
              "  element.textContent = text;\n",
              "  for (const key of Object.keys(styleAttributes)) {\n",
              "    element.style[key] = styleAttributes[key];\n",
              "  }\n",
              "  return element;\n",
              "}\n",
              "\n",
              "// Max number of bytes which will be uploaded at a time.\n",
              "const MAX_PAYLOAD_SIZE = 100 * 1024;\n",
              "\n",
              "function _uploadFiles(inputId, outputId) {\n",
              "  const steps = uploadFilesStep(inputId, outputId);\n",
              "  const outputElement = document.getElementById(outputId);\n",
              "  // Cache steps on the outputElement to make it available for the next call\n",
              "  // to uploadFilesContinue from Python.\n",
              "  outputElement.steps = steps;\n",
              "\n",
              "  return _uploadFilesContinue(outputId);\n",
              "}\n",
              "\n",
              "// This is roughly an async generator (not supported in the browser yet),\n",
              "// where there are multiple asynchronous steps and the Python side is going\n",
              "// to poll for completion of each step.\n",
              "// This uses a Promise to block the python side on completion of each step,\n",
              "// then passes the result of the previous step as the input to the next step.\n",
              "function _uploadFilesContinue(outputId) {\n",
              "  const outputElement = document.getElementById(outputId);\n",
              "  const steps = outputElement.steps;\n",
              "\n",
              "  const next = steps.next(outputElement.lastPromiseValue);\n",
              "  return Promise.resolve(next.value.promise).then((value) => {\n",
              "    // Cache the last promise value to make it available to the next\n",
              "    // step of the generator.\n",
              "    outputElement.lastPromiseValue = value;\n",
              "    return next.value.response;\n",
              "  });\n",
              "}\n",
              "\n",
              "/**\n",
              " * Generator function which is called between each async step of the upload\n",
              " * process.\n",
              " * @param {string} inputId Element ID of the input file picker element.\n",
              " * @param {string} outputId Element ID of the output display.\n",
              " * @return {!Iterable<!Object>} Iterable of next steps.\n",
              " */\n",
              "function* uploadFilesStep(inputId, outputId) {\n",
              "  const inputElement = document.getElementById(inputId);\n",
              "  inputElement.disabled = false;\n",
              "\n",
              "  const outputElement = document.getElementById(outputId);\n",
              "  outputElement.innerHTML = '';\n",
              "\n",
              "  const pickedPromise = new Promise((resolve) => {\n",
              "    inputElement.addEventListener('change', (e) => {\n",
              "      resolve(e.target.files);\n",
              "    });\n",
              "  });\n",
              "\n",
              "  const cancel = document.createElement('button');\n",
              "  inputElement.parentElement.appendChild(cancel);\n",
              "  cancel.textContent = 'Cancel upload';\n",
              "  const cancelPromise = new Promise((resolve) => {\n",
              "    cancel.onclick = () => {\n",
              "      resolve(null);\n",
              "    };\n",
              "  });\n",
              "\n",
              "  // Wait for the user to pick the files.\n",
              "  const files = yield {\n",
              "    promise: Promise.race([pickedPromise, cancelPromise]),\n",
              "    response: {\n",
              "      action: 'starting',\n",
              "    }\n",
              "  };\n",
              "\n",
              "  cancel.remove();\n",
              "\n",
              "  // Disable the input element since further picks are not allowed.\n",
              "  inputElement.disabled = true;\n",
              "\n",
              "  if (!files) {\n",
              "    return {\n",
              "      response: {\n",
              "        action: 'complete',\n",
              "      }\n",
              "    };\n",
              "  }\n",
              "\n",
              "  for (const file of files) {\n",
              "    const li = document.createElement('li');\n",
              "    li.append(span(file.name, {fontWeight: 'bold'}));\n",
              "    li.append(span(\n",
              "        `(${file.type || 'n/a'}) - ${file.size} bytes, ` +\n",
              "        `last modified: ${\n",
              "            file.lastModifiedDate ? file.lastModifiedDate.toLocaleDateString() :\n",
              "                                    'n/a'} - `));\n",
              "    const percent = span('0% done');\n",
              "    li.appendChild(percent);\n",
              "\n",
              "    outputElement.appendChild(li);\n",
              "\n",
              "    const fileDataPromise = new Promise((resolve) => {\n",
              "      const reader = new FileReader();\n",
              "      reader.onload = (e) => {\n",
              "        resolve(e.target.result);\n",
              "      };\n",
              "      reader.readAsArrayBuffer(file);\n",
              "    });\n",
              "    // Wait for the data to be ready.\n",
              "    let fileData = yield {\n",
              "      promise: fileDataPromise,\n",
              "      response: {\n",
              "        action: 'continue',\n",
              "      }\n",
              "    };\n",
              "\n",
              "    // Use a chunked sending to avoid message size limits. See b/62115660.\n",
              "    let position = 0;\n",
              "    do {\n",
              "      const length = Math.min(fileData.byteLength - position, MAX_PAYLOAD_SIZE);\n",
              "      const chunk = new Uint8Array(fileData, position, length);\n",
              "      position += length;\n",
              "\n",
              "      const base64 = btoa(String.fromCharCode.apply(null, chunk));\n",
              "      yield {\n",
              "        response: {\n",
              "          action: 'append',\n",
              "          file: file.name,\n",
              "          data: base64,\n",
              "        },\n",
              "      };\n",
              "\n",
              "      let percentDone = fileData.byteLength === 0 ?\n",
              "          100 :\n",
              "          Math.round((position / fileData.byteLength) * 100);\n",
              "      percent.textContent = `${percentDone}% done`;\n",
              "\n",
              "    } while (position < fileData.byteLength);\n",
              "  }\n",
              "\n",
              "  // All done.\n",
              "  yield {\n",
              "    response: {\n",
              "      action: 'complete',\n",
              "    }\n",
              "  };\n",
              "}\n",
              "\n",
              "scope.google = scope.google || {};\n",
              "scope.google.colab = scope.google.colab || {};\n",
              "scope.google.colab._files = {\n",
              "  _uploadFiles,\n",
              "  _uploadFilesContinue,\n",
              "};\n",
              "})(self);\n",
              "</script> "
            ]
          },
          "metadata": {}
        },
        {
          "output_type": "stream",
          "name": "stdout",
          "text": [
            "Saving kaggle.json to kaggle.json\n"
          ]
        },
        {
          "output_type": "execute_result",
          "data": {
            "text/plain": [
              "{'kaggle.json': b'{\"username\":\"v2901243\",\"key\":\"c3d1423285b06e1c4e2d43059d272b86\"}'}"
            ]
          },
          "metadata": {},
          "execution_count": 3
        }
      ]
    },
    {
      "cell_type": "code",
      "source": [
        "import os\n",
        "\n",
        "# Указываем путь к директории\n",
        "directory = ~/kaggle\n",
        "\n",
        "# Получаем список файлов\n",
        "files = os.listdir(directory)\n",
        "# Выводим список файлов\n",
        "print(files)"
      ],
      "metadata": {
        "id": "7nd_2Fttz1aj",
        "outputId": "b6b716d6-ce46-4527-9c67-6c649566249b",
        "colab": {
          "base_uri": "https://localhost:8080/",
          "height": 111
        }
      },
      "execution_count": 11,
      "outputs": [
        {
          "output_type": "error",
          "ename": "SyntaxError",
          "evalue": "invalid syntax (<ipython-input-11-fce2dc1ad52a>, line 4)",
          "traceback": [
            "\u001b[0;36m  File \u001b[0;32m\"<ipython-input-11-fce2dc1ad52a>\"\u001b[0;36m, line \u001b[0;32m4\u001b[0m\n\u001b[0;31m    directory = ~/kaggle\u001b[0m\n\u001b[0m                 ^\u001b[0m\n\u001b[0;31mSyntaxError\u001b[0m\u001b[0;31m:\u001b[0m invalid syntax\n"
          ]
        }
      ]
    },
    {
      "cell_type": "code",
      "source": [
        "!kaggle competitions download -c dogs-vs-cats-redux-kernels-edition"
      ],
      "metadata": {
        "id": "NssRqllszfKC",
        "outputId": "79abbc59-80b4-442a-eff5-04db9af17b55",
        "colab": {
          "base_uri": "https://localhost:8080/"
        }
      },
      "execution_count": 18,
      "outputs": [
        {
          "output_type": "stream",
          "name": "stdout",
          "text": [
            "401 Client Error: Unauthorized for url: https://www.kaggle.com/api/v1/competitions/data/download-all/dogs-vs-cats-redux-kernels-edition\n"
          ]
        }
      ]
    },
    {
      "cell_type": "code",
      "execution_count": null,
      "metadata": {
        "id": "bTM4IzYiT4KL",
        "outputId": "ab057a21-4747-474b-b0a4-e66f514123e3",
        "colab": {
          "base_uri": "https://localhost:8080/",
          "height": 500
        }
      },
      "outputs": [
        {
          "output_type": "stream",
          "name": "stdout",
          "text": [
            "--2025-04-02 11:52:18--  https://www.kaggle.com/c/dogs-vs-cats-redux-kernels-edition/test.cvs\n",
            "Resolving www.kaggle.com (www.kaggle.com)... 35.244.233.98\n",
            "Connecting to www.kaggle.com (www.kaggle.com)|35.244.233.98|:443... connected.\n",
            "HTTP request sent, awaiting response... 200 OK\n",
            "Length: unspecified [text/html]\n",
            "Saving to: ‘test.cvs’\n",
            "\n",
            "\rtest.cvs                [<=>                 ]       0  --.-KB/s               \rtest.cvs                [ <=>                ]   5.33K  --.-KB/s    in 0s      \n",
            "\n",
            "2025-04-02 11:52:18 (54.4 MB/s) - ‘test.cvs’ saved [5461]\n",
            "\n"
          ]
        },
        {
          "output_type": "execute_result",
          "data": {
            "text/plain": [
              "\"\\ntrain_files = glob('data/train_sample/*.jpg')\\ntest_files = glob('data/test_sample/*.jpg')\\n\\n# загружаем входное изображение и предобрабатываем\\ndef load_image(path, target_size=IMG_SIZE):\\n    img = cv2.imread(path)[...,::-1]\\n    img = cv2.resize(img, target_size)\\n    return vgg16.preprocess_input(img)  # предобработка для VGG16\\n\\n# функция-генератор загрузки обучающих данных с диска\\ndef fit_generator(files, batch_size=32):\\n    batch_size = min(batch_size, len(files))\\n    while True:\\n        shuffle(files)\\n        for k in range(len(files) // batch_size):\\n            i = k * batch_size\\n            j = i + batch_size\\n            if j > len(files):\\n                j = - j % len(files)\\n            x = np.array([load_image(path) for path in files[i:j]])\\n            y = np.array([1. if os.path.basename(path).startswith('dog') else 0.\\n                          for path in files[i:j]])\\n            yield (x, y)\\n\\n# функция-генератор загрузки тестовых изображений с диска\\ndef predict_generator(files):\\n    while True:\\n        for path in files:\\n            yield np.array([load_image(path)])\\n            \""
            ],
            "application/vnd.google.colaboratory.intrinsic+json": {
              "type": "string"
            }
          },
          "metadata": {},
          "execution_count": 8
        }
      ],
      "source": [
        "import os\n",
        "from random import shuffle\n",
        "from glob import glob\n",
        "\n",
        "IMG_SIZE = (224, 224)  # размер входного изображения сети\n",
        "\n",
        "# скачаем\n",
        "!wget 'https://www.kaggle.com/c/dogs-vs-cats-redux-kernels-edition/test.cvs'\n",
        "\n",
        "\n",
        "\n",
        "\n",
        "\n",
        "\"\"\"\n",
        "train_files = glob('data/train_sample/*.jpg')\n",
        "test_files = glob('data/test_sample/*.jpg')\n",
        "\n",
        "# загружаем входное изображение и предобрабатываем\n",
        "def load_image(path, target_size=IMG_SIZE):\n",
        "    img = cv2.imread(path)[...,::-1]\n",
        "    img = cv2.resize(img, target_size)\n",
        "    return vgg16.preprocess_input(img)  # предобработка для VGG16\n",
        "\n",
        "# функция-генератор загрузки обучающих данных с диска\n",
        "def fit_generator(files, batch_size=32):\n",
        "    batch_size = min(batch_size, len(files))\n",
        "    while True:\n",
        "        shuffle(files)\n",
        "        for k in range(len(files) // batch_size):\n",
        "            i = k * batch_size\n",
        "            j = i + batch_size\n",
        "            if j > len(files):\n",
        "                j = - j % len(files)\n",
        "            x = np.array([load_image(path) for path in files[i:j]])\n",
        "            y = np.array([1. if os.path.basename(path).startswith('dog') else 0.\n",
        "                          for path in files[i:j]])\n",
        "            yield (x, y)\n",
        "\n",
        "# функция-генератор загрузки тестовых изображений с диска\n",
        "def predict_generator(files):\n",
        "    while True:\n",
        "        for path in files:\n",
        "            yield np.array([load_image(path)])\n",
        "            \"\"\""
      ]
    },
    {
      "cell_type": "markdown",
      "metadata": {
        "id": "a5DC3T2RT4KN"
      },
      "source": [
        "## Визуализируем примеры для обучения"
      ]
    },
    {
      "cell_type": "code",
      "execution_count": null,
      "metadata": {
        "id": "AaTSmuBnT4KN"
      },
      "outputs": [],
      "source": [
        "%matplotlib inline\n",
        "from matplotlib import pyplot as plt\n",
        "fig = plt.figure(figsize=(16, 8))\n",
        "for i, path in enumerate(train_files[:10], 1):\n",
        "    subplot = fig.add_subplot(2, 5, i)\n",
        "    subplot.set_title('%s' % path.split('/')[-1])\n",
        "    img = cv2.imread(path)[...,::-1]\n",
        "    img = cv2.resize(img, IMG_SIZE)\n",
        "    plt.imshow(img)"
      ]
    },
    {
      "cell_type": "markdown",
      "metadata": {
        "id": "v-B-PG4IT4KQ"
      },
      "source": [
        "## Загружаем предобученную модель"
      ]
    },
    {
      "cell_type": "code",
      "execution_count": null,
      "metadata": {
        "id": "qLX9YYNoT4KR"
      },
      "outputs": [],
      "source": [
        "# base_model - объект класса keras.models.Model (Functional Model)\n",
        "base_model = vgg16.VGG16(weights='imagenet',\n",
        "                         include_top=False,\n",
        "                         input_shape=(IMG_SIZE[0], IMG_SIZE[1], 3))"
      ]
    },
    {
      "cell_type": "code",
      "execution_count": null,
      "metadata": {
        "id": "IDtXiYv0T4KR"
      },
      "outputs": [],
      "source": [
        "base_model.summary()"
      ]
    },
    {
      "cell_type": "markdown",
      "metadata": {
        "id": "W0h5FWdpT4KR"
      },
      "source": [
        "## Добавляем полносвязный слой"
      ]
    },
    {
      "cell_type": "code",
      "execution_count": null,
      "metadata": {
        "id": "Kq16R4ZvT4KS"
      },
      "outputs": [],
      "source": [
        "# фиксируем все веса предобученной сети\n",
        "for layer in base_model.layers:\n",
        "    layer.trainable = False\n",
        "\n",
        "x = base_model.layers[-5].output\n",
        "x = tf.keras.layers.Flatten()(x)\n",
        "x = tf.keras.layers.Dense(1,  # один выход (бинарная классификация)\n",
        "                          activation='sigmoid',  # функция активации\n",
        "                          kernel_regularizer=tf.keras.regularizers.l1(1e-4))(x)\n",
        "\n",
        "model = tf.keras.Model(inputs=base_model.input, outputs=x, name='dogs_vs_cats')"
      ]
    },
    {
      "cell_type": "markdown",
      "metadata": {
        "id": "bpzgJFXhT4KS"
      },
      "source": [
        "## Выводим архитектуру модели"
      ]
    },
    {
      "cell_type": "code",
      "execution_count": null,
      "metadata": {
        "id": "mfG3OjIIT4KS"
      },
      "outputs": [],
      "source": [
        "model.summary()"
      ]
    },
    {
      "cell_type": "markdown",
      "metadata": {
        "id": "d3rNmEpvT4KS"
      },
      "source": [
        "## Компилируем модель и запускаем обучение"
      ]
    },
    {
      "cell_type": "code",
      "execution_count": null,
      "metadata": {
        "id": "oYwM6ZRbT4KT"
      },
      "outputs": [],
      "source": [
        "model.compile(optimizer='adam',\n",
        "              loss='binary_crossentropy',  # функция потерь binary_crossentropy (log loss\n",
        "              metrics=['accuracy'])"
      ]
    },
    {
      "cell_type": "code",
      "execution_count": null,
      "metadata": {
        "scrolled": false,
        "id": "6ne8nyVcT4KT"
      },
      "outputs": [],
      "source": [
        "val_samples = 5  # число изображений в валидационной выборке\n",
        "\n",
        "shuffle(train_files)  # перемешиваем обучающую выборку\n",
        "validation_data = next(fit_generator(train_files[:val_samples], val_samples))\n",
        "train_data = fit_generator(train_files[val_samples:])  # данные читаем функцией-генератором\n",
        "\n",
        "# запускаем процесс обучения\n",
        "model.fit(train_data,\n",
        "          steps_per_epoch=10,  # число вызовов генератора за эпоху\n",
        "          epochs=100,  # число эпох обучения\n",
        "          validation_data=validation_data)"
      ]
    },
    {
      "cell_type": "code",
      "execution_count": null,
      "metadata": {
        "id": "5yQuTuucT4KT"
      },
      "outputs": [],
      "source": [
        "model.save('cats-dogs-vgg16.hdf5')"
      ]
    },
    {
      "cell_type": "markdown",
      "metadata": {
        "id": "gdI97G3cT4KU"
      },
      "source": [
        "## Предсказания на проверочной выборке"
      ]
    },
    {
      "cell_type": "code",
      "execution_count": null,
      "metadata": {
        "id": "aghOXyJfT4KU"
      },
      "outputs": [],
      "source": [
        "test_pred = model.predict(\n",
        "    predict_generator(test_files), steps=len(test_files))"
      ]
    },
    {
      "cell_type": "code",
      "execution_count": null,
      "metadata": {
        "id": "607rHggeT4KV"
      },
      "outputs": [],
      "source": [
        "fig = plt.figure(figsize=(16, 8))\n",
        "for i, (path, score) in enumerate(zip(test_files[:10], test_pred[:10]), 1):\n",
        "    subplot = fig.add_subplot(2, 5, i)\n",
        "    subplot.set_title('%.2f %s' % (score, os.path.basename(path)))\n",
        "    img = cv2.imread(path)[...,::-1]\n",
        "    img = cv2.resize(img, IMG_SIZE)\n",
        "    subplot.imshow(img)"
      ]
    },
    {
      "cell_type": "markdown",
      "metadata": {
        "id": "XY3WY2DmT4KV"
      },
      "source": [
        "## Готовим данные для отправки"
      ]
    },
    {
      "cell_type": "code",
      "execution_count": null,
      "metadata": {
        "id": "69XOywWST4KW"
      },
      "outputs": [],
      "source": [
        "import re\n",
        "\n",
        "with open('submit.txt', 'w') as dst:\n",
        "    dst.write('id,label\\n')\n",
        "    for path, score in zip(test_files, test_pred):\n",
        "        dst.write('%s,%f\\n' % (re.search('(\\d+).jpg$', path).group(1), score))"
      ]
    },
    {
      "cell_type": "code",
      "execution_count": null,
      "metadata": {
        "id": "j6PmXcDvT4KW"
      },
      "outputs": [],
      "source": [
        "# LogLoss = 1.04979"
      ]
    }
  ],
  "metadata": {
    "kernelspec": {
      "display_name": "Python 3",
      "language": "python",
      "name": "python3"
    },
    "language_info": {
      "codemirror_mode": {
        "name": "ipython",
        "version": 3
      },
      "file_extension": ".py",
      "mimetype": "text/x-python",
      "name": "python",
      "nbconvert_exporter": "python",
      "pygments_lexer": "ipython3",
      "version": "3.7.3"
    },
    "colab": {
      "provenance": []
    }
  },
  "nbformat": 4,
  "nbformat_minor": 0
}