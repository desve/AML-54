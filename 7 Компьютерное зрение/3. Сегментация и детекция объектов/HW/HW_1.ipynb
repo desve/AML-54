{
  "cells": [
    {
      "cell_type": "markdown",
      "metadata": {
        "id": "NHuFydmnCGe_"
      },
      "source": [
        "## Digit Recognizer\n",
        "https://www.kaggle.com/c/digit-recognizer"
      ]
    },
    {
      "cell_type": "code",
      "execution_count": 4,
      "metadata": {
        "collapsed": true,
        "colab": {
          "base_uri": "https://localhost:8080/"
        },
        "id": "gdGBUokKCGfE",
        "outputId": "fd23530c-c254-4f16-82cc-f592d160c355"
      },
      "outputs": [
        {
          "output_type": "stream",
          "name": "stdout",
          "text": [
            "4.11.0\n"
          ]
        }
      ],
      "source": [
        "%matplotlib inline\n",
        "import cv2\n",
        "import numpy as np\n",
        "import matplotlib.pyplot as plt\n",
        "print(cv2.__version__)"
      ]
    },
    {
      "cell_type": "markdown",
      "metadata": {
        "id": "mu0KTQZKCGfI"
      },
      "source": [
        "## Загружаем исходные данные"
      ]
    },
    {
      "cell_type": "code",
      "source": [
        "from keras.datasets import mnist\n",
        "\n",
        "(train_X, train_y), (test_X, test_y) = mnist.load_data()"
      ],
      "metadata": {
        "id": "xgw_PidADCKI"
      },
      "execution_count": 18,
      "outputs": []
    },
    {
      "cell_type": "code",
      "source": [
        "# посмотрим на размерность\n",
        "train_X.shape, train_y.shape, test_X.shape, test_y.shape"
      ],
      "metadata": {
        "colab": {
          "base_uri": "https://localhost:8080/"
        },
        "id": "f5FpPlAaEsne",
        "outputId": "8055b9c2-5c2c-4ac4-af01-241b2a3807e3"
      },
      "execution_count": 19,
      "outputs": [
        {
          "output_type": "execute_result",
          "data": {
            "text/plain": [
              "((60000, 28, 28), (60000,), (10000, 28, 28), (10000,))"
            ]
          },
          "metadata": {},
          "execution_count": 19
        }
      ]
    },
    {
      "cell_type": "code",
      "execution_count": 44,
      "metadata": {
        "collapsed": true,
        "id": "UyDzmbvSCGfP"
      },
      "outputs": [],
      "source": [
        "# приводим размерность к удобному для обаботки виду\n",
        "train_img = np.resize(train_X[:, 1:], (train_X.shape[0], 28, 28)).astype('float64')\n",
        "test_img = np.resize(test_X, (test_X.shape[0], 28, 28)).astype('float64')"
      ]
    },
    {
      "cell_type": "code",
      "execution_count": 45,
      "metadata": {
        "colab": {
          "base_uri": "https://localhost:8080/"
        },
        "id": "IARdkkgCCGfQ",
        "outputId": "5621cdef-3ca2-4064-e759-a81084a8fb4c"
      },
      "outputs": [
        {
          "output_type": "execute_result",
          "data": {
            "text/plain": [
              "(60000, 28, 28)"
            ]
          },
          "metadata": {},
          "execution_count": 45
        }
      ],
      "source": [
        "train_img.shape"
      ]
    },
    {
      "cell_type": "markdown",
      "metadata": {
        "id": "RoZWy5OXCGfS"
      },
      "source": [
        "## Визуализируем исходные данные"
      ]
    },
    {
      "cell_type": "code",
      "execution_count": 46,
      "metadata": {
        "colab": {
          "base_uri": "https://localhost:8080/",
          "height": 210
        },
        "id": "vn2coV6lCGfS",
        "outputId": "ebd8246c-e12a-462e-953b-199120ab4f48"
      },
      "outputs": [
        {
          "output_type": "display_data",
          "data": {
            "text/plain": [
              "<Figure size 2000x1000 with 5 Axes>"
            ],
            "image/png": "[encoded data removed]"
          },
          "metadata": {}
        }
      ],
      "source": [
        "fig = plt.figure(figsize=(20, 10))\n",
        "for i, img in enumerate(train_img[0:5], 1):\n",
        "    subplot = fig.add_subplot(1, 7, i)\n",
        "    plt.imshow(img, cmap='gray');\n",
        "    subplot.set_title('%s' % train_y[i - 1]);"
      ]
    },
    {
      "cell_type": "markdown",
      "metadata": {
        "id": "osIOIfGBCGfT"
      },
      "source": [
        "## Вычисляем X и Y составляющие градиента с помощью оператора Собеля"
      ]
    },
    {
      "cell_type": "code",
      "execution_count": 47,
      "metadata": {
        "collapsed": true,
        "id": "BzWwLvv-CGfT"
      },
      "outputs": [],
      "source": [
        "train_sobel_x = np.zeros_like(train_img)\n",
        "train_sobel_y = np.zeros_like(train_img)\n",
        "for i in range(len(train_img)):\n",
        "    train_sobel_x[i] = cv2.Sobel(train_img[i], cv2.CV_64F, dx=1, dy=0, ksize=3)\n",
        "    train_sobel_y[i] = cv2.Sobel(train_img[i], cv2.CV_64F, dx=0, dy=1, ksize=3)"
      ]
    },
    {
      "cell_type": "code",
      "execution_count": 48,
      "metadata": {
        "collapsed": true,
        "id": "32uJ0f18CGfe"
      },
      "outputs": [],
      "source": [
        "test_sobel_x = np.zeros_like(test_img)\n",
        "test_sobel_y = np.zeros_like(test_img)\n",
        "for i in range(len(test_img)):\n",
        "    test_sobel_x[i] = cv2.Sobel(test_img[i], cv2.CV_64F, dx=1, dy=0, ksize=3)\n",
        "    test_sobel_y[i] = cv2.Sobel(test_img[i], cv2.CV_64F, dx=0, dy=1, ksize=3)"
      ]
    },
    {
      "cell_type": "markdown",
      "metadata": {
        "id": "aTaYNuglCGff"
      },
      "source": [
        "## Вычисляем угол и длину вектора градиента"
      ]
    },
    {
      "cell_type": "code",
      "execution_count": 49,
      "metadata": {
        "collapsed": true,
        "id": "Lrb7iwjMCGff"
      },
      "outputs": [],
      "source": [
        "train_g, train_theta = cv2.cartToPolar(train_sobel_x, train_sobel_y)"
      ]
    },
    {
      "cell_type": "code",
      "execution_count": 50,
      "metadata": {
        "collapsed": true,
        "id": "1I0W0LZPCGff"
      },
      "outputs": [],
      "source": [
        "test_g, test_theta = cv2.cartToPolar(test_sobel_x, test_sobel_y)"
      ]
    },
    {
      "cell_type": "code",
      "execution_count": 51,
      "metadata": {
        "colab": {
          "base_uri": "https://localhost:8080/",
          "height": 405
        },
        "id": "38KUm_YuCGfg",
        "outputId": "544e413f-598b-43dc-bf97-47ea9e74ff55"
      },
      "outputs": [
        {
          "output_type": "display_data",
          "data": {
            "text/plain": [
              "<Figure size 2000x1000 with 10 Axes>"
            ],
            "image/png": "[encoded data removed]"
          },
          "metadata": {}
        }
      ],
      "source": [
        "fig = plt.figure(figsize=(20, 10))\n",
        "for i, img in enumerate(train_g[:5], 1):\n",
        "    subplot = fig.add_subplot(1, 7, i)\n",
        "    plt.imshow(img, cmap='gray');\n",
        "    subplot.set_title('%s' % train_y[i - 1]);\n",
        "    subplot = fig.add_subplot(3, 7, i)\n",
        "    plt.hist(train_theta[i - 1].flatten(),\n",
        "             bins=16, weights=train_g[i - 1].flatten())"
      ]
    },
    {
      "cell_type": "markdown",
      "metadata": {
        "id": "RC0A7diLCGfi"
      },
      "source": [
        "## Вычисляем гистограммы градиентов"
      ]
    },
    {
      "cell_type": "code",
      "execution_count": 52,
      "metadata": {
        "collapsed": true,
        "id": "iFYCrd43CGfi"
      },
      "outputs": [],
      "source": [
        "# Гистограммы вычисляются с учетом длины вектора градиента\n",
        "train_hist = np.zeros((len(train_img), 16))\n",
        "for i in range(len(train_img)):\n",
        "    hist, borders = np.histogram(train_theta[i],\n",
        "                                 bins=16,\n",
        "                                 range=(0., 2. * np.pi),\n",
        "                                 weights=train_g[i])\n",
        "    train_hist[i] = hist"
      ]
    },
    {
      "cell_type": "code",
      "execution_count": 53,
      "metadata": {
        "collapsed": true,
        "id": "fQ5fSbgNCGfj"
      },
      "outputs": [],
      "source": [
        "test_hist = np.zeros((len(test_img), 16))\n",
        "for i in range(len(test_img)):\n",
        "    hist, borders = np.histogram(test_theta[i],\n",
        "                                 bins=16,\n",
        "                                 range=(0., 2. * np.pi),\n",
        "                                 weights=test_g[i])\n",
        "    test_hist[i] = hist"
      ]
    },
    {
      "cell_type": "markdown",
      "metadata": {
        "id": "34chSmpVCGfj"
      },
      "source": [
        "## Нормируем вектор гистограммы"
      ]
    },
    {
      "cell_type": "code",
      "execution_count": 54,
      "metadata": {
        "collapsed": true,
        "id": "LKVtlJIjCGfj"
      },
      "outputs": [],
      "source": [
        "# По умолчанию используется L2 норма\n",
        "train_hist = train_hist / np.linalg.norm(train_hist, axis=1)[:, None]"
      ]
    },
    {
      "cell_type": "code",
      "execution_count": 55,
      "metadata": {
        "collapsed": true,
        "id": "n-ggR8i9CGfk"
      },
      "outputs": [],
      "source": [
        "test_hist = test_hist / np.linalg.norm(test_hist, axis=1)[:, None]"
      ]
    },
    {
      "cell_type": "markdown",
      "metadata": {
        "id": "SdoWUhpnCGfk"
      },
      "source": [
        "## Разбиваем выборку на обучение и валидацию"
      ]
    },
    {
      "cell_type": "code",
      "execution_count": 57,
      "metadata": {
        "collapsed": true,
        "id": "QUgtN3IKCGfk"
      },
      "outputs": [],
      "source": [
        "from sklearn.model_selection import train_test_split\n",
        "y_train, y_val, x_train, x_val = train_test_split(\n",
        "    train_y, train_hist, test_size=0.2,\n",
        "    random_state=42)"
      ]
    },
    {
      "cell_type": "markdown",
      "metadata": {
        "id": "7_fBhfS_CGfk"
      },
      "source": [
        "## Вычисляем центроиды каждого из 10 классов"
      ]
    },
    {
      "cell_type": "code",
      "execution_count": 58,
      "metadata": {
        "collapsed": true,
        "id": "mldkbz9LCGfl"
      },
      "outputs": [],
      "source": [
        "centroids = np.zeros((10, train_hist.shape[1]), dtype=np.float32)"
      ]
    },
    {
      "cell_type": "code",
      "execution_count": 59,
      "metadata": {
        "collapsed": true,
        "id": "jrRpRXTqCGfl"
      },
      "outputs": [],
      "source": [
        "for i in range(10):\n",
        "    centroids[i] = np.mean(x_train[y_train == i], axis=0)"
      ]
    },
    {
      "cell_type": "markdown",
      "metadata": {
        "id": "uqf6iwIkCGfl"
      },
      "source": [
        "## Находим ближайший центройд для валидации"
      ]
    },
    {
      "cell_type": "code",
      "execution_count": 60,
      "metadata": {
        "collapsed": true,
        "id": "qbIdqp4PCGfl"
      },
      "outputs": [],
      "source": [
        "pred_val = np.zeros_like(y_val)\n",
        "for i in range(len(y_val)):\n",
        "    distances = np.linalg.norm(centroids - x_val[i], axis=1)\n",
        "    pred_val[i] = np.argmin(distances)"
      ]
    },
    {
      "cell_type": "markdown",
      "metadata": {
        "id": "GCknicSnCGfl"
      },
      "source": [
        "## Оцениваем качество решение на валидационной выборке"
      ]
    },
    {
      "cell_type": "code",
      "execution_count": 61,
      "metadata": {
        "colab": {
          "base_uri": "https://localhost:8080/"
        },
        "id": "Gf4F2tLQCGfm",
        "outputId": "b5eb5f3b-d26c-4933-d835-56503fe858d7"
      },
      "outputs": [
        {
          "output_type": "stream",
          "name": "stdout",
          "text": [
            "Accuracy: 0.09983333333333333\n"
          ]
        }
      ],
      "source": [
        "from sklearn.metrics import accuracy_score\n",
        "print('Accuracy: %s' % accuracy_score(y_val, pred_val))"
      ]
    },
    {
      "cell_type": "code",
      "execution_count": 62,
      "metadata": {
        "colab": {
          "base_uri": "https://localhost:8080/"
        },
        "id": "5DhtbO75CGfm",
        "outputId": "d2fee308-083d-425a-9da2-0af122baaa97"
      },
      "outputs": [
        {
          "output_type": "stream",
          "name": "stdout",
          "text": [
            "              precision    recall  f1-score   support\n",
            "\n",
            "           0       0.12      0.06      0.08      1175\n",
            "           1       0.12      0.17      0.14      1322\n",
            "           2       0.09      0.06      0.07      1174\n",
            "           3       0.11      0.05      0.07      1219\n",
            "           4       0.10      0.25      0.14      1176\n",
            "           5       0.09      0.13      0.11      1104\n",
            "           6       0.09      0.08      0.09      1177\n",
            "           7       0.10      0.14      0.12      1299\n",
            "           8       0.13      0.01      0.01      1160\n",
            "           9       0.10      0.04      0.05      1194\n",
            "\n",
            "    accuracy                           0.10     12000\n",
            "   macro avg       0.10      0.10      0.09     12000\n",
            "weighted avg       0.10      0.10      0.09     12000\n",
            "\n"
          ]
        }
      ],
      "source": [
        "from sklearn.metrics import classification_report\n",
        "print(classification_report(y_val, pred_val))"
      ]
    },
    {
      "cell_type": "code",
      "execution_count": 63,
      "metadata": {
        "colab": {
          "base_uri": "https://localhost:8080/"
        },
        "id": "Bggo6tUsCGfm",
        "outputId": "096cfdbe-127c-40b0-9232-0b1d170e0616"
      },
      "outputs": [
        {
          "output_type": "stream",
          "name": "stdout",
          "text": [
            "[[ 67 207  73  55 311 145 112 153   4  48]\n",
            " [ 50 229  94  78 312 188 108 206   6  51]\n",
            " [ 45 170  66  56 326 150 117 199   5  40]\n",
            " [ 67 198  83  63 281 200 106 171   5  45]\n",
            " [ 60 184  79  57 292 156 117 185   7  39]\n",
            " [ 41 204  72  47 281 147  79 186   3  44]\n",
            " [ 74 161  61  57 304 164  97 205   4  50]\n",
            " [ 48 221  71  80 339 175 130 185   9  41]\n",
            " [ 53 203  80  57 294 151 101 168   7  46]\n",
            " [ 49 199  83  46 309 161 106 193   3  45]]\n"
          ]
        }
      ],
      "source": [
        "from sklearn.metrics import confusion_matrix\n",
        "print(confusion_matrix(y_val, pred_val))"
      ]
    },
    {
      "cell_type": "markdown",
      "metadata": {
        "id": "-qOJaGykCGfn"
      },
      "source": [
        "## Предсказания на тестовыйх данных"
      ]
    },
    {
      "cell_type": "code",
      "execution_count": 64,
      "metadata": {
        "collapsed": true,
        "id": "dI0Y2qz-CGfn"
      },
      "outputs": [],
      "source": [
        "pred_test = np.zeros(len(test_img), np.uint8)\n",
        "for i in range(len(test_img)):\n",
        "    distances = np.linalg.norm(centroids - test_hist[i], axis=1)\n",
        "    pred_test[i] = np.argmin(distances)"
      ]
    },
    {
      "cell_type": "markdown",
      "metadata": {
        "id": "3Tikj84RCGfn"
      },
      "source": [
        "## Визуализируем предсказания"
      ]
    },
    {
      "cell_type": "code",
      "execution_count": 65,
      "metadata": {
        "colab": {
          "base_uri": "https://localhost:8080/",
          "height": 210
        },
        "id": "Zkavew1kCGfn",
        "outputId": "3750986f-5c03-4e6a-b5e3-9136fb56f217"
      },
      "outputs": [
        {
          "output_type": "display_data",
          "data": {
            "text/plain": [
              "<Figure size 2000x1000 with 5 Axes>"
            ],
            "image/png": "[encoded data removed]"
          },
          "metadata": {}
        }
      ],
      "source": [
        "fig = plt.figure(figsize=(20, 10))\n",
        "for i, img in enumerate(test_img[0:5], 1):\n",
        "    subplot = fig.add_subplot(1, 7, i)\n",
        "    plt.imshow(img, cmap='gray');\n",
        "    subplot.set_title('%s' % pred_test[i - 1]);"
      ]
    },
    {
      "cell_type": "markdown",
      "metadata": {
        "id": "OiHnSPGuCGfo"
      },
      "source": [
        "## Готовим файл для отправки"
      ]
    },
    {
      "cell_type": "code",
      "execution_count": 66,
      "metadata": {
        "collapsed": true,
        "id": "bj-qTyKYCGfo"
      },
      "outputs": [],
      "source": [
        "with open('submit.txt', 'w') as dst:\n",
        "    dst.write('ImageId,Label\\n')\n",
        "    for i, p in enumerate(pred_test, 1):\n",
        "        dst.write('%s,%s\\n' % (i, p))"
      ]
    },
    {
      "cell_type": "code",
      "execution_count": 67,
      "metadata": {
        "colab": {
          "base_uri": "https://localhost:8080/"
        },
        "id": "HjQFJ1mkCGfo",
        "outputId": "e0529ebf-d2fe-461f-e906-d2c2d7abfdd6"
      },
      "outputs": [
        {
          "output_type": "stream",
          "name": "stdout",
          "text": [
            "ImageId,Label\n",
            "1,3\n",
            "2,2\n",
            "3,5\n",
            "4,1\n",
            "5,5\n",
            "6,5\n",
            "7,7\n",
            "8,6\n",
            "9,2\n"
          ]
        }
      ],
      "source": [
        "!head submit.txt"
      ]
    },
    {
      "cell_type": "code",
      "execution_count": null,
      "metadata": {
        "collapsed": true,
        "id": "VSs2fnfICGfw"
      },
      "outputs": [],
      "source": [
        "# Your submission scored 0.41700"
      ]
    }
  ],
  "metadata": {
    "kernelspec": {
      "display_name": "Python 3",
      "language": "python",
      "name": "python3"
    },
    "language_info": {
      "codemirror_mode": {
        "name": "ipython",
        "version": 3
      },
      "file_extension": ".py",
      "mimetype": "text/x-python",
      "name": "python",
      "nbconvert_exporter": "python",
      "pygments_lexer": "ipython3",
      "version": "3.6.4"
    },
    "colab": {
      "provenance": []
    }
  },
  "nbformat": 4,
  "nbformat_minor": 0
}