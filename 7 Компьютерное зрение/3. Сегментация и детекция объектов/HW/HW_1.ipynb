{
  "cells": [
    {
      "cell_type": "markdown",
      "metadata": {
        "id": "NHuFydmnCGe_"
      },
      "source": [
        "## Digit Recognizer\n",
        "https://www.kaggle.com/c/digit-recognizer"
      ]
    },
    {
      "cell_type": "code",
      "execution_count": 4,
      "metadata": {
        "collapsed": true,
        "id": "gdGBUokKCGfE",
        "outputId": "fd23530c-c254-4f16-82cc-f592d160c355",
        "colab": {
          "base_uri": "https://localhost:8080/"
        }
      },
      "outputs": [
        {
          "output_type": "stream",
          "name": "stdout",
          "text": [
            "4.11.0\n"
          ]
        }
      ],
      "source": [
        "%matplotlib inline\n",
        "import cv2\n",
        "import numpy as np\n",
        "import matplotlib.pyplot as plt\n",
        "print(cv2.__version__)"
      ]
    },
    {
      "cell_type": "markdown",
      "metadata": {
        "id": "mu0KTQZKCGfI"
      },
      "source": [
        "## Загружаем исходные данные"
      ]
    },
    {
      "cell_type": "code",
      "source": [
        "from keras.datasets import mnist\n",
        "\n",
        "(train_X, train_y), (test_X, test_y) = mnist.load_data()"
      ],
      "metadata": {
        "id": "xgw_PidADCKI"
      },
      "execution_count": 18,
      "outputs": []
    },
    {
      "cell_type": "code",
      "source": [
        "# посмотрим на размерность\n",
        "train_X.shape, train_y.shape, test_X.shape, test_y.shape"
      ],
      "metadata": {
        "id": "f5FpPlAaEsne",
        "outputId": "8055b9c2-5c2c-4ac4-af01-241b2a3807e3",
        "colab": {
          "base_uri": "https://localhost:8080/"
        }
      },
      "execution_count": 19,
      "outputs": [
        {
          "output_type": "execute_result",
          "data": {
            "text/plain": [
              "((60000, 28, 28), (60000,), (10000, 28, 28), (10000,))"
            ]
          },
          "metadata": {},
          "execution_count": 19
        }
      ]
    },
    {
      "cell_type": "code",
      "execution_count": 24,
      "metadata": {
        "collapsed": true,
        "id": "UyDzmbvSCGfP"
      },
      "outputs": [],
      "source": [
        "# приводим размерность к удобному для обаботки виду\n",
        "train_img = np.resize(train_X[:, 1:], (train_X.shape[0], 28, 28))\n",
        "test_img = np.resize(test_X, (test_X.shape[0], 28, 28))"
      ]
    },
    {
      "cell_type": "code",
      "execution_count": 25,
      "metadata": {
        "id": "IARdkkgCCGfQ",
        "outputId": "eddfd305-cccd-4a6b-f362-12943fe8cd5d",
        "colab": {
          "base_uri": "https://localhost:8080/"
        }
      },
      "outputs": [
        {
          "output_type": "execute_result",
          "data": {
            "text/plain": [
              "(60000, 28, 28)"
            ]
          },
          "metadata": {},
          "execution_count": 25
        }
      ],
      "source": [
        "train_img.shape"
      ]
    },
    {
      "cell_type": "markdown",
      "metadata": {
        "id": "RoZWy5OXCGfS"
      },
      "source": [
        "## Визуализируем исходные данные"
      ]
    },
    {
      "cell_type": "code",
      "execution_count": 26,
      "metadata": {
        "id": "vn2coV6lCGfS",
        "outputId": "f002481b-6749-4818-e68e-847a92168caa",
        "colab": {
          "base_uri": "https://localhost:8080/",
          "height": 210
        }
      },
      "outputs": [
        {
          "output_type": "display_data",
          "data": {
            "text/plain": [
              "<Figure size 2000x1000 with 5 Axes>"
            ],
            "image/png": "[encoded data removed]"
          },
          "metadata": {}
        }
      ],
      "source": [
        "fig = plt.figure(figsize=(20, 10))\n",
        "for i, img in enumerate(train_img[0:5], 1):\n",
        "    subplot = fig.add_subplot(1, 7, i)\n",
        "    plt.imshow(img, cmap='gray');\n",
        "    subplot.set_title('%s' % train_y[i - 1]);"
      ]
    },
    {
      "cell_type": "markdown",
      "metadata": {
        "id": "osIOIfGBCGfT"
      },
      "source": [
        "## Вычисляем X и Y составляющие градиента с помощью оператора Собеля"
      ]
    },
    {
      "cell_type": "code",
      "execution_count": 38,
      "metadata": {
        "collapsed": true,
        "id": "BzWwLvv-CGfT"
      },
      "outputs": [],
      "source": [
        "train_sobel_x = np.zeros_like(train_img)\n",
        "train_sobel_y = np.zeros_like(train_img)\n",
        "for i in range(len(train_img)):\n",
        "    train_sobel_x[i] = cv2.Sobel(train_img[i], cv2.CV_64F, dx=1, dy=0, ksize=3)\n",
        "    train_sobel_y[i] = cv2.Sobel(train_img[i], cv2.CV_64F, dx=0, dy=1, ksize=3)"
      ]
    },
    {
      "cell_type": "code",
      "execution_count": 39,
      "metadata": {
        "collapsed": true,
        "id": "32uJ0f18CGfe"
      },
      "outputs": [],
      "source": [
        "test_sobel_x = np.zeros_like(test_img)\n",
        "test_sobel_y = np.zeros_like(test_img)\n",
        "for i in range(len(test_img)):\n",
        "    test_sobel_x[i] = cv2.Sobel(test_img[i], cv2.CV_64F, dx=1, dy=0, ksize=3)\n",
        "    test_sobel_y[i] = cv2.Sobel(test_img[i], cv2.CV_64F, dx=0, dy=1, ksize=3)"
      ]
    },
    {
      "cell_type": "markdown",
      "metadata": {
        "id": "aTaYNuglCGff"
      },
      "source": [
        "## Вычисляем угол и длину вектора градиента"
      ]
    },
    {
      "cell_type": "code",
      "execution_count": 40,
      "metadata": {
        "collapsed": true,
        "id": "Lrb7iwjMCGff",
        "outputId": "070534e4-b83e-4e13-8d90-07fe888c14f4",
        "colab": {
          "base_uri": "https://localhost:8080/",
          "height": 167
        }
      },
      "outputs": [
        {
          "output_type": "error",
          "ename": "error",
          "evalue": "OpenCV(4.11.0) /io/opencv/modules/core/src/mathfuncs.cpp:290: error: (-215:Assertion failed) X.size == Y.size && type == Y.type() && (depth == CV_32F || depth == CV_64F) in function 'cartToPolar'\n",
          "traceback": [
            "\u001b[0;31m---------------------------------------------------------------------------\u001b[0m",
            "\u001b[0;31merror\u001b[0m                                     Traceback (most recent call last)",
            "\u001b[0;32m<ipython-input-40-00111acbdc13>\u001b[0m in \u001b[0;36m<cell line: 0>\u001b[0;34m()\u001b[0m\n\u001b[0;32m----> 1\u001b[0;31m \u001b[0mtrain_g\u001b[0m\u001b[0;34m,\u001b[0m \u001b[0mtrain_theta\u001b[0m \u001b[0;34m=\u001b[0m \u001b[0mcv2\u001b[0m\u001b[0;34m.\u001b[0m\u001b[0mcartToPolar\u001b[0m\u001b[0;34m(\u001b[0m\u001b[0mtrain_sobel_x\u001b[0m\u001b[0;34m,\u001b[0m \u001b[0mtrain_sobel_y\u001b[0m\u001b[0;34m)\u001b[0m\u001b[0;34m\u001b[0m\u001b[0;34m\u001b[0m\u001b[0m\n\u001b[0m",
            "\u001b[0;31merror\u001b[0m: OpenCV(4.11.0) /io/opencv/modules/core/src/mathfuncs.cpp:290: error: (-215:Assertion failed) X.size == Y.size && type == Y.type() && (depth == CV_32F || depth == CV_64F) in function 'cartToPolar'\n"
          ]
        }
      ],
      "source": [
        "train_g, train_theta = cv2.cartToPolar(train_sobel_x, train_sobel_y)"
      ]
    },
    {
      "cell_type": "code",
      "execution_count": 37,
      "metadata": {
        "collapsed": true,
        "id": "1I0W0LZPCGff",
        "outputId": "6cd52e92-f85c-4dcc-e9ae-1f873fd163d4",
        "colab": {
          "base_uri": "https://localhost:8080/",
          "height": 167
        }
      },
      "outputs": [
        {
          "output_type": "error",
          "ename": "error",
          "evalue": "OpenCV(4.11.0) /io/opencv/modules/core/src/mathfuncs.cpp:290: error: (-215:Assertion failed) X.size == Y.size && type == Y.type() && (depth == CV_32F || depth == CV_64F) in function 'cartToPolar'\n",
          "traceback": [
            "\u001b[0;31m---------------------------------------------------------------------------\u001b[0m",
            "\u001b[0;31merror\u001b[0m                                     Traceback (most recent call last)",
            "\u001b[0;32m<ipython-input-37-d64fd63a634b>\u001b[0m in \u001b[0;36m<cell line: 0>\u001b[0;34m()\u001b[0m\n\u001b[0;32m----> 1\u001b[0;31m \u001b[0mtest_g\u001b[0m\u001b[0;34m,\u001b[0m \u001b[0mtest_theta\u001b[0m \u001b[0;34m=\u001b[0m \u001b[0mcv2\u001b[0m\u001b[0;34m.\u001b[0m\u001b[0mcartToPolar\u001b[0m\u001b[0;34m(\u001b[0m\u001b[0mtest_sobel_x\u001b[0m\u001b[0;34m,\u001b[0m \u001b[0mtest_sobel_y\u001b[0m\u001b[0;34m)\u001b[0m\u001b[0;34m\u001b[0m\u001b[0;34m\u001b[0m\u001b[0m\n\u001b[0m",
            "\u001b[0;31merror\u001b[0m: OpenCV(4.11.0) /io/opencv/modules/core/src/mathfuncs.cpp:290: error: (-215:Assertion failed) X.size == Y.size && type == Y.type() && (depth == CV_32F || depth == CV_64F) in function 'cartToPolar'\n"
          ]
        }
      ],
      "source": [
        "test_g, test_theta = cv2.cartToPolar(test_sobel_x, test_sobel_y)"
      ]
    },
    {
      "cell_type": "code",
      "execution_count": null,
      "metadata": {
        "id": "38KUm_YuCGfg",
        "outputId": "5de5a328-1abf-435f-9e82-16829a674c8b"
      },
      "outputs": [
        {
          "data": {
            "image/png": "[encoded data removed]",
            "text/plain": [
              "<matplotlib.figure.Figure at 0x112a88828>"
            ]
          },
          "metadata": {},
          "output_type": "display_data"
        }
      ],
      "source": [
        "fig = plt.figure(figsize=(20, 10))\n",
        "for i, img in enumerate(train_g[:5], 1):\n",
        "    subplot = fig.add_subplot(1, 7, i)\n",
        "    plt.imshow(img, cmap='gray');\n",
        "    subplot.set_title('%s' % train_label[i - 1]);\n",
        "    subplot = fig.add_subplot(3, 7, i)\n",
        "    plt.hist(train_theta[i - 1].flatten(),\n",
        "             bins=16, weights=train_g[i - 1].flatten())"
      ]
    },
    {
      "cell_type": "markdown",
      "metadata": {
        "id": "RC0A7diLCGfi"
      },
      "source": [
        "## Вычисляем гистограммы градиентов"
      ]
    },
    {
      "cell_type": "code",
      "execution_count": null,
      "metadata": {
        "collapsed": true,
        "id": "iFYCrd43CGfi"
      },
      "outputs": [],
      "source": [
        "# Гистограммы вычисляются с учетом длины вектора градиента\n",
        "train_hist = np.zeros((len(train_img), 16))\n",
        "for i in range(len(train_img)):\n",
        "    hist, borders = np.histogram(train_theta[i],\n",
        "                                 bins=16,\n",
        "                                 range=(0., 2. * np.pi),\n",
        "                                 weights=train_g[i])\n",
        "    train_hist[i] = hist"
      ]
    },
    {
      "cell_type": "code",
      "execution_count": null,
      "metadata": {
        "collapsed": true,
        "id": "fQ5fSbgNCGfj"
      },
      "outputs": [],
      "source": [
        "test_hist = np.zeros((len(test_img), 16))\n",
        "for i in range(len(test_img)):\n",
        "    hist, borders = np.histogram(test_theta[i],\n",
        "                                 bins=16,\n",
        "                                 range=(0., 2. * np.pi),\n",
        "                                 weights=test_g[i])\n",
        "    test_hist[i] = hist"
      ]
    },
    {
      "cell_type": "markdown",
      "metadata": {
        "id": "34chSmpVCGfj"
      },
      "source": [
        "## Нормируем вектор гистограммы"
      ]
    },
    {
      "cell_type": "code",
      "execution_count": null,
      "metadata": {
        "collapsed": true,
        "id": "LKVtlJIjCGfj"
      },
      "outputs": [],
      "source": [
        "# По умолчанию используется L2 норма\n",
        "train_hist = train_hist / np.linalg.norm(train_hist, axis=1)[:, None]"
      ]
    },
    {
      "cell_type": "code",
      "execution_count": null,
      "metadata": {
        "collapsed": true,
        "id": "n-ggR8i9CGfk"
      },
      "outputs": [],
      "source": [
        "test_hist = test_hist / np.linalg.norm(test_hist, axis=1)[:, None]"
      ]
    },
    {
      "cell_type": "markdown",
      "metadata": {
        "id": "SdoWUhpnCGfk"
      },
      "source": [
        "## Разбиваем выборку на обучение и валидацию"
      ]
    },
    {
      "cell_type": "code",
      "execution_count": null,
      "metadata": {
        "collapsed": true,
        "id": "QUgtN3IKCGfk"
      },
      "outputs": [],
      "source": [
        "from sklearn.model_selection import train_test_split\n",
        "y_train, y_val, x_train, x_val = train_test_split(\n",
        "    train_label, train_hist, test_size=0.2,\n",
        "    random_state=42)"
      ]
    },
    {
      "cell_type": "markdown",
      "metadata": {
        "id": "7_fBhfS_CGfk"
      },
      "source": [
        "## Вычисляем центроиды каждого из 10 классов"
      ]
    },
    {
      "cell_type": "code",
      "execution_count": null,
      "metadata": {
        "collapsed": true,
        "id": "mldkbz9LCGfl"
      },
      "outputs": [],
      "source": [
        "centroids = np.zeros((10, train_hist.shape[1]), dtype=np.float32)"
      ]
    },
    {
      "cell_type": "code",
      "execution_count": null,
      "metadata": {
        "collapsed": true,
        "id": "jrRpRXTqCGfl"
      },
      "outputs": [],
      "source": [
        "for i in range(10):\n",
        "    centroids[i] = np.mean(x_train[y_train == i], axis=0)"
      ]
    },
    {
      "cell_type": "markdown",
      "metadata": {
        "id": "uqf6iwIkCGfl"
      },
      "source": [
        "## Находим ближайший центройд для валидации"
      ]
    },
    {
      "cell_type": "code",
      "execution_count": null,
      "metadata": {
        "collapsed": true,
        "id": "qbIdqp4PCGfl"
      },
      "outputs": [],
      "source": [
        "pred_val = np.zeros_like(y_val)\n",
        "for i in range(len(y_val)):\n",
        "    distances = np.linalg.norm(centroids - x_val[i], axis=1)\n",
        "    pred_val[i] = np.argmin(distances)"
      ]
    },
    {
      "cell_type": "markdown",
      "metadata": {
        "id": "GCknicSnCGfl"
      },
      "source": [
        "## Оцениваем качество решение на валидационной выборке"
      ]
    },
    {
      "cell_type": "code",
      "execution_count": null,
      "metadata": {
        "id": "Gf4F2tLQCGfm",
        "outputId": "a4fb5ec8-f216-456b-fcdc-6a16af7790eb"
      },
      "outputs": [
        {
          "name": "stdout",
          "output_type": "stream",
          "text": [
            "Accuracy: 0.427023809524\n"
          ]
        }
      ],
      "source": [
        "from sklearn.metrics import accuracy_score\n",
        "print('Accuracy: %s' % accuracy_score(y_val, pred_val))"
      ]
    },
    {
      "cell_type": "code",
      "execution_count": null,
      "metadata": {
        "id": "5DhtbO75CGfm",
        "outputId": "390afa23-b3cf-4c00-e25b-33cbff4f70ba"
      },
      "outputs": [
        {
          "name": "stdout",
          "output_type": "stream",
          "text": [
            "             precision    recall  f1-score   support\n",
            "\n",
            "        0.0       0.34      0.12      0.18       816\n",
            "        1.0       0.59      0.76      0.66       909\n",
            "        2.0       0.33      0.29      0.31       846\n",
            "        3.0       0.55      0.49      0.51       937\n",
            "        4.0       0.33      0.31      0.32       839\n",
            "        5.0       0.46      0.67      0.55       702\n",
            "        6.0       0.24      0.45      0.31       785\n",
            "        7.0       0.73      0.41      0.53       893\n",
            "        8.0       0.39      0.49      0.44       835\n",
            "        9.0       0.48      0.27      0.34       838\n",
            "\n",
            "avg / total       0.45      0.43      0.42      8400\n",
            "\n"
          ]
        }
      ],
      "source": [
        "from sklearn.metrics import classification_report\n",
        "print(classification_report(y_val, pred_val))"
      ]
    },
    {
      "cell_type": "code",
      "execution_count": null,
      "metadata": {
        "id": "Bggo6tUsCGfm",
        "outputId": "1d063d84-ca7a-49d8-aecb-c6a46c474d16"
      },
      "outputs": [
        {
          "name": "stdout",
          "output_type": "stream",
          "text": [
            "[[102  24  82  30 106  18 221   7 179  47]\n",
            " [  0 692   2   0  44   1 139  17  13   1]\n",
            " [ 21   0 245 158  12 203  54  16 119  18]\n",
            " [ 14   0 113 456   3 235   7   2  98   9]\n",
            " [ 11 248   5   2 260   0 205  43  37  28]\n",
            " [  3   0  84  97   5 472   3   4  33   1]\n",
            " [ 53  26  66  11 116   4 355  13  76  65]\n",
            " [  4 113  38  16  66  41 189 368  15  43]\n",
            " [ 81   6  68  44  36  44 107   3 411  35]\n",
            " [ 11  73  31  20 149  11 222  30  65 226]]\n"
          ]
        }
      ],
      "source": [
        "from sklearn.metrics import confusion_matrix\n",
        "print(confusion_matrix(y_val, pred_val))"
      ]
    },
    {
      "cell_type": "markdown",
      "metadata": {
        "id": "-qOJaGykCGfn"
      },
      "source": [
        "## Предсказания на тестовыйх данных"
      ]
    },
    {
      "cell_type": "code",
      "execution_count": null,
      "metadata": {
        "collapsed": true,
        "id": "dI0Y2qz-CGfn"
      },
      "outputs": [],
      "source": [
        "pred_test = np.zeros(len(test_img), np.uint8)\n",
        "for i in range(len(test_img)):\n",
        "    distances = np.linalg.norm(centroids - test_hist[i], axis=1)\n",
        "    pred_test[i] = np.argmin(distances)"
      ]
    },
    {
      "cell_type": "markdown",
      "metadata": {
        "id": "3Tikj84RCGfn"
      },
      "source": [
        "## Визуализируем предсказания"
      ]
    },
    {
      "cell_type": "code",
      "execution_count": null,
      "metadata": {
        "id": "Zkavew1kCGfn",
        "outputId": "4beefc44-24ce-4576-bf4d-af7b7773d3ec"
      },
      "outputs": [
        {
          "data": {
            "image/png": "[encoded data removed]",
            "text/plain": [
              "<matplotlib.figure.Figure at 0x1212af1d0>"
            ]
          },
          "metadata": {},
          "output_type": "display_data"
        }
      ],
      "source": [
        "fig = plt.figure(figsize=(20, 10))\n",
        "for i, img in enumerate(test_img[0:5], 1):\n",
        "    subplot = fig.add_subplot(1, 7, i)\n",
        "    plt.imshow(img, cmap='gray');\n",
        "    subplot.set_title('%s' % pred_test[i - 1]);"
      ]
    },
    {
      "cell_type": "markdown",
      "metadata": {
        "id": "OiHnSPGuCGfo"
      },
      "source": [
        "## Готовим файл для отправки"
      ]
    },
    {
      "cell_type": "code",
      "execution_count": null,
      "metadata": {
        "collapsed": true,
        "id": "bj-qTyKYCGfo"
      },
      "outputs": [],
      "source": [
        "with open('submit.txt', 'w') as dst:\n",
        "    dst.write('ImageId,Label\\n')\n",
        "    for i, p in enumerate(pred_test, 1):\n",
        "        dst.write('%s,%s\\n' % (i, p))"
      ]
    },
    {
      "cell_type": "code",
      "execution_count": null,
      "metadata": {
        "id": "HjQFJ1mkCGfo"
      },
      "outputs": [],
      "source": [
        "!head submit.txt"
      ]
    },
    {
      "cell_type": "code",
      "execution_count": null,
      "metadata": {
        "collapsed": true,
        "id": "VSs2fnfICGfw"
      },
      "outputs": [],
      "source": [
        "# Your submission scored 0.41700"
      ]
    }
  ],
  "metadata": {
    "kernelspec": {
      "display_name": "Python 3",
      "language": "python",
      "name": "python3"
    },
    "language_info": {
      "codemirror_mode": {
        "name": "ipython",
        "version": 3
      },
      "file_extension": ".py",
      "mimetype": "text/x-python",
      "name": "python",
      "nbconvert_exporter": "python",
      "pygments_lexer": "ipython3",
      "version": "3.6.4"
    },
    "colab": {
      "provenance": []
    }
  },
  "nbformat": 4,
  "nbformat_minor": 0
}