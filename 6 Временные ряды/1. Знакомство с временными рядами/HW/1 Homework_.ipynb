{
  "cells": [
    {
      "cell_type": "markdown",
      "source": [
        "##Домашняя работа № 1. Временные ряды, общая теория"
      ],
      "metadata": {
        "id": "-5LYfrJ44Ct2"
      }
    },
    {
      "cell_type": "code",
      "source": [
        "import pandas as pd\n",
        "import numpy as np"
      ],
      "metadata": {
        "id": "FQlHIoCWIpV_"
      },
      "execution_count": 4,
      "outputs": []
    },
    {
      "cell_type": "code",
      "execution_count": 1,
      "metadata": {
        "id": "KRgTeoSI4ABz",
        "colab": {
          "base_uri": "https://localhost:8080/"
        },
        "outputId": "0e58c465-25f3-4ab6-c3c6-795ce4731e27"
      },
      "outputs": [
        {
          "output_type": "stream",
          "name": "stdout",
          "text": [
            "--2025-02-12 17:06:39--  https://u.netology.ru/backend/uploads/lms/attachments/files/data/47497/1._%D0%9B%D0%B5%D0%BA%D1%86%D0%B8%D1%8F_tsml.zip\n",
            "Resolving u.netology.ru (u.netology.ru)... 213.180.193.247, 2a02:6b8::1da\n",
            "Connecting to u.netology.ru (u.netology.ru)|213.180.193.247|:443... connected.\n",
            "HTTP request sent, awaiting response... 200 OK\n",
            "Length: 769056 (751K) [application/x-zip-compressed]\n",
            "Saving to: ‘1._Лекция_tsml.zip’\n",
            "\n",
            "1._Лекция_tsml.zip  100%[===================>] 751.03K   868KB/s    in 0.9s    \n",
            "\n",
            "2025-02-12 17:06:41 (868 KB/s) - ‘1._Лекция_tsml.zip’ saved [769056/769056]\n",
            "\n"
          ]
        }
      ],
      "source": [
        "# загрузим данные\n",
        "!wget 'https://u.netology.ru/backend/uploads/lms/attachments/files/data/47497/1._Лекция_tsml.zip'"
      ]
    },
    {
      "cell_type": "code",
      "source": [
        "# распакуем\n",
        "import zipfile\n",
        "\n",
        "with zipfile.ZipFile('/content/1._Лекция_tsml.zip', 'r') as zip_ref:\n",
        "    zip_ref.extractall('unpacked_files')"
      ],
      "metadata": {
        "id": "F3gIkgvhIQGJ"
      },
      "execution_count": 2,
      "outputs": []
    },
    {
      "cell_type": "code",
      "source": [
        "# прочитаем\n",
        "\n",
        "monthly_sales_of_company_x_jan_6 = pd.read_csv('/content/unpacked_files/Series/monthly-sales-of-company-x-jan-6.csv')\n",
        "\n",
        "monthly_boston_armed_robberies_j = pd.read_csv('/content/unpacked_files/Series/monthly-boston-armed-robberies-j.csv')\n",
        "\n",
        "international_airline_passengers = pd.read_csv('/content/unpacked_files/Series/international-airline-passengers.csv')\n",
        "\n",
        "mean_monthly_air_temperature_deg = pd.read_csv('/content/unpacked_files/Series/mean-monthly-air-temperature-deg.csv')\n",
        "\n",
        "weekly_closings_of_the_dowjones_ = pd.read_csv('/content/unpacked_files/Series/weekly-closings-of-the-dowjones-.csv')\n",
        "\n",
        "daily_total_female_births_in_cal = pd.read_csv('/content/unpacked_files/Series/daily-total-female-births-in-cal.csv')"
      ],
      "metadata": {
        "id": "aUgwb2qUI0FC"
      },
      "execution_count": 6,
      "outputs": []
    }
  ],
  "metadata": {
    "kernelspec": {
      "display_name": "Python 3 (ipykernel)",
      "language": "python",
      "name": "python3"
    },
    "language_info": {
      "codemirror_mode": {
        "name": "ipython",
        "version": 3
      },
      "file_extension": ".py",
      "mimetype": "text/x-python",
      "name": "python",
      "nbconvert_exporter": "python",
      "pygments_lexer": "ipython3",
      "version": "3.8.1"
    },
    "colab": {
      "provenance": []
    }
  },
  "nbformat": 4,
  "nbformat_minor": 0
}