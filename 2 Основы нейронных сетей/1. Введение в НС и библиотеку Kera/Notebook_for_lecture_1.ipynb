{
  "nbformat": 4,
  "nbformat_minor": 0,
  "metadata": {
    "colab": {
      "provenance": []
    },
    "kernelspec": {
      "display_name": "Python 3",
      "language": "python",
      "name": "python3"
    },
    "language_info": {
      "codemirror_mode": {
        "name": "ipython",
        "version": 3
      },
      "file_extension": ".py",
      "mimetype": "text/x-python",
      "name": "python",
      "nbconvert_exporter": "python",
      "pygments_lexer": "ipython3",
      "version": "3.7.0"
    },
    "accelerator": "GPU",
    "gpuClass": "standard"
  },
  "cells": [
    {
      "cell_type": "markdown",
      "metadata": {
        "id": "28UkISS77u1Y"
      },
      "source": [
        "# Imbalanced classification: credit card fraud detection"
      ]
    },
    {
      "cell_type": "markdown",
      "metadata": {
        "id": "hDqLJbK47u1e"
      },
      "source": [
        "## Introduction\n",
        "\n",
        "This example looks at the\n",
        "[Kaggle Credit Card Fraud Detection](https://www.kaggle.com/mlg-ulb/creditcardfraud/)\n",
        "dataset to demonstrate how\n",
        "to train a classification model on data with highly imbalanced classes."
      ]
    },
    {
      "cell_type": "markdown",
      "metadata": {
        "id": "gvmBj4H57u1f"
      },
      "source": [
        "## First, vectorize the CSV data"
      ]
    },
    {
      "cell_type": "code",
      "metadata": {
        "id": "zMtluoDZIVXc",
        "colab": {
          "base_uri": "https://localhost:8080/"
        },
        "outputId": "f6b2cc8a-816b-4b7f-e698-f8d8406359f8"
      },
      "source": [
        "# импортируем данные\n",
        "!wget https://www.dropbox.com/s/9vfy1vi6wsfkxyk/creditcard.csv.zip"
      ],
      "execution_count": 1,
      "outputs": [
        {
          "output_type": "stream",
          "name": "stdout",
          "text": [
            "--2024-12-06 07:10:29--  https://www.dropbox.com/s/9vfy1vi6wsfkxyk/creditcard.csv.zip\n",
            "Resolving www.dropbox.com (www.dropbox.com)... 162.125.65.18, 2620:100:6021:18::a27d:4112\n",
            "Connecting to www.dropbox.com (www.dropbox.com)|162.125.65.18|:443... connected.\n",
            "HTTP request sent, awaiting response... 302 Found\n",
            "Location: https://www.dropbox.com/scl/fi/sx8mbigscvgydbk4wrsux/creditcard.csv.zip?rlkey=4fn9y7cpau3qabvkt8z2tuje6 [following]\n",
            "--2024-12-06 07:10:30--  https://www.dropbox.com/scl/fi/sx8mbigscvgydbk4wrsux/creditcard.csv.zip?rlkey=4fn9y7cpau3qabvkt8z2tuje6\n",
            "Reusing existing connection to www.dropbox.com:443.\n",
            "HTTP request sent, awaiting response... 302 Found\n",
            "Location: https://uc217f829df246ad93a50d5162d0.dl.dropboxusercontent.com/cd/0/inline/CfuusYsWFN33gDPJQD08mvuDLHwf48xdMeCq9eeJr-TE_ulD-F5V90zqgICZEz6TET-UZTPrJuBzMuWp-wwLbSByacXXgBAT00vF9bTjHecsBPWq5gjeXBrzaiSIL6lZKngYkzdeHYml13o-vMdX_Acz/file# [following]\n",
            "--2024-12-06 07:10:30--  https://uc217f829df246ad93a50d5162d0.dl.dropboxusercontent.com/cd/0/inline/CfuusYsWFN33gDPJQD08mvuDLHwf48xdMeCq9eeJr-TE_ulD-F5V90zqgICZEz6TET-UZTPrJuBzMuWp-wwLbSByacXXgBAT00vF9bTjHecsBPWq5gjeXBrzaiSIL6lZKngYkzdeHYml13o-vMdX_Acz/file\n",
            "Resolving uc217f829df246ad93a50d5162d0.dl.dropboxusercontent.com (uc217f829df246ad93a50d5162d0.dl.dropboxusercontent.com)... 162.125.69.15, 2620:100:6021:15::a27d:410f\n",
            "Connecting to uc217f829df246ad93a50d5162d0.dl.dropboxusercontent.com (uc217f829df246ad93a50d5162d0.dl.dropboxusercontent.com)|162.125.69.15|:443... connected.\n",
            "HTTP request sent, awaiting response... 302 Found\n",
            "Location: /cd/0/inline2/Cft7j3iMFGWna5v0aIPd-kxGMkR8iyCcjrUgEDsUWGAjrFijrmQBKZt4F81iQzV9_z9RZoux6Frituk-p8-KUT15dMDPCWRFWHAb0fxINoSimBEwADnO6sMPE8Jtm7hE0dHuJNn5BvoRAaMY-0Hqy7biH_5ou55m2nSwAos4OSaMBKEkstd32pSIntLWx5Lh5-fhjBLBLyDdDSlrTQccz_6CHSQnQoj9k_Jk9IZaONYK0J5qn5D8gPiimcwV5xK0kyl8ljReQOSPy5vjTvirYbFXCXgOiOtAEH5Po_BhCQ6Sq7Zx8WrqwGt6B70g-FI1tCrwxFSsYVojog8Pm8kOsJlxQMP_WmPqcPudF1Q95q2F9bdq7uD9OcJyziKSn-AbJp8/file [following]\n",
            "--2024-12-06 07:10:31--  https://uc217f829df246ad93a50d5162d0.dl.dropboxusercontent.com/cd/0/inline2/Cft7j3iMFGWna5v0aIPd-kxGMkR8iyCcjrUgEDsUWGAjrFijrmQBKZt4F81iQzV9_z9RZoux6Frituk-p8-KUT15dMDPCWRFWHAb0fxINoSimBEwADnO6sMPE8Jtm7hE0dHuJNn5BvoRAaMY-0Hqy7biH_5ou55m2nSwAos4OSaMBKEkstd32pSIntLWx5Lh5-fhjBLBLyDdDSlrTQccz_6CHSQnQoj9k_Jk9IZaONYK0J5qn5D8gPiimcwV5xK0kyl8ljReQOSPy5vjTvirYbFXCXgOiOtAEH5Po_BhCQ6Sq7Zx8WrqwGt6B70g-FI1tCrwxFSsYVojog8Pm8kOsJlxQMP_WmPqcPudF1Q95q2F9bdq7uD9OcJyziKSn-AbJp8/file\n",
            "Reusing existing connection to uc217f829df246ad93a50d5162d0.dl.dropboxusercontent.com:443.\n",
            "HTTP request sent, awaiting response... 200 OK\n",
            "Length: 69155672 (66M) [application/zip]\n",
            "Saving to: ‘creditcard.csv.zip’\n",
            "\n",
            "creditcard.csv.zip  100%[===================>]  65.95M  22.0MB/s    in 3.0s    \n",
            "\n",
            "2024-12-06 07:10:35 (22.0 MB/s) - ‘creditcard.csv.zip’ saved [69155672/69155672]\n",
            "\n"
          ]
        }
      ]
    },
    {
      "cell_type": "code",
      "metadata": {
        "id": "DEOTDjm3IZTE",
        "colab": {
          "base_uri": "https://localhost:8080/"
        },
        "outputId": "056b16bf-e991-4ee8-e437-6142586280d2"
      },
      "source": [
        "!unzip creditcard.csv.zip"
      ],
      "execution_count": 2,
      "outputs": [
        {
          "output_type": "stream",
          "name": "stdout",
          "text": [
            "Archive:  creditcard.csv.zip\n",
            "  inflating: creditcard.csv          \n"
          ]
        }
      ]
    },
    {
      "cell_type": "code",
      "metadata": {
        "id": "3MEGFeBC7u1f",
        "colab": {
          "base_uri": "https://localhost:8080/"
        },
        "outputId": "2c058513-af04-4459-f596-e14e28a61109"
      },
      "source": [
        "import csv\n",
        "import numpy as np\n",
        "\n",
        "# Get the real data from https://www.kaggle.com/mlg-ulb/creditcardfraud/\n",
        "fname = \"creditcard.csv\"\n",
        "\n",
        "all_features = []\n",
        "all_targets = []\n",
        "with open(fname) as f:\n",
        "    for i, line in enumerate(f):\n",
        "        if i == 0:\n",
        "            print(\"HEADER:\", line.strip())\n",
        "            continue  # Skip header\n",
        "        fields = line.strip().split(\",\")\n",
        "        all_features.append([float(v.replace('\"', \"\")) for v in fields[:-1]])\n",
        "        all_targets.append([int(fields[-1].replace('\"', \"\"))])\n",
        "        if i == 1:\n",
        "            print(\"EXAMPLE FEATURES:\", all_features[-1])\n",
        "\n",
        "features = np.array(all_features, dtype=\"float32\")\n",
        "targets = np.array(all_targets, dtype=\"uint8\")\n",
        "print(\"features.shape:\", features.shape)\n",
        "print(\"targets.shape:\", targets.shape)\n"
      ],
      "execution_count": 3,
      "outputs": [
        {
          "output_type": "stream",
          "name": "stdout",
          "text": [
            "HEADER: \"Time\",\"V1\",\"V2\",\"V3\",\"V4\",\"V5\",\"V6\",\"V7\",\"V8\",\"V9\",\"V10\",\"V11\",\"V12\",\"V13\",\"V14\",\"V15\",\"V16\",\"V17\",\"V18\",\"V19\",\"V20\",\"V21\",\"V22\",\"V23\",\"V24\",\"V25\",\"V26\",\"V27\",\"V28\",\"Amount\",\"Class\"\n",
            "EXAMPLE FEATURES: [0.0, -1.3598071336738, -0.0727811733098497, 2.53634673796914, 1.37815522427443, -0.338320769942518, 0.462387777762292, 0.239598554061257, 0.0986979012610507, 0.363786969611213, 0.0907941719789316, -0.551599533260813, -0.617800855762348, -0.991389847235408, -0.311169353699879, 1.46817697209427, -0.470400525259478, 0.207971241929242, 0.0257905801985591, 0.403992960255733, 0.251412098239705, -0.018306777944153, 0.277837575558899, -0.110473910188767, 0.0669280749146731, 0.128539358273528, -0.189114843888824, 0.133558376740387, -0.0210530534538215, 149.62]\n",
            "features.shape: (284807, 30)\n",
            "targets.shape: (284807, 1)\n"
          ]
        }
      ]
    },
    {
      "cell_type": "markdown",
      "metadata": {
        "id": "IpiTu_U37u1g"
      },
      "source": [
        "## Prepare a validation set"
      ]
    },
    {
      "cell_type": "code",
      "metadata": {
        "id": "GscjzN_X7u1h",
        "colab": {
          "base_uri": "https://localhost:8080/"
        },
        "outputId": "51f7d4b4-f176-4e39-c759-07f4ffacd5a6"
      },
      "source": [
        "num_val_samples = int(len(features) * 0.2)\n",
        "train_features = features[:-num_val_samples]\n",
        "train_targets = targets[:-num_val_samples]\n",
        "val_features = features[-num_val_samples:]\n",
        "val_targets = targets[-num_val_samples:]\n",
        "\n",
        "print(\"Number of training samples:\", len(train_features))\n",
        "print(\"Number of validation samples:\", len(val_features))\n"
      ],
      "execution_count": null,
      "outputs": [
        {
          "output_type": "stream",
          "name": "stdout",
          "text": [
            "Number of training samples: 227846\n",
            "Number of validation samples: 56961\n"
          ]
        }
      ]
    },
    {
      "cell_type": "markdown",
      "metadata": {
        "id": "hr2UHtRF7u1h"
      },
      "source": [
        "## Analyze class imbalance in the targets"
      ]
    },
    {
      "cell_type": "code",
      "metadata": {
        "id": "bA501v367u1h",
        "colab": {
          "base_uri": "https://localhost:8080/"
        },
        "outputId": "da5da178-fc2b-49f4-fed3-d1cbef818381"
      },
      "source": [
        "counts = np.bincount(train_targets[:, 0])\n",
        "print(\n",
        "    \"Number of positive samples in training data: {} ({:.2f}% of total)\".format(\n",
        "        counts[1], 100 * float(counts[1]) / len(train_targets)\n",
        "    )\n",
        ")\n",
        "\n",
        "weight_for_0 = 1.0 / counts[0]\n",
        "weight_for_1 = 1.0 / counts[1]"
      ],
      "execution_count": null,
      "outputs": [
        {
          "output_type": "stream",
          "name": "stdout",
          "text": [
            "Number of positive samples in training data: 417 (0.18% of total)\n"
          ]
        }
      ]
    },
    {
      "cell_type": "code",
      "source": [
        "counts = np.bincount(val_targets[:, 0])\n",
        "print(\n",
        "    \"Number of positive samples in validation data: {} ({:.2f}% of total)\".format(\n",
        "        counts[1], 100 * float(counts[1]) / len(val_targets)\n",
        "    )\n",
        ")"
      ],
      "metadata": {
        "colab": {
          "base_uri": "https://localhost:8080/"
        },
        "id": "BTV4zlIcZMTN",
        "outputId": "dae33cbd-1ef2-42fe-e046-ebf2a52c5434"
      },
      "execution_count": null,
      "outputs": [
        {
          "output_type": "stream",
          "name": "stdout",
          "text": [
            "Number of positive samples in validation data: 75 (0.13% of total)\n"
          ]
        }
      ]
    },
    {
      "cell_type": "code",
      "source": [
        "print(weight_for_0,weight_for_1)"
      ],
      "metadata": {
        "colab": {
          "base_uri": "https://localhost:8080/"
        },
        "id": "cf-3FEmSsH7_",
        "outputId": "7ea69720-383b-423e-e873-344c84f5959b"
      },
      "execution_count": null,
      "outputs": [
        {
          "output_type": "stream",
          "name": "stdout",
          "text": [
            "4.396976638863118e-06 0.002398081534772182\n"
          ]
        }
      ]
    },
    {
      "cell_type": "markdown",
      "metadata": {
        "id": "1BjXTqzs7u1h"
      },
      "source": [
        "## Normalize the data using training set statistics"
      ]
    },
    {
      "cell_type": "code",
      "metadata": {
        "id": "LU9mk2Dk7u1i",
        "colab": {
          "base_uri": "https://localhost:8080/"
        },
        "outputId": "236244e5-87b8-4cb0-b9ad-0896cf36fe14"
      },
      "source": [
        "print('Before normalization: ', train_features[2])\n",
        "mean = np.mean(train_features, axis=0)\n",
        "train_features -= mean\n",
        "val_features -= mean\n",
        "\n",
        "std = np.std(train_features, axis=0)\n",
        "train_features /= std\n",
        "val_features /= std\n",
        "print('After normalization: ', train_features[2])"
      ],
      "execution_count": null,
      "outputs": [
        {
          "output_type": "stream",
          "name": "stdout",
          "text": [
            "Before normalization:  [ 1.0000000e+00 -1.3583541e+00 -1.3401631e+00  1.7732093e+00\n",
            "  3.7977961e-01 -5.0319815e-01  1.8004994e+00  7.9146093e-01\n",
            "  2.4767579e-01 -1.5146543e+00  2.0764287e-01  6.2450147e-01\n",
            "  6.6083685e-02  7.1729273e-01 -1.6594592e-01  2.3458650e+00\n",
            " -2.8900833e+00  1.1099694e+00 -1.2135931e-01 -2.2618570e+00\n",
            "  5.2497971e-01  2.4799815e-01  7.7167940e-01  9.0941226e-01\n",
            " -6.8928093e-01 -3.2764184e-01 -1.3909657e-01 -5.5352796e-02\n",
            " -5.9751842e-02  3.7866000e+02]\n",
            "After normalization:  [-2.000831   -0.6643839  -0.800215    1.0673089   0.23807637 -0.32006603\n",
            "  1.3394924   0.6662744   0.20148349 -1.3502778   0.19138344  0.5304687\n",
            "  0.10520667  0.68714315 -0.20587935  2.4593623  -3.2572083   1.252478\n",
            " -0.11686509 -2.7495122   0.6611577   0.34202614  1.1212966   1.4581116\n",
            " -1.1393514  -0.72019994 -0.29163548 -0.13880983 -0.18471171  1.1489743 ]\n"
          ]
        }
      ]
    },
    {
      "cell_type": "code",
      "source": [
        "train_features.mean(axis=0)"
      ],
      "metadata": {
        "colab": {
          "base_uri": "https://localhost:8080/"
        },
        "id": "ZIHFEe6gYP_A",
        "outputId": "508a1848-58a1-45c4-cf43-818e16badbce"
      },
      "execution_count": null,
      "outputs": [
        {
          "output_type": "execute_result",
          "data": {
            "text/plain": [
              "array([ 1.19692659e-05,  4.37138226e-07, -3.57809427e-08,  3.00485590e-06,\n",
              "       -8.66645451e-07, -6.25757195e-07,  4.03243689e-07, -4.61278717e-07,\n",
              "        1.01057346e-07,  5.14432301e-08,  1.14444694e-08,  1.28217948e-06,\n",
              "       -5.83659698e-07,  2.37660203e-07, -2.49136065e-07,  8.00532291e-07,\n",
              "        1.66812217e-08,  1.94149749e-07,  1.51190221e-07,  9.69690532e-08,\n",
              "        3.50928673e-07,  1.09110331e-07, -2.78042961e-07, -2.10823060e-07,\n",
              "        7.19980386e-09,  2.20549555e-06,  4.22972818e-07,  3.48672025e-08,\n",
              "        7.06674719e-09,  2.68111944e-05], dtype=float32)"
            ]
          },
          "metadata": {},
          "execution_count": 9
        }
      ]
    },
    {
      "cell_type": "code",
      "source": [
        "train_features.std(axis=0)"
      ],
      "metadata": {
        "colab": {
          "base_uri": "https://localhost:8080/"
        },
        "id": "cP-DZ5GlYXea",
        "outputId": "e2781d0a-2c9e-44f1-c82b-479d6ae1a695"
      },
      "execution_count": null,
      "outputs": [
        {
          "output_type": "execute_result",
          "data": {
            "text/plain": [
              "array([1.0000184 , 1.0000031 , 0.99999654, 0.9999961 , 1.0000012 ,\n",
              "       1.0000044 , 1.0000013 , 1.0000077 , 1.0000154 , 0.9999921 ,\n",
              "       1.0000087 , 0.999995  , 1.0000061 , 1.000002  , 1.0000014 ,\n",
              "       1.0000093 , 1.0000136 , 1.0000196 , 1.0000007 , 1.0000111 ,\n",
              "       0.9999998 , 1.0000029 , 0.9999994 , 1.0000079 , 1.0000101 ,\n",
              "       1.0000007 , 1.0000094 , 1.0000167 , 0.9999909 , 0.99979484],\n",
              "      dtype=float32)"
            ]
          },
          "metadata": {},
          "execution_count": 10
        }
      ]
    },
    {
      "cell_type": "markdown",
      "metadata": {
        "id": "QZbr3bsl7u1i"
      },
      "source": [
        "## Build a binary classification model"
      ]
    },
    {
      "cell_type": "code",
      "metadata": {
        "id": "1jgMgQLL7u1i",
        "colab": {
          "base_uri": "https://localhost:8080/",
          "height": 383
        },
        "outputId": "d89f55b5-26d8-4433-e992-67182bccb33e"
      },
      "source": [
        "from tensorflow import keras\n",
        "\n",
        "hid_size = 256\n",
        "model = keras.Sequential(\n",
        "    [\n",
        "        keras.layers.Dense(\n",
        "            hid_size, activation=\"relu\", input_shape=(train_features.shape[-1],)\n",
        "        ), # fully-connected y^1\n",
        "        keras.layers.Dense(hid_size*2, activation=\"relu\"), # y^2\n",
        "        keras.layers.Dropout(0.3),\n",
        "        keras.layers.Dense(hid_size, activation=\"relu\"), # y^3\n",
        "        keras.layers.Dropout(0.3),\n",
        "        keras.layers.Dense(1, activation=\"sigmoid\"), # y^4\n",
        "    ]\n",
        ")\n",
        "model.summary()"
      ],
      "execution_count": null,
      "outputs": [
        {
          "output_type": "stream",
          "name": "stderr",
          "text": [
            "/usr/local/lib/python3.10/dist-packages/keras/src/layers/core/dense.py:87: UserWarning: Do not pass an `input_shape`/`input_dim` argument to a layer. When using Sequential models, prefer using an `Input(shape)` object as the first layer in the model instead.\n",
            "  super().__init__(activity_regularizer=activity_regularizer, **kwargs)\n"
          ]
        },
        {
          "output_type": "display_data",
          "data": {
            "text/plain": [
              "\u001b[1mModel: \"sequential\"\u001b[0m\n"
            ],
            "text/html": [
              "<pre style=\"white-space:pre;overflow-x:auto;line-height:normal;font-family:Menlo,'DejaVu Sans Mono',consolas,'Courier New',monospace\"><span style=\"font-weight: bold\">Model: \"sequential\"</span>\n",
              "</pre>\n"
            ]
          },
          "metadata": {}
        },
        {
          "output_type": "display_data",
          "data": {
            "text/plain": [
              "┏━━━━━━━━━━━━━━━━━━━━━━━━━━━━━━━━━━━━━━┳━━━━━━━━━━━━━━━━━━━━━━━━━━━━━┳━━━━━━━━━━━━━━━━━┓\n",
              "┃\u001b[1m \u001b[0m\u001b[1mLayer (type)                        \u001b[0m\u001b[1m \u001b[0m┃\u001b[1m \u001b[0m\u001b[1mOutput Shape               \u001b[0m\u001b[1m \u001b[0m┃\u001b[1m \u001b[0m\u001b[1m        Param #\u001b[0m\u001b[1m \u001b[0m┃\n",
              "┡━━━━━━━━━━━━━━━━━━━━━━━━━━━━━━━━━━━━━━╇━━━━━━━━━━━━━━━━━━━━━━━━━━━━━╇━━━━━━━━━━━━━━━━━┩\n",
              "│ dense (\u001b[38;5;33mDense\u001b[0m)                        │ (\u001b[38;5;45mNone\u001b[0m, \u001b[38;5;34m256\u001b[0m)                 │           \u001b[38;5;34m7,936\u001b[0m │\n",
              "├──────────────────────────────────────┼─────────────────────────────┼─────────────────┤\n",
              "│ dense_1 (\u001b[38;5;33mDense\u001b[0m)                      │ (\u001b[38;5;45mNone\u001b[0m, \u001b[38;5;34m512\u001b[0m)                 │         \u001b[38;5;34m131,584\u001b[0m │\n",
              "├──────────────────────────────────────┼─────────────────────────────┼─────────────────┤\n",
              "│ dropout (\u001b[38;5;33mDropout\u001b[0m)                    │ (\u001b[38;5;45mNone\u001b[0m, \u001b[38;5;34m512\u001b[0m)                 │               \u001b[38;5;34m0\u001b[0m │\n",
              "├──────────────────────────────────────┼─────────────────────────────┼─────────────────┤\n",
              "│ dense_2 (\u001b[38;5;33mDense\u001b[0m)                      │ (\u001b[38;5;45mNone\u001b[0m, \u001b[38;5;34m256\u001b[0m)                 │         \u001b[38;5;34m131,328\u001b[0m │\n",
              "├──────────────────────────────────────┼─────────────────────────────┼─────────────────┤\n",
              "│ dropout_1 (\u001b[38;5;33mDropout\u001b[0m)                  │ (\u001b[38;5;45mNone\u001b[0m, \u001b[38;5;34m256\u001b[0m)                 │               \u001b[38;5;34m0\u001b[0m │\n",
              "├──────────────────────────────────────┼─────────────────────────────┼─────────────────┤\n",
              "│ dense_3 (\u001b[38;5;33mDense\u001b[0m)                      │ (\u001b[38;5;45mNone\u001b[0m, \u001b[38;5;34m1\u001b[0m)                   │             \u001b[38;5;34m257\u001b[0m │\n",
              "└──────────────────────────────────────┴─────────────────────────────┴─────────────────┘\n"
            ],
            "text/html": [
              "<pre style=\"white-space:pre;overflow-x:auto;line-height:normal;font-family:Menlo,'DejaVu Sans Mono',consolas,'Courier New',monospace\">┏━━━━━━━━━━━━━━━━━━━━━━━━━━━━━━━━━━━━━━┳━━━━━━━━━━━━━━━━━━━━━━━━━━━━━┳━━━━━━━━━━━━━━━━━┓\n",
              "┃<span style=\"font-weight: bold\"> Layer (type)                         </span>┃<span style=\"font-weight: bold\"> Output Shape                </span>┃<span style=\"font-weight: bold\">         Param # </span>┃\n",
              "┡━━━━━━━━━━━━━━━━━━━━━━━━━━━━━━━━━━━━━━╇━━━━━━━━━━━━━━━━━━━━━━━━━━━━━╇━━━━━━━━━━━━━━━━━┩\n",
              "│ dense (<span style=\"color: #0087ff; text-decoration-color: #0087ff\">Dense</span>)                        │ (<span style=\"color: #00d7ff; text-decoration-color: #00d7ff\">None</span>, <span style=\"color: #00af00; text-decoration-color: #00af00\">256</span>)                 │           <span style=\"color: #00af00; text-decoration-color: #00af00\">7,936</span> │\n",
              "├──────────────────────────────────────┼─────────────────────────────┼─────────────────┤\n",
              "│ dense_1 (<span style=\"color: #0087ff; text-decoration-color: #0087ff\">Dense</span>)                      │ (<span style=\"color: #00d7ff; text-decoration-color: #00d7ff\">None</span>, <span style=\"color: #00af00; text-decoration-color: #00af00\">512</span>)                 │         <span style=\"color: #00af00; text-decoration-color: #00af00\">131,584</span> │\n",
              "├──────────────────────────────────────┼─────────────────────────────┼─────────────────┤\n",
              "│ dropout (<span style=\"color: #0087ff; text-decoration-color: #0087ff\">Dropout</span>)                    │ (<span style=\"color: #00d7ff; text-decoration-color: #00d7ff\">None</span>, <span style=\"color: #00af00; text-decoration-color: #00af00\">512</span>)                 │               <span style=\"color: #00af00; text-decoration-color: #00af00\">0</span> │\n",
              "├──────────────────────────────────────┼─────────────────────────────┼─────────────────┤\n",
              "│ dense_2 (<span style=\"color: #0087ff; text-decoration-color: #0087ff\">Dense</span>)                      │ (<span style=\"color: #00d7ff; text-decoration-color: #00d7ff\">None</span>, <span style=\"color: #00af00; text-decoration-color: #00af00\">256</span>)                 │         <span style=\"color: #00af00; text-decoration-color: #00af00\">131,328</span> │\n",
              "├──────────────────────────────────────┼─────────────────────────────┼─────────────────┤\n",
              "│ dropout_1 (<span style=\"color: #0087ff; text-decoration-color: #0087ff\">Dropout</span>)                  │ (<span style=\"color: #00d7ff; text-decoration-color: #00d7ff\">None</span>, <span style=\"color: #00af00; text-decoration-color: #00af00\">256</span>)                 │               <span style=\"color: #00af00; text-decoration-color: #00af00\">0</span> │\n",
              "├──────────────────────────────────────┼─────────────────────────────┼─────────────────┤\n",
              "│ dense_3 (<span style=\"color: #0087ff; text-decoration-color: #0087ff\">Dense</span>)                      │ (<span style=\"color: #00d7ff; text-decoration-color: #00d7ff\">None</span>, <span style=\"color: #00af00; text-decoration-color: #00af00\">1</span>)                   │             <span style=\"color: #00af00; text-decoration-color: #00af00\">257</span> │\n",
              "└──────────────────────────────────────┴─────────────────────────────┴─────────────────┘\n",
              "</pre>\n"
            ]
          },
          "metadata": {}
        },
        {
          "output_type": "display_data",
          "data": {
            "text/plain": [
              "\u001b[1m Total params: \u001b[0m\u001b[38;5;34m271,105\u001b[0m (1.03 MB)\n"
            ],
            "text/html": [
              "<pre style=\"white-space:pre;overflow-x:auto;line-height:normal;font-family:Menlo,'DejaVu Sans Mono',consolas,'Courier New',monospace\"><span style=\"font-weight: bold\"> Total params: </span><span style=\"color: #00af00; text-decoration-color: #00af00\">271,105</span> (1.03 MB)\n",
              "</pre>\n"
            ]
          },
          "metadata": {}
        },
        {
          "output_type": "display_data",
          "data": {
            "text/plain": [
              "\u001b[1m Trainable params: \u001b[0m\u001b[38;5;34m271,105\u001b[0m (1.03 MB)\n"
            ],
            "text/html": [
              "<pre style=\"white-space:pre;overflow-x:auto;line-height:normal;font-family:Menlo,'DejaVu Sans Mono',consolas,'Courier New',monospace\"><span style=\"font-weight: bold\"> Trainable params: </span><span style=\"color: #00af00; text-decoration-color: #00af00\">271,105</span> (1.03 MB)\n",
              "</pre>\n"
            ]
          },
          "metadata": {}
        },
        {
          "output_type": "display_data",
          "data": {
            "text/plain": [
              "\u001b[1m Non-trainable params: \u001b[0m\u001b[38;5;34m0\u001b[0m (0.00 B)\n"
            ],
            "text/html": [
              "<pre style=\"white-space:pre;overflow-x:auto;line-height:normal;font-family:Menlo,'DejaVu Sans Mono',consolas,'Courier New',monospace\"><span style=\"font-weight: bold\"> Non-trainable params: </span><span style=\"color: #00af00; text-decoration-color: #00af00\">0</span> (0.00 B)\n",
              "</pre>\n"
            ]
          },
          "metadata": {}
        }
      ]
    },
    {
      "cell_type": "markdown",
      "metadata": {
        "id": "nKJF0uxs7u1j"
      },
      "source": [
        "## Train the model with `class_weight` argument"
      ]
    },
    {
      "cell_type": "code",
      "metadata": {
        "id": "47TFfEAQ7u1j",
        "colab": {
          "base_uri": "https://localhost:8080/"
        },
        "outputId": "1613c702-ccaf-41b1-960c-8af0140aa59d"
      },
      "source": [
        "metrics = [\n",
        "    keras.metrics.FalseNegatives(name=\"fn\"),\n",
        "    keras.metrics.FalsePositives(name=\"fp\"),\n",
        "    keras.metrics.TrueNegatives(name=\"tn\"),\n",
        "    keras.metrics.TruePositives(name=\"tp\"),\n",
        "    keras.metrics.Precision(name=\"precision\"),\n",
        "    keras.metrics.Recall(name=\"recall\"),\n",
        "]\n",
        "\n",
        "model.compile(\n",
        "    optimizer=keras.optimizers.Adam(1e-2), loss=\"binary_crossentropy\", metrics=metrics\n",
        ")\n",
        "\n",
        "callbacks = [keras.callbacks.ModelCheckpoint(\"fraud_model_at_epoch_{epoch}.keras\")]\n",
        "class_weight = {0: weight_for_0, 1: weight_for_1}\n",
        "\n",
        "model.fit(\n",
        "    train_features,\n",
        "    train_targets,\n",
        "    batch_size=2048,\n",
        "    epochs=30,\n",
        "    callbacks=callbacks,\n",
        "    validation_data=(val_features, val_targets),\n",
        "    class_weight=class_weight,\n",
        ")\n"
      ],
      "execution_count": null,
      "outputs": [
        {
          "output_type": "stream",
          "name": "stdout",
          "text": [
            "Epoch 1/30\n",
            "\u001b[1m112/112\u001b[0m \u001b[32m━━━━━━━━━━━━━━━━━━━━\u001b[0m\u001b[37m\u001b[0m \u001b[1m12s\u001b[0m 57ms/step - fn: 28.5310 - fp: 20892.7793 - loss: 3.4427e-06 - precision: 0.0087 - recall: 0.8617 - tn: 95570.1797 - tp: 199.3097 - val_fn: 10.0000 - val_fp: 874.0000 - val_loss: 0.0639 - val_precision: 0.0692 - val_recall: 0.8667 - val_tn: 56012.0000 - val_tp: 65.0000\n",
            "Epoch 2/30\n",
            "\u001b[1m112/112\u001b[0m \u001b[32m━━━━━━━━━━━━━━━━━━━━\u001b[0m\u001b[37m\u001b[0m \u001b[1m1s\u001b[0m 5ms/step - fn: 14.4248 - fp: 3151.8672 - loss: 1.2898e-06 - precision: 0.0689 - recall: 0.9358 - tn: 113326.2656 - tp: 198.2389 - val_fn: 8.0000 - val_fp: 1219.0000 - val_loss: 0.1124 - val_precision: 0.0521 - val_recall: 0.8933 - val_tn: 55667.0000 - val_tp: 67.0000\n",
            "Epoch 3/30\n",
            "\u001b[1m112/112\u001b[0m \u001b[32m━━━━━━━━━━━━━━━━━━━━\u001b[0m\u001b[37m\u001b[0m \u001b[1m1s\u001b[0m 5ms/step - fn: 13.8142 - fp: 3407.5752 - loss: 1.0343e-06 - precision: 0.0705 - recall: 0.9483 - tn: 113059.2891 - tp: 210.1151 - val_fn: 12.0000 - val_fp: 216.0000 - val_loss: 0.0190 - val_precision: 0.2258 - val_recall: 0.8400 - val_tn: 56670.0000 - val_tp: 63.0000\n",
            "Epoch 4/30\n",
            "\u001b[1m112/112\u001b[0m \u001b[32m━━━━━━━━━━━━━━━━━━━━\u001b[0m\u001b[37m\u001b[0m \u001b[1m1s\u001b[0m 5ms/step - fn: 12.8053 - fp: 3513.2832 - loss: 1.1925e-06 - precision: 0.0593 - recall: 0.9290 - tn: 112961.3906 - tp: 203.3186 - val_fn: 9.0000 - val_fp: 1721.0000 - val_loss: 0.1256 - val_precision: 0.0369 - val_recall: 0.8800 - val_tn: 55165.0000 - val_tp: 66.0000\n",
            "Epoch 5/30\n",
            "\u001b[1m112/112\u001b[0m \u001b[32m━━━━━━━━━━━━━━━━━━━━\u001b[0m\u001b[37m\u001b[0m \u001b[1m1s\u001b[0m 4ms/step - fn: 13.0531 - fp: 3819.7168 - loss: 1.0138e-06 - precision: 0.0507 - recall: 0.9377 - tn: 112656.2266 - tp: 201.7965 - val_fn: 8.0000 - val_fp: 1114.0000 - val_loss: 0.0619 - val_precision: 0.0567 - val_recall: 0.8933 - val_tn: 55772.0000 - val_tp: 67.0000\n",
            "Epoch 6/30\n",
            "\u001b[1m112/112\u001b[0m \u001b[32m━━━━━━━━━━━━━━━━━━━━\u001b[0m\u001b[37m\u001b[0m \u001b[1m1s\u001b[0m 4ms/step - fn: 11.4425 - fp: 3293.3628 - loss: 8.0660e-07 - precision: 0.0591 - recall: 0.9405 - tn: 113183.6953 - tp: 202.2920 - val_fn: 4.0000 - val_fp: 2414.0000 - val_loss: 0.1056 - val_precision: 0.0286 - val_recall: 0.9467 - val_tn: 54472.0000 - val_tp: 71.0000\n",
            "Epoch 7/30\n",
            "\u001b[1m112/112\u001b[0m \u001b[32m━━━━━━━━━━━━━━━━━━━━\u001b[0m\u001b[37m\u001b[0m \u001b[1m1s\u001b[0m 4ms/step - fn: 8.2655 - fp: 2763.0884 - loss: 8.0335e-07 - precision: 0.0683 - recall: 0.9561 - tn: 113713.2578 - tp: 206.1858 - val_fn: 4.0000 - val_fp: 2252.0000 - val_loss: 0.0825 - val_precision: 0.0306 - val_recall: 0.9467 - val_tn: 54634.0000 - val_tp: 71.0000\n",
            "Epoch 8/30\n",
            "\u001b[1m112/112\u001b[0m \u001b[32m━━━━━━━━━━━━━━━━━━━━\u001b[0m\u001b[37m\u001b[0m \u001b[1m1s\u001b[0m 4ms/step - fn: 5.9469 - fp: 3486.2566 - loss: 6.1820e-07 - precision: 0.0567 - recall: 0.9727 - tn: 112985.4219 - tp: 213.1681 - val_fn: 4.0000 - val_fp: 2834.0000 - val_loss: 0.1049 - val_precision: 0.0244 - val_recall: 0.9467 - val_tn: 54052.0000 - val_tp: 71.0000\n",
            "Epoch 9/30\n",
            "\u001b[1m112/112\u001b[0m \u001b[32m━━━━━━━━━━━━━━━━━━━━\u001b[0m\u001b[37m\u001b[0m \u001b[1m1s\u001b[0m 4ms/step - fn: 6.1504 - fp: 3652.0176 - loss: 6.4608e-07 - precision: 0.0511 - recall: 0.9775 - tn: 112824.7109 - tp: 207.9203 - val_fn: 8.0000 - val_fp: 916.0000 - val_loss: 0.0458 - val_precision: 0.0682 - val_recall: 0.8933 - val_tn: 55970.0000 - val_tp: 67.0000\n",
            "Epoch 10/30\n",
            "\u001b[1m112/112\u001b[0m \u001b[32m━━━━━━━━━━━━━━━━━━━━\u001b[0m\u001b[37m\u001b[0m \u001b[1m1s\u001b[0m 4ms/step - fn: 3.5929 - fp: 2696.4160 - loss: 4.7017e-07 - precision: 0.0768 - recall: 0.9866 - tn: 113778.0469 - tp: 212.7434 - val_fn: 9.0000 - val_fp: 632.0000 - val_loss: 0.0276 - val_precision: 0.0946 - val_recall: 0.8800 - val_tn: 56254.0000 - val_tp: 66.0000\n",
            "Epoch 11/30\n",
            "\u001b[1m112/112\u001b[0m \u001b[32m━━━━━━━━━━━━━━━━━━━━\u001b[0m\u001b[37m\u001b[0m \u001b[1m1s\u001b[0m 4ms/step - fn: 5.5398 - fp: 2378.4690 - loss: 4.3475e-07 - precision: 0.0802 - recall: 0.9732 - tn: 114099.4844 - tp: 207.3009 - val_fn: 11.0000 - val_fp: 608.0000 - val_loss: 0.0243 - val_precision: 0.0952 - val_recall: 0.8533 - val_tn: 56278.0000 - val_tp: 64.0000\n",
            "Epoch 12/30\n",
            "\u001b[1m112/112\u001b[0m \u001b[32m━━━━━━━━━━━━━━━━━━━━\u001b[0m\u001b[37m\u001b[0m \u001b[1m1s\u001b[0m 4ms/step - fn: 3.2389 - fp: 3077.5930 - loss: 5.5002e-07 - precision: 0.0608 - recall: 0.9817 - tn: 113399.4453 - tp: 210.5221 - val_fn: 8.0000 - val_fp: 646.0000 - val_loss: 0.0271 - val_precision: 0.0940 - val_recall: 0.8933 - val_tn: 56240.0000 - val_tp: 67.0000\n",
            "Epoch 13/30\n",
            "\u001b[1m112/112\u001b[0m \u001b[32m━━━━━━━━━━━━━━━━━━━━\u001b[0m\u001b[37m\u001b[0m \u001b[1m1s\u001b[0m 4ms/step - fn: 3.1947 - fp: 3066.5840 - loss: 5.0059e-07 - precision: 0.0587 - recall: 0.9868 - tn: 113419.1953 - tp: 201.8230 - val_fn: 9.0000 - val_fp: 633.0000 - val_loss: 0.0259 - val_precision: 0.0944 - val_recall: 0.8800 - val_tn: 56253.0000 - val_tp: 66.0000\n",
            "Epoch 14/30\n",
            "\u001b[1m112/112\u001b[0m \u001b[32m━━━━━━━━━━━━━━━━━━━━\u001b[0m\u001b[37m\u001b[0m \u001b[1m1s\u001b[0m 4ms/step - fn: 3.9204 - fp: 3293.2744 - loss: 4.4938e-07 - precision: 0.0595 - recall: 0.9837 - tn: 113177.8203 - tp: 215.7788 - val_fn: 7.0000 - val_fp: 1329.0000 - val_loss: 0.0478 - val_precision: 0.0487 - val_recall: 0.9067 - val_tn: 55557.0000 - val_tp: 68.0000\n",
            "Epoch 15/30\n",
            "\u001b[1m112/112\u001b[0m \u001b[32m━━━━━━━━━━━━━━━━━━━━\u001b[0m\u001b[37m\u001b[0m \u001b[1m1s\u001b[0m 4ms/step - fn: 2.2743 - fp: 2640.8584 - loss: 4.7080e-07 - precision: 0.0687 - recall: 0.9928 - tn: 113843.1328 - tp: 204.5310 - val_fn: 5.0000 - val_fp: 3904.0000 - val_loss: 0.1262 - val_precision: 0.0176 - val_recall: 0.9333 - val_tn: 52982.0000 - val_tp: 70.0000\n",
            "Epoch 16/30\n",
            "\u001b[1m112/112\u001b[0m \u001b[32m━━━━━━━━━━━━━━━━━━━━\u001b[0m\u001b[37m\u001b[0m \u001b[1m1s\u001b[0m 4ms/step - fn: 4.1770 - fp: 3244.3452 - loss: 1.0362e-06 - precision: 0.0609 - recall: 0.9862 - tn: 113235.5859 - tp: 206.6903 - val_fn: 8.0000 - val_fp: 714.0000 - val_loss: 0.0407 - val_precision: 0.0858 - val_recall: 0.8933 - val_tn: 56172.0000 - val_tp: 67.0000\n",
            "Epoch 17/30\n",
            "\u001b[1m112/112\u001b[0m \u001b[32m━━━━━━━━━━━━━━━━━━━━\u001b[0m\u001b[37m\u001b[0m \u001b[1m1s\u001b[0m 4ms/step - fn: 12.3628 - fp: 5376.5400 - loss: 2.2794e-06 - precision: 0.0351 - recall: 0.9480 - tn: 111099.5781 - tp: 202.3186 - val_fn: 9.0000 - val_fp: 317.0000 - val_loss: 0.0317 - val_precision: 0.1723 - val_recall: 0.8800 - val_tn: 56569.0000 - val_tp: 66.0000\n",
            "Epoch 18/30\n",
            "\u001b[1m112/112\u001b[0m \u001b[32m━━━━━━━━━━━━━━━━━━━━\u001b[0m\u001b[37m\u001b[0m \u001b[1m1s\u001b[0m 4ms/step - fn: 9.6283 - fp: 2344.0530 - loss: 8.2820e-07 - precision: 0.0869 - recall: 0.9482 - tn: 114136.7578 - tp: 200.3540 - val_fn: 7.0000 - val_fp: 865.0000 - val_loss: 0.1516 - val_precision: 0.0729 - val_recall: 0.9067 - val_tn: 56021.0000 - val_tp: 68.0000\n",
            "Epoch 19/30\n",
            "\u001b[1m112/112\u001b[0m \u001b[32m━━━━━━━━━━━━━━━━━━━━\u001b[0m\u001b[37m\u001b[0m \u001b[1m1s\u001b[0m 7ms/step - fn: 4.3363 - fp: 3030.4424 - loss: 7.0976e-07 - precision: 0.0597 - recall: 0.9795 - tn: 113448.2656 - tp: 207.7522 - val_fn: 7.0000 - val_fp: 1083.0000 - val_loss: 0.0425 - val_precision: 0.0591 - val_recall: 0.9067 - val_tn: 55803.0000 - val_tp: 68.0000\n",
            "Epoch 20/30\n",
            "\u001b[1m112/112\u001b[0m \u001b[32m━━━━━━━━━━━━━━━━━━━━\u001b[0m\u001b[37m\u001b[0m \u001b[1m1s\u001b[0m 7ms/step - fn: 1.9558 - fp: 1873.2655 - loss: 3.4509e-07 - precision: 0.1016 - recall: 0.9918 - tn: 114599.6719 - tp: 215.9026 - val_fn: 7.0000 - val_fp: 1022.0000 - val_loss: 0.0492 - val_precision: 0.0624 - val_recall: 0.9067 - val_tn: 55864.0000 - val_tp: 68.0000\n",
            "Epoch 21/30\n",
            "\u001b[1m112/112\u001b[0m \u001b[32m━━━━━━━━━━━━━━━━━━━━\u001b[0m\u001b[37m\u001b[0m \u001b[1m1s\u001b[0m 7ms/step - fn: 0.8850 - fp: 1311.0177 - loss: 2.1938e-07 - precision: 0.1293 - recall: 0.9972 - tn: 115169.8516 - tp: 209.0443 - val_fn: 7.0000 - val_fp: 789.0000 - val_loss: 0.0393 - val_precision: 0.0793 - val_recall: 0.9067 - val_tn: 56097.0000 - val_tp: 68.0000\n",
            "Epoch 22/30\n",
            "\u001b[1m112/112\u001b[0m \u001b[32m━━━━━━━━━━━━━━━━━━━━\u001b[0m\u001b[37m\u001b[0m \u001b[1m1s\u001b[0m 5ms/step - fn: 0.3097 - fp: 1685.0885 - loss: 2.8362e-07 - precision: 0.1023 - recall: 0.9992 - tn: 114790.7109 - tp: 214.6903 - val_fn: 8.0000 - val_fp: 530.0000 - val_loss: 0.0248 - val_precision: 0.1122 - val_recall: 0.8933 - val_tn: 56356.0000 - val_tp: 67.0000\n",
            "Epoch 23/30\n",
            "\u001b[1m112/112\u001b[0m \u001b[32m━━━━━━━━━━━━━━━━━━━━\u001b[0m\u001b[37m\u001b[0m \u001b[1m1s\u001b[0m 5ms/step - fn: 1.8584 - fp: 1749.0973 - loss: 6.5427e-07 - precision: 0.1191 - recall: 0.9945 - tn: 114722.4141 - tp: 217.4248 - val_fn: 10.0000 - val_fp: 328.0000 - val_loss: 0.0362 - val_precision: 0.1654 - val_recall: 0.8667 - val_tn: 56558.0000 - val_tp: 65.0000\n",
            "Epoch 24/30\n",
            "\u001b[1m112/112\u001b[0m \u001b[32m━━━━━━━━━━━━━━━━━━━━\u001b[0m\u001b[37m\u001b[0m \u001b[1m1s\u001b[0m 5ms/step - fn: 4.4425 - fp: 2210.1770 - loss: 9.3190e-07 - precision: 0.1105 - recall: 0.9839 - tn: 114259.3203 - tp: 216.8584 - val_fn: 6.0000 - val_fp: 2512.0000 - val_loss: 0.2062 - val_precision: 0.0267 - val_recall: 0.9200 - val_tn: 54374.0000 - val_tp: 69.0000\n",
            "Epoch 25/30\n",
            "\u001b[1m112/112\u001b[0m \u001b[32m━━━━━━━━━━━━━━━━━━━━\u001b[0m\u001b[37m\u001b[0m \u001b[1m1s\u001b[0m 4ms/step - fn: 3.0885 - fp: 2727.0088 - loss: 6.5519e-07 - precision: 0.0726 - recall: 0.9882 - tn: 113748.5078 - tp: 212.1947 - val_fn: 8.0000 - val_fp: 408.0000 - val_loss: 0.0215 - val_precision: 0.1411 - val_recall: 0.8933 - val_tn: 56478.0000 - val_tp: 67.0000\n",
            "Epoch 26/30\n",
            "\u001b[1m112/112\u001b[0m \u001b[32m━━━━━━━━━━━━━━━━━━━━\u001b[0m\u001b[37m\u001b[0m \u001b[1m1s\u001b[0m 5ms/step - fn: 1.2655 - fp: 1473.2389 - loss: 2.5006e-07 - precision: 0.1314 - recall: 0.9944 - tn: 114999.1875 - tp: 217.1062 - val_fn: 11.0000 - val_fp: 157.0000 - val_loss: 0.0096 - val_precision: 0.2896 - val_recall: 0.8533 - val_tn: 56729.0000 - val_tp: 64.0000\n",
            "Epoch 27/30\n",
            "\u001b[1m112/112\u001b[0m \u001b[32m━━━━━━━━━━━━━━━━━━━━\u001b[0m\u001b[37m\u001b[0m \u001b[1m1s\u001b[0m 4ms/step - fn: 2.0177 - fp: 1707.5664 - loss: 2.4731e-07 - precision: 0.1395 - recall: 0.9924 - tn: 114780.5391 - tp: 200.6726 - val_fn: 10.0000 - val_fp: 292.0000 - val_loss: 0.0128 - val_precision: 0.1821 - val_recall: 0.8667 - val_tn: 56594.0000 - val_tp: 65.0000\n",
            "Epoch 28/30\n",
            "\u001b[1m112/112\u001b[0m \u001b[32m━━━━━━━━━━━━━━━━━━━━\u001b[0m\u001b[37m\u001b[0m \u001b[1m1s\u001b[0m 5ms/step - fn: 0.3805 - fp: 1214.4425 - loss: 2.1476e-07 - precision: 0.1411 - recall: 0.9988 - tn: 115272.0938 - tp: 203.8761 - val_fn: 10.0000 - val_fp: 298.0000 - val_loss: 0.0148 - val_precision: 0.1791 - val_recall: 0.8667 - val_tn: 56588.0000 - val_tp: 65.0000\n",
            "Epoch 29/30\n",
            "\u001b[1m112/112\u001b[0m \u001b[32m━━━━━━━━━━━━━━━━━━━━\u001b[0m\u001b[37m\u001b[0m \u001b[1m1s\u001b[0m 5ms/step - fn: 1.7522 - fp: 1064.0531 - loss: 1.9908e-07 - precision: 0.1734 - recall: 0.9937 - tn: 115412.7812 - tp: 212.2124 - val_fn: 8.0000 - val_fp: 411.0000 - val_loss: 0.2350 - val_precision: 0.1402 - val_recall: 0.8933 - val_tn: 56475.0000 - val_tp: 67.0000\n",
            "Epoch 30/30\n",
            "\u001b[1m112/112\u001b[0m \u001b[32m━━━━━━━━━━━━━━━━━━━━\u001b[0m\u001b[37m\u001b[0m \u001b[1m1s\u001b[0m 5ms/step - fn: 0.4956 - fp: 1119.7965 - loss: 8.3303e-07 - precision: 0.1613 - recall: 0.9985 - tn: 115355.1328 - tp: 215.3717 - val_fn: 9.0000 - val_fp: 301.0000 - val_loss: 0.0316 - val_precision: 0.1798 - val_recall: 0.8800 - val_tn: 56585.0000 - val_tp: 66.0000\n"
          ]
        },
        {
          "output_type": "execute_result",
          "data": {
            "text/plain": [
              "<keras.src.callbacks.history.History at 0x7d85517f36d0>"
            ]
          },
          "metadata": {},
          "execution_count": 12
        }
      ]
    },
    {
      "cell_type": "markdown",
      "source": [],
      "metadata": {
        "id": "b1OFD5qUuKMC"
      }
    },
    {
      "cell_type": "code",
      "metadata": {
        "id": "5H6kSubzVpzA"
      },
      "source": [
        "#    P(1)   N(0)\n",
        "# T\n",
        "# F"
      ],
      "execution_count": null,
      "outputs": []
    },
    {
      "cell_type": "code",
      "metadata": {
        "id": "UOiK9jgiT0Ho"
      },
      "source": [
        "# n_samples ~ 300000\n",
        "# batch_size ~ 3000\n",
        "# n_steps ~ 100\n",
        "# n_epochs ~ 1"
      ],
      "execution_count": null,
      "outputs": []
    },
    {
      "cell_type": "markdown",
      "metadata": {
        "id": "i9UDuY9I7u1j"
      },
      "source": [
        "## Conclusions\n",
        "\n",
        "At the end of training, out of 56,961 validation transactions, we are:\n",
        "\n",
        "- Correctly identifying 66 of them as fraudulent\n",
        "- Missing 9 fraudulent transactions\n",
        "- At the cost of incorrectly flagging 441 legitimate transactions\n",
        "\n",
        "In the real world, one would put an even higher weight on class 1,\n",
        "so as to reflect that False Negatives are more costly than False Positives.\n",
        "\n",
        "Next time your credit card gets  declined in an online purchase -- this is why."
      ]
    }
  ]
}