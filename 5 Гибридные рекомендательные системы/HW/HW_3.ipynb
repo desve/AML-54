{
  "cells": [
    {
      "cell_type": "markdown",
      "source": [
        "#Домашняя работа № 3. Гибридные рекомендательные системы"
      ],
      "metadata": {
        "id": "TW1pSJ-ul4PF"
      }
    },
    {
      "cell_type": "markdown",
      "source": [
        "##Набор данных MovieLens объемом 100 тыс."
      ],
      "metadata": {
        "id": "k3jyM_D6pPsJ"
      }
    },
    {
      "cell_type": "markdown",
      "source": [
        "Посмотрим на оригинальный датасет"
      ],
      "metadata": {
        "id": "QlaJv4pyU3Fa"
      }
    },
    {
      "cell_type": "code",
      "source": [
        "import pandas as pd\n",
        "import numpy as np"
      ],
      "metadata": {
        "id": "h5fMJPuOVeGg"
      },
      "execution_count": 20,
      "outputs": []
    },
    {
      "cell_type": "code",
      "source": [
        "# загрузим данные\n",
        "!wget 'https://files.grouplens.org/datasets/movielens/ml-100k.zip'"
      ],
      "metadata": {
        "colab": {
          "base_uri": "https://localhost:8080/"
        },
        "id": "Vjvc81a1UpJs",
        "outputId": "757c59fd-7d94-4db3-a471-ceec75c8129b"
      },
      "execution_count": 17,
      "outputs": [
        {
          "output_type": "stream",
          "name": "stdout",
          "text": [
            "--2025-02-01 11:45:18--  https://files.grouplens.org/datasets/movielens/ml-100k.zip\n",
            "Resolving files.grouplens.org (files.grouplens.org)... 128.101.65.152\n",
            "Connecting to files.grouplens.org (files.grouplens.org)|128.101.65.152|:443... connected.\n",
            "HTTP request sent, awaiting response... 200 OK\n",
            "Length: 4924029 (4.7M) [application/zip]\n",
            "Saving to: ‘ml-100k.zip’\n",
            "\n",
            "ml-100k.zip         100%[===================>]   4.70M  8.96MB/s    in 0.5s    \n",
            "\n",
            "2025-02-01 11:45:19 (8.96 MB/s) - ‘ml-100k.zip’ saved [4924029/4924029]\n",
            "\n"
          ]
        }
      ]
    },
    {
      "cell_type": "code",
      "source": [
        "# распакуем\n",
        "import zipfile\n",
        "\n",
        "with zipfile.ZipFile('/content/ml-100k.zip', 'r') as zip_ref:\n",
        "    zip_ref.extractall('unpacked_files')"
      ],
      "metadata": {
        "id": "T6-A_6NVVLAi"
      },
      "execution_count": 22,
      "outputs": []
    },
    {
      "cell_type": "code",
      "source": [
        "# прочитаем описание\n",
        "\"\"\"\n",
        "ПОДРОБНЫЕ ОПИСАНИЯ ФАЙЛОВ ДАННЫХ\n",
        "==============================================\n",
        "\n",
        "Вот краткое описание данных.\n",
        "\n",
        "ml-data.tar.gz -- Сжатый файл tar.  Чтобы восстановить файлы данных u, выполните следующее:\n",
        "                gunzip ml-data.tar.gz\n",
        "                tar xvf ml-data.tar\n",
        "                mku.sh\n",
        "\n",
        "u.data - Полный набор u-данных, 100 000 оценок 943 пользователями по 1682 фильмам.\n",
        "         Каждый пользователь поставил оценку как минимум 20 фильмам. Пользователи и материалы\n",
        "         нумеруются последовательно, начиная с 1.  Данные получены случайным образом.\n",
        "         Это разделенный табуляцией список идентификаторов\n",
        "         пользователей | элементов | оценок | временных меток.\n",
        "         Временные метки указаны в секундах с 1.01.1970 UTC в системе unix\n",
        "\n",
        "u.info - Количество пользователей, элементов и оценок в наборе данных u.\n",
        "\n",
        "u.item - Информация о фильмах, которые будут показаны в этом разделе;\n",
        "         список фильмов, которые будут показаны в виде вкладок:\n",
        "         идентификатор фильма | название фильма | дата выхода | дата выхода видео |\n",
        "         URL на IMDb | неизвестен | Боевик | Приключения | Анимация |\n",
        "         Детский | Комедийный | Криминальный | Документальный | Драма | фэнтези |\n",
        "         Фильм-Нуар | Ужасы | Мюзикл | Мистика | Мелодрама | Научная фантастика |\n",
        "         Триллер | Военный | Вестерн |\n",
        "         Последние 19 полей обозначают жанры, 1 указывает на фильм относится к этому жанру,\n",
        "         0 означает, что это не так; фильмы могут быть в сразу в нескольких жанрах.\n",
        "         Идентификаторы фильмов используются в наборе данных u.data.\n",
        "\n",
        "u.genre - список жанров.\n",
        "\n",
        "u.user - Демографическая информация о пользователях; это вкладка разделенный список\n",
        "         идентификаторов пользователей\n",
        "         | возраст | пол | род занятий | почтовый индекс.\n",
        "         Идентификаторы пользователей используются в наборе данных u.data.\n",
        "\n",
        "u.occupation - Список профессий.\n",
        "\n",
        "u1.base - Наборы данных u1.base и u1.test через u5.base и u5.test\n",
        "u1.test представляют собой 80% /20% разбиений данных u на обучающие и тестовые данные.\n",
        "u2.base Каждый из наборов тестов u1, ..., u5 имеет непересекающиеся наборы тестов;\n",
        "        это если для\n",
        "u2.test 5-кратной перекрестной проверки (где вы повторяете свой эксперимент\n",
        "        u3.base для каждого обучающего и тестового набора и усредняете результаты).\n",
        "u3.test Эти наборы данных могут быть сгенерированы из u.data с помощью mku.sh.\n",
        "u4.base\n",
        "u4.test\n",
        "u5.base\n",
        "u5.test\n",
        "\n",
        "ua.base - Наборы данных ua.base, ua.test, ub.base и ub.test\n",
        "ua.test разделяют данные u на обучающий набор и тестовый набор с\n",
        "ub.base ровно по 10 оценок для каждого пользователя в тестовом наборе.  Наборы\n",
        "ub.test ua.test и ub.test не пересекаются.  Эти наборы данных могут\n",
        "быть сгенерированы из u.data с помощью mku.sh.\n",
        "\n",
        "allbut.pl -- Скрипта, который генерирует обучающие и тестовые наборы, где\n",
        "             все оценки пользователей, кроме n, содержатся в обучающих данных.\n",
        "\n",
        "mku.sh -- Командный скрипт для генерации всех u наборов данных из u.data.\n",
        "\n",
        "\"\"\""
      ],
      "metadata": {
        "id": "lC1OolAbW3Wq"
      },
      "execution_count": null,
      "outputs": []
    },
    {
      "cell_type": "code",
      "source": [
        "# прочитаем\n",
        "u_data = pd.read_csv('/content/unpacked_files/ml-100k/u.data')\n",
        "u_info = pd.read_csv('/content/unpacked_files/ml-100k/u.info')\n",
        "u_item = pd.read_csv('/content/unpacked_files/ml-100k/u.item')\n",
        "u_genre = pd.read_csv('/content/unpacked_files/ml-100k/u.genre')\n",
        "u_user = pd.read_csv('/content/unpacked_files/ml-100k/u.user')\n",
        "u_occupation = pd.read_csv('/content/unpacked_files/ml-100k/u.occupation')"
      ],
      "metadata": {
        "id": "bIMfRrvJVo4n"
      },
      "execution_count": 25,
      "outputs": []
    },
    {
      "cell_type": "code",
      "source": [
        "# пользователm | элемент | оценка | временная метка\n",
        "u_data.head()"
      ],
      "metadata": {
        "id": "gFiggR5QZtn1",
        "outputId": "bcd0ea8f-18dc-4038-a749-84817bc31f52",
        "colab": {
          "base_uri": "https://localhost:8080/",
          "height": 206
        }
      },
      "execution_count": 27,
      "outputs": [
        {
          "output_type": "execute_result",
          "data": {
            "text/plain": [
              "   196\\t242\\t3\\t881250949\n",
              "0  186\\t302\\t3\\t891717742\n",
              "1   22\\t377\\t1\\t878887116\n",
              "2   244\\t51\\t2\\t880606923\n",
              "3  166\\t346\\t1\\t886397596\n",
              "4  298\\t474\\t4\\t884182806"
            ],
            "text/html": [
              "\n",
              "  <div id=\"df-5b3ecea4-4fcb-4550-a260-d04af8553917\" class=\"colab-df-container\">\n",
              "    <div>\n",
              "<style scoped>\n",
              "    .dataframe tbody tr th:only-of-type {\n",
              "        vertical-align: middle;\n",
              "    }\n",
              "\n",
              "    .dataframe tbody tr th {\n",
              "        vertical-align: top;\n",
              "    }\n",
              "\n",
              "    .dataframe thead th {\n",
              "        text-align: right;\n",
              "    }\n",
              "</style>\n",
              "<table border=\"1\" class=\"dataframe\">\n",
              "  <thead>\n",
              "    <tr style=\"text-align: right;\">\n",
              "      <th></th>\n",
              "      <th>196\\t242\\t3\\t881250949</th>\n",
              "    </tr>\n",
              "  </thead>\n",
              "  <tbody>\n",
              "    <tr>\n",
              "      <th>0</th>\n",
              "      <td>186\\t302\\t3\\t891717742</td>\n",
              "    </tr>\n",
              "    <tr>\n",
              "      <th>1</th>\n",
              "      <td>22\\t377\\t1\\t878887116</td>\n",
              "    </tr>\n",
              "    <tr>\n",
              "      <th>2</th>\n",
              "      <td>244\\t51\\t2\\t880606923</td>\n",
              "    </tr>\n",
              "    <tr>\n",
              "      <th>3</th>\n",
              "      <td>166\\t346\\t1\\t886397596</td>\n",
              "    </tr>\n",
              "    <tr>\n",
              "      <th>4</th>\n",
              "      <td>298\\t474\\t4\\t884182806</td>\n",
              "    </tr>\n",
              "  </tbody>\n",
              "</table>\n",
              "</div>\n",
              "    <div class=\"colab-df-buttons\">\n",
              "\n",
              "  <div class=\"colab-df-container\">\n",
              "    <button class=\"colab-df-convert\" onclick=\"convertToInteractive('df-5b3ecea4-4fcb-4550-a260-d04af8553917')\"\n",
              "            title=\"Convert this dataframe to an interactive table.\"\n",
              "            style=\"display:none;\">\n",
              "\n",
              "  <svg xmlns=\"http://www.w3.org/2000/svg\" height=\"24px\" viewBox=\"0 -960 960 960\">\n",
              "    <path d=\"M120-120v-720h720v720H120Zm60-500h600v-160H180v160Zm220 220h160v-160H400v160Zm0 220h160v-160H400v160ZM180-400h160v-160H180v160Zm440 0h160v-160H620v160ZM180-180h160v-160H180v160Zm440 0h160v-160H620v160Z\"/>\n",
              "  </svg>\n",
              "    </button>\n",
              "\n",
              "  <style>\n",
              "    .colab-df-container {\n",
              "      display:flex;\n",
              "      gap: 12px;\n",
              "    }\n",
              "\n",
              "    .colab-df-convert {\n",
              "      background-color: #E8F0FE;\n",
              "      border: none;\n",
              "      border-radius: 50%;\n",
              "      cursor: pointer;\n",
              "      display: none;\n",
              "      fill: #1967D2;\n",
              "      height: 32px;\n",
              "      padding: 0 0 0 0;\n",
              "      width: 32px;\n",
              "    }\n",
              "\n",
              "    .colab-df-convert:hover {\n",
              "      background-color: #E2EBFA;\n",
              "      box-shadow: 0px 1px 2px rgba(60, 64, 67, 0.3), 0px 1px 3px 1px rgba(60, 64, 67, 0.15);\n",
              "      fill: #174EA6;\n",
              "    }\n",
              "\n",
              "    .colab-df-buttons div {\n",
              "      margin-bottom: 4px;\n",
              "    }\n",
              "\n",
              "    [theme=dark] .colab-df-convert {\n",
              "      background-color: #3B4455;\n",
              "      fill: #D2E3FC;\n",
              "    }\n",
              "\n",
              "    [theme=dark] .colab-df-convert:hover {\n",
              "      background-color: #434B5C;\n",
              "      box-shadow: 0px 1px 3px 1px rgba(0, 0, 0, 0.15);\n",
              "      filter: drop-shadow(0px 1px 2px rgba(0, 0, 0, 0.3));\n",
              "      fill: #FFFFFF;\n",
              "    }\n",
              "  </style>\n",
              "\n",
              "    <script>\n",
              "      const buttonEl =\n",
              "        document.querySelector('#df-5b3ecea4-4fcb-4550-a260-d04af8553917 button.colab-df-convert');\n",
              "      buttonEl.style.display =\n",
              "        google.colab.kernel.accessAllowed ? 'block' : 'none';\n",
              "\n",
              "      async function convertToInteractive(key) {\n",
              "        const element = document.querySelector('#df-5b3ecea4-4fcb-4550-a260-d04af8553917');\n",
              "        const dataTable =\n",
              "          await google.colab.kernel.invokeFunction('convertToInteractive',\n",
              "                                                    [key], {});\n",
              "        if (!dataTable) return;\n",
              "\n",
              "        const docLinkHtml = 'Like what you see? Visit the ' +\n",
              "          '<a target=\"_blank\" href=https://colab.research.google.com/notebooks/data_table.ipynb>data table notebook</a>'\n",
              "          + ' to learn more about interactive tables.';\n",
              "        element.innerHTML = '';\n",
              "        dataTable['output_type'] = 'display_data';\n",
              "        await google.colab.output.renderOutput(dataTable, element);\n",
              "        const docLink = document.createElement('div');\n",
              "        docLink.innerHTML = docLinkHtml;\n",
              "        element.appendChild(docLink);\n",
              "      }\n",
              "    </script>\n",
              "  </div>\n",
              "\n",
              "\n",
              "<div id=\"df-60baa3f9-5f41-4026-8fa2-3d56edfd1ecf\">\n",
              "  <button class=\"colab-df-quickchart\" onclick=\"quickchart('df-60baa3f9-5f41-4026-8fa2-3d56edfd1ecf')\"\n",
              "            title=\"Suggest charts\"\n",
              "            style=\"display:none;\">\n",
              "\n",
              "<svg xmlns=\"http://www.w3.org/2000/svg\" height=\"24px\"viewBox=\"0 0 24 24\"\n",
              "     width=\"24px\">\n",
              "    <g>\n",
              "        <path d=\"M19 3H5c-1.1 0-2 .9-2 2v14c0 1.1.9 2 2 2h14c1.1 0 2-.9 2-2V5c0-1.1-.9-2-2-2zM9 17H7v-7h2v7zm4 0h-2V7h2v10zm4 0h-2v-4h2v4z\"/>\n",
              "    </g>\n",
              "</svg>\n",
              "  </button>\n",
              "\n",
              "<style>\n",
              "  .colab-df-quickchart {\n",
              "      --bg-color: #E8F0FE;\n",
              "      --fill-color: #1967D2;\n",
              "      --hover-bg-color: #E2EBFA;\n",
              "      --hover-fill-color: #174EA6;\n",
              "      --disabled-fill-color: #AAA;\n",
              "      --disabled-bg-color: #DDD;\n",
              "  }\n",
              "\n",
              "  [theme=dark] .colab-df-quickchart {\n",
              "      --bg-color: #3B4455;\n",
              "      --fill-color: #D2E3FC;\n",
              "      --hover-bg-color: #434B5C;\n",
              "      --hover-fill-color: #FFFFFF;\n",
              "      --disabled-bg-color: #3B4455;\n",
              "      --disabled-fill-color: #666;\n",
              "  }\n",
              "\n",
              "  .colab-df-quickchart {\n",
              "    background-color: var(--bg-color);\n",
              "    border: none;\n",
              "    border-radius: 50%;\n",
              "    cursor: pointer;\n",
              "    display: none;\n",
              "    fill: var(--fill-color);\n",
              "    height: 32px;\n",
              "    padding: 0;\n",
              "    width: 32px;\n",
              "  }\n",
              "\n",
              "  .colab-df-quickchart:hover {\n",
              "    background-color: var(--hover-bg-color);\n",
              "    box-shadow: 0 1px 2px rgba(60, 64, 67, 0.3), 0 1px 3px 1px rgba(60, 64, 67, 0.15);\n",
              "    fill: var(--button-hover-fill-color);\n",
              "  }\n",
              "\n",
              "  .colab-df-quickchart-complete:disabled,\n",
              "  .colab-df-quickchart-complete:disabled:hover {\n",
              "    background-color: var(--disabled-bg-color);\n",
              "    fill: var(--disabled-fill-color);\n",
              "    box-shadow: none;\n",
              "  }\n",
              "\n",
              "  .colab-df-spinner {\n",
              "    border: 2px solid var(--fill-color);\n",
              "    border-color: transparent;\n",
              "    border-bottom-color: var(--fill-color);\n",
              "    animation:\n",
              "      spin 1s steps(1) infinite;\n",
              "  }\n",
              "\n",
              "  @keyframes spin {\n",
              "    0% {\n",
              "      border-color: transparent;\n",
              "      border-bottom-color: var(--fill-color);\n",
              "      border-left-color: var(--fill-color);\n",
              "    }\n",
              "    20% {\n",
              "      border-color: transparent;\n",
              "      border-left-color: var(--fill-color);\n",
              "      border-top-color: var(--fill-color);\n",
              "    }\n",
              "    30% {\n",
              "      border-color: transparent;\n",
              "      border-left-color: var(--fill-color);\n",
              "      border-top-color: var(--fill-color);\n",
              "      border-right-color: var(--fill-color);\n",
              "    }\n",
              "    40% {\n",
              "      border-color: transparent;\n",
              "      border-right-color: var(--fill-color);\n",
              "      border-top-color: var(--fill-color);\n",
              "    }\n",
              "    60% {\n",
              "      border-color: transparent;\n",
              "      border-right-color: var(--fill-color);\n",
              "    }\n",
              "    80% {\n",
              "      border-color: transparent;\n",
              "      border-right-color: var(--fill-color);\n",
              "      border-bottom-color: var(--fill-color);\n",
              "    }\n",
              "    90% {\n",
              "      border-color: transparent;\n",
              "      border-bottom-color: var(--fill-color);\n",
              "    }\n",
              "  }\n",
              "</style>\n",
              "\n",
              "  <script>\n",
              "    async function quickchart(key) {\n",
              "      const quickchartButtonEl =\n",
              "        document.querySelector('#' + key + ' button');\n",
              "      quickchartButtonEl.disabled = true;  // To prevent multiple clicks.\n",
              "      quickchartButtonEl.classList.add('colab-df-spinner');\n",
              "      try {\n",
              "        const charts = await google.colab.kernel.invokeFunction(\n",
              "            'suggestCharts', [key], {});\n",
              "      } catch (error) {\n",
              "        console.error('Error during call to suggestCharts:', error);\n",
              "      }\n",
              "      quickchartButtonEl.classList.remove('colab-df-spinner');\n",
              "      quickchartButtonEl.classList.add('colab-df-quickchart-complete');\n",
              "    }\n",
              "    (() => {\n",
              "      let quickchartButtonEl =\n",
              "        document.querySelector('#df-60baa3f9-5f41-4026-8fa2-3d56edfd1ecf button');\n",
              "      quickchartButtonEl.style.display =\n",
              "        google.colab.kernel.accessAllowed ? 'block' : 'none';\n",
              "    })();\n",
              "  </script>\n",
              "</div>\n",
              "    </div>\n",
              "  </div>\n"
            ],
            "application/vnd.google.colaboratory.intrinsic+json": {
              "type": "dataframe",
              "variable_name": "u_data",
              "summary": "{\n  \"name\": \"u_data\",\n  \"rows\": 99999,\n  \"fields\": [\n    {\n      \"column\": \"196\\t242\\t3\\t881250949\",\n      \"properties\": {\n        \"dtype\": \"string\",\n        \"num_unique_values\": 99999,\n        \"samples\": [\n          \"473\\t547\\t3\\t878157600\",\n          \"486\\t269\\t4\\t879874388\",\n          \"374\\t210\\t4\\t880395202\"\n        ],\n        \"semantic_type\": \"\",\n        \"description\": \"\"\n      }\n    }\n  ]\n}"
            }
          },
          "metadata": {},
          "execution_count": 27
        }
      ]
    },
    {
      "cell_type": "code",
      "source": [
        "u_info.head()"
      ],
      "metadata": {
        "id": "wHIt4wUuajEV"
      },
      "execution_count": null,
      "outputs": []
    },
    {
      "cell_type": "code",
      "source": [
        "# идентификатор фильма | название фильма | дата выхода | дата выхода видео |\n",
        "# URL на IMDb | неизвестен | Боевик | Приключения | Анимация |\n",
        "# Детский | Комедийный | Криминальный | Документальный | Драма | фэнтези |\n",
        "# Фильм-Нуар | Ужасы | Мюзикл | Мистика | Мелодрама | Научная фантастика |\n",
        "# Триллер | Военный | Вестерн |\n",
        "u_item.head()"
      ],
      "metadata": {
        "id": "z63bD-LIazfB"
      },
      "execution_count": null,
      "outputs": []
    },
    {
      "cell_type": "code",
      "source": [
        "u_genre.head()"
      ],
      "metadata": {
        "id": "sA7IvMiZbSc8"
      },
      "execution_count": null,
      "outputs": []
    },
    {
      "cell_type": "code",
      "source": [
        "# возраст | пол | род занятий | почтовый индекс\n",
        "u_user.head()"
      ],
      "metadata": {
        "id": "OcnHsfrFbSVF"
      },
      "execution_count": null,
      "outputs": []
    },
    {
      "cell_type": "code",
      "source": [
        "u_occupation.head()"
      ],
      "metadata": {
        "id": "abdkIpjBbSM7"
      },
      "execution_count": null,
      "outputs": []
    },
    {
      "cell_type": "code",
      "source": [],
      "metadata": {
        "id": "bEJnxOLAbSGh"
      },
      "execution_count": null,
      "outputs": []
    },
    {
      "cell_type": "code",
      "source": [],
      "metadata": {
        "id": "Z42zy3SWbSAa"
      },
      "execution_count": null,
      "outputs": []
    },
    {
      "cell_type": "code",
      "source": [],
      "metadata": {
        "id": "yF286cZEbR5_"
      },
      "execution_count": null,
      "outputs": []
    },
    {
      "cell_type": "code",
      "source": [],
      "metadata": {
        "id": "YVdF6sEgbR06"
      },
      "execution_count": null,
      "outputs": []
    },
    {
      "cell_type": "code",
      "source": [],
      "metadata": {
        "id": "O02j2W_rbRvS"
      },
      "execution_count": null,
      "outputs": []
    },
    {
      "cell_type": "code",
      "source": [],
      "metadata": {
        "id": "AS8A053pbRoO"
      },
      "execution_count": null,
      "outputs": []
    },
    {
      "cell_type": "code",
      "source": [
        "import numpy as np"
      ],
      "metadata": {
        "id": "06lcvcCHmj1m"
      },
      "execution_count": 4,
      "outputs": []
    },
    {
      "cell_type": "code",
      "source": [
        "!pip install lightfm"
      ],
      "metadata": {
        "colab": {
          "base_uri": "https://localhost:8080/"
        },
        "id": "HkOpyQi2miHP",
        "outputId": "2cd83b93-2955-4667-ccbd-3ee2828e8574"
      },
      "execution_count": 7,
      "outputs": [
        {
          "output_type": "stream",
          "name": "stdout",
          "text": [
            "Collecting lightfm\n",
            "  Downloading lightfm-1.17.tar.gz (316 kB)\n",
            "\u001b[?25l     \u001b[90m━━━━━━━━━━━━━━━━━━━━━━━━━━━━━━━━━━━━━━━━\u001b[0m \u001b[32m0.0/316.4 kB\u001b[0m \u001b[31m?\u001b[0m eta \u001b[36m-:--:--\u001b[0m\r\u001b[2K     \u001b[91m━━━━━━━━━━━━━━━━━━━━━━━━━━━━━━━━━━━━\u001b[0m\u001b[90m╺\u001b[0m\u001b[90m━━━\u001b[0m \u001b[32m286.7/316.4 kB\u001b[0m \u001b[31m9.4 MB/s\u001b[0m eta \u001b[36m0:00:01\u001b[0m\r\u001b[2K     \u001b[90m━━━━━━━━━━━━━━━━━━━━━━━━━━━━━━━━━━━━━━━━\u001b[0m \u001b[32m316.4/316.4 kB\u001b[0m \u001b[31m6.4 MB/s\u001b[0m eta \u001b[36m0:00:00\u001b[0m\n",
            "\u001b[?25h  Preparing metadata (setup.py) ... \u001b[?25l\u001b[?25hdone\n",
            "Requirement already satisfied: numpy in /usr/local/lib/python3.11/dist-packages (from lightfm) (1.26.4)\n",
            "Requirement already satisfied: scipy>=0.17.0 in /usr/local/lib/python3.11/dist-packages (from lightfm) (1.13.1)\n",
            "Requirement already satisfied: requests in /usr/local/lib/python3.11/dist-packages (from lightfm) (2.32.3)\n",
            "Requirement already satisfied: scikit-learn in /usr/local/lib/python3.11/dist-packages (from lightfm) (1.6.1)\n",
            "Requirement already satisfied: charset-normalizer<4,>=2 in /usr/local/lib/python3.11/dist-packages (from requests->lightfm) (3.4.1)\n",
            "Requirement already satisfied: idna<4,>=2.5 in /usr/local/lib/python3.11/dist-packages (from requests->lightfm) (3.10)\n",
            "Requirement already satisfied: urllib3<3,>=1.21.1 in /usr/local/lib/python3.11/dist-packages (from requests->lightfm) (2.3.0)\n",
            "Requirement already satisfied: certifi>=2017.4.17 in /usr/local/lib/python3.11/dist-packages (from requests->lightfm) (2024.12.14)\n",
            "Requirement already satisfied: joblib>=1.2.0 in /usr/local/lib/python3.11/dist-packages (from scikit-learn->lightfm) (1.4.2)\n",
            "Requirement already satisfied: threadpoolctl>=3.1.0 in /usr/local/lib/python3.11/dist-packages (from scikit-learn->lightfm) (3.5.0)\n",
            "Building wheels for collected packages: lightfm\n",
            "  Building wheel for lightfm (setup.py) ... \u001b[?25l\u001b[?25hdone\n",
            "  Created wheel for lightfm: filename=lightfm-1.17-cp311-cp311-linux_x86_64.whl size=831162 sha256=e2560cb51de6b1644deccc284901cb5cb24b22fecf0d83b8f92d61b69b605efe\n",
            "  Stored in directory: /root/.cache/pip/wheels/b9/0d/8a/0729d2e6e3ca2a898ba55201f905da7db3f838a33df5b3fcdd\n",
            "Successfully built lightfm\n",
            "Installing collected packages: lightfm\n",
            "Successfully installed lightfm-1.17\n"
          ]
        }
      ]
    },
    {
      "cell_type": "code",
      "execution_count": 8,
      "metadata": {
        "id": "VGsL2_gIlxnS"
      },
      "outputs": [],
      "source": [
        "from lightfm.datasets import fetch_movielens\n",
        "\n",
        "movielens = fetch_movielens()"
      ]
    },
    {
      "cell_type": "code",
      "execution_count": 9,
      "metadata": {
        "colab": {
          "base_uri": "https://localhost:8080/"
        },
        "id": "CtmlHx5vlxna",
        "outputId": "13edbf17-359d-476e-a011-52592aaf8da0"
      },
      "outputs": [
        {
          "output_type": "stream",
          "name": "stdout",
          "text": [
            "train <class 'scipy.sparse._coo.coo_matrix'> (943, 1682)\n",
            "test <class 'scipy.sparse._coo.coo_matrix'> (943, 1682)\n",
            "item_features <class 'scipy.sparse._csr.csr_matrix'> (1682, 1682)\n",
            "item_feature_labels <class 'numpy.ndarray'> (1682,)\n",
            "item_labels <class 'numpy.ndarray'> (1682,)\n"
          ]
        }
      ],
      "source": [
        "for key, value in movielens.items():\n",
        "    print(key, type(value), value.shape)"
      ]
    },
    {
      "cell_type": "code",
      "execution_count": 10,
      "metadata": {
        "id": "lW4QV-xOlxnb"
      },
      "outputs": [],
      "source": [
        "train = movielens['train']\n",
        "test = movielens['test']"
      ]
    },
    {
      "cell_type": "code",
      "source": [
        "train.toarray()"
      ],
      "metadata": {
        "colab": {
          "base_uri": "https://localhost:8080/"
        },
        "id": "_xziAXsKnzlM",
        "outputId": "e980bd3f-5bbe-4b7d-9790-5693ef05fb06"
      },
      "execution_count": 16,
      "outputs": [
        {
          "output_type": "execute_result",
          "data": {
            "text/plain": [
              "array([[5, 3, 4, ..., 0, 0, 0],\n",
              "       [4, 0, 0, ..., 0, 0, 0],\n",
              "       [0, 0, 0, ..., 0, 0, 0],\n",
              "       ...,\n",
              "       [5, 0, 0, ..., 0, 0, 0],\n",
              "       [0, 0, 0, ..., 0, 0, 0],\n",
              "       [0, 5, 0, ..., 0, 0, 0]], dtype=int32)"
            ]
          },
          "metadata": {},
          "execution_count": 16
        }
      ]
    },
    {
      "cell_type": "code",
      "execution_count": null,
      "metadata": {
        "id": "Nuj1Zynmlxnb",
        "outputId": "1b1afa2a-dd6e-4374-cc64-ef600af6d421"
      },
      "outputs": [
        {
          "name": "stdout",
          "output_type": "stream",
          "text": [
            "Precision: train 0.43, test 0.13.\n"
          ]
        }
      ],
      "source": [
        "from lightfm import LightFM\n",
        "from lightfm.evaluation import precision_at_k\n",
        "from lightfm.evaluation import auc_score\n",
        "\n",
        "model = LightFM()\n",
        "model.fit(train, epochs=10)\n",
        "\n",
        "train_precision = precision_at_k(model, train, k=10).mean()\n",
        "test_precision = precision_at_k(model, test, k=10, train_interactions=train).mean()\n",
        "\n",
        "print('Precision: train %.2f, test %.2f.' % (train_precision, test_precision))"
      ]
    },
    {
      "cell_type": "code",
      "execution_count": null,
      "metadata": {
        "id": "vX-S7MGflxnd",
        "outputId": "39ee78f2-30eb-46dd-ca46-ead0325ef6d4"
      },
      "outputs": [
        {
          "name": "stdout",
          "output_type": "stream",
          "text": [
            "Precision: train 0.61, test 0.23.\n"
          ]
        }
      ],
      "source": [
        "model = LightFM(learning_rate=0.05, loss='warp')\n",
        "\n",
        "model.fit_partial(train, epochs=10)\n",
        "\n",
        "train_precision = precision_at_k(model, train, k=10).mean()\n",
        "test_precision = precision_at_k(model, test, k=10, train_interactions=train).mean()\n",
        "\n",
        "print('Precision: train %.2f, test %.2f.' % (train_precision, test_precision))"
      ]
    },
    {
      "cell_type": "code",
      "execution_count": null,
      "metadata": {
        "id": "DaQmfxADlxne"
      },
      "outputs": [],
      "source": [
        "def sample_recommendation(model, data, user_ids):\n",
        "    n_users, n_items = data['train'].shape\n",
        "    for user_id in user_ids:\n",
        "        known_positives = data['item_labels'][data['train'].tocsr()\n",
        "                          [user_id].indices]\n",
        "\n",
        "        scores = model.predict(user_id, np.arange(n_items))\n",
        "\n",
        "        top_items = data['item_labels'][np.argsort(-scores)]\n",
        "\n",
        "        print(\"User %s\" % user_id)\n",
        "        print(\"     Known positives:\")\n",
        "\n",
        "        for x in known_positives[:3]:\n",
        "            print(\"        %s\" % x)\n",
        "\n",
        "        print(\"     Recommended:\")\n",
        "\n",
        "        for x in top_items[:3]:\n",
        "            print(\"        %s\" % x)"
      ]
    },
    {
      "cell_type": "code",
      "execution_count": null,
      "metadata": {
        "id": "q3I5rtNHlxng",
        "outputId": "75d46548-ab5c-4da1-f53d-9eca5bcc15f9"
      },
      "outputs": [
        {
          "name": "stdout",
          "output_type": "stream",
          "text": [
            "User 10\n",
            "     Known positives:\n",
            "        Babe (1995)\n",
            "        Dead Man Walking (1995)\n",
            "        Seven (Se7en) (1995)\n",
            "     Recommended:\n",
            "        Raiders of the Lost Ark (1981)\n",
            "        Star Wars (1977)\n",
            "        Return of the Jedi (1983)\n",
            "User 25\n",
            "     Known positives:\n",
            "        Toy Story (1995)\n",
            "        Twelve Monkeys (1995)\n",
            "        Dead Man Walking (1995)\n",
            "     Recommended:\n",
            "        Scream (1996)\n",
            "        Contact (1997)\n",
            "        Fargo (1996)\n",
            "User 451\n",
            "     Known positives:\n",
            "        Twelve Monkeys (1995)\n",
            "        Babe (1995)\n",
            "        Postino, Il (1994)\n",
            "     Recommended:\n",
            "        Raiders of the Lost Ark (1981)\n",
            "        Amadeus (1984)\n",
            "        Star Wars (1977)\n"
          ]
        }
      ],
      "source": [
        "sample_recommendation(model, movielens, [10, 25, 451])"
      ]
    },
    {
      "cell_type": "code",
      "execution_count": null,
      "metadata": {
        "id": "TGSDGYh3lxnk"
      },
      "outputs": [],
      "source": []
    }
  ],
  "metadata": {
    "kernelspec": {
      "display_name": "Python 3",
      "language": "python",
      "name": "python3"
    },
    "language_info": {
      "codemirror_mode": {
        "name": "ipython",
        "version": 3
      },
      "file_extension": ".py",
      "mimetype": "text/x-python",
      "name": "python",
      "nbconvert_exporter": "python",
      "pygments_lexer": "ipython3",
      "version": "3.6.4"
    },
    "colab": {
      "provenance": []
    }
  },
  "nbformat": 4,
  "nbformat_minor": 0
}